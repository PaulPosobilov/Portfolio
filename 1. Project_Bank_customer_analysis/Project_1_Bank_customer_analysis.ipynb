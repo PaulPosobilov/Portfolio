{
 "cells": [
  {
   "cell_type": "markdown",
   "metadata": {},
   "source": [
    "**Анализ оттока клиентов банка \"Метанпром\"**"
   ]
  },
  {
   "cell_type": "markdown",
   "metadata": {},
   "source": [
    "Презентация: https://drive.google.com/file/d/1ISa92rRpsm21evQOuq1lsx50uhiuqwhy/view?usp=sharing"
   ]
  },
  {
   "cell_type": "markdown",
   "metadata": {},
   "source": [
    "Дашборд: https://public.tableau.com/app/profile/paul.p3293/viz/Metanprombank_customer/Dashboard1"
   ]
  },
  {
   "cell_type": "markdown",
   "metadata": {},
   "source": [
    "Описание проекта:"
   ]
  },
  {
   "cell_type": "markdown",
   "metadata": {},
   "source": [
    "Банку \"Метанпром\" необходимо уменьшить отток клиентов.  Наша задача —  проанализировав данные, составить портрет клиентов, которые склонны к уходу из банка и дать рекомендации по снижению оттока клиентов. Для этого необходимо выполнить следующие этапы:   \n",
    "\n",
    "* выделить основные признаки, наиболее сильно влияющие на отток;\n",
    "* составить портрет клиента склонного к уходу из банка;\n",
    "* сформулировать и проверить гипотезы, которые помогут решить поставленную задачу;\n",
    "* сделать основные выводы и дать рекомендации по снижению оттока клиентов."
   ]
  },
  {
   "cell_type": "markdown",
   "metadata": {},
   "source": [
    "В нашем распоряжении датасет, содержащий данные о клиентах банка «Метанпром». Банк располагается в Ярославле и областных городах: Ростов Великий и Рыбинск.  \n",
    "Колонки:\n",
    "\n",
    "- `userid` — идентификатор пользователя,\n",
    "- `score` — баллы кредитного скоринга,\n",
    "- `City` — город,\n",
    "- `Gender` — пол,\n",
    "- `Age` — возраст,\n",
    "- `Objects` — количество объектов в собственности,\n",
    "- `Balance` — баланс на счёте,\n",
    "- `Products` — количество продуктов, которыми пользуется клиент,\n",
    "- `CreditCard` — есть ли кредитная карта,\n",
    "- `Loyalty` — активный клиент,\n",
    "- `estimated_salary` — заработная плата клиента,\n",
    "- `Churn` — ушёл или нет.\n"
   ]
  },
  {
   "cell_type": "markdown",
   "metadata": {},
   "source": [
    "**Последовательность действий по выполнению проекта:**\n",
    "\n",
    "I. Загрузить и изучить данные:\n",
    "  - импорт необходимых библиотек для работы;\n",
    "  - загрузка данных и получение общей информации о них;\n",
    "  - краткий вывод о имеющихся данных.\n",
    "  \n",
    "II. Предобработка данных:\n",
    "  - проверить название колонок и тип данных в столбцах;\n",
    "  - сделать проверку на наличие дубликатов;\n",
    "  - проверить данные на наличие выбросов и аномальных значений;\n",
    "  - поиск и обработка пропущенных значений;\n",
    "  - вывод по итогам предобработки данных.\n",
    "  \n",
    "III. Исследовательский анализ данных:   \n",
    "  - изучить средние значения и стандартное отклонение в данных;\n",
    "  - проверить средние значения признаков по группам ушедших и оставшихся клиентов;\n",
    "  - визуализировать значения признаков в разбивке по двум группам - ушедших и оставшихся клиентов;\n",
    "  - построить матрицу корреляций признаков;\n",
    "  - составить портрет клиента склонного к уходу;\n",
    "  - выводы по итогам исследовательского анализа данных.  \n",
    "  \n",
    "IV. Проверка гипотез:\n",
    "  - проверить гипотезу о различии между средним доходом клиентов, которые ушли и теми, кто остался;\n",
    "  - проверка иных гипотез, способных помочь в решении поставленных задач;\n",
    "  - выводы по этапу проверки гипотез.  \n",
    "  \n",
    "V. Общий вывод и рекомендации по снижению оттока клиентов."
   ]
  },
  {
   "cell_type": "markdown",
   "metadata": {},
   "source": [
    "## Загрузка и изучение данных."
   ]
  },
  {
   "cell_type": "markdown",
   "metadata": {},
   "source": [
    "### Импорт необходимых библиотек."
   ]
  },
  {
   "cell_type": "code",
   "execution_count": 1,
   "metadata": {},
   "outputs": [],
   "source": [
    "import pandas as pd\n",
    "import seaborn as sns\n",
    "import textwrap as tw\n",
    "from matplotlib import pyplot as plt\n",
    "from scipy import stats as st"
   ]
  },
  {
   "cell_type": "markdown",
   "metadata": {},
   "source": [
    "### Загрузка данных и получение общей информации о них."
   ]
  },
  {
   "cell_type": "code",
   "execution_count": 2,
   "metadata": {},
   "outputs": [],
   "source": [
    "try:\n",
    "    df = pd.read_csv('/datasets/bank_dataset.csv')\n",
    "except:\n",
    "    df = pd.read_csv('C:\\datasets\\bank_dataset.csv')"
   ]
  },
  {
   "cell_type": "code",
   "execution_count": 3,
   "metadata": {},
   "outputs": [
    {
     "name": "stdout",
     "output_type": "stream",
     "text": [
      "(10000, 12)\n"
     ]
    },
    {
     "data": {
      "text/html": [
       "<div>\n",
       "<style scoped>\n",
       "    .dataframe tbody tr th:only-of-type {\n",
       "        vertical-align: middle;\n",
       "    }\n",
       "\n",
       "    .dataframe tbody tr th {\n",
       "        vertical-align: top;\n",
       "    }\n",
       "\n",
       "    .dataframe thead th {\n",
       "        text-align: right;\n",
       "    }\n",
       "</style>\n",
       "<table border=\"1\" class=\"dataframe\">\n",
       "  <thead>\n",
       "    <tr style=\"text-align: right;\">\n",
       "      <th></th>\n",
       "      <th>userid</th>\n",
       "      <th>score</th>\n",
       "      <th>City</th>\n",
       "      <th>Gender</th>\n",
       "      <th>Age</th>\n",
       "      <th>Objects</th>\n",
       "      <th>Balance</th>\n",
       "      <th>Products</th>\n",
       "      <th>CreditCard</th>\n",
       "      <th>Loyalty</th>\n",
       "      <th>estimated_salary</th>\n",
       "      <th>Churn</th>\n",
       "    </tr>\n",
       "  </thead>\n",
       "  <tbody>\n",
       "    <tr>\n",
       "      <th>0</th>\n",
       "      <td>15677338</td>\n",
       "      <td>619</td>\n",
       "      <td>Ярославль</td>\n",
       "      <td>Ж</td>\n",
       "      <td>42</td>\n",
       "      <td>2</td>\n",
       "      <td>NaN</td>\n",
       "      <td>1</td>\n",
       "      <td>1</td>\n",
       "      <td>1</td>\n",
       "      <td>101348.88</td>\n",
       "      <td>1</td>\n",
       "    </tr>\n",
       "    <tr>\n",
       "      <th>1</th>\n",
       "      <td>15690047</td>\n",
       "      <td>608</td>\n",
       "      <td>Рыбинск</td>\n",
       "      <td>Ж</td>\n",
       "      <td>41</td>\n",
       "      <td>1</td>\n",
       "      <td>83807.86</td>\n",
       "      <td>1</td>\n",
       "      <td>0</td>\n",
       "      <td>1</td>\n",
       "      <td>112542.58</td>\n",
       "      <td>0</td>\n",
       "    </tr>\n",
       "    <tr>\n",
       "      <th>2</th>\n",
       "      <td>15662040</td>\n",
       "      <td>502</td>\n",
       "      <td>Ярославль</td>\n",
       "      <td>Ж</td>\n",
       "      <td>42</td>\n",
       "      <td>8</td>\n",
       "      <td>159660.80</td>\n",
       "      <td>3</td>\n",
       "      <td>1</td>\n",
       "      <td>0</td>\n",
       "      <td>113931.57</td>\n",
       "      <td>1</td>\n",
       "    </tr>\n",
       "    <tr>\n",
       "      <th>3</th>\n",
       "      <td>15744090</td>\n",
       "      <td>699</td>\n",
       "      <td>Ярославль</td>\n",
       "      <td>Ж</td>\n",
       "      <td>39</td>\n",
       "      <td>1</td>\n",
       "      <td>NaN</td>\n",
       "      <td>2</td>\n",
       "      <td>0</td>\n",
       "      <td>0</td>\n",
       "      <td>93826.63</td>\n",
       "      <td>0</td>\n",
       "    </tr>\n",
       "    <tr>\n",
       "      <th>4</th>\n",
       "      <td>15780624</td>\n",
       "      <td>850</td>\n",
       "      <td>Рыбинск</td>\n",
       "      <td>Ж</td>\n",
       "      <td>43</td>\n",
       "      <td>2</td>\n",
       "      <td>125510.82</td>\n",
       "      <td>1</td>\n",
       "      <td>1</td>\n",
       "      <td>1</td>\n",
       "      <td>79084.10</td>\n",
       "      <td>0</td>\n",
       "    </tr>\n",
       "  </tbody>\n",
       "</table>\n",
       "</div>"
      ],
      "text/plain": [
       "     userid  score       City Gender  Age  Objects    Balance  Products  \\\n",
       "0  15677338    619  Ярославль      Ж   42        2        NaN         1   \n",
       "1  15690047    608    Рыбинск      Ж   41        1   83807.86         1   \n",
       "2  15662040    502  Ярославль      Ж   42        8  159660.80         3   \n",
       "3  15744090    699  Ярославль      Ж   39        1        NaN         2   \n",
       "4  15780624    850    Рыбинск      Ж   43        2  125510.82         1   \n",
       "\n",
       "   CreditCard  Loyalty  estimated_salary  Churn  \n",
       "0           1        1         101348.88      1  \n",
       "1           0        1         112542.58      0  \n",
       "2           1        0         113931.57      1  \n",
       "3           0        0          93826.63      0  \n",
       "4           1        1          79084.10      0  "
      ]
     },
     "execution_count": 3,
     "metadata": {},
     "output_type": "execute_result"
    }
   ],
   "source": [
    "print(df.shape)\n",
    "df.head()"
   ]
  },
  {
   "cell_type": "code",
   "execution_count": 4,
   "metadata": {},
   "outputs": [
    {
     "name": "stdout",
     "output_type": "stream",
     "text": [
      "<class 'pandas.core.frame.DataFrame'>\n",
      "RangeIndex: 10000 entries, 0 to 9999\n",
      "Data columns (total 12 columns):\n",
      " #   Column            Non-Null Count  Dtype  \n",
      "---  ------            --------------  -----  \n",
      " 0   userid            10000 non-null  int64  \n",
      " 1   score             10000 non-null  int64  \n",
      " 2   City              10000 non-null  object \n",
      " 3   Gender            10000 non-null  object \n",
      " 4   Age               10000 non-null  int64  \n",
      " 5   Objects           10000 non-null  int64  \n",
      " 6   Balance           6383 non-null   float64\n",
      " 7   Products          10000 non-null  int64  \n",
      " 8   CreditCard        10000 non-null  int64  \n",
      " 9   Loyalty           10000 non-null  int64  \n",
      " 10  estimated_salary  10000 non-null  float64\n",
      " 11  Churn             10000 non-null  int64  \n",
      "dtypes: float64(2), int64(8), object(2)\n",
      "memory usage: 937.6+ KB\n"
     ]
    }
   ],
   "source": [
    "df.info()"
   ]
  },
  {
   "cell_type": "markdown",
   "metadata": {},
   "source": [
    "### Выводы о имеющихся данных."
   ]
  },
  {
   "cell_type": "markdown",
   "metadata": {},
   "source": [
    "* Таблица содержит 12 колонок и 10000 строк;\n",
    "* В названиях колонок нет единого стиля - присутствует верблюжий регистр и заглавные буквы;\n",
    "* Столбец balance содержит 3617 пропусков;\n",
    "* Тип данных во всех колонках верный и соответствует значениям в них."
   ]
  },
  {
   "cell_type": "markdown",
   "metadata": {},
   "source": [
    "## Предобработка данных."
   ]
  },
  {
   "cell_type": "markdown",
   "metadata": {},
   "source": [
    "### Проверка названий колонок и типа данных в столбцах."
   ]
  },
  {
   "cell_type": "markdown",
   "metadata": {},
   "source": [
    "Как было установлено ранее, тип данных во всех столбцах верный, название колонок необходимо привести к нижнему регистру и применить змеиный регистр, где это необходимо."
   ]
  },
  {
   "cell_type": "code",
   "execution_count": 5,
   "metadata": {},
   "outputs": [],
   "source": [
    "df.columns = df.columns.str.lower()"
   ]
  },
  {
   "cell_type": "code",
   "execution_count": 6,
   "metadata": {},
   "outputs": [],
   "source": [
    "df.rename(columns={'userid':'user_id','creditcard':'credit_card'},inplace=True)"
   ]
  },
  {
   "cell_type": "code",
   "execution_count": 7,
   "metadata": {},
   "outputs": [
    {
     "data": {
      "text/html": [
       "<div>\n",
       "<style scoped>\n",
       "    .dataframe tbody tr th:only-of-type {\n",
       "        vertical-align: middle;\n",
       "    }\n",
       "\n",
       "    .dataframe tbody tr th {\n",
       "        vertical-align: top;\n",
       "    }\n",
       "\n",
       "    .dataframe thead th {\n",
       "        text-align: right;\n",
       "    }\n",
       "</style>\n",
       "<table border=\"1\" class=\"dataframe\">\n",
       "  <thead>\n",
       "    <tr style=\"text-align: right;\">\n",
       "      <th></th>\n",
       "      <th>user_id</th>\n",
       "      <th>score</th>\n",
       "      <th>city</th>\n",
       "      <th>gender</th>\n",
       "      <th>age</th>\n",
       "      <th>objects</th>\n",
       "      <th>balance</th>\n",
       "      <th>products</th>\n",
       "      <th>credit_card</th>\n",
       "      <th>loyalty</th>\n",
       "      <th>estimated_salary</th>\n",
       "      <th>churn</th>\n",
       "    </tr>\n",
       "  </thead>\n",
       "  <tbody>\n",
       "    <tr>\n",
       "      <th>0</th>\n",
       "      <td>15677338</td>\n",
       "      <td>619</td>\n",
       "      <td>Ярославль</td>\n",
       "      <td>Ж</td>\n",
       "      <td>42</td>\n",
       "      <td>2</td>\n",
       "      <td>NaN</td>\n",
       "      <td>1</td>\n",
       "      <td>1</td>\n",
       "      <td>1</td>\n",
       "      <td>101348.88</td>\n",
       "      <td>1</td>\n",
       "    </tr>\n",
       "    <tr>\n",
       "      <th>1</th>\n",
       "      <td>15690047</td>\n",
       "      <td>608</td>\n",
       "      <td>Рыбинск</td>\n",
       "      <td>Ж</td>\n",
       "      <td>41</td>\n",
       "      <td>1</td>\n",
       "      <td>83807.86</td>\n",
       "      <td>1</td>\n",
       "      <td>0</td>\n",
       "      <td>1</td>\n",
       "      <td>112542.58</td>\n",
       "      <td>0</td>\n",
       "    </tr>\n",
       "    <tr>\n",
       "      <th>2</th>\n",
       "      <td>15662040</td>\n",
       "      <td>502</td>\n",
       "      <td>Ярославль</td>\n",
       "      <td>Ж</td>\n",
       "      <td>42</td>\n",
       "      <td>8</td>\n",
       "      <td>159660.80</td>\n",
       "      <td>3</td>\n",
       "      <td>1</td>\n",
       "      <td>0</td>\n",
       "      <td>113931.57</td>\n",
       "      <td>1</td>\n",
       "    </tr>\n",
       "    <tr>\n",
       "      <th>3</th>\n",
       "      <td>15744090</td>\n",
       "      <td>699</td>\n",
       "      <td>Ярославль</td>\n",
       "      <td>Ж</td>\n",
       "      <td>39</td>\n",
       "      <td>1</td>\n",
       "      <td>NaN</td>\n",
       "      <td>2</td>\n",
       "      <td>0</td>\n",
       "      <td>0</td>\n",
       "      <td>93826.63</td>\n",
       "      <td>0</td>\n",
       "    </tr>\n",
       "    <tr>\n",
       "      <th>4</th>\n",
       "      <td>15780624</td>\n",
       "      <td>850</td>\n",
       "      <td>Рыбинск</td>\n",
       "      <td>Ж</td>\n",
       "      <td>43</td>\n",
       "      <td>2</td>\n",
       "      <td>125510.82</td>\n",
       "      <td>1</td>\n",
       "      <td>1</td>\n",
       "      <td>1</td>\n",
       "      <td>79084.10</td>\n",
       "      <td>0</td>\n",
       "    </tr>\n",
       "    <tr>\n",
       "      <th>...</th>\n",
       "      <td>...</td>\n",
       "      <td>...</td>\n",
       "      <td>...</td>\n",
       "      <td>...</td>\n",
       "      <td>...</td>\n",
       "      <td>...</td>\n",
       "      <td>...</td>\n",
       "      <td>...</td>\n",
       "      <td>...</td>\n",
       "      <td>...</td>\n",
       "      <td>...</td>\n",
       "      <td>...</td>\n",
       "    </tr>\n",
       "    <tr>\n",
       "      <th>9995</th>\n",
       "      <td>15648965</td>\n",
       "      <td>771</td>\n",
       "      <td>Ярославль</td>\n",
       "      <td>М</td>\n",
       "      <td>39</td>\n",
       "      <td>5</td>\n",
       "      <td>NaN</td>\n",
       "      <td>2</td>\n",
       "      <td>1</td>\n",
       "      <td>0</td>\n",
       "      <td>96270.64</td>\n",
       "      <td>0</td>\n",
       "    </tr>\n",
       "    <tr>\n",
       "      <th>9996</th>\n",
       "      <td>15612628</td>\n",
       "      <td>516</td>\n",
       "      <td>Ярославль</td>\n",
       "      <td>М</td>\n",
       "      <td>35</td>\n",
       "      <td>10</td>\n",
       "      <td>57369.61</td>\n",
       "      <td>1</td>\n",
       "      <td>1</td>\n",
       "      <td>1</td>\n",
       "      <td>101699.77</td>\n",
       "      <td>0</td>\n",
       "    </tr>\n",
       "    <tr>\n",
       "      <th>9997</th>\n",
       "      <td>15627268</td>\n",
       "      <td>709</td>\n",
       "      <td>Ярославль</td>\n",
       "      <td>Ж</td>\n",
       "      <td>36</td>\n",
       "      <td>7</td>\n",
       "      <td>NaN</td>\n",
       "      <td>1</td>\n",
       "      <td>0</td>\n",
       "      <td>1</td>\n",
       "      <td>42085.58</td>\n",
       "      <td>1</td>\n",
       "    </tr>\n",
       "    <tr>\n",
       "      <th>9998</th>\n",
       "      <td>15725091</td>\n",
       "      <td>772</td>\n",
       "      <td>Ростов Великий</td>\n",
       "      <td>М</td>\n",
       "      <td>42</td>\n",
       "      <td>3</td>\n",
       "      <td>75075.31</td>\n",
       "      <td>2</td>\n",
       "      <td>1</td>\n",
       "      <td>0</td>\n",
       "      <td>92888.52</td>\n",
       "      <td>1</td>\n",
       "    </tr>\n",
       "    <tr>\n",
       "      <th>9999</th>\n",
       "      <td>15671055</td>\n",
       "      <td>792</td>\n",
       "      <td>Ярославль</td>\n",
       "      <td>Ж</td>\n",
       "      <td>28</td>\n",
       "      <td>4</td>\n",
       "      <td>130142.79</td>\n",
       "      <td>1</td>\n",
       "      <td>1</td>\n",
       "      <td>0</td>\n",
       "      <td>38190.78</td>\n",
       "      <td>0</td>\n",
       "    </tr>\n",
       "  </tbody>\n",
       "</table>\n",
       "<p>10000 rows × 12 columns</p>\n",
       "</div>"
      ],
      "text/plain": [
       "       user_id  score            city gender  age  objects    balance  \\\n",
       "0     15677338    619       Ярославль      Ж   42        2        NaN   \n",
       "1     15690047    608         Рыбинск      Ж   41        1   83807.86   \n",
       "2     15662040    502       Ярославль      Ж   42        8  159660.80   \n",
       "3     15744090    699       Ярославль      Ж   39        1        NaN   \n",
       "4     15780624    850         Рыбинск      Ж   43        2  125510.82   \n",
       "...        ...    ...             ...    ...  ...      ...        ...   \n",
       "9995  15648965    771       Ярославль      М   39        5        NaN   \n",
       "9996  15612628    516       Ярославль      М   35       10   57369.61   \n",
       "9997  15627268    709       Ярославль      Ж   36        7        NaN   \n",
       "9998  15725091    772  Ростов Великий      М   42        3   75075.31   \n",
       "9999  15671055    792       Ярославль      Ж   28        4  130142.79   \n",
       "\n",
       "      products  credit_card  loyalty  estimated_salary  churn  \n",
       "0            1            1        1         101348.88      1  \n",
       "1            1            0        1         112542.58      0  \n",
       "2            3            1        0         113931.57      1  \n",
       "3            2            0        0          93826.63      0  \n",
       "4            1            1        1          79084.10      0  \n",
       "...        ...          ...      ...               ...    ...  \n",
       "9995         2            1        0          96270.64      0  \n",
       "9996         1            1        1         101699.77      0  \n",
       "9997         1            0        1          42085.58      1  \n",
       "9998         2            1        0          92888.52      1  \n",
       "9999         1            1        0          38190.78      0  \n",
       "\n",
       "[10000 rows x 12 columns]"
      ]
     },
     "execution_count": 7,
     "metadata": {},
     "output_type": "execute_result"
    }
   ],
   "source": [
    "df"
   ]
  },
  {
   "cell_type": "markdown",
   "metadata": {},
   "source": [
    "### Проверка на наличие дубликатов."
   ]
  },
  {
   "cell_type": "code",
   "execution_count": 8,
   "metadata": {},
   "outputs": [
    {
     "name": "stdout",
     "output_type": "stream",
     "text": [
      "Количество дубликатов в датасете: 0\n"
     ]
    }
   ],
   "source": [
    "print('Количество дубликатов в датасете:',sum(df.duplicated()))"
   ]
  },
  {
   "cell_type": "markdown",
   "metadata": {},
   "source": [
    "Явных дубликатов в таблице нет, также проверим столбец user_id который должен содержать только уникальных пользователей."
   ]
  },
  {
   "cell_type": "code",
   "execution_count": 9,
   "metadata": {},
   "outputs": [
    {
     "name": "stdout",
     "output_type": "stream",
     "text": [
      "Количество уникальных значений в столбце user_id: 10000\n"
     ]
    }
   ],
   "source": [
    "print('Количество уникальных значений в столбце user_id:',df['user_id'].nunique())"
   ]
  },
  {
   "cell_type": "markdown",
   "metadata": {},
   "source": [
    "В датасете представлены только уникальные пользователи, повторяющих данных о пользователе нет."
   ]
  },
  {
   "cell_type": "markdown",
   "metadata": {},
   "source": [
    "### Проверка на наличие выбросов и аномальных значений."
   ]
  },
  {
   "cell_type": "code",
   "execution_count": 10,
   "metadata": {},
   "outputs": [
    {
     "name": "stdout",
     "output_type": "stream",
     "text": [
      "city\n",
      "Ярославль         5014\n",
      "Ростов Великий    2509\n",
      "Рыбинск           2477\n",
      "Name: city, dtype: int64\n",
      "\n",
      "gender\n",
      "М    5457\n",
      "Ж    4543\n",
      "Name: gender, dtype: int64\n",
      "\n",
      "objects\n",
      "2     1048\n",
      "1     1035\n",
      "7     1028\n",
      "8     1025\n",
      "5     1012\n",
      "3     1009\n",
      "4      989\n",
      "9      984\n",
      "6      967\n",
      "10     490\n",
      "0      413\n",
      "Name: objects, dtype: int64\n",
      "\n",
      "products\n",
      "1    5084\n",
      "2    4590\n",
      "3     266\n",
      "4      60\n",
      "Name: products, dtype: int64\n",
      "\n",
      "credit_card\n",
      "1    7055\n",
      "0    2945\n",
      "Name: credit_card, dtype: int64\n",
      "\n",
      "loyalty\n",
      "1    5151\n",
      "0    4849\n",
      "Name: loyalty, dtype: int64\n",
      "\n",
      "churn\n",
      "0    7963\n",
      "1    2037\n",
      "Name: churn, dtype: int64\n",
      "\n"
     ]
    }
   ],
   "source": [
    "#Посмотрим количество каждого значения в столбцах с категориальными данными\n",
    "for column in ['city','gender','objects','products','credit_card','loyalty','churn']:\n",
    "    print(column)\n",
    "    print (df[column].value_counts())\n",
    "    print()"
   ]
  },
  {
   "cell_type": "markdown",
   "metadata": {},
   "source": [
    " * колонка city:\n",
    "   - половина пользователей проживает в Ярославле, остальная часть поровну в Ростове Великом и Рыбинске, такое распределение вполне логично учитывая размеры самих городов.  \n",
    "   \n",
    " \n",
    " * колонка gender:\n",
    "   * мужчин среди клиентов Банка немного больше чем женщин, но явно перевеса по половому признаку нет.  \n",
    "   \n",
    " \n",
    " * колонка objects:\n",
    "   * чаще встречаются клиенты с количеством объектов в собственности от 1 до 9, реже у кого 10 либо объектов в собственности нет.  \n",
    "   \n",
    "   \n",
    " * колонка products:\n",
    "   * подавляющее большинство клиентов пользуются либо одним, либо двумя продуктами Банка.  \n",
    "   \n",
    "   \n",
    " * колонка credit_card:\n",
    "   * более 70% клиентов имеют кредитные карты в Банке.  \n",
    "   \n",
    "   \n",
    " * колонка loyalty:\n",
    "   * чуть больше половины пользователей являются активными клиентами.  \n",
    "   \n",
    "   \n",
    " * колонка churn:\n",
    "   * из всех представленных данных отток клиентов составил 20%.\n",
    " \n",
    "В столбцах содержащих категориальные данные каких-то странных значений нет и распределение по количеству значений не вызывает подозрений.\n",
    "  \n",
    "  \n",
    "   "
   ]
  },
  {
   "cell_type": "markdown",
   "metadata": {},
   "source": [
    "Для дальнейшего удобства работы с данными, заменим значения в столбце gender следующим образом : 'М' - будет соответствовать 1, а 'Ж' - 0. Такие изменения помогут применить метод describe к данной колонке. "
   ]
  },
  {
   "cell_type": "code",
   "execution_count": 11,
   "metadata": {},
   "outputs": [],
   "source": [
    "df['gender'].replace({'М':1,'Ж':0},inplace=True)"
   ]
  },
  {
   "cell_type": "markdown",
   "metadata": {},
   "source": [
    "Проверим не изменились ли данные после замены"
   ]
  },
  {
   "cell_type": "code",
   "execution_count": 12,
   "metadata": {},
   "outputs": [
    {
     "data": {
      "text/plain": [
       "1    5457\n",
       "0    4543\n",
       "Name: gender, dtype: int64"
      ]
     },
     "execution_count": 12,
     "metadata": {},
     "output_type": "execute_result"
    }
   ],
   "source": [
    "df['gender'].value_counts()"
   ]
  },
  {
   "cell_type": "markdown",
   "metadata": {},
   "source": [
    "Данные остались неизменными."
   ]
  },
  {
   "cell_type": "markdown",
   "metadata": {},
   "source": [
    "Далее рассмотрим столбцы, содержащие количественные данные. "
   ]
  },
  {
   "cell_type": "code",
   "execution_count": 13,
   "metadata": {},
   "outputs": [
    {
     "data": {
      "image/png": "[encoded data removed]",
      "text/plain": [
       "<Figure size 720x504 with 1 Axes>"
      ]
     },
     "metadata": {
      "needs_background": "light"
     },
     "output_type": "display_data"
    }
   ],
   "source": [
    "plt.figure(figsize=(10,7))\n",
    "plt.hist(df['score'],bins=40)\n",
    "plt.title('Распределение оценок кредитного рейтинга')\n",
    "plt.xlabel('Баллы кредитного скоринга')\n",
    "plt.ylabel('Количество')\n",
    "plt.grid(True)\n",
    "plt.show()"
   ]
  },
  {
   "cell_type": "code",
   "execution_count": 14,
   "metadata": {},
   "outputs": [
    {
     "data": {
      "text/plain": [
       "850    233\n",
       "678     63\n",
       "655     54\n",
       "667     53\n",
       "705     53\n",
       "      ... \n",
       "412      1\n",
       "351      1\n",
       "365      1\n",
       "373      1\n",
       "423      1\n",
       "Name: score, Length: 460, dtype: int64"
      ]
     },
     "execution_count": 14,
     "metadata": {},
     "output_type": "execute_result"
    }
   ],
   "source": [
    "df['score'].value_counts()"
   ]
  },
  {
   "cell_type": "markdown",
   "metadata": {},
   "source": [
    "Стоит отметить, что довольно много клиентов имеют максимальный уровень в 850 баллов, при этом нельзя назвать это аномальным явлением, с данными в этом столбце всё нормально."
   ]
  },
  {
   "cell_type": "code",
   "execution_count": 15,
   "metadata": {},
   "outputs": [
    {
     "data": {
      "image/png": "[encoded data removed]",
      "text/plain": [
       "<Figure size 720x504 with 1 Axes>"
      ]
     },
     "metadata": {
      "needs_background": "light"
     },
     "output_type": "display_data"
    }
   ],
   "source": [
    "plt.figure(figsize=(10,7))\n",
    "plt.hist(df['age'],bins=20)\n",
    "plt.title('Распределение количества клиентов по возрасту')\n",
    "plt.xlabel('Возраст')\n",
    "plt.ylabel('Количество')\n",
    "plt.grid(True)\n",
    "plt.show()"
   ]
  },
  {
   "cell_type": "code",
   "execution_count": 16,
   "metadata": {},
   "outputs": [
    {
     "data": {
      "text/plain": [
       "count    10000.000000\n",
       "mean        38.921800\n",
       "std         10.487806\n",
       "min         18.000000\n",
       "25%         32.000000\n",
       "50%         37.000000\n",
       "75%         44.000000\n",
       "max         92.000000\n",
       "Name: age, dtype: float64"
      ]
     },
     "execution_count": 16,
     "metadata": {},
     "output_type": "execute_result"
    }
   ],
   "source": [
    "df['age'].describe()"
   ]
  },
  {
   "cell_type": "markdown",
   "metadata": {},
   "source": [
    "Как видно, большинство клиентов имеют возраст от 25 до 45, что вполне логично. Минимальный возраст клиента Банка 18, а максимальный 92, с данными по данному столбцу все нормально."
   ]
  },
  {
   "cell_type": "code",
   "execution_count": 17,
   "metadata": {},
   "outputs": [
    {
     "data": {
      "image/png": "[encoded data removed]",
      "text/plain": [
       "<Figure size 720x504 with 1 Axes>"
      ]
     },
     "metadata": {
      "needs_background": "light"
     },
     "output_type": "display_data"
    }
   ],
   "source": [
    "plt.figure(figsize=(10,7))\n",
    "plt.hist(df['balance'],bins=70)\n",
    "plt.title('Распределение количества клиентов по остатку на счете')\n",
    "plt.xlabel('Остаток на счете')\n",
    "plt.ylabel('Количество')\n",
    "plt.grid(True)\n",
    "plt.show()"
   ]
  },
  {
   "cell_type": "markdown",
   "metadata": {},
   "source": [
    "Большинство клиентов банка имеют на своём счету от 90000 до 150000. Остаток на балансе может быть 0, поэтому низкие значения принимаем как нормальные. Максимальный остаток на счете 250000, что также нельзя назвать аномальным."
   ]
  },
  {
   "cell_type": "code",
   "execution_count": 18,
   "metadata": {},
   "outputs": [
    {
     "data": {
      "image/png": "[encoded data removed]",
      "text/plain": [
       "<Figure size 720x504 with 1 Axes>"
      ]
     },
     "metadata": {
      "needs_background": "light"
     },
     "output_type": "display_data"
    }
   ],
   "source": [
    "plt.figure(figsize=(10,7))\n",
    "plt.hist(df['estimated_salary'],bins=70)\n",
    "plt.title('Распределение количества клиентов по заработной плате')\n",
    "plt.xlabel('Заработная плата')\n",
    "plt.ylabel('Количество')\n",
    "plt.grid(True)\n",
    "plt.show()"
   ]
  },
  {
   "cell_type": "code",
   "execution_count": 19,
   "metadata": {},
   "outputs": [
    {
     "data": {
      "text/plain": [
       "count     10000.000000\n",
       "mean     100090.239881\n",
       "std       57510.492818\n",
       "min          11.580000\n",
       "25%       51002.110000\n",
       "50%      100193.915000\n",
       "75%      149388.247500\n",
       "max      199992.480000\n",
       "Name: estimated_salary, dtype: float64"
      ]
     },
     "execution_count": 19,
     "metadata": {},
     "output_type": "execute_result"
    }
   ],
   "source": [
    "df['estimated_salary'].describe()"
   ]
  },
  {
   "cell_type": "code",
   "execution_count": 20,
   "metadata": {},
   "outputs": [
    {
     "name": "stdout",
     "output_type": "stream",
     "text": [
      "Количество клиентов с заработной платой менее 5000: 264\n"
     ]
    }
   ],
   "source": [
    "print('Количество клиентов с заработной платой менее 5000:',len(df[df['estimated_salary']<5000]))"
   ]
  },
  {
   "cell_type": "markdown",
   "metadata": {},
   "source": [
    "Зарплаты варьируются от 11 до 200000. В Банке обслуживаются 264 клиента, у которых заработная плата менее 5000, что выглядит довольно странным, но мы не можем знать наверняка по какому приницу заполнялся этот столбец и доля таких клиентов составляет менее 3% от общего числа, поэтому для того, чтобы не терять целостность датасета мы не будем удалять данные таких клиентов."
   ]
  },
  {
   "cell_type": "markdown",
   "metadata": {},
   "source": [
    "### Поиск и обработка пропущенных значений."
   ]
  },
  {
   "cell_type": "code",
   "execution_count": 21,
   "metadata": {},
   "outputs": [
    {
     "data": {
      "text/plain": [
       "user_id                0\n",
       "score                  0\n",
       "city                   0\n",
       "gender                 0\n",
       "age                    0\n",
       "objects                0\n",
       "balance             3617\n",
       "products               0\n",
       "credit_card            0\n",
       "loyalty                0\n",
       "estimated_salary       0\n",
       "churn                  0\n",
       "dtype: int64"
      ]
     },
     "execution_count": 21,
     "metadata": {},
     "output_type": "execute_result"
    }
   ],
   "source": [
    "df.isna().sum()"
   ]
  },
  {
   "cell_type": "markdown",
   "metadata": {},
   "source": [
    "Мы обнаружили 3617 пропусков по столбцу с данными об остатке денежных средств на счете. Можно было бы попробовать заменить пропуски,например, средним значением в разбивке клиентов на определенные группы или категории, но я считаю это приведет к искажению данных и не будет являться адекватной и объективной заменой пропусков. Мы не будем заполнять пропуски, ввиду того, что заполнить количество денежных средств на остатке на счете правдоподобными цифрами, не предоставляется возможным."
   ]
  },
  {
   "cell_type": "markdown",
   "metadata": {},
   "source": [
    "### Выводы по этапу предобработки данных."
   ]
  },
  {
   "cell_type": "markdown",
   "metadata": {},
   "source": [
    "* В названиях колонок были обнаружены стилистические ошибки - исправлено путем приведения к единому нижнему регистру и использования змеиного регистра;\n",
    "* Проверка на наличие дубликатов показала их отсутствие;\n",
    "* В ходе изучения датасета на аномалии и выбросы было обнаружено, что в датасете имеются клиенты с зарплатой ниже 5000, однако, учитывая что их немного, было принято решение их оставить.\n",
    "* В столбце balance были обнаружены пропуски, но ввиду того, что адекватную замену пропуску сделать невозможно, было принято решения пропуски оставить.\n"
   ]
  },
  {
   "cell_type": "markdown",
   "metadata": {},
   "source": [
    "## Исследовательский анализ данных."
   ]
  },
  {
   "cell_type": "markdown",
   "metadata": {},
   "source": [
    "### Анализ средних значений и стандартного отклонения в данных."
   ]
  },
  {
   "cell_type": "code",
   "execution_count": 22,
   "metadata": {},
   "outputs": [
    {
     "data": {
      "text/html": [
       "<div>\n",
       "<style scoped>\n",
       "    .dataframe tbody tr th:only-of-type {\n",
       "        vertical-align: middle;\n",
       "    }\n",
       "\n",
       "    .dataframe tbody tr th {\n",
       "        vertical-align: top;\n",
       "    }\n",
       "\n",
       "    .dataframe thead th {\n",
       "        text-align: right;\n",
       "    }\n",
       "</style>\n",
       "<table border=\"1\" class=\"dataframe\">\n",
       "  <thead>\n",
       "    <tr style=\"text-align: right;\">\n",
       "      <th></th>\n",
       "      <th>count</th>\n",
       "      <th>mean</th>\n",
       "      <th>std</th>\n",
       "      <th>min</th>\n",
       "      <th>25%</th>\n",
       "      <th>50%</th>\n",
       "      <th>75%</th>\n",
       "      <th>max</th>\n",
       "    </tr>\n",
       "  </thead>\n",
       "  <tbody>\n",
       "    <tr>\n",
       "      <th>score</th>\n",
       "      <td>10000.0</td>\n",
       "      <td>650.53</td>\n",
       "      <td>96.65</td>\n",
       "      <td>350.00</td>\n",
       "      <td>584.00</td>\n",
       "      <td>652.00</td>\n",
       "      <td>718.00</td>\n",
       "      <td>850.00</td>\n",
       "    </tr>\n",
       "    <tr>\n",
       "      <th>gender</th>\n",
       "      <td>10000.0</td>\n",
       "      <td>0.55</td>\n",
       "      <td>0.50</td>\n",
       "      <td>0.00</td>\n",
       "      <td>0.00</td>\n",
       "      <td>1.00</td>\n",
       "      <td>1.00</td>\n",
       "      <td>1.00</td>\n",
       "    </tr>\n",
       "    <tr>\n",
       "      <th>age</th>\n",
       "      <td>10000.0</td>\n",
       "      <td>38.92</td>\n",
       "      <td>10.49</td>\n",
       "      <td>18.00</td>\n",
       "      <td>32.00</td>\n",
       "      <td>37.00</td>\n",
       "      <td>44.00</td>\n",
       "      <td>92.00</td>\n",
       "    </tr>\n",
       "    <tr>\n",
       "      <th>objects</th>\n",
       "      <td>10000.0</td>\n",
       "      <td>5.01</td>\n",
       "      <td>2.89</td>\n",
       "      <td>0.00</td>\n",
       "      <td>3.00</td>\n",
       "      <td>5.00</td>\n",
       "      <td>7.00</td>\n",
       "      <td>10.00</td>\n",
       "    </tr>\n",
       "    <tr>\n",
       "      <th>balance</th>\n",
       "      <td>6383.0</td>\n",
       "      <td>119827.49</td>\n",
       "      <td>30095.06</td>\n",
       "      <td>3768.69</td>\n",
       "      <td>100181.98</td>\n",
       "      <td>119839.69</td>\n",
       "      <td>139512.29</td>\n",
       "      <td>250898.09</td>\n",
       "    </tr>\n",
       "    <tr>\n",
       "      <th>products</th>\n",
       "      <td>10000.0</td>\n",
       "      <td>1.53</td>\n",
       "      <td>0.58</td>\n",
       "      <td>1.00</td>\n",
       "      <td>1.00</td>\n",
       "      <td>1.00</td>\n",
       "      <td>2.00</td>\n",
       "      <td>4.00</td>\n",
       "    </tr>\n",
       "    <tr>\n",
       "      <th>credit_card</th>\n",
       "      <td>10000.0</td>\n",
       "      <td>0.71</td>\n",
       "      <td>0.46</td>\n",
       "      <td>0.00</td>\n",
       "      <td>0.00</td>\n",
       "      <td>1.00</td>\n",
       "      <td>1.00</td>\n",
       "      <td>1.00</td>\n",
       "    </tr>\n",
       "    <tr>\n",
       "      <th>loyalty</th>\n",
       "      <td>10000.0</td>\n",
       "      <td>0.52</td>\n",
       "      <td>0.50</td>\n",
       "      <td>0.00</td>\n",
       "      <td>0.00</td>\n",
       "      <td>1.00</td>\n",
       "      <td>1.00</td>\n",
       "      <td>1.00</td>\n",
       "    </tr>\n",
       "    <tr>\n",
       "      <th>estimated_salary</th>\n",
       "      <td>10000.0</td>\n",
       "      <td>100090.24</td>\n",
       "      <td>57510.49</td>\n",
       "      <td>11.58</td>\n",
       "      <td>51002.11</td>\n",
       "      <td>100193.92</td>\n",
       "      <td>149388.25</td>\n",
       "      <td>199992.48</td>\n",
       "    </tr>\n",
       "    <tr>\n",
       "      <th>churn</th>\n",
       "      <td>10000.0</td>\n",
       "      <td>0.20</td>\n",
       "      <td>0.40</td>\n",
       "      <td>0.00</td>\n",
       "      <td>0.00</td>\n",
       "      <td>0.00</td>\n",
       "      <td>0.00</td>\n",
       "      <td>1.00</td>\n",
       "    </tr>\n",
       "  </tbody>\n",
       "</table>\n",
       "</div>"
      ],
      "text/plain": [
       "                    count       mean       std      min        25%        50%  \\\n",
       "score             10000.0     650.53     96.65   350.00     584.00     652.00   \n",
       "gender            10000.0       0.55      0.50     0.00       0.00       1.00   \n",
       "age               10000.0      38.92     10.49    18.00      32.00      37.00   \n",
       "objects           10000.0       5.01      2.89     0.00       3.00       5.00   \n",
       "balance            6383.0  119827.49  30095.06  3768.69  100181.98  119839.69   \n",
       "products          10000.0       1.53      0.58     1.00       1.00       1.00   \n",
       "credit_card       10000.0       0.71      0.46     0.00       0.00       1.00   \n",
       "loyalty           10000.0       0.52      0.50     0.00       0.00       1.00   \n",
       "estimated_salary  10000.0  100090.24  57510.49    11.58   51002.11  100193.92   \n",
       "churn             10000.0       0.20      0.40     0.00       0.00       0.00   \n",
       "\n",
       "                        75%        max  \n",
       "score                718.00     850.00  \n",
       "gender                 1.00       1.00  \n",
       "age                   44.00      92.00  \n",
       "objects                7.00      10.00  \n",
       "balance           139512.29  250898.09  \n",
       "products               2.00       4.00  \n",
       "credit_card            1.00       1.00  \n",
       "loyalty                1.00       1.00  \n",
       "estimated_salary  149388.25  199992.48  \n",
       "churn                  0.00       1.00  "
      ]
     },
     "execution_count": 22,
     "metadata": {},
     "output_type": "execute_result"
    }
   ],
   "source": [
    "df.describe().drop('user_id', axis=1).round(2).T"
   ]
  },
  {
   "cell_type": "markdown",
   "metadata": {},
   "source": [
    "Выводы:\n",
    "  * Средняя оценка кредитного скоринга 650;\n",
    "  * Распределение по полу показывает, что мужчин среди клиентов больше чем женщин, около 55%;\n",
    "  * Средний возраст клиентов 39 лет, стандартное отклонение по возрасту 10 лет;\n",
    "  * В среднем клиенты имеют 5 объектов в собственности;\n",
    "  * Средний показатель остатка денежных средств на счете 120 000, при стандартном отклонении 30 000;\n",
    "  * Подавляющее число клиентов пользуются 1 или 2 продуктами;\n",
    "  * 71% людей, находящихся на обслуживании в Банке, имеют кредитную карту;\n",
    "  * Более 50% пользователей имеют статус активного клиента;\n",
    "  * Заработная плата имеет существенный разброс от 11 до 200 000, при этом средняя зарплата 100 000, а стандартное отклонение 57 000;\n",
    "  * Из представленных данных 20% клиентов покинули банк;"
   ]
  },
  {
   "cell_type": "code",
   "execution_count": 23,
   "metadata": {},
   "outputs": [
    {
     "data": {
      "text/html": [
       "<div>\n",
       "<style scoped>\n",
       "    .dataframe tbody tr th:only-of-type {\n",
       "        vertical-align: middle;\n",
       "    }\n",
       "\n",
       "    .dataframe tbody tr th {\n",
       "        vertical-align: top;\n",
       "    }\n",
       "\n",
       "    .dataframe thead th {\n",
       "        text-align: right;\n",
       "    }\n",
       "</style>\n",
       "<table border=\"1\" class=\"dataframe\">\n",
       "  <thead>\n",
       "    <tr style=\"text-align: right;\">\n",
       "      <th></th>\n",
       "      <th>user_id</th>\n",
       "      <th>score</th>\n",
       "      <th>city</th>\n",
       "      <th>gender</th>\n",
       "      <th>age</th>\n",
       "      <th>objects</th>\n",
       "      <th>balance</th>\n",
       "      <th>products</th>\n",
       "      <th>credit_card</th>\n",
       "      <th>loyalty</th>\n",
       "      <th>estimated_salary</th>\n",
       "      <th>churn</th>\n",
       "    </tr>\n",
       "  </thead>\n",
       "  <tbody>\n",
       "    <tr>\n",
       "      <th>0</th>\n",
       "      <td>15677338</td>\n",
       "      <td>619</td>\n",
       "      <td>Ярославль</td>\n",
       "      <td>0</td>\n",
       "      <td>42</td>\n",
       "      <td>2</td>\n",
       "      <td>NaN</td>\n",
       "      <td>1</td>\n",
       "      <td>1</td>\n",
       "      <td>1</td>\n",
       "      <td>101348.88</td>\n",
       "      <td>1</td>\n",
       "    </tr>\n",
       "    <tr>\n",
       "      <th>1</th>\n",
       "      <td>15690047</td>\n",
       "      <td>608</td>\n",
       "      <td>Рыбинск</td>\n",
       "      <td>0</td>\n",
       "      <td>41</td>\n",
       "      <td>1</td>\n",
       "      <td>83807.86</td>\n",
       "      <td>1</td>\n",
       "      <td>0</td>\n",
       "      <td>1</td>\n",
       "      <td>112542.58</td>\n",
       "      <td>0</td>\n",
       "    </tr>\n",
       "    <tr>\n",
       "      <th>2</th>\n",
       "      <td>15662040</td>\n",
       "      <td>502</td>\n",
       "      <td>Ярославль</td>\n",
       "      <td>0</td>\n",
       "      <td>42</td>\n",
       "      <td>8</td>\n",
       "      <td>159660.80</td>\n",
       "      <td>3</td>\n",
       "      <td>1</td>\n",
       "      <td>0</td>\n",
       "      <td>113931.57</td>\n",
       "      <td>1</td>\n",
       "    </tr>\n",
       "    <tr>\n",
       "      <th>3</th>\n",
       "      <td>15744090</td>\n",
       "      <td>699</td>\n",
       "      <td>Ярославль</td>\n",
       "      <td>0</td>\n",
       "      <td>39</td>\n",
       "      <td>1</td>\n",
       "      <td>NaN</td>\n",
       "      <td>2</td>\n",
       "      <td>0</td>\n",
       "      <td>0</td>\n",
       "      <td>93826.63</td>\n",
       "      <td>0</td>\n",
       "    </tr>\n",
       "    <tr>\n",
       "      <th>4</th>\n",
       "      <td>15780624</td>\n",
       "      <td>850</td>\n",
       "      <td>Рыбинск</td>\n",
       "      <td>0</td>\n",
       "      <td>43</td>\n",
       "      <td>2</td>\n",
       "      <td>125510.82</td>\n",
       "      <td>1</td>\n",
       "      <td>1</td>\n",
       "      <td>1</td>\n",
       "      <td>79084.10</td>\n",
       "      <td>0</td>\n",
       "    </tr>\n",
       "    <tr>\n",
       "      <th>...</th>\n",
       "      <td>...</td>\n",
       "      <td>...</td>\n",
       "      <td>...</td>\n",
       "      <td>...</td>\n",
       "      <td>...</td>\n",
       "      <td>...</td>\n",
       "      <td>...</td>\n",
       "      <td>...</td>\n",
       "      <td>...</td>\n",
       "      <td>...</td>\n",
       "      <td>...</td>\n",
       "      <td>...</td>\n",
       "    </tr>\n",
       "    <tr>\n",
       "      <th>9995</th>\n",
       "      <td>15648965</td>\n",
       "      <td>771</td>\n",
       "      <td>Ярославль</td>\n",
       "      <td>1</td>\n",
       "      <td>39</td>\n",
       "      <td>5</td>\n",
       "      <td>NaN</td>\n",
       "      <td>2</td>\n",
       "      <td>1</td>\n",
       "      <td>0</td>\n",
       "      <td>96270.64</td>\n",
       "      <td>0</td>\n",
       "    </tr>\n",
       "    <tr>\n",
       "      <th>9996</th>\n",
       "      <td>15612628</td>\n",
       "      <td>516</td>\n",
       "      <td>Ярославль</td>\n",
       "      <td>1</td>\n",
       "      <td>35</td>\n",
       "      <td>10</td>\n",
       "      <td>57369.61</td>\n",
       "      <td>1</td>\n",
       "      <td>1</td>\n",
       "      <td>1</td>\n",
       "      <td>101699.77</td>\n",
       "      <td>0</td>\n",
       "    </tr>\n",
       "    <tr>\n",
       "      <th>9997</th>\n",
       "      <td>15627268</td>\n",
       "      <td>709</td>\n",
       "      <td>Ярославль</td>\n",
       "      <td>0</td>\n",
       "      <td>36</td>\n",
       "      <td>7</td>\n",
       "      <td>NaN</td>\n",
       "      <td>1</td>\n",
       "      <td>0</td>\n",
       "      <td>1</td>\n",
       "      <td>42085.58</td>\n",
       "      <td>1</td>\n",
       "    </tr>\n",
       "    <tr>\n",
       "      <th>9998</th>\n",
       "      <td>15725091</td>\n",
       "      <td>772</td>\n",
       "      <td>Ростов Великий</td>\n",
       "      <td>1</td>\n",
       "      <td>42</td>\n",
       "      <td>3</td>\n",
       "      <td>75075.31</td>\n",
       "      <td>2</td>\n",
       "      <td>1</td>\n",
       "      <td>0</td>\n",
       "      <td>92888.52</td>\n",
       "      <td>1</td>\n",
       "    </tr>\n",
       "    <tr>\n",
       "      <th>9999</th>\n",
       "      <td>15671055</td>\n",
       "      <td>792</td>\n",
       "      <td>Ярославль</td>\n",
       "      <td>0</td>\n",
       "      <td>28</td>\n",
       "      <td>4</td>\n",
       "      <td>130142.79</td>\n",
       "      <td>1</td>\n",
       "      <td>1</td>\n",
       "      <td>0</td>\n",
       "      <td>38190.78</td>\n",
       "      <td>0</td>\n",
       "    </tr>\n",
       "  </tbody>\n",
       "</table>\n",
       "<p>10000 rows × 12 columns</p>\n",
       "</div>"
      ],
      "text/plain": [
       "       user_id  score            city  gender  age  objects    balance  \\\n",
       "0     15677338    619       Ярославль       0   42        2        NaN   \n",
       "1     15690047    608         Рыбинск       0   41        1   83807.86   \n",
       "2     15662040    502       Ярославль       0   42        8  159660.80   \n",
       "3     15744090    699       Ярославль       0   39        1        NaN   \n",
       "4     15780624    850         Рыбинск       0   43        2  125510.82   \n",
       "...        ...    ...             ...     ...  ...      ...        ...   \n",
       "9995  15648965    771       Ярославль       1   39        5        NaN   \n",
       "9996  15612628    516       Ярославль       1   35       10   57369.61   \n",
       "9997  15627268    709       Ярославль       0   36        7        NaN   \n",
       "9998  15725091    772  Ростов Великий       1   42        3   75075.31   \n",
       "9999  15671055    792       Ярославль       0   28        4  130142.79   \n",
       "\n",
       "      products  credit_card  loyalty  estimated_salary  churn  \n",
       "0            1            1        1         101348.88      1  \n",
       "1            1            0        1         112542.58      0  \n",
       "2            3            1        0         113931.57      1  \n",
       "3            2            0        0          93826.63      0  \n",
       "4            1            1        1          79084.10      0  \n",
       "...        ...          ...      ...               ...    ...  \n",
       "9995         2            1        0          96270.64      0  \n",
       "9996         1            1        1         101699.77      0  \n",
       "9997         1            0        1          42085.58      1  \n",
       "9998         2            1        0          92888.52      1  \n",
       "9999         1            1        0          38190.78      0  \n",
       "\n",
       "[10000 rows x 12 columns]"
      ]
     },
     "execution_count": 23,
     "metadata": {},
     "output_type": "execute_result"
    }
   ],
   "source": [
    "df"
   ]
  },
  {
   "cell_type": "markdown",
   "metadata": {},
   "source": [
    "### Проверка средних значений признаков по группам ушедших и оставшихся клиентов."
   ]
  },
  {
   "cell_type": "code",
   "execution_count": 24,
   "metadata": {},
   "outputs": [
    {
     "data": {
      "text/html": [
       "<div>\n",
       "<style scoped>\n",
       "    .dataframe tbody tr th:only-of-type {\n",
       "        vertical-align: middle;\n",
       "    }\n",
       "\n",
       "    .dataframe tbody tr th {\n",
       "        vertical-align: top;\n",
       "    }\n",
       "\n",
       "    .dataframe thead th {\n",
       "        text-align: right;\n",
       "    }\n",
       "</style>\n",
       "<table border=\"1\" class=\"dataframe\">\n",
       "  <thead>\n",
       "    <tr style=\"text-align: right;\">\n",
       "      <th>churn</th>\n",
       "      <th>0</th>\n",
       "      <th>1</th>\n",
       "    </tr>\n",
       "  </thead>\n",
       "  <tbody>\n",
       "    <tr>\n",
       "      <th>score</th>\n",
       "      <td>651.85</td>\n",
       "      <td>645.35</td>\n",
       "    </tr>\n",
       "    <tr>\n",
       "      <th>gender</th>\n",
       "      <td>0.57</td>\n",
       "      <td>0.44</td>\n",
       "    </tr>\n",
       "    <tr>\n",
       "      <th>age</th>\n",
       "      <td>37.41</td>\n",
       "      <td>44.84</td>\n",
       "    </tr>\n",
       "    <tr>\n",
       "      <th>objects</th>\n",
       "      <td>5.03</td>\n",
       "      <td>4.93</td>\n",
       "    </tr>\n",
       "    <tr>\n",
       "      <th>balance</th>\n",
       "      <td>119535.86</td>\n",
       "      <td>120746.97</td>\n",
       "    </tr>\n",
       "    <tr>\n",
       "      <th>products</th>\n",
       "      <td>1.54</td>\n",
       "      <td>1.48</td>\n",
       "    </tr>\n",
       "    <tr>\n",
       "      <th>credit_card</th>\n",
       "      <td>0.71</td>\n",
       "      <td>0.70</td>\n",
       "    </tr>\n",
       "    <tr>\n",
       "      <th>loyalty</th>\n",
       "      <td>0.55</td>\n",
       "      <td>0.36</td>\n",
       "    </tr>\n",
       "    <tr>\n",
       "      <th>estimated_salary</th>\n",
       "      <td>99738.39</td>\n",
       "      <td>101465.68</td>\n",
       "    </tr>\n",
       "  </tbody>\n",
       "</table>\n",
       "</div>"
      ],
      "text/plain": [
       "churn                     0          1\n",
       "score                651.85     645.35\n",
       "gender                 0.57       0.44\n",
       "age                   37.41      44.84\n",
       "objects                5.03       4.93\n",
       "balance           119535.86  120746.97\n",
       "products               1.54       1.48\n",
       "credit_card            0.71       0.70\n",
       "loyalty                0.55       0.36\n",
       "estimated_salary   99738.39  101465.68"
      ]
     },
     "execution_count": 24,
     "metadata": {},
     "output_type": "execute_result"
    }
   ],
   "source": [
    "df.drop('user_id', axis=1).groupby('churn').agg('mean').round(2).T"
   ]
  },
  {
   "cell_type": "code",
   "execution_count": 25,
   "metadata": {},
   "outputs": [
    {
     "data": {
      "text/html": [
       "<div>\n",
       "<style scoped>\n",
       "    .dataframe tbody tr th:only-of-type {\n",
       "        vertical-align: middle;\n",
       "    }\n",
       "\n",
       "    .dataframe tbody tr th {\n",
       "        vertical-align: top;\n",
       "    }\n",
       "\n",
       "    .dataframe thead th {\n",
       "        text-align: right;\n",
       "    }\n",
       "</style>\n",
       "<table border=\"1\" class=\"dataframe\">\n",
       "  <thead>\n",
       "    <tr style=\"text-align: right;\">\n",
       "      <th></th>\n",
       "      <th>churn</th>\n",
       "    </tr>\n",
       "    <tr>\n",
       "      <th>city</th>\n",
       "      <th></th>\n",
       "    </tr>\n",
       "  </thead>\n",
       "  <tbody>\n",
       "    <tr>\n",
       "      <th>Ростов Великий</th>\n",
       "      <td>0.324432</td>\n",
       "    </tr>\n",
       "    <tr>\n",
       "      <th>Рыбинск</th>\n",
       "      <td>0.166734</td>\n",
       "    </tr>\n",
       "    <tr>\n",
       "      <th>Ярославль</th>\n",
       "      <td>0.161548</td>\n",
       "    </tr>\n",
       "  </tbody>\n",
       "</table>\n",
       "</div>"
      ],
      "text/plain": [
       "                   churn\n",
       "city                    \n",
       "Ростов Великий  0.324432\n",
       "Рыбинск         0.166734\n",
       "Ярославль       0.161548"
      ]
     },
     "execution_count": 25,
     "metadata": {},
     "output_type": "execute_result"
    }
   ],
   "source": [
    "df.groupby('city').agg({'churn':'mean'})"
   ]
  },
  {
   "cell_type": "markdown",
   "metadata": {},
   "source": [
    "Выводы:\n",
    "  * Уровень кредитного скоринга практически идентичен у людей оставшихся в банке и покинувших его;\n",
    "  * Распределение по полу показывает, что среди оставшихся в банке доля мужчин 57%, а среди ушедших в отток 44% - это потенциально важный признак, который может помочь составить портрет человека, склонного к уходу;\n",
    "  * Средний возраст ушеших клиентов и оставшихся довольно серьезно отличается - на 7 лет, 37 лет - средний возраст оставшихся и 44 года ушедших. Можно расценивать признак возраста как сильно влияющий на вероятность ухода клиента из Банка;\n",
    "  * Количество объектов не поменялось, в среднем, у людей двух групп 5 объектов в собственности;\n",
    "  * Сумма средств, находящаяся на счете, также не изменилась, в среднем у людей двух групп - это 120 000;\n",
    "  * Количество имеющихся продуктов вряд ли влияет на вероятность ухода клиента из Банка, т.к. средние значения равны для двух групп;\n",
    "  * Наличие кредитной карты также показывает одинаковый уровень для группы ушедших и оставшихся;\n",
    "  * Признак активности клиента дает нам информацию о том, что больше активных клиентов в группе оставшихся их 55%, а в группе ушедших только 35% активных пользователей. Предварительно выделим этот признак как важный для нашего исследования;\n",
    "  * Заработная плата немного отличается у двух групп и тенденция такая, что чем выше у человека зарплата, тем больше вероятность нахождения его в группе ушедших. Хотя разница не очень большая, данный признак стоит рассмотреть детальнее;     \n",
    "  * Интересные результаты показывает доля ушедших в разбивке по городам - в Рыбинске и Ярославле доля ушедших в отток составляет 16%, а в Ростове Великом 32%, разница в 2 раза.\n"
   ]
  },
  {
   "cell_type": "markdown",
   "metadata": {},
   "source": [
    "### Визуализация значений признаков в разбивке по двум группам - ушедших и оставшихся клиентов."
   ]
  },
  {
   "cell_type": "code",
   "execution_count": 26,
   "metadata": {},
   "outputs": [
    {
     "data": {
      "image/png": "[encoded data removed]",
      "text/plain": [
       "<Figure size 432x288 with 1 Axes>"
      ]
     },
     "metadata": {
      "needs_background": "light"
     },
     "output_type": "display_data"
    },
    {
     "data": {
      "text/html": [
       "<div>\n",
       "<style scoped>\n",
       "    .dataframe tbody tr th:only-of-type {\n",
       "        vertical-align: middle;\n",
       "    }\n",
       "\n",
       "    .dataframe tbody tr th {\n",
       "        vertical-align: top;\n",
       "    }\n",
       "\n",
       "    .dataframe thead th {\n",
       "        text-align: right;\n",
       "    }\n",
       "</style>\n",
       "<table border=\"1\" class=\"dataframe\">\n",
       "  <thead>\n",
       "    <tr style=\"text-align: right;\">\n",
       "      <th>city</th>\n",
       "      <th>Ростов Великий</th>\n",
       "      <th>Рыбинск</th>\n",
       "      <th>Ярославль</th>\n",
       "    </tr>\n",
       "  </thead>\n",
       "  <tbody>\n",
       "    <tr>\n",
       "      <th>churn</th>\n",
       "      <td>0.32</td>\n",
       "      <td>0.17</td>\n",
       "      <td>0.16</td>\n",
       "    </tr>\n",
       "  </tbody>\n",
       "</table>\n",
       "</div>"
      ],
      "text/plain": [
       "city   Ростов Великий  Рыбинск  Ярославль\n",
       "churn            0.32     0.17       0.16"
      ]
     },
     "metadata": {},
     "output_type": "display_data"
    },
    {
     "data": {
      "image/png": "[encoded data removed]",
      "text/plain": [
       "<Figure size 432x288 with 1 Axes>"
      ]
     },
     "metadata": {
      "needs_background": "light"
     },
     "output_type": "display_data"
    },
    {
     "data": {
      "text/html": [
       "<div>\n",
       "<style scoped>\n",
       "    .dataframe tbody tr th:only-of-type {\n",
       "        vertical-align: middle;\n",
       "    }\n",
       "\n",
       "    .dataframe tbody tr th {\n",
       "        vertical-align: top;\n",
       "    }\n",
       "\n",
       "    .dataframe thead th {\n",
       "        text-align: right;\n",
       "    }\n",
       "</style>\n",
       "<table border=\"1\" class=\"dataframe\">\n",
       "  <thead>\n",
       "    <tr style=\"text-align: right;\">\n",
       "      <th>gender</th>\n",
       "      <th>0</th>\n",
       "      <th>1</th>\n",
       "    </tr>\n",
       "  </thead>\n",
       "  <tbody>\n",
       "    <tr>\n",
       "      <th>churn</th>\n",
       "      <td>0.25</td>\n",
       "      <td>0.16</td>\n",
       "    </tr>\n",
       "  </tbody>\n",
       "</table>\n",
       "</div>"
      ],
      "text/plain": [
       "gender     0     1\n",
       "churn   0.25  0.16"
      ]
     },
     "metadata": {},
     "output_type": "display_data"
    },
    {
     "data": {
      "image/png": "[encoded data removed]",
      "text/plain": [
       "<Figure size 432x288 with 1 Axes>"
      ]
     },
     "metadata": {
      "needs_background": "light"
     },
     "output_type": "display_data"
    },
    {
     "data": {
      "text/html": [
       "<div>\n",
       "<style scoped>\n",
       "    .dataframe tbody tr th:only-of-type {\n",
       "        vertical-align: middle;\n",
       "    }\n",
       "\n",
       "    .dataframe tbody tr th {\n",
       "        vertical-align: top;\n",
       "    }\n",
       "\n",
       "    .dataframe thead th {\n",
       "        text-align: right;\n",
       "    }\n",
       "</style>\n",
       "<table border=\"1\" class=\"dataframe\">\n",
       "  <thead>\n",
       "    <tr style=\"text-align: right;\">\n",
       "      <th>products</th>\n",
       "      <th>1</th>\n",
       "      <th>2</th>\n",
       "      <th>3</th>\n",
       "      <th>4</th>\n",
       "    </tr>\n",
       "  </thead>\n",
       "  <tbody>\n",
       "    <tr>\n",
       "      <th>churn</th>\n",
       "      <td>0.28</td>\n",
       "      <td>0.08</td>\n",
       "      <td>0.83</td>\n",
       "      <td>1.0</td>\n",
       "    </tr>\n",
       "  </tbody>\n",
       "</table>\n",
       "</div>"
      ],
      "text/plain": [
       "products     1     2     3    4\n",
       "churn     0.28  0.08  0.83  1.0"
      ]
     },
     "metadata": {},
     "output_type": "display_data"
    },
    {
     "data": {
      "image/png": "[encoded data removed]",
      "text/plain": [
       "<Figure size 432x288 with 1 Axes>"
      ]
     },
     "metadata": {
      "needs_background": "light"
     },
     "output_type": "display_data"
    },
    {
     "data": {
      "text/html": [
       "<div>\n",
       "<style scoped>\n",
       "    .dataframe tbody tr th:only-of-type {\n",
       "        vertical-align: middle;\n",
       "    }\n",
       "\n",
       "    .dataframe tbody tr th {\n",
       "        vertical-align: top;\n",
       "    }\n",
       "\n",
       "    .dataframe thead th {\n",
       "        text-align: right;\n",
       "    }\n",
       "</style>\n",
       "<table border=\"1\" class=\"dataframe\">\n",
       "  <thead>\n",
       "    <tr style=\"text-align: right;\">\n",
       "      <th>credit_card</th>\n",
       "      <th>0</th>\n",
       "      <th>1</th>\n",
       "    </tr>\n",
       "  </thead>\n",
       "  <tbody>\n",
       "    <tr>\n",
       "      <th>churn</th>\n",
       "      <td>0.21</td>\n",
       "      <td>0.2</td>\n",
       "    </tr>\n",
       "  </tbody>\n",
       "</table>\n",
       "</div>"
      ],
      "text/plain": [
       "credit_card     0    1\n",
       "churn        0.21  0.2"
      ]
     },
     "metadata": {},
     "output_type": "display_data"
    },
    {
     "data": {
      "image/png": "[encoded data removed]",
      "text/plain": [
       "<Figure size 432x288 with 1 Axes>"
      ]
     },
     "metadata": {
      "needs_background": "light"
     },
     "output_type": "display_data"
    },
    {
     "data": {
      "text/html": [
       "<div>\n",
       "<style scoped>\n",
       "    .dataframe tbody tr th:only-of-type {\n",
       "        vertical-align: middle;\n",
       "    }\n",
       "\n",
       "    .dataframe tbody tr th {\n",
       "        vertical-align: top;\n",
       "    }\n",
       "\n",
       "    .dataframe thead th {\n",
       "        text-align: right;\n",
       "    }\n",
       "</style>\n",
       "<table border=\"1\" class=\"dataframe\">\n",
       "  <thead>\n",
       "    <tr style=\"text-align: right;\">\n",
       "      <th>loyalty</th>\n",
       "      <th>0</th>\n",
       "      <th>1</th>\n",
       "    </tr>\n",
       "  </thead>\n",
       "  <tbody>\n",
       "    <tr>\n",
       "      <th>churn</th>\n",
       "      <td>0.27</td>\n",
       "      <td>0.14</td>\n",
       "    </tr>\n",
       "  </tbody>\n",
       "</table>\n",
       "</div>"
      ],
      "text/plain": [
       "loyalty     0     1\n",
       "churn    0.27  0.14"
      ]
     },
     "metadata": {},
     "output_type": "display_data"
    }
   ],
   "source": [
    "# Построим гистограмму для колонок которые содержат от 2 до 4 значений\n",
    "df_hist = ['city', 'gender', 'products', 'credit_card', 'loyalty']\n",
    "for column in df_hist:\n",
    "    df.groupby('churn')[column].hist()\n",
    "    plt.title(column)\n",
    "    plt.legend(['Оставшиеся', 'Отток'])\n",
    "    plt.ylabel('Количество')\n",
    "    plt.show()\n",
    "    display(df.drop('user_id', axis=1).groupby(column).agg({'churn':'mean'}).round(2).T)"
   ]
  },
  {
   "cell_type": "markdown",
   "metadata": {},
   "source": [
    "Подробнее рассмотрим столбец с количеством продуктов у клиентов"
   ]
  },
  {
   "cell_type": "code",
   "execution_count": 27,
   "metadata": {},
   "outputs": [
    {
     "data": {
      "text/html": [
       "<div>\n",
       "<style scoped>\n",
       "    .dataframe tbody tr th:only-of-type {\n",
       "        vertical-align: middle;\n",
       "    }\n",
       "\n",
       "    .dataframe tbody tr th {\n",
       "        vertical-align: top;\n",
       "    }\n",
       "\n",
       "    .dataframe thead th {\n",
       "        text-align: right;\n",
       "    }\n",
       "</style>\n",
       "<table border=\"1\" class=\"dataframe\">\n",
       "  <thead>\n",
       "    <tr style=\"text-align: right;\">\n",
       "      <th></th>\n",
       "      <th>churn</th>\n",
       "    </tr>\n",
       "    <tr>\n",
       "      <th>products</th>\n",
       "      <th></th>\n",
       "    </tr>\n",
       "  </thead>\n",
       "  <tbody>\n",
       "    <tr>\n",
       "      <th>1</th>\n",
       "      <td>0.277144</td>\n",
       "    </tr>\n",
       "    <tr>\n",
       "      <th>2</th>\n",
       "      <td>0.075817</td>\n",
       "    </tr>\n",
       "    <tr>\n",
       "      <th>3</th>\n",
       "      <td>0.827068</td>\n",
       "    </tr>\n",
       "    <tr>\n",
       "      <th>4</th>\n",
       "      <td>1.000000</td>\n",
       "    </tr>\n",
       "  </tbody>\n",
       "</table>\n",
       "</div>"
      ],
      "text/plain": [
       "             churn\n",
       "products          \n",
       "1         0.277144\n",
       "2         0.075817\n",
       "3         0.827068\n",
       "4         1.000000"
      ]
     },
     "execution_count": 27,
     "metadata": {},
     "output_type": "execute_result"
    }
   ],
   "source": [
    "df.groupby('products').agg({'churn':'count','churn':'mean'})"
   ]
  },
  {
   "cell_type": "code",
   "execution_count": 28,
   "metadata": {},
   "outputs": [
    {
     "name": "stdout",
     "output_type": "stream",
     "text": [
      "Количество клиентов имеющих 3 или 4 продукта в Банке: 326\n"
     ]
    }
   ],
   "source": [
    "print('Количество клиентов имеющих 3 или 4 продукта в Банке:', len(df[df['products']>2]))"
   ]
  },
  {
   "cell_type": "markdown",
   "metadata": {},
   "source": [
    "Выводы:\n",
    " * Гистограмма в разбивке по городам подтверждает, что у отделений, расположенных в Ростове Великом, есть проблемы с оттоком клиентов, отток составляет 32% против 16% в Ярославле и Рыбинске;\n",
    " * График в разбивке по полу также подтверждает ранее сделаные выводы - женщины чаще попадают в группу ушедших клиентов, среди женщин доля оттока составляет 25%, а доля оттока среди мужчин 16%;\n",
    " * Наличие или отсутствие кредитной карты не влияет на отток, т.к. пропорции ушедших и оставшихся в разбивке по наличию кредитной карты сопоставимы, 21% у тех кого нет кредитной карты и 20% у кого она есть;\n",
    " * Гистограмма в разбивке на активных и остальных клиентов явно подтверждает, что активные клиенты реже попадают в отток, доля оттка у неактивных клиентов 27%, а у активных 14%;\n",
    " * Довольно интересную картину показывает график в разбивке на группы по количеству имеющихся продуктов - клиентов с 3 или 4 продуктами в Банке 326 человек, что довольно немного (3% от общего числа), однако эти пользователи имеют колоссальный процент ушедших клиентов из Банка 83% и 100% соответственно. Решение по этом признаку стоит принять позже.\n",
    "    "
   ]
  },
  {
   "cell_type": "code",
   "execution_count": 29,
   "metadata": {},
   "outputs": [
    {
     "data": {
      "image/png": "[encoded data removed]",
      "text/plain": [
       "<Figure size 720x288 with 1 Axes>"
      ]
     },
     "metadata": {
      "needs_background": "light"
     },
     "output_type": "display_data"
    },
    {
     "data": {
      "image/png": "[encoded data removed]",
      "text/plain": [
       "<Figure size 720x288 with 1 Axes>"
      ]
     },
     "metadata": {
      "needs_background": "light"
     },
     "output_type": "display_data"
    },
    {
     "data": {
      "image/png": "[encoded data removed]",
      "text/plain": [
       "<Figure size 720x288 with 1 Axes>"
      ]
     },
     "metadata": {
      "needs_background": "light"
     },
     "output_type": "display_data"
    },
    {
     "data": {
      "image/png": "[encoded data removed]",
      "text/plain": [
       "<Figure size 720x288 with 1 Axes>"
      ]
     },
     "metadata": {
      "needs_background": "light"
     },
     "output_type": "display_data"
    },
    {
     "data": {
      "image/png": "[encoded data removed]",
      "text/plain": [
       "<Figure size 720x288 with 1 Axes>"
      ]
     },
     "metadata": {
      "needs_background": "light"
     },
     "output_type": "display_data"
    }
   ],
   "source": [
    "#Построим столбчатую диаграмму для остальных колонок, разделив пользователей на оставшихся и ушедших из Банка\n",
    "for column in df.columns.drop({'churn','user_id'}):\n",
    "    if column not in df_hist:\n",
    "        plt.figure(figsize=(10,4)) \n",
    "        plt.title(column)\n",
    "        sns.histplot(df[df['churn']==1][column],color='red',kde=True,stat=\"density\", linewidth=0)\n",
    "        sns.histplot(df[df['churn']==0][column],color='blue',kde=True,stat=\"density\", linewidth=0)\n",
    "        plt.legend(['Отток', 'Оставшиеся'])\n",
    "        plt.show()"
   ]
  },
  {
   "cell_type": "markdown",
   "metadata": {},
   "source": [
    "Выводы:\n",
    " * График распределения ушедших и оставшихся клиентов в разбивке по уровню кредитного скоринга, доказывает нам что ранее сделаные выводы верны и этот показатель не влияет на отток;\n",
    " * Распределение по возрасту позволяет сделать однозначные выводы - пик по оставшимся клиентам приходится на 30-40 лет, а пик по людям ушедших в отток на 40-60, это подтверждает наши мысли о том, что люди постарше склонны к уходу из Банка;\n",
    " * Количество объектов в собственности не влияет на вероятность ухода из Банка, график это подтверждает;\n",
    " * График по остатку денежных средств на счете не дает нам однозначного предоставления, с одной стороны, распределение ушедших и оставшихся клиентов близко друг к другу, однако, в диапозоне 100000-140000 доля ушедних в отток больше оставшихся.\n",
    " * График заработной платы сопоставим, но ближе к максимальным значениям видно, что группа ушедших клиентов больше оставшихся."
   ]
  },
  {
   "cell_type": "markdown",
   "metadata": {},
   "source": [
    "### Матрица корреляций признаков."
   ]
  },
  {
   "cell_type": "code",
   "execution_count": 30,
   "metadata": {},
   "outputs": [
    {
     "data": {
      "image/png": "[encoded data removed]",
      "text/plain": [
       "<Figure size 936x936 with 2 Axes>"
      ]
     },
     "metadata": {
      "needs_background": "light"
     },
     "output_type": "display_data"
    }
   ],
   "source": [
    "cm = df.corr() #вычисляем матрицу корреляций\n",
    "fig, ax = plt.subplots(figsize=(13, 13))\n",
    "\n",
    "#нарисуем тепловую карту с подписями для матрицы корреляций\n",
    "sns.heatmap(cm, annot=True, square=True,cmap='viridis')\n",
    "max_width = 15\n",
    "ax.set_xticklabels(tw.fill(x.get_text(), max_width) for x in ax.get_xticklabels())\n",
    "ax.tick_params(axis='x', rotation=45)\n",
    "plt.title('Матрица корреляций признаков')\n",
    "plt.xlabel('Признак 1')\n",
    "plt.ylabel('Признак 2')\n",
    "plt.show()"
   ]
  },
  {
   "cell_type": "markdown",
   "metadata": {},
   "source": [
    "Выводы:\n",
    " * Наибольшую корреляцию факт оттока клиента имеет с признаком возраста - это подтверждает наши мысли о различии в возрасте групп ушедших и оставшися;\n",
    " * Второй признак по уровню корреляции оттока клиента имеет признак активности клиента, ранее мы делали схожее предположение;\n",
    " * Довольно сильную связь факт оттока клиента имеет с признаком пола, ранее мы делали схожее предположение;\n",
    " * Отдельно стоит отметить высокий уровень корреляции возраста с активностью клиентов. Судя по всему, люди постарше чаще пользуются услугами Банка.\n",
    "    "
   ]
  },
  {
   "cell_type": "markdown",
   "metadata": {},
   "source": [
    "### Портрет клиента склонного к уходу."
   ]
  },
  {
   "cell_type": "markdown",
   "metadata": {},
   "source": [
    "Основываясь на ранее сделанных выводах по анализу средних значений, графиков и матрицы корреляции признаков, мы предположим, что клиент, склонный к уходу из Банка, имеет следующие основные характеристики:  \n",
    "\n",
    " Женщина старше 40 лет, проживающая в городе Ростов Великий, которая не имеет статуса активного клиента.  \n"
   ]
  },
  {
   "cell_type": "markdown",
   "metadata": {},
   "source": [
    "### Выводы по итогам исследовательского анализа данных. "
   ]
  },
  {
   "cell_type": "markdown",
   "metadata": {},
   "source": [
    "По итогу исследовательского анализа данных стоить выделить следующие основные моменты:  \n",
    "   - В городе Ростов Великий есть проблемы из-за высокого уровня оттока клиентов;\n",
    "   \n",
    "    \n",
    "   - Признаки, которые явно могут влиять на отток клиента:  \n",
    "    \n",
    "      * Возраст - люди старше больше склонны к уходу;  \n",
    "      \n",
    "      * Активность клиента - активные клиенты реже попадают в группу ушедших;  \n",
    "      \n",
    "      * Пол - женщины чаще покидают Банк.  \n",
    "      \n",
    "      \n",
    "   - Признаки, на которые можно обратить внимание:  \n",
    "    \n",
    "      * Количество продуктов у клиента;  \n",
    "      \n",
    "      * Заработная плата.\n",
    "     \n",
    "       "
   ]
  },
  {
   "cell_type": "markdown",
   "metadata": {},
   "source": [
    "## Проверка гипотез."
   ]
  },
  {
   "cell_type": "markdown",
   "metadata": {},
   "source": [
    "Основываясь на исследовательском анализе данных и выделенных потенциально весомых признаках, влияющих на отток клиентов, сформулируем и проверим различные статистические гипотезы. Примем за уровень статистической значимости стандартное значение 0.05 - вероятность совершить ошибку первого рода, т.е. вероятность отклонить нулевую гипотезу, если она истинна составляет 5%. Для удобства проверки напишем функцию, которую далее будем применять для проверки всех гипотез."
   ]
  },
  {
   "cell_type": "code",
   "execution_count": 31,
   "metadata": {},
   "outputs": [],
   "source": [
    "alpha = 0.05"
   ]
  },
  {
   "cell_type": "code",
   "execution_count": 32,
   "metadata": {},
   "outputs": [],
   "source": [
    "def hypothesis_check (column):\n",
    "    column_stay = df[df['churn']==0][column]\n",
    "    column_leave = df[df['churn']==1][column]\n",
    "    results = st.ttest_ind(\n",
    "    column_stay,\n",
    "    column_leave)\n",
    "    result = print('p-значение:', results.pvalue)\n",
    "    if results.pvalue < alpha:\n",
    "        print(\"Отвергаем нулевую гипотезу\")  \n",
    "    else:\n",
    "        print(\"Не получилось отвергнуть нулевую гипотезу\")\n",
    "    return result"
   ]
  },
  {
   "cell_type": "markdown",
   "metadata": {},
   "source": [
    "### Проверка гипотезы о различии между средним доходом клиентов, которые ушли и теми, кто остался."
   ]
  },
  {
   "cell_type": "markdown",
   "metadata": {},
   "source": [
    "Сформулируем нулевую и альтернативную гипотезы:  \n",
    "\n",
    "Нулевая гипотеза - средняя заработная плата ушедших клиентов и оставшихся одинакова.  \n",
    "Альтернативная гипотеза - между средней заработной платой ушедших клиентов и оставшихся есть значимая разница."
   ]
  },
  {
   "cell_type": "code",
   "execution_count": 33,
   "metadata": {},
   "outputs": [
    {
     "name": "stdout",
     "output_type": "stream",
     "text": [
      "p-значение: 0.22644042802223352\n",
      "Не получилось отвергнуть нулевую гипотезу\n"
     ]
    }
   ],
   "source": [
    "hypothesis_check ('estimated_salary')"
   ]
  },
  {
   "cell_type": "markdown",
   "metadata": {},
   "source": [
    "Выводы:  \n",
    "\n",
    "Чем выше p-value, тем скорее отклонение нулевой гипотезы будет ошибочным.  \n",
    "\n",
    "Значение p-value значительно выше критического уровня статистической значимости (0.05).  \n",
    "Исходя из результатов теста по определению статистической значимости различий между группой ушедших и группой оставшихся клиентов, у нас нет оснований считать среднюю заработную плату этих групп разной. "
   ]
  },
  {
   "cell_type": "markdown",
   "metadata": {},
   "source": [
    "### Проверка иных гипотез, способных помочь в решении поставленных задач."
   ]
  },
  {
   "cell_type": "markdown",
   "metadata": {},
   "source": [
    "Далее мы проверим еще 4 гипотезы, используя выделенные признаки на этапе исследовательского анализа данных:  \n",
    "   * Гипотеза о различии среднего возраста ушедших и оставшихся клиентов;    \n",
    "   * Гипотеза о разнице долей активных клиентов в группах ушедших и оставшихся клиентов;  \n",
    "   * Гипотеза о разнице долей мужчин в группах ушедших и оставшихся клиентов;  \n",
    "   * Гипотеза о разнице среднего количества продуктов ушедших и оставшихся клиентов;\n",
    "   "
   ]
  },
  {
   "cell_type": "markdown",
   "metadata": {},
   "source": [
    "**Сформулируем нулевую и альтернативную гипотезы для признака возраста:**  \n",
    "\n",
    "Нулевая гипотеза - средний возраст ушедших клиентов и оставшихся одинаков.  \n",
    "Альтернативная гипотеза - между средним возрастом ушедших клиентов и оставшихся есть значимая разница."
   ]
  },
  {
   "cell_type": "code",
   "execution_count": 34,
   "metadata": {},
   "outputs": [
    {
     "name": "stdout",
     "output_type": "stream",
     "text": [
      "p-значение: 1.2399313093427738e-186\n",
      "Отвергаем нулевую гипотезу\n"
     ]
    }
   ],
   "source": [
    "hypothesis_check ('age')"
   ]
  },
  {
   "cell_type": "markdown",
   "metadata": {},
   "source": [
    "Значение p-value ниже критического уровня статистической значимости (0.05).    \n",
    "Исходя из результатов теста по определению статистической значимости различий между группой ушедших и группой оставшихся клиентов, у нас есть основания считать средний возраст в этих групп разным. "
   ]
  },
  {
   "cell_type": "markdown",
   "metadata": {},
   "source": [
    "**Сформулируем нулевую и альтернативную гипотезы для признака активности клиента:**  \n",
    "\n",
    "Нулевая гипотеза - доли активных клиентов в группах ушедших и оставшихся клиентов одинаковы.  \n",
    "Альтернативная гипотеза - между долями активных клиентов в группах ушедших и оставшихся клиентов есть значимая разница."
   ]
  },
  {
   "cell_type": "code",
   "execution_count": 35,
   "metadata": {},
   "outputs": [
    {
     "name": "stdout",
     "output_type": "stream",
     "text": [
      "p-значение: 1.348268516485762e-55\n",
      "Отвергаем нулевую гипотезу\n"
     ]
    }
   ],
   "source": [
    "hypothesis_check ('loyalty')"
   ]
  },
  {
   "cell_type": "markdown",
   "metadata": {},
   "source": [
    "Значение p-value ниже критического уровня статистической значимости (0.05).    \n",
    "Исходя из результатов теста по определению статистической значимости различий между группой ушедших и группой оставшихся клиентов, у нас есть основания считать доли активных клиентов в этих групп разными. "
   ]
  },
  {
   "cell_type": "markdown",
   "metadata": {},
   "source": [
    "**Сформулируем нулевую и альтернативную гипотезы для признака пола клиента:**  \n",
    "\n",
    "Нулевая гипотеза - доли мужчин в группах ушедших и оставшихся клиентов одинаковы.  \n",
    "Альтернативная гипотеза - между долями мужчин в группах ушедших и оставшихся клиентов есть значимая разница."
   ]
  },
  {
   "cell_type": "code",
   "execution_count": 36,
   "metadata": {},
   "outputs": [
    {
     "name": "stdout",
     "output_type": "stream",
     "text": [
      "p-значение: 1.2585045636809457e-26\n",
      "Отвергаем нулевую гипотезу\n"
     ]
    }
   ],
   "source": [
    "hypothesis_check ('gender')"
   ]
  },
  {
   "cell_type": "markdown",
   "metadata": {},
   "source": [
    "Значение p-value ниже критического уровня статистической значимости (0.05).    \n",
    "Исходя из результатов теста по определению статистической значимости различий между группой ушедших и группой оставшихся клиентов, у нас есть основания считать доли мужчин в этих групп разными. "
   ]
  },
  {
   "cell_type": "markdown",
   "metadata": {},
   "source": [
    "**Сформулируем нулевую и альтернативную гипотезы для количества продуктов у клиентов:**  \n",
    "\n",
    "Нулевая гипотеза - среднее количество продуктов ушедших клиентов и оставшихся одинаково.  \n",
    "Альтернативная гипотеза - между средним количеством продуктов ушедших клиентов и оставшихся есть значимая разница."
   ]
  },
  {
   "cell_type": "code",
   "execution_count": 37,
   "metadata": {},
   "outputs": [
    {
     "name": "stdout",
     "output_type": "stream",
     "text": [
      "p-значение: 1.717333004804293e-06\n",
      "Отвергаем нулевую гипотезу\n"
     ]
    }
   ],
   "source": [
    "hypothesis_check ('products')"
   ]
  },
  {
   "cell_type": "markdown",
   "metadata": {},
   "source": [
    "Значение p-value ниже критического уровня статистической значимости (0.05).    \n",
    "Исходя из результатов теста по определению статистической значимости различий между группой ушедших и группой оставшихся клиентов, у нас есть основания считать среднее количество продуктов у клиентов в этих групп разным. "
   ]
  },
  {
   "cell_type": "markdown",
   "metadata": {},
   "source": [
    "### Выводы по этапу проверки гипотез."
   ]
  },
  {
   "cell_type": "markdown",
   "metadata": {},
   "source": [
    "Были сформулированы и проверены 5 статистических гипотез, по итогам которых было выявлено:\n",
    "  * у нас нет оснований считать среднюю заработную плату в группе ушедших и оставшихся клиентов разной;\n",
    "  * по итогам проверки гипотезы о различии среднего возраста ушедших и оставшихся клиентов, мы получили значение, которое дает основание считать, что средний возраст в этих двух группах различается;\n",
    "  * по итогам проверки гипотезы о разнице долей активных клиентов в группах ушедших и оставшихся клиентов, мы получили результат, который дает основание считать, что доли активных клиентов в этих двух группах различаются;\n",
    "  * по итогам проверки гипотезы о разнице долей мужчин в группах ушедших и оставшихся клиентов, мы получили результат, который дает основание считать, что доли мужчин в этих двух группах различаются;\n",
    "  * по итогам проверки гипотезы о разнице среднего количества продуктов в группах ушедших и оставшихся клиентов, мы получили результат, который дает основание считать, что между средним количеством продуктов ушедших клиентов и оставшихся есть значимая разница.\n",
    "    "
   ]
  },
  {
   "cell_type": "markdown",
   "metadata": {},
   "source": [
    "## Выводы и рекомендации по снижению оттока клиентов."
   ]
  },
  {
   "cell_type": "markdown",
   "metadata": {},
   "source": [
    "**Общие выводы:**\n",
    "* В представленном датасете была проведена предобработка данных, включающая:\n",
    "  * Проверку названий колонок и типа данных в столбцах;\n",
    "  * Анализ данных на предмет наличия дубликатов;\n",
    "  * Поиск пропусков и аномальных значений;\n",
    "  * Поиск и обработка пропущенных значений.\n",
    "  \n",
    "\n",
    "* Следующим этапом был произведен исследовательский анализ данных, по результатам которого выделены ключевые признаки клиентов способные оказывать влияние на их отток:\n",
    "  * В городе Ростов Великий есть проблемы из-за высокого уровня оттока клиентов;\n",
    "  * Возраст - люди старше 40 лет больше склонны к уходу;    \n",
    "  * Активность клиента - активные клиенты реже попадают в группу ушедших;      \n",
    "  * Пол - женщины чаще покидают Банк;\n",
    "  * Клиенты пользующиеся большим количеством продуктов банка реже попадают в отток.\n",
    "  \n",
    "  \n",
    "* Третий этап представлял проверку гипотез:\n",
    "  * Нет оснований считать среднюю заработную плату в группе ушедших и оставшихся клиентов разной;\n",
    "  * **По итогам проверки гипотезы о различии среднего возраста ушедших и оставшихся клиентов, мы получили результат, который дает основание считать, что средний возраст в этих двух группах различается;**\n",
    "  * **По итогам проверки гипотезы о разнице долей активных клиентов в группах ушедших и оставшихся клиентов, мы получили результат, который дает основание считать, что доли активных клиентов в этих двух группах различаются;**\n",
    "  * **По итогам проверки гипотезы о разнице долей мужчин в группах ушедших и оставшихся клиентов, мы получили результат, который дает основание считать, что доли мужчин в этих двух группах различаются;**\n",
    "  * **По итогам проверки гипотезы о разнице среднего количества продуктов в группах ушедших и оставшихся клиентов, мы получили результат, который дает основание считать, что между средним количеством продуктов ушедших клиентов и оставшихся есть значимая разница.**"
   ]
  },
  {
   "cell_type": "markdown",
   "metadata": {},
   "source": [
    "**Рекомендации по снижению оттока клиентов:**"
   ]
  },
  {
   "cell_type": "markdown",
   "metadata": {},
   "source": [
    " 1) В городе Ростов Великий был обнаружен высокий уровень оттока клиентов. Возможно, это связано с грубым, бестактным обслуживанием клиентов. Предлагаю провести анонимный опрос с целью выявить недобросовестных менеджеров;  \n",
    " \n",
    " 2) Клиенты до 40 лет реже уходят из Банка и наоборот, возрастные клиенты чаще попадают в отток. Можно предположить, что это происходит из-за сложностей взаимодействия возрастных пользователей с мобильным клиент-Банком или трудностями посещения отделений Банка. Предлагаю оптимизировать мобильное приложение, сделать его более доступным и понятным, а также увеличить качество обслуживания в офисах Банка, например, уменьшить время ожидания клиентов в очереди;   \n",
    " \n",
    " 3) Активные клиенты Банка реже попадают в отток, что логично. Возможно, это происходит из-за плохой обратной связи с клиентом. Рекомендую предлагать неактивным клиентам выгодные и интересные продукты, а также узнавать уровень удовлетворенности обслуживанием путем телефонных звонков, либо через e-mail рассылку;   \n",
    " \n",
    " 4) Было выявлено, что женщины чаще уходят из Банка, чем мужчины. Можно предположить, что это связано с низким уровнем спецпредложений для женщин. Предлагаю разделить категории повышенного кэшбека по картам для мужчин и женщин, например, женщинам предлагать выбор из категорий: салоны красоты и спа, фитнес центры, супермаркеты, кафе и рестораны, товары для дома, искусство, одежда и обувь, развлечения;   \n",
    " \n",
    " 5) Клиенты, которые пользуются двумя продуктами Банка реже попадают в отток, чем те, кто пользуется одним продуктом. Предположим, что клиенту не хватает выгодных условий по какой-либо услуге. Как правило, одним из продуктов у клиента является банковская карточка (дебетовая/кредитная). Предлагаю улучшить процентные ставки по депозитам - это позволит удержать клиентов и добавить многим еще один продукт в использовании.  \n",
    " "
   ]
  },
  {
   "cell_type": "markdown",
   "metadata": {},
   "source": [
    "Презентация: https://drive.google.com/file/d/1ISa92rRpsm21evQOuq1lsx50uhiuqwhy/view?usp=sharing"
   ]
  },
  {
   "cell_type": "markdown",
   "metadata": {},
   "source": [
    "Дашборд: https://public.tableau.com/app/profile/paul.p3293/viz/Metanprombank_customer/Dashboard1"
   ]
  },
  {
   "cell_type": "code",
   "execution_count": null,
   "metadata": {},
   "outputs": [],
   "source": []
  }
 ],
 "metadata": {
  "ExecuteTimeLog": [
   {
    "duration": 70,
    "start_time": "2022-10-10T12:35:09.679Z"
   },
   {
    "duration": 1408,
    "start_time": "2022-10-10T16:37:10.098Z"
   },
   {
    "duration": 156,
    "start_time": "2022-10-10T16:38:37.891Z"
   },
   {
    "duration": 16,
    "start_time": "2022-10-10T16:39:05.871Z"
   },
   {
    "duration": 15,
    "start_time": "2022-10-10T16:39:10.830Z"
   },
   {
    "duration": 3,
    "start_time": "2022-10-10T16:39:40.167Z"
   },
   {
    "duration": 5,
    "start_time": "2022-10-10T16:40:21.686Z"
   },
   {
    "duration": 11,
    "start_time": "2022-10-10T16:40:25.505Z"
   },
   {
    "duration": 12,
    "start_time": "2022-10-10T16:40:38.738Z"
   },
   {
    "duration": 13,
    "start_time": "2022-10-10T16:40:59.213Z"
   },
   {
    "duration": 92,
    "start_time": "2022-10-10T16:52:34.028Z"
   },
   {
    "duration": 9,
    "start_time": "2022-10-10T16:52:37.046Z"
   },
   {
    "duration": 9,
    "start_time": "2022-10-10T16:52:42.619Z"
   },
   {
    "duration": 8,
    "start_time": "2022-10-10T16:52:46.414Z"
   },
   {
    "duration": 9,
    "start_time": "2022-10-10T16:52:49.218Z"
   },
   {
    "duration": 9,
    "start_time": "2022-10-10T16:52:56.108Z"
   },
   {
    "duration": 4,
    "start_time": "2022-10-10T16:52:58.493Z"
   },
   {
    "duration": 8,
    "start_time": "2022-10-10T16:53:09.214Z"
   },
   {
    "duration": 3,
    "start_time": "2022-10-10T16:53:14.984Z"
   },
   {
    "duration": 18,
    "start_time": "2022-10-10T16:53:18.507Z"
   },
   {
    "duration": 19,
    "start_time": "2022-10-10T16:53:53.798Z"
   },
   {
    "duration": 20,
    "start_time": "2022-10-10T16:54:22.566Z"
   },
   {
    "duration": 18,
    "start_time": "2022-10-10T16:54:25.449Z"
   },
   {
    "duration": 5,
    "start_time": "2022-10-10T16:54:40.749Z"
   },
   {
    "duration": 18,
    "start_time": "2022-10-10T16:54:42.350Z"
   },
   {
    "duration": 3,
    "start_time": "2022-10-10T16:55:05.700Z"
   },
   {
    "duration": 18,
    "start_time": "2022-10-10T16:55:06.311Z"
   },
   {
    "duration": 12,
    "start_time": "2022-10-10T16:57:36.912Z"
   },
   {
    "duration": 10,
    "start_time": "2022-10-10T16:58:05.191Z"
   },
   {
    "duration": 95,
    "start_time": "2022-10-10T16:59:00.167Z"
   },
   {
    "duration": 6,
    "start_time": "2022-10-10T17:00:06.703Z"
   },
   {
    "duration": 5,
    "start_time": "2022-10-10T17:00:41.319Z"
   },
   {
    "duration": 12,
    "start_time": "2022-10-10T17:03:22.798Z"
   },
   {
    "duration": 10,
    "start_time": "2022-10-10T17:19:11.086Z"
   },
   {
    "duration": 9,
    "start_time": "2022-10-10T17:19:15.422Z"
   },
   {
    "duration": 92,
    "start_time": "2022-10-10T17:21:45.384Z"
   },
   {
    "duration": 81,
    "start_time": "2022-10-10T17:21:55.085Z"
   },
   {
    "duration": 76,
    "start_time": "2022-10-10T17:52:18.933Z"
   },
   {
    "duration": 167,
    "start_time": "2022-10-10T17:52:45.417Z"
   },
   {
    "duration": 1168,
    "start_time": "2022-10-10T17:53:27.467Z"
   },
   {
    "duration": 164,
    "start_time": "2022-10-10T17:53:43.456Z"
   },
   {
    "duration": 9,
    "start_time": "2022-10-10T17:54:00.536Z"
   },
   {
    "duration": 218,
    "start_time": "2022-10-10T17:55:27.330Z"
   },
   {
    "duration": 169,
    "start_time": "2022-10-10T17:55:36.790Z"
   },
   {
    "duration": 266,
    "start_time": "2022-10-10T17:55:41.519Z"
   },
   {
    "duration": 8,
    "start_time": "2022-10-10T17:56:26.376Z"
   },
   {
    "duration": 197,
    "start_time": "2022-10-10T17:59:27.937Z"
   },
   {
    "duration": 5,
    "start_time": "2022-10-10T17:59:46.576Z"
   },
   {
    "duration": 8,
    "start_time": "2022-10-10T17:59:56.374Z"
   },
   {
    "duration": 180,
    "start_time": "2022-10-10T18:00:03.241Z"
   },
   {
    "duration": 182,
    "start_time": "2022-10-10T18:00:08.739Z"
   },
   {
    "duration": 178,
    "start_time": "2022-10-10T18:02:46.757Z"
   },
   {
    "duration": 154,
    "start_time": "2022-10-10T18:03:08.476Z"
   },
   {
    "duration": 8,
    "start_time": "2022-10-10T18:03:28.957Z"
   },
   {
    "duration": 148,
    "start_time": "2022-10-10T18:05:33.001Z"
   },
   {
    "duration": 160,
    "start_time": "2022-10-10T18:05:50.673Z"
   },
   {
    "duration": 194,
    "start_time": "2022-10-10T18:05:57.288Z"
   },
   {
    "duration": 194,
    "start_time": "2022-10-10T18:05:59.925Z"
   },
   {
    "duration": 367,
    "start_time": "2022-10-10T18:06:04.905Z"
   },
   {
    "duration": 159,
    "start_time": "2022-10-10T18:06:21.373Z"
   },
   {
    "duration": 212,
    "start_time": "2022-10-10T18:06:24.216Z"
   },
   {
    "duration": 259,
    "start_time": "2022-10-10T18:06:41.638Z"
   },
   {
    "duration": 247,
    "start_time": "2022-10-10T18:07:20.733Z"
   },
   {
    "duration": 9,
    "start_time": "2022-10-10T18:07:37.735Z"
   },
   {
    "duration": 19,
    "start_time": "2022-10-10T18:08:52.242Z"
   },
   {
    "duration": 9,
    "start_time": "2022-10-10T18:09:03.841Z"
   },
   {
    "duration": 9,
    "start_time": "2022-10-10T18:09:11.444Z"
   },
   {
    "duration": 6,
    "start_time": "2022-10-10T18:09:51.853Z"
   },
   {
    "duration": 5,
    "start_time": "2022-10-10T18:10:25.905Z"
   },
   {
    "duration": 16,
    "start_time": "2022-10-10T18:16:29.303Z"
   },
   {
    "duration": 7,
    "start_time": "2022-10-10T18:16:42.171Z"
   },
   {
    "duration": 4,
    "start_time": "2022-10-12T09:50:42.548Z"
   },
   {
    "duration": 47,
    "start_time": "2022-10-12T09:51:25.131Z"
   },
   {
    "duration": 1399,
    "start_time": "2022-10-12T09:51:33.997Z"
   },
   {
    "duration": 141,
    "start_time": "2022-10-12T09:51:35.398Z"
   },
   {
    "duration": 17,
    "start_time": "2022-10-12T09:51:35.540Z"
   },
   {
    "duration": 13,
    "start_time": "2022-10-12T09:51:35.558Z"
   },
   {
    "duration": 7,
    "start_time": "2022-10-12T09:51:35.573Z"
   },
   {
    "duration": 7,
    "start_time": "2022-10-12T09:51:35.581Z"
   },
   {
    "duration": 19,
    "start_time": "2022-10-12T09:51:35.589Z"
   },
   {
    "duration": 10,
    "start_time": "2022-10-12T09:51:35.609Z"
   },
   {
    "duration": 4,
    "start_time": "2022-10-12T09:51:35.621Z"
   },
   {
    "duration": 14,
    "start_time": "2022-10-12T09:51:35.627Z"
   },
   {
    "duration": 226,
    "start_time": "2022-10-12T09:51:35.643Z"
   },
   {
    "duration": 5,
    "start_time": "2022-10-12T09:51:35.871Z"
   },
   {
    "duration": 206,
    "start_time": "2022-10-12T09:51:35.878Z"
   },
   {
    "duration": 16,
    "start_time": "2022-10-12T09:51:36.087Z"
   },
   {
    "duration": 253,
    "start_time": "2022-10-12T09:51:36.105Z"
   },
   {
    "duration": 281,
    "start_time": "2022-10-12T09:51:36.360Z"
   },
   {
    "duration": 9,
    "start_time": "2022-10-12T09:51:36.643Z"
   },
   {
    "duration": 30,
    "start_time": "2022-10-12T09:51:36.653Z"
   },
   {
    "duration": 31,
    "start_time": "2022-10-12T09:51:36.684Z"
   },
   {
    "duration": 56,
    "start_time": "2022-10-12T09:51:36.717Z"
   },
   {
    "duration": 38,
    "start_time": "2022-10-12T09:52:39.128Z"
   },
   {
    "duration": 125,
    "start_time": "2022-10-12T09:54:29.144Z"
   },
   {
    "duration": 39,
    "start_time": "2022-10-12T09:54:41.318Z"
   },
   {
    "duration": 20,
    "start_time": "2022-10-12T09:55:24.489Z"
   },
   {
    "duration": 40,
    "start_time": "2022-10-12T09:56:01.430Z"
   },
   {
    "duration": 9,
    "start_time": "2022-10-12T10:13:30.476Z"
   },
   {
    "duration": 3,
    "start_time": "2022-10-12T10:13:56.847Z"
   },
   {
    "duration": 7,
    "start_time": "2022-10-12T10:14:08.790Z"
   },
   {
    "duration": 1184,
    "start_time": "2022-10-12T10:14:15.394Z"
   },
   {
    "duration": 38,
    "start_time": "2022-10-12T10:14:16.580Z"
   },
   {
    "duration": 15,
    "start_time": "2022-10-12T10:14:16.620Z"
   },
   {
    "duration": 46,
    "start_time": "2022-10-12T10:14:16.636Z"
   },
   {
    "duration": 17,
    "start_time": "2022-10-12T10:14:16.685Z"
   },
   {
    "duration": 20,
    "start_time": "2022-10-12T10:14:16.704Z"
   },
   {
    "duration": 39,
    "start_time": "2022-10-12T10:14:16.726Z"
   },
   {
    "duration": 32,
    "start_time": "2022-10-12T10:14:16.767Z"
   },
   {
    "duration": 19,
    "start_time": "2022-10-12T10:14:16.801Z"
   },
   {
    "duration": 37,
    "start_time": "2022-10-12T10:14:16.822Z"
   },
   {
    "duration": 14,
    "start_time": "2022-10-12T10:14:16.861Z"
   },
   {
    "duration": 32,
    "start_time": "2022-10-12T10:14:16.877Z"
   },
   {
    "duration": 211,
    "start_time": "2022-10-12T10:14:16.911Z"
   },
   {
    "duration": 7,
    "start_time": "2022-10-12T10:14:17.125Z"
   },
   {
    "duration": 223,
    "start_time": "2022-10-12T10:14:17.133Z"
   },
   {
    "duration": 10,
    "start_time": "2022-10-12T10:14:17.358Z"
   },
   {
    "duration": 261,
    "start_time": "2022-10-12T10:14:17.370Z"
   },
   {
    "duration": 295,
    "start_time": "2022-10-12T10:14:17.633Z"
   },
   {
    "duration": 9,
    "start_time": "2022-10-12T10:14:17.929Z"
   },
   {
    "duration": 6,
    "start_time": "2022-10-12T10:14:17.940Z"
   },
   {
    "duration": 7,
    "start_time": "2022-10-12T10:14:17.948Z"
   },
   {
    "duration": 68,
    "start_time": "2022-10-12T10:14:17.956Z"
   },
   {
    "duration": 18,
    "start_time": "2022-10-12T10:14:18.026Z"
   },
   {
    "duration": 1109,
    "start_time": "2022-10-12T10:14:45.526Z"
   },
   {
    "duration": 44,
    "start_time": "2022-10-12T10:14:46.637Z"
   },
   {
    "duration": 19,
    "start_time": "2022-10-12T10:14:46.682Z"
   },
   {
    "duration": 19,
    "start_time": "2022-10-12T10:14:46.702Z"
   },
   {
    "duration": 3,
    "start_time": "2022-10-12T10:14:46.723Z"
   },
   {
    "duration": 6,
    "start_time": "2022-10-12T10:14:46.728Z"
   },
   {
    "duration": 20,
    "start_time": "2022-10-12T10:14:46.735Z"
   },
   {
    "duration": 15,
    "start_time": "2022-10-12T10:14:46.757Z"
   },
   {
    "duration": 26,
    "start_time": "2022-10-12T10:14:46.774Z"
   },
   {
    "duration": 19,
    "start_time": "2022-10-12T10:14:46.802Z"
   },
   {
    "duration": 10,
    "start_time": "2022-10-12T10:14:46.824Z"
   },
   {
    "duration": 6,
    "start_time": "2022-10-12T10:14:46.836Z"
   },
   {
    "duration": 253,
    "start_time": "2022-10-12T10:14:46.844Z"
   },
   {
    "duration": 7,
    "start_time": "2022-10-12T10:14:47.100Z"
   },
   {
    "duration": 207,
    "start_time": "2022-10-12T10:14:47.108Z"
   },
   {
    "duration": 8,
    "start_time": "2022-10-12T10:14:47.317Z"
   },
   {
    "duration": 236,
    "start_time": "2022-10-12T10:14:47.326Z"
   },
   {
    "duration": 266,
    "start_time": "2022-10-12T10:14:47.564Z"
   },
   {
    "duration": 9,
    "start_time": "2022-10-12T10:14:47.833Z"
   },
   {
    "duration": 7,
    "start_time": "2022-10-12T10:14:47.844Z"
   },
   {
    "duration": 7,
    "start_time": "2022-10-12T10:14:47.853Z"
   },
   {
    "duration": 69,
    "start_time": "2022-10-12T10:14:47.861Z"
   },
   {
    "duration": 18,
    "start_time": "2022-10-12T10:14:47.932Z"
   },
   {
    "duration": 2,
    "start_time": "2022-10-12T10:26:10.152Z"
   },
   {
    "duration": 15,
    "start_time": "2022-10-12T10:29:06.577Z"
   },
   {
    "duration": 16,
    "start_time": "2022-10-12T10:29:17.264Z"
   },
   {
    "duration": 21,
    "start_time": "2022-10-12T10:29:50.453Z"
   },
   {
    "duration": 10,
    "start_time": "2022-10-12T10:52:19.584Z"
   },
   {
    "duration": 875,
    "start_time": "2022-10-12T11:11:12.874Z"
   },
   {
    "duration": 11,
    "start_time": "2022-10-12T11:13:34.394Z"
   },
   {
    "duration": 6,
    "start_time": "2022-10-12T11:14:53.298Z"
   },
   {
    "duration": 1545,
    "start_time": "2022-10-12T11:35:00.073Z"
   },
   {
    "duration": 1668,
    "start_time": "2022-10-12T11:38:44.226Z"
   },
   {
    "duration": 1106,
    "start_time": "2022-10-12T11:46:34.858Z"
   },
   {
    "duration": 1036,
    "start_time": "2022-10-12T11:46:55.198Z"
   },
   {
    "duration": 1135,
    "start_time": "2022-10-12T11:47:18.479Z"
   },
   {
    "duration": 72,
    "start_time": "2022-10-12T18:01:03.601Z"
   },
   {
    "duration": 8,
    "start_time": "2022-10-13T09:31:44.000Z"
   },
   {
    "duration": 4,
    "start_time": "2022-10-13T09:32:31.810Z"
   },
   {
    "duration": 88,
    "start_time": "2022-10-13T09:34:11.702Z"
   },
   {
    "duration": 119,
    "start_time": "2022-10-13T09:34:16.775Z"
   },
   {
    "duration": 1237,
    "start_time": "2022-10-13T09:34:25.333Z"
   },
   {
    "duration": 165,
    "start_time": "2022-10-13T09:34:26.572Z"
   },
   {
    "duration": 16,
    "start_time": "2022-10-13T09:34:26.739Z"
   },
   {
    "duration": 10,
    "start_time": "2022-10-13T09:34:26.758Z"
   },
   {
    "duration": 3,
    "start_time": "2022-10-13T09:34:26.770Z"
   },
   {
    "duration": 13,
    "start_time": "2022-10-13T09:34:26.774Z"
   },
   {
    "duration": 18,
    "start_time": "2022-10-13T09:34:26.788Z"
   },
   {
    "duration": 8,
    "start_time": "2022-10-13T09:34:26.808Z"
   },
   {
    "duration": 3,
    "start_time": "2022-10-13T09:34:26.818Z"
   },
   {
    "duration": 12,
    "start_time": "2022-10-13T09:34:26.823Z"
   },
   {
    "duration": 6,
    "start_time": "2022-10-13T09:34:26.836Z"
   },
   {
    "duration": 8,
    "start_time": "2022-10-13T09:34:26.843Z"
   },
   {
    "duration": 223,
    "start_time": "2022-10-13T09:34:26.853Z"
   },
   {
    "duration": 10,
    "start_time": "2022-10-13T09:34:27.080Z"
   },
   {
    "duration": 226,
    "start_time": "2022-10-13T09:34:27.091Z"
   },
   {
    "duration": 8,
    "start_time": "2022-10-13T09:34:27.319Z"
   },
   {
    "duration": 222,
    "start_time": "2022-10-13T09:34:27.329Z"
   },
   {
    "duration": 243,
    "start_time": "2022-10-13T09:34:27.553Z"
   },
   {
    "duration": 11,
    "start_time": "2022-10-13T09:34:27.798Z"
   },
   {
    "duration": 16,
    "start_time": "2022-10-13T09:34:27.810Z"
   },
   {
    "duration": 9,
    "start_time": "2022-10-13T09:34:27.828Z"
   },
   {
    "duration": 48,
    "start_time": "2022-10-13T09:34:27.838Z"
   },
   {
    "duration": 16,
    "start_time": "2022-10-13T09:34:27.888Z"
   },
   {
    "duration": 21,
    "start_time": "2022-10-13T09:34:27.906Z"
   },
   {
    "duration": 8,
    "start_time": "2022-10-13T09:34:27.928Z"
   },
   {
    "duration": 861,
    "start_time": "2022-10-13T09:34:27.938Z"
   },
   {
    "duration": 9,
    "start_time": "2022-10-13T09:34:28.801Z"
   },
   {
    "duration": 4,
    "start_time": "2022-10-13T09:34:28.812Z"
   },
   {
    "duration": 1529,
    "start_time": "2022-10-13T09:34:28.817Z"
   },
   {
    "duration": 1155,
    "start_time": "2022-10-13T09:34:30.347Z"
   },
   {
    "duration": 3,
    "start_time": "2022-10-13T09:34:31.504Z"
   },
   {
    "duration": 19,
    "start_time": "2022-10-13T09:34:31.508Z"
   },
   {
    "duration": 76,
    "start_time": "2022-10-13T09:34:31.528Z"
   },
   {
    "duration": 101,
    "start_time": "2022-10-13T09:35:30.708Z"
   },
   {
    "duration": 3,
    "start_time": "2022-10-13T09:36:06.194Z"
   },
   {
    "duration": 1184,
    "start_time": "2022-10-13T09:36:11.436Z"
   },
   {
    "duration": 37,
    "start_time": "2022-10-13T09:36:12.622Z"
   },
   {
    "duration": 15,
    "start_time": "2022-10-13T09:36:12.661Z"
   },
   {
    "duration": 11,
    "start_time": "2022-10-13T09:36:12.678Z"
   },
   {
    "duration": 3,
    "start_time": "2022-10-13T09:36:12.690Z"
   },
   {
    "duration": 7,
    "start_time": "2022-10-13T09:36:12.694Z"
   },
   {
    "duration": 17,
    "start_time": "2022-10-13T09:36:12.702Z"
   },
   {
    "duration": 9,
    "start_time": "2022-10-13T09:36:12.720Z"
   },
   {
    "duration": 4,
    "start_time": "2022-10-13T09:36:12.730Z"
   },
   {
    "duration": 11,
    "start_time": "2022-10-13T09:36:12.736Z"
   },
   {
    "duration": 6,
    "start_time": "2022-10-13T09:36:12.748Z"
   },
   {
    "duration": 34,
    "start_time": "2022-10-13T09:36:12.756Z"
   },
   {
    "duration": 224,
    "start_time": "2022-10-13T09:36:12.793Z"
   },
   {
    "duration": 6,
    "start_time": "2022-10-13T09:36:13.019Z"
   },
   {
    "duration": 178,
    "start_time": "2022-10-13T09:36:13.027Z"
   },
   {
    "duration": 8,
    "start_time": "2022-10-13T09:36:13.206Z"
   },
   {
    "duration": 229,
    "start_time": "2022-10-13T09:36:13.215Z"
   },
   {
    "duration": 247,
    "start_time": "2022-10-13T09:36:13.445Z"
   },
   {
    "duration": 7,
    "start_time": "2022-10-13T09:36:13.694Z"
   },
   {
    "duration": 45,
    "start_time": "2022-10-13T09:36:13.703Z"
   },
   {
    "duration": 42,
    "start_time": "2022-10-13T09:36:13.750Z"
   },
   {
    "duration": 72,
    "start_time": "2022-10-13T09:36:13.794Z"
   },
   {
    "duration": 17,
    "start_time": "2022-10-13T09:36:13.868Z"
   },
   {
    "duration": 25,
    "start_time": "2022-10-13T09:36:13.886Z"
   },
   {
    "duration": 23,
    "start_time": "2022-10-13T09:36:13.912Z"
   },
   {
    "duration": 851,
    "start_time": "2022-10-13T09:36:13.936Z"
   },
   {
    "duration": 10,
    "start_time": "2022-10-13T09:36:14.789Z"
   },
   {
    "duration": 4,
    "start_time": "2022-10-13T09:36:14.802Z"
   },
   {
    "duration": 1475,
    "start_time": "2022-10-13T09:36:14.808Z"
   },
   {
    "duration": 1120,
    "start_time": "2022-10-13T09:36:16.285Z"
   },
   {
    "duration": 3,
    "start_time": "2022-10-13T09:36:17.407Z"
   },
   {
    "duration": 10,
    "start_time": "2022-10-13T09:36:17.412Z"
   },
   {
    "duration": 8,
    "start_time": "2022-10-13T09:36:17.424Z"
   },
   {
    "duration": 2,
    "start_time": "2022-10-13T09:53:21.302Z"
   },
   {
    "duration": 7,
    "start_time": "2022-10-13T10:03:27.325Z"
   },
   {
    "duration": 8,
    "start_time": "2022-10-13T10:12:07.023Z"
   },
   {
    "duration": 6,
    "start_time": "2022-10-13T10:14:27.883Z"
   },
   {
    "duration": 6,
    "start_time": "2022-10-13T10:18:04.533Z"
   },
   {
    "duration": 6,
    "start_time": "2022-10-13T10:23:51.472Z"
   },
   {
    "duration": 44,
    "start_time": "2022-10-14T13:51:21.711Z"
   },
   {
    "duration": 1219,
    "start_time": "2022-10-14T13:51:27.633Z"
   },
   {
    "duration": 161,
    "start_time": "2022-10-14T13:51:28.853Z"
   },
   {
    "duration": 17,
    "start_time": "2022-10-14T13:51:29.015Z"
   },
   {
    "duration": 12,
    "start_time": "2022-10-14T13:51:29.034Z"
   },
   {
    "duration": 22,
    "start_time": "2022-10-14T13:51:29.048Z"
   },
   {
    "duration": 17,
    "start_time": "2022-10-14T13:51:29.072Z"
   },
   {
    "duration": 25,
    "start_time": "2022-10-14T13:51:29.091Z"
   },
   {
    "duration": 11,
    "start_time": "2022-10-14T13:51:29.118Z"
   },
   {
    "duration": 4,
    "start_time": "2022-10-14T13:51:29.131Z"
   },
   {
    "duration": 34,
    "start_time": "2022-10-14T13:51:29.137Z"
   },
   {
    "duration": 24,
    "start_time": "2022-10-14T13:51:29.173Z"
   },
   {
    "duration": 18,
    "start_time": "2022-10-14T13:51:29.199Z"
   },
   {
    "duration": 186,
    "start_time": "2022-10-14T13:51:29.219Z"
   },
   {
    "duration": 6,
    "start_time": "2022-10-14T13:51:29.408Z"
   },
   {
    "duration": 176,
    "start_time": "2022-10-14T13:51:29.415Z"
   },
   {
    "duration": 9,
    "start_time": "2022-10-14T13:51:29.592Z"
   },
   {
    "duration": 230,
    "start_time": "2022-10-14T13:51:29.602Z"
   },
   {
    "duration": 252,
    "start_time": "2022-10-14T13:51:29.835Z"
   },
   {
    "duration": 8,
    "start_time": "2022-10-14T13:51:30.089Z"
   },
   {
    "duration": 12,
    "start_time": "2022-10-14T13:51:30.099Z"
   },
   {
    "duration": 11,
    "start_time": "2022-10-14T13:51:30.112Z"
   },
   {
    "duration": 47,
    "start_time": "2022-10-14T13:51:30.125Z"
   },
   {
    "duration": 16,
    "start_time": "2022-10-14T13:51:30.185Z"
   },
   {
    "duration": 21,
    "start_time": "2022-10-14T13:51:30.203Z"
   },
   {
    "duration": 9,
    "start_time": "2022-10-14T13:51:30.225Z"
   },
   {
    "duration": 863,
    "start_time": "2022-10-14T13:51:30.236Z"
   },
   {
    "duration": 9,
    "start_time": "2022-10-14T13:51:31.101Z"
   },
   {
    "duration": 7,
    "start_time": "2022-10-14T13:51:31.112Z"
   },
   {
    "duration": 1440,
    "start_time": "2022-10-14T13:51:31.120Z"
   },
   {
    "duration": 1135,
    "start_time": "2022-10-14T13:51:32.562Z"
   },
   {
    "duration": 3,
    "start_time": "2022-10-14T13:51:33.698Z"
   },
   {
    "duration": 5,
    "start_time": "2022-10-14T13:51:33.703Z"
   },
   {
    "duration": 9,
    "start_time": "2022-10-14T13:51:33.709Z"
   },
   {
    "duration": 6,
    "start_time": "2022-10-14T13:51:33.720Z"
   },
   {
    "duration": 6,
    "start_time": "2022-10-14T13:51:33.727Z"
   },
   {
    "duration": 6,
    "start_time": "2022-10-14T13:51:33.735Z"
   },
   {
    "duration": 6,
    "start_time": "2022-10-14T13:51:33.743Z"
   },
   {
    "duration": 1478,
    "start_time": "2022-10-14T16:05:24.708Z"
   },
   {
    "duration": 77,
    "start_time": "2022-10-14T16:05:26.188Z"
   },
   {
    "duration": 18,
    "start_time": "2022-10-14T16:05:26.267Z"
   },
   {
    "duration": 16,
    "start_time": "2022-10-14T16:05:26.288Z"
   },
   {
    "duration": 4,
    "start_time": "2022-10-14T16:05:26.306Z"
   },
   {
    "duration": 10,
    "start_time": "2022-10-14T16:05:26.312Z"
   },
   {
    "duration": 49,
    "start_time": "2022-10-14T16:05:26.323Z"
   },
   {
    "duration": 13,
    "start_time": "2022-10-14T16:05:26.374Z"
   },
   {
    "duration": 5,
    "start_time": "2022-10-14T16:05:26.389Z"
   },
   {
    "duration": 17,
    "start_time": "2022-10-14T16:05:26.398Z"
   },
   {
    "duration": 13,
    "start_time": "2022-10-14T16:05:26.417Z"
   },
   {
    "duration": 18,
    "start_time": "2022-10-14T16:05:26.436Z"
   },
   {
    "duration": 213,
    "start_time": "2022-10-14T16:05:26.456Z"
   },
   {
    "duration": 7,
    "start_time": "2022-10-14T16:05:26.671Z"
   },
   {
    "duration": 207,
    "start_time": "2022-10-14T16:05:26.680Z"
   },
   {
    "duration": 8,
    "start_time": "2022-10-14T16:05:26.889Z"
   },
   {
    "duration": 255,
    "start_time": "2022-10-14T16:05:26.899Z"
   },
   {
    "duration": 252,
    "start_time": "2022-10-14T16:05:27.156Z"
   },
   {
    "duration": 16,
    "start_time": "2022-10-14T16:05:27.410Z"
   },
   {
    "duration": 7,
    "start_time": "2022-10-14T16:05:27.428Z"
   },
   {
    "duration": 8,
    "start_time": "2022-10-14T16:05:27.437Z"
   },
   {
    "duration": 76,
    "start_time": "2022-10-14T16:05:27.447Z"
   },
   {
    "duration": 22,
    "start_time": "2022-10-14T16:05:27.525Z"
   },
   {
    "duration": 26,
    "start_time": "2022-10-14T16:05:27.549Z"
   },
   {
    "duration": 9,
    "start_time": "2022-10-14T16:05:27.578Z"
   },
   {
    "duration": 929,
    "start_time": "2022-10-14T16:05:27.589Z"
   },
   {
    "duration": 11,
    "start_time": "2022-10-14T16:05:28.519Z"
   },
   {
    "duration": 8,
    "start_time": "2022-10-14T16:05:28.533Z"
   },
   {
    "duration": 1682,
    "start_time": "2022-10-14T16:05:28.543Z"
   },
   {
    "duration": 1386,
    "start_time": "2022-10-14T16:05:30.227Z"
   },
   {
    "duration": 2,
    "start_time": "2022-10-14T16:05:31.615Z"
   },
   {
    "duration": 33,
    "start_time": "2022-10-14T16:05:31.619Z"
   },
   {
    "duration": 27,
    "start_time": "2022-10-14T16:05:31.654Z"
   },
   {
    "duration": 25,
    "start_time": "2022-10-14T16:05:31.683Z"
   },
   {
    "duration": 41,
    "start_time": "2022-10-14T16:05:31.709Z"
   },
   {
    "duration": 22,
    "start_time": "2022-10-14T16:05:31.751Z"
   },
   {
    "duration": 20,
    "start_time": "2022-10-14T16:05:31.775Z"
   },
   {
    "duration": 1146,
    "start_time": "2022-10-14T16:40:54.913Z"
   },
   {
    "duration": 28,
    "start_time": "2022-10-14T16:40:56.061Z"
   },
   {
    "duration": 16,
    "start_time": "2022-10-14T16:40:56.090Z"
   },
   {
    "duration": 25,
    "start_time": "2022-10-14T16:40:56.109Z"
   },
   {
    "duration": 4,
    "start_time": "2022-10-14T16:40:56.135Z"
   },
   {
    "duration": 12,
    "start_time": "2022-10-14T16:40:56.141Z"
   },
   {
    "duration": 29,
    "start_time": "2022-10-14T16:40:56.154Z"
   },
   {
    "duration": 20,
    "start_time": "2022-10-14T16:40:56.185Z"
   },
   {
    "duration": 16,
    "start_time": "2022-10-14T16:40:56.207Z"
   },
   {
    "duration": 14,
    "start_time": "2022-10-14T16:40:56.226Z"
   },
   {
    "duration": 7,
    "start_time": "2022-10-14T16:40:56.242Z"
   },
   {
    "duration": 11,
    "start_time": "2022-10-14T16:40:56.251Z"
   },
   {
    "duration": 207,
    "start_time": "2022-10-14T16:40:56.263Z"
   },
   {
    "duration": 6,
    "start_time": "2022-10-14T16:40:56.473Z"
   },
   {
    "duration": 196,
    "start_time": "2022-10-14T16:40:56.481Z"
   },
   {
    "duration": 9,
    "start_time": "2022-10-14T16:40:56.679Z"
   },
   {
    "duration": 262,
    "start_time": "2022-10-14T16:40:56.690Z"
   },
   {
    "duration": 264,
    "start_time": "2022-10-14T16:40:56.954Z"
   },
   {
    "duration": 9,
    "start_time": "2022-10-14T16:40:57.221Z"
   },
   {
    "duration": 6,
    "start_time": "2022-10-14T16:40:57.232Z"
   },
   {
    "duration": 8,
    "start_time": "2022-10-14T16:40:57.240Z"
   },
   {
    "duration": 43,
    "start_time": "2022-10-14T16:40:57.249Z"
   },
   {
    "duration": 46,
    "start_time": "2022-10-14T16:40:57.294Z"
   },
   {
    "duration": 17,
    "start_time": "2022-10-14T16:40:57.342Z"
   },
   {
    "duration": 9,
    "start_time": "2022-10-14T16:40:57.361Z"
   },
   {
    "duration": 926,
    "start_time": "2022-10-14T16:40:57.372Z"
   },
   {
    "duration": 11,
    "start_time": "2022-10-14T16:40:58.300Z"
   },
   {
    "duration": 5,
    "start_time": "2022-10-14T16:40:58.324Z"
   },
   {
    "duration": 1656,
    "start_time": "2022-10-14T16:40:58.331Z"
   },
   {
    "duration": 1204,
    "start_time": "2022-10-14T16:40:59.989Z"
   },
   {
    "duration": 2,
    "start_time": "2022-10-14T16:41:01.195Z"
   },
   {
    "duration": 22,
    "start_time": "2022-10-14T16:41:01.199Z"
   },
   {
    "duration": 28,
    "start_time": "2022-10-14T16:41:01.222Z"
   },
   {
    "duration": 39,
    "start_time": "2022-10-14T16:41:01.252Z"
   },
   {
    "duration": 15,
    "start_time": "2022-10-14T16:41:01.292Z"
   },
   {
    "duration": 16,
    "start_time": "2022-10-14T16:41:01.308Z"
   },
   {
    "duration": 23,
    "start_time": "2022-10-14T16:41:01.326Z"
   },
   {
    "duration": 1261,
    "start_time": "2022-10-15T16:29:58.059Z"
   },
   {
    "duration": 53,
    "start_time": "2022-10-15T16:29:59.322Z"
   },
   {
    "duration": 16,
    "start_time": "2022-10-15T16:29:59.377Z"
   },
   {
    "duration": 13,
    "start_time": "2022-10-15T16:29:59.395Z"
   },
   {
    "duration": 3,
    "start_time": "2022-10-15T16:29:59.409Z"
   },
   {
    "duration": 5,
    "start_time": "2022-10-15T16:29:59.413Z"
   },
   {
    "duration": 17,
    "start_time": "2022-10-15T16:29:59.420Z"
   },
   {
    "duration": 9,
    "start_time": "2022-10-15T16:29:59.439Z"
   },
   {
    "duration": 4,
    "start_time": "2022-10-15T16:29:59.449Z"
   },
   {
    "duration": 11,
    "start_time": "2022-10-15T16:29:59.455Z"
   },
   {
    "duration": 6,
    "start_time": "2022-10-15T16:29:59.467Z"
   },
   {
    "duration": 9,
    "start_time": "2022-10-15T16:29:59.475Z"
   },
   {
    "duration": 204,
    "start_time": "2022-10-15T16:29:59.485Z"
   },
   {
    "duration": 7,
    "start_time": "2022-10-15T16:29:59.691Z"
   },
   {
    "duration": 190,
    "start_time": "2022-10-15T16:29:59.700Z"
   },
   {
    "duration": 8,
    "start_time": "2022-10-15T16:29:59.891Z"
   },
   {
    "duration": 237,
    "start_time": "2022-10-15T16:29:59.900Z"
   },
   {
    "duration": 246,
    "start_time": "2022-10-15T16:30:00.138Z"
   },
   {
    "duration": 7,
    "start_time": "2022-10-15T16:30:00.386Z"
   },
   {
    "duration": 19,
    "start_time": "2022-10-15T16:30:00.394Z"
   },
   {
    "duration": 21,
    "start_time": "2022-10-15T16:30:00.414Z"
   },
   {
    "duration": 51,
    "start_time": "2022-10-15T16:30:00.436Z"
   },
   {
    "duration": 16,
    "start_time": "2022-10-15T16:30:00.489Z"
   },
   {
    "duration": 31,
    "start_time": "2022-10-15T16:30:00.507Z"
   },
   {
    "duration": 25,
    "start_time": "2022-10-15T16:30:00.540Z"
   },
   {
    "duration": 907,
    "start_time": "2022-10-15T16:30:00.567Z"
   },
   {
    "duration": 10,
    "start_time": "2022-10-15T16:30:01.475Z"
   },
   {
    "duration": 13,
    "start_time": "2022-10-15T16:30:01.488Z"
   },
   {
    "duration": 1523,
    "start_time": "2022-10-15T16:30:01.503Z"
   },
   {
    "duration": 1194,
    "start_time": "2022-10-15T16:30:03.027Z"
   },
   {
    "duration": 2,
    "start_time": "2022-10-15T16:30:04.223Z"
   },
   {
    "duration": 5,
    "start_time": "2022-10-15T16:30:04.227Z"
   },
   {
    "duration": 13,
    "start_time": "2022-10-15T16:30:04.234Z"
   },
   {
    "duration": 6,
    "start_time": "2022-10-15T16:30:04.248Z"
   },
   {
    "duration": 7,
    "start_time": "2022-10-15T16:30:04.255Z"
   },
   {
    "duration": 28,
    "start_time": "2022-10-15T16:30:04.263Z"
   },
   {
    "duration": 6,
    "start_time": "2022-10-15T16:30:04.293Z"
   },
   {
    "duration": 1357,
    "start_time": "2022-10-17T07:35:13.672Z"
   },
   {
    "duration": 51,
    "start_time": "2022-10-17T07:35:15.031Z"
   },
   {
    "duration": 16,
    "start_time": "2022-10-17T07:35:15.084Z"
   },
   {
    "duration": 16,
    "start_time": "2022-10-17T07:35:15.102Z"
   },
   {
    "duration": 3,
    "start_time": "2022-10-17T07:35:15.120Z"
   },
   {
    "duration": 12,
    "start_time": "2022-10-17T07:35:15.124Z"
   },
   {
    "duration": 33,
    "start_time": "2022-10-17T07:35:15.137Z"
   },
   {
    "duration": 34,
    "start_time": "2022-10-17T07:35:15.172Z"
   },
   {
    "duration": 10,
    "start_time": "2022-10-17T07:35:15.208Z"
   },
   {
    "duration": 21,
    "start_time": "2022-10-17T07:35:15.221Z"
   },
   {
    "duration": 24,
    "start_time": "2022-10-17T07:35:15.244Z"
   },
   {
    "duration": 5,
    "start_time": "2022-10-17T07:35:15.270Z"
   },
   {
    "duration": 238,
    "start_time": "2022-10-17T07:35:15.276Z"
   },
   {
    "duration": 6,
    "start_time": "2022-10-17T07:35:15.516Z"
   },
   {
    "duration": 252,
    "start_time": "2022-10-17T07:35:15.524Z"
   },
   {
    "duration": 7,
    "start_time": "2022-10-17T07:35:15.778Z"
   },
   {
    "duration": 238,
    "start_time": "2022-10-17T07:35:15.786Z"
   },
   {
    "duration": 245,
    "start_time": "2022-10-17T07:35:16.026Z"
   },
   {
    "duration": 8,
    "start_time": "2022-10-17T07:35:16.273Z"
   },
   {
    "duration": 6,
    "start_time": "2022-10-17T07:35:16.283Z"
   },
   {
    "duration": 7,
    "start_time": "2022-10-17T07:35:16.309Z"
   },
   {
    "duration": 40,
    "start_time": "2022-10-17T07:35:16.318Z"
   },
   {
    "duration": 16,
    "start_time": "2022-10-17T07:35:16.359Z"
   },
   {
    "duration": 44,
    "start_time": "2022-10-17T07:35:16.377Z"
   },
   {
    "duration": 8,
    "start_time": "2022-10-17T07:35:16.422Z"
   },
   {
    "duration": 881,
    "start_time": "2022-10-17T07:35:16.432Z"
   },
   {
    "duration": 9,
    "start_time": "2022-10-17T07:35:17.315Z"
   },
   {
    "duration": 5,
    "start_time": "2022-10-17T07:35:17.328Z"
   },
   {
    "duration": 2480,
    "start_time": "2022-10-17T07:35:17.334Z"
   },
   {
    "duration": 1165,
    "start_time": "2022-10-17T07:35:19.816Z"
   },
   {
    "duration": 2,
    "start_time": "2022-10-17T07:35:20.983Z"
   },
   {
    "duration": 6,
    "start_time": "2022-10-17T07:35:20.987Z"
   },
   {
    "duration": 8,
    "start_time": "2022-10-17T07:35:20.995Z"
   },
   {
    "duration": 6,
    "start_time": "2022-10-17T07:35:21.005Z"
   },
   {
    "duration": 6,
    "start_time": "2022-10-17T07:35:21.012Z"
   },
   {
    "duration": 5,
    "start_time": "2022-10-17T07:35:21.020Z"
   },
   {
    "duration": 9,
    "start_time": "2022-10-17T07:35:21.027Z"
   },
   {
    "duration": 805,
    "start_time": "2022-10-17T07:40:22.754Z"
   },
   {
    "duration": 831,
    "start_time": "2022-10-17T07:40:42.786Z"
   },
   {
    "duration": 934,
    "start_time": "2022-10-17T07:42:12.557Z"
   },
   {
    "duration": 9,
    "start_time": "2022-10-17T08:07:36.887Z"
   },
   {
    "duration": 1144,
    "start_time": "2022-10-17T09:09:59.924Z"
   },
   {
    "duration": 28,
    "start_time": "2022-10-17T09:10:01.070Z"
   },
   {
    "duration": 16,
    "start_time": "2022-10-17T09:10:01.099Z"
   },
   {
    "duration": 36,
    "start_time": "2022-10-17T09:10:01.117Z"
   },
   {
    "duration": 29,
    "start_time": "2022-10-17T09:10:01.154Z"
   },
   {
    "duration": 44,
    "start_time": "2022-10-17T09:10:01.185Z"
   },
   {
    "duration": 45,
    "start_time": "2022-10-17T09:10:01.231Z"
   },
   {
    "duration": 43,
    "start_time": "2022-10-17T09:10:01.277Z"
   },
   {
    "duration": 4,
    "start_time": "2022-10-17T09:10:01.322Z"
   },
   {
    "duration": 31,
    "start_time": "2022-10-17T09:10:01.329Z"
   },
   {
    "duration": 27,
    "start_time": "2022-10-17T09:10:01.362Z"
   },
   {
    "duration": 38,
    "start_time": "2022-10-17T09:10:01.391Z"
   },
   {
    "duration": 223,
    "start_time": "2022-10-17T09:10:01.430Z"
   },
   {
    "duration": 6,
    "start_time": "2022-10-17T09:10:01.655Z"
   },
   {
    "duration": 212,
    "start_time": "2022-10-17T09:10:01.662Z"
   },
   {
    "duration": 8,
    "start_time": "2022-10-17T09:10:01.876Z"
   },
   {
    "duration": 238,
    "start_time": "2022-10-17T09:10:01.886Z"
   },
   {
    "duration": 242,
    "start_time": "2022-10-17T09:10:02.126Z"
   },
   {
    "duration": 8,
    "start_time": "2022-10-17T09:10:02.371Z"
   },
   {
    "duration": 10,
    "start_time": "2022-10-17T09:10:02.381Z"
   },
   {
    "duration": 30,
    "start_time": "2022-10-17T09:10:02.393Z"
   },
   {
    "duration": 52,
    "start_time": "2022-10-17T09:10:02.425Z"
   },
   {
    "duration": 16,
    "start_time": "2022-10-17T09:10:02.479Z"
   },
   {
    "duration": 31,
    "start_time": "2022-10-17T09:10:02.496Z"
   },
   {
    "duration": 11,
    "start_time": "2022-10-17T09:10:02.529Z"
   },
   {
    "duration": 981,
    "start_time": "2022-10-17T09:10:02.542Z"
   },
   {
    "duration": 9,
    "start_time": "2022-10-17T09:10:03.524Z"
   },
   {
    "duration": 4,
    "start_time": "2022-10-17T09:10:03.536Z"
   },
   {
    "duration": 1523,
    "start_time": "2022-10-17T09:10:03.541Z"
   },
   {
    "duration": 1079,
    "start_time": "2022-10-17T09:10:05.066Z"
   },
   {
    "duration": 3,
    "start_time": "2022-10-17T09:10:06.146Z"
   },
   {
    "duration": 6,
    "start_time": "2022-10-17T09:10:06.150Z"
   },
   {
    "duration": 10,
    "start_time": "2022-10-17T09:10:06.158Z"
   },
   {
    "duration": 6,
    "start_time": "2022-10-17T09:10:06.170Z"
   },
   {
    "duration": 6,
    "start_time": "2022-10-17T09:10:06.177Z"
   },
   {
    "duration": 5,
    "start_time": "2022-10-17T09:10:06.185Z"
   },
   {
    "duration": 21,
    "start_time": "2022-10-17T09:10:06.191Z"
   },
   {
    "duration": 63,
    "start_time": "2022-10-18T17:40:34.434Z"
   },
   {
    "duration": 52,
    "start_time": "2022-10-18T17:40:41.539Z"
   }
  ],
  "kernelspec": {
   "display_name": "Python 3 (ipykernel)",
   "language": "python",
   "name": "python3"
  },
  "language_info": {
   "codemirror_mode": {
    "name": "ipython",
    "version": 3
   },
   "file_extension": ".py",
   "mimetype": "text/x-python",
   "name": "python",
   "nbconvert_exporter": "python",
   "pygments_lexer": "ipython3",
   "version": "3.9.12"
  },
  "toc": {
   "base_numbering": 1,
   "nav_menu": {},
   "number_sections": true,
   "sideBar": true,
   "skip_h1_title": true,
   "title_cell": "Table of Contents",
   "title_sidebar": "Contents",
   "toc_cell": false,
   "toc_position": {},
   "toc_section_display": true,
   "toc_window_display": true
  }
 },
 "nbformat": 4,
 "nbformat_minor": 2
}
