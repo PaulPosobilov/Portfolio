{
 "cells": [
  {
   "cell_type": "markdown",
   "id": "ec2828da",
   "metadata": {},
   "source": [
    "**Анализ результатов A/B-теста.**"
   ]
  },
  {
   "cell_type": "markdown",
   "id": "89592a64",
   "metadata": {},
   "source": [
    "Задача \n",
    " * Провести оценку результатов A/B-теста:\n",
    "   * Оценить корректность проведения теста;\n",
    "   * Проанализировать результаты теста.\n",
    " * Оценить изменения, связанные с внедрением улучшенной рекомендательной системы;"
   ]
  },
  {
   "cell_type": "markdown",
   "id": "93139322",
   "metadata": {},
   "source": [
    "Для выполнения задач будем использовать четыре файла с данными final_ab_events.csv, ab_project_marketing_events.csv, final_ab_new_users.csv, final_ab_participants.csv, которые содержат следующие данные:\n",
    "\n",
    "`ab_project_marketing_events.csv` — календарь маркетинговых событий на 2020 год.\n",
    "\n",
    "Структура файла:\n",
    "\n",
    "- `name` — название маркетингового события;\n",
    "- `regions` — регионы, в которых будет проводиться рекламная кампания;\n",
    "- `start_dt` — дата начала кампании;\n",
    "- `finish_dt` — дата завершения кампании.\n",
    "\n",
    "`final_ab_new_users.csv` — пользователи, зарегистрировавшиеся с 7 по 21 декабря 2020 года.\n",
    "\n",
    "Структура файла:\n",
    "\n",
    "- `user_id` — идентификатор пользователя;\n",
    "- `first_date` — дата регистрации;\n",
    "- `region` — регион пользователя;\n",
    "- `device` — устройство, с которого происходила регистрация.\n",
    "\n",
    "`final_ab_events.csv` — действия новых пользователей в период с 7 декабря 2020 по 4 января 2021 года.\n",
    "\n",
    "Структура файла:\n",
    "\n",
    "- `user_id` — идентификатор пользователя;\n",
    "- `event_dt` — дата и время покупки;\n",
    "- `event_name` — тип события;\n",
    "- `details` — дополнительные данные о событии. Например, для покупок, `purchase,` в этом поле хранится стоимость покупки в долларах.\n",
    "\n",
    "`final_ab_participants.csv` — таблица участников тестов.\n",
    "\n",
    "Структура файла:\n",
    "\n",
    "- `user_id` — идентификатор пользователя;\n",
    "- `ab_test` — название теста;\n",
    "- `group` — группа пользователя."
   ]
  },
  {
   "cell_type": "markdown",
   "id": "66ddcd55",
   "metadata": {},
   "source": [
    "Выполнять задание мы будем в соответствии с **техническим заданием:**\n",
    "\n",
    "- Название теста: `recommender_system_test`;\n",
    "- группы: А — контрольная, B — новая платёжная воронка;\n",
    "- дата запуска: 2020-12-07;\n",
    "- дата остановки набора новых пользователей: 2020-12-21;\n",
    "- дата остановки: 2021-01-04;\n",
    "- аудитория: 15% новых пользователей из региона EU;\n",
    "- назначение теста: тестирование изменений, связанных с внедрением улучшенной рекомендательной системы;\n",
    "- ожидаемое количество участников теста: 6000.\n",
    "- ожидаемый эффект: за 14 дней с момента регистрации пользователи покажут улучшение каждой метрики не менее, чем на 10%:\n",
    "    - конверсии в просмотр карточек товаров — событие `product_page`,\n",
    "    - просмотры корзины — `product_cart`,\n",
    "    - покупки — `purchase`."
   ]
  },
  {
   "cell_type": "markdown",
   "id": "709a754d",
   "metadata": {},
   "source": [
    "**Последовательность действий по выполнению проекта:**  \n",
    "\n",
    "I. Загрузить и изучить данные:\n",
    "  - импорт необходимых библиотек для работы;\n",
    "  - загрузка данных и получение общей информации о них;\n",
    "  - краткий вывод о имеющихся данных.  \n",
    "  \n",
    "II. Предобработка данных:\n",
    "  - проверить название колонок и тип данных в столбцах;\n",
    "  - сделать проверку на наличие дубликатов;\n",
    "  - поиск и обработка пропущенных значений;\n",
    "  - проверить данные на наличие выбросов и аномальных значений;\n",
    "  - проверить данные на соответствие техническому заданию;\n",
    "  - проверить условие о том, что число участников должно быть 6000 и это 15% от общего числа зарегистрованных с  7 по 21 декабря из стран ЕС;\n",
    "  - проверить время проведения теста, совпадает ли оно с маркетинговыми и другими активностями;\n",
    "  - проверить количество дней, занявшее у каждого пользователя с момента регистрации до первого действия;\n",
    "  - выводы по этапу предобработки данных.  \n",
    "  \n",
    "III. Исследовательский анализ данных:   \n",
    "  - рассчитать количество событий на пользователя и посмотреть на распределение по группам;\n",
    "  - посмотреть на распределение событий в группах по дням;\n",
    "  - построить и проанализировать воронку событий;\n",
    "  - выводы по этапу исследовательского анализа данных.  \n",
    "  \n",
    "IV. Оценка результатов A/B тестирования:\n",
    "  - Проверка статистической разницы долей z-критерием;\n",
    "  - Выводы.\n"
   ]
  },
  {
   "cell_type": "markdown",
   "id": "78883ccd",
   "metadata": {},
   "source": [
    "## Загрузка и изучение данных."
   ]
  },
  {
   "cell_type": "markdown",
   "id": "da1c99c8",
   "metadata": {},
   "source": [
    "### Импорт необходимых библиотек."
   ]
  },
  {
   "cell_type": "code",
   "execution_count": 1,
   "id": "284c7908",
   "metadata": {},
   "outputs": [],
   "source": [
    "import pandas as pd\n",
    "import matplotlib.pyplot as plt\n",
    "import seaborn as sns\n",
    "from plotly import graph_objects as go\n",
    "import math as mth\n",
    "from scipy import stats as st\n",
    "import numpy as np\n",
    "import plotly.io as pio"
   ]
  },
  {
   "cell_type": "markdown",
   "id": "4310f132",
   "metadata": {},
   "source": [
    "### Загрузка данных и получение общей информации о них."
   ]
  },
  {
   "cell_type": "code",
   "execution_count": 2,
   "id": "04bb078d",
   "metadata": {},
   "outputs": [],
   "source": [
    "try:\n",
    "    marketing_events = pd.read_csv('/datasets/ab_project_marketing_events.csv')\n",
    "    events = pd.read_csv('/datasets/final_ab_events.csv')\n",
    "    new_users = pd.read_csv('/datasets/final_ab_new_users.csv')\n",
    "    participants = pd.read_csv('/datasets/final_ab_participants.csv')\n",
    "except:\n",
    "    marketing_events = pd.read_csv('C:\\datasets\\ab_project_marketing_events.csv')\n",
    "    events = pd.read_csv('C:\\datasets\\final_ab_events.csv')\n",
    "    new_users = pd.read_csv('C:\\datasets\\final_ab_new_users.csv')\n",
    "    participants = pd.read_csv('C:\\datasets\\final_ab_participants.csv')"
   ]
  },
  {
   "cell_type": "code",
   "execution_count": 3,
   "id": "e60194fe",
   "metadata": {},
   "outputs": [
    {
     "name": "stdout",
     "output_type": "stream",
     "text": [
      "\n"
     ]
    },
    {
     "data": {
      "text/html": [
       "<div>\n",
       "<style scoped>\n",
       "    .dataframe tbody tr th:only-of-type {\n",
       "        vertical-align: middle;\n",
       "    }\n",
       "\n",
       "    .dataframe tbody tr th {\n",
       "        vertical-align: top;\n",
       "    }\n",
       "\n",
       "    .dataframe thead th {\n",
       "        text-align: right;\n",
       "    }\n",
       "</style>\n",
       "<table border=\"1\" class=\"dataframe\">\n",
       "  <thead>\n",
       "    <tr style=\"text-align: right;\">\n",
       "      <th></th>\n",
       "      <th>name</th>\n",
       "      <th>regions</th>\n",
       "      <th>start_dt</th>\n",
       "      <th>finish_dt</th>\n",
       "    </tr>\n",
       "  </thead>\n",
       "  <tbody>\n",
       "    <tr>\n",
       "      <th>0</th>\n",
       "      <td>Christmas&amp;New Year Promo</td>\n",
       "      <td>EU, N.America</td>\n",
       "      <td>2020-12-25</td>\n",
       "      <td>2021-01-03</td>\n",
       "    </tr>\n",
       "    <tr>\n",
       "      <th>1</th>\n",
       "      <td>St. Valentine's Day Giveaway</td>\n",
       "      <td>EU, CIS, APAC, N.America</td>\n",
       "      <td>2020-02-14</td>\n",
       "      <td>2020-02-16</td>\n",
       "    </tr>\n",
       "    <tr>\n",
       "      <th>2</th>\n",
       "      <td>St. Patric's Day Promo</td>\n",
       "      <td>EU, N.America</td>\n",
       "      <td>2020-03-17</td>\n",
       "      <td>2020-03-19</td>\n",
       "    </tr>\n",
       "    <tr>\n",
       "      <th>3</th>\n",
       "      <td>Easter Promo</td>\n",
       "      <td>EU, CIS, APAC, N.America</td>\n",
       "      <td>2020-04-12</td>\n",
       "      <td>2020-04-19</td>\n",
       "    </tr>\n",
       "    <tr>\n",
       "      <th>4</th>\n",
       "      <td>4th of July Promo</td>\n",
       "      <td>N.America</td>\n",
       "      <td>2020-07-04</td>\n",
       "      <td>2020-07-11</td>\n",
       "    </tr>\n",
       "  </tbody>\n",
       "</table>\n",
       "</div>"
      ],
      "text/plain": [
       "                           name                   regions    start_dt  \\\n",
       "0      Christmas&New Year Promo             EU, N.America  2020-12-25   \n",
       "1  St. Valentine's Day Giveaway  EU, CIS, APAC, N.America  2020-02-14   \n",
       "2        St. Patric's Day Promo             EU, N.America  2020-03-17   \n",
       "3                  Easter Promo  EU, CIS, APAC, N.America  2020-04-12   \n",
       "4             4th of July Promo                 N.America  2020-07-04   \n",
       "\n",
       "    finish_dt  \n",
       "0  2021-01-03  \n",
       "1  2020-02-16  \n",
       "2  2020-03-19  \n",
       "3  2020-04-19  \n",
       "4  2020-07-11  "
      ]
     },
     "metadata": {},
     "output_type": "display_data"
    },
    {
     "name": "stdout",
     "output_type": "stream",
     "text": [
      "\n",
      "<class 'pandas.core.frame.DataFrame'>\n",
      "RangeIndex: 14 entries, 0 to 13\n",
      "Data columns (total 4 columns):\n",
      " #   Column     Non-Null Count  Dtype \n",
      "---  ------     --------------  ----- \n",
      " 0   name       14 non-null     object\n",
      " 1   regions    14 non-null     object\n",
      " 2   start_dt   14 non-null     object\n",
      " 3   finish_dt  14 non-null     object\n",
      "dtypes: object(4)\n",
      "memory usage: 576.0+ bytes\n",
      "None\n",
      "\n"
     ]
    },
    {
     "data": {
      "text/html": [
       "<div>\n",
       "<style scoped>\n",
       "    .dataframe tbody tr th:only-of-type {\n",
       "        vertical-align: middle;\n",
       "    }\n",
       "\n",
       "    .dataframe tbody tr th {\n",
       "        vertical-align: top;\n",
       "    }\n",
       "\n",
       "    .dataframe thead th {\n",
       "        text-align: right;\n",
       "    }\n",
       "</style>\n",
       "<table border=\"1\" class=\"dataframe\">\n",
       "  <thead>\n",
       "    <tr style=\"text-align: right;\">\n",
       "      <th></th>\n",
       "      <th>user_id</th>\n",
       "      <th>event_dt</th>\n",
       "      <th>event_name</th>\n",
       "      <th>details</th>\n",
       "    </tr>\n",
       "  </thead>\n",
       "  <tbody>\n",
       "    <tr>\n",
       "      <th>0</th>\n",
       "      <td>E1BDDCE0DAFA2679</td>\n",
       "      <td>2020-12-07 20:22:03</td>\n",
       "      <td>purchase</td>\n",
       "      <td>99.99</td>\n",
       "    </tr>\n",
       "    <tr>\n",
       "      <th>1</th>\n",
       "      <td>7B6452F081F49504</td>\n",
       "      <td>2020-12-07 09:22:53</td>\n",
       "      <td>purchase</td>\n",
       "      <td>9.99</td>\n",
       "    </tr>\n",
       "    <tr>\n",
       "      <th>2</th>\n",
       "      <td>9CD9F34546DF254C</td>\n",
       "      <td>2020-12-07 12:59:29</td>\n",
       "      <td>purchase</td>\n",
       "      <td>4.99</td>\n",
       "    </tr>\n",
       "    <tr>\n",
       "      <th>3</th>\n",
       "      <td>96F27A054B191457</td>\n",
       "      <td>2020-12-07 04:02:40</td>\n",
       "      <td>purchase</td>\n",
       "      <td>4.99</td>\n",
       "    </tr>\n",
       "    <tr>\n",
       "      <th>4</th>\n",
       "      <td>1FD7660FDF94CA1F</td>\n",
       "      <td>2020-12-07 10:15:09</td>\n",
       "      <td>purchase</td>\n",
       "      <td>4.99</td>\n",
       "    </tr>\n",
       "  </tbody>\n",
       "</table>\n",
       "</div>"
      ],
      "text/plain": [
       "            user_id             event_dt event_name  details\n",
       "0  E1BDDCE0DAFA2679  2020-12-07 20:22:03   purchase    99.99\n",
       "1  7B6452F081F49504  2020-12-07 09:22:53   purchase     9.99\n",
       "2  9CD9F34546DF254C  2020-12-07 12:59:29   purchase     4.99\n",
       "3  96F27A054B191457  2020-12-07 04:02:40   purchase     4.99\n",
       "4  1FD7660FDF94CA1F  2020-12-07 10:15:09   purchase     4.99"
      ]
     },
     "metadata": {},
     "output_type": "display_data"
    },
    {
     "name": "stdout",
     "output_type": "stream",
     "text": [
      "\n",
      "<class 'pandas.core.frame.DataFrame'>\n",
      "RangeIndex: 440317 entries, 0 to 440316\n",
      "Data columns (total 4 columns):\n",
      " #   Column      Non-Null Count   Dtype  \n",
      "---  ------      --------------   -----  \n",
      " 0   user_id     440317 non-null  object \n",
      " 1   event_dt    440317 non-null  object \n",
      " 2   event_name  440317 non-null  object \n",
      " 3   details     62740 non-null   float64\n",
      "dtypes: float64(1), object(3)\n",
      "memory usage: 13.4+ MB\n",
      "None\n",
      "\n"
     ]
    },
    {
     "data": {
      "text/html": [
       "<div>\n",
       "<style scoped>\n",
       "    .dataframe tbody tr th:only-of-type {\n",
       "        vertical-align: middle;\n",
       "    }\n",
       "\n",
       "    .dataframe tbody tr th {\n",
       "        vertical-align: top;\n",
       "    }\n",
       "\n",
       "    .dataframe thead th {\n",
       "        text-align: right;\n",
       "    }\n",
       "</style>\n",
       "<table border=\"1\" class=\"dataframe\">\n",
       "  <thead>\n",
       "    <tr style=\"text-align: right;\">\n",
       "      <th></th>\n",
       "      <th>user_id</th>\n",
       "      <th>first_date</th>\n",
       "      <th>region</th>\n",
       "      <th>device</th>\n",
       "    </tr>\n",
       "  </thead>\n",
       "  <tbody>\n",
       "    <tr>\n",
       "      <th>0</th>\n",
       "      <td>D72A72121175D8BE</td>\n",
       "      <td>2020-12-07</td>\n",
       "      <td>EU</td>\n",
       "      <td>PC</td>\n",
       "    </tr>\n",
       "    <tr>\n",
       "      <th>1</th>\n",
       "      <td>F1C668619DFE6E65</td>\n",
       "      <td>2020-12-07</td>\n",
       "      <td>N.America</td>\n",
       "      <td>Android</td>\n",
       "    </tr>\n",
       "    <tr>\n",
       "      <th>2</th>\n",
       "      <td>2E1BF1D4C37EA01F</td>\n",
       "      <td>2020-12-07</td>\n",
       "      <td>EU</td>\n",
       "      <td>PC</td>\n",
       "    </tr>\n",
       "    <tr>\n",
       "      <th>3</th>\n",
       "      <td>50734A22C0C63768</td>\n",
       "      <td>2020-12-07</td>\n",
       "      <td>EU</td>\n",
       "      <td>iPhone</td>\n",
       "    </tr>\n",
       "    <tr>\n",
       "      <th>4</th>\n",
       "      <td>E1BDDCE0DAFA2679</td>\n",
       "      <td>2020-12-07</td>\n",
       "      <td>N.America</td>\n",
       "      <td>iPhone</td>\n",
       "    </tr>\n",
       "  </tbody>\n",
       "</table>\n",
       "</div>"
      ],
      "text/plain": [
       "            user_id  first_date     region   device\n",
       "0  D72A72121175D8BE  2020-12-07         EU       PC\n",
       "1  F1C668619DFE6E65  2020-12-07  N.America  Android\n",
       "2  2E1BF1D4C37EA01F  2020-12-07         EU       PC\n",
       "3  50734A22C0C63768  2020-12-07         EU   iPhone\n",
       "4  E1BDDCE0DAFA2679  2020-12-07  N.America   iPhone"
      ]
     },
     "metadata": {},
     "output_type": "display_data"
    },
    {
     "name": "stdout",
     "output_type": "stream",
     "text": [
      "\n",
      "<class 'pandas.core.frame.DataFrame'>\n",
      "RangeIndex: 61733 entries, 0 to 61732\n",
      "Data columns (total 4 columns):\n",
      " #   Column      Non-Null Count  Dtype \n",
      "---  ------      --------------  ----- \n",
      " 0   user_id     61733 non-null  object\n",
      " 1   first_date  61733 non-null  object\n",
      " 2   region      61733 non-null  object\n",
      " 3   device      61733 non-null  object\n",
      "dtypes: object(4)\n",
      "memory usage: 1.9+ MB\n",
      "None\n",
      "\n"
     ]
    },
    {
     "data": {
      "text/html": [
       "<div>\n",
       "<style scoped>\n",
       "    .dataframe tbody tr th:only-of-type {\n",
       "        vertical-align: middle;\n",
       "    }\n",
       "\n",
       "    .dataframe tbody tr th {\n",
       "        vertical-align: top;\n",
       "    }\n",
       "\n",
       "    .dataframe thead th {\n",
       "        text-align: right;\n",
       "    }\n",
       "</style>\n",
       "<table border=\"1\" class=\"dataframe\">\n",
       "  <thead>\n",
       "    <tr style=\"text-align: right;\">\n",
       "      <th></th>\n",
       "      <th>user_id</th>\n",
       "      <th>group</th>\n",
       "      <th>ab_test</th>\n",
       "    </tr>\n",
       "  </thead>\n",
       "  <tbody>\n",
       "    <tr>\n",
       "      <th>0</th>\n",
       "      <td>D1ABA3E2887B6A73</td>\n",
       "      <td>A</td>\n",
       "      <td>recommender_system_test</td>\n",
       "    </tr>\n",
       "    <tr>\n",
       "      <th>1</th>\n",
       "      <td>A7A3664BD6242119</td>\n",
       "      <td>A</td>\n",
       "      <td>recommender_system_test</td>\n",
       "    </tr>\n",
       "    <tr>\n",
       "      <th>2</th>\n",
       "      <td>DABC14FDDFADD29E</td>\n",
       "      <td>A</td>\n",
       "      <td>recommender_system_test</td>\n",
       "    </tr>\n",
       "    <tr>\n",
       "      <th>3</th>\n",
       "      <td>04988C5DF189632E</td>\n",
       "      <td>A</td>\n",
       "      <td>recommender_system_test</td>\n",
       "    </tr>\n",
       "    <tr>\n",
       "      <th>4</th>\n",
       "      <td>482F14783456D21B</td>\n",
       "      <td>B</td>\n",
       "      <td>recommender_system_test</td>\n",
       "    </tr>\n",
       "  </tbody>\n",
       "</table>\n",
       "</div>"
      ],
      "text/plain": [
       "            user_id group                  ab_test\n",
       "0  D1ABA3E2887B6A73     A  recommender_system_test\n",
       "1  A7A3664BD6242119     A  recommender_system_test\n",
       "2  DABC14FDDFADD29E     A  recommender_system_test\n",
       "3  04988C5DF189632E     A  recommender_system_test\n",
       "4  482F14783456D21B     B  recommender_system_test"
      ]
     },
     "metadata": {},
     "output_type": "display_data"
    },
    {
     "name": "stdout",
     "output_type": "stream",
     "text": [
      "\n",
      "<class 'pandas.core.frame.DataFrame'>\n",
      "RangeIndex: 18268 entries, 0 to 18267\n",
      "Data columns (total 3 columns):\n",
      " #   Column   Non-Null Count  Dtype \n",
      "---  ------   --------------  ----- \n",
      " 0   user_id  18268 non-null  object\n",
      " 1   group    18268 non-null  object\n",
      " 2   ab_test  18268 non-null  object\n",
      "dtypes: object(3)\n",
      "memory usage: 428.3+ KB\n",
      "None\n"
     ]
    }
   ],
   "source": [
    "for df in [marketing_events,events,new_users,participants]:\n",
    "    print()\n",
    "    display(df.head())\n",
    "    print()\n",
    "    print(df.info())"
   ]
  },
  {
   "cell_type": "markdown",
   "id": "0dbdd427",
   "metadata": {},
   "source": [
    "### Выводы о имеющихся данных."
   ]
  },
  {
   "cell_type": "markdown",
   "id": "4469b2ab",
   "metadata": {},
   "source": [
    "* В таблицах marketing_events,events и new_users присутствуют колонки с датами и в них неверный тип данных - это будет необходимо исправить;\n",
    "* В названиях колонок соблюдён единый стиль;\n",
    "* В таблице events столбце details, судя по всему, есть пропуски - необходимо будет проверить это на этапе предобработки данных."
   ]
  },
  {
   "cell_type": "markdown",
   "id": "fce21e9b",
   "metadata": {},
   "source": [
    "## Предобработка данных и проверка на соответствие ТЗ."
   ]
  },
  {
   "cell_type": "markdown",
   "id": "abb34f10",
   "metadata": {},
   "source": [
    "### Изменение типа данных в столбцах."
   ]
  },
  {
   "cell_type": "markdown",
   "id": "baceab91",
   "metadata": {},
   "source": [
    "Проверим тип данных в интересующих нас таблицах."
   ]
  },
  {
   "cell_type": "code",
   "execution_count": 4,
   "id": "d48576d1",
   "metadata": {},
   "outputs": [
    {
     "name": "stdout",
     "output_type": "stream",
     "text": [
      "name         object\n",
      "regions      object\n",
      "start_dt     object\n",
      "finish_dt    object\n",
      "dtype: object\n",
      "\n",
      "user_id        object\n",
      "event_dt       object\n",
      "event_name     object\n",
      "details       float64\n",
      "dtype: object\n"
     ]
    },
    {
     "data": {
      "text/plain": [
       "user_id       object\n",
       "first_date    object\n",
       "region        object\n",
       "device        object\n",
       "dtype: object"
      ]
     },
     "execution_count": 4,
     "metadata": {},
     "output_type": "execute_result"
    }
   ],
   "source": [
    "print(marketing_events.dtypes)\n",
    "print()\n",
    "print(events.dtypes)\n",
    "new_users.dtypes"
   ]
  },
  {
   "cell_type": "markdown",
   "id": "5366e2c2",
   "metadata": {},
   "source": [
    "У нас есть 4 колонки с датами и типом данных object, изменим тип данных на datetime."
   ]
  },
  {
   "cell_type": "code",
   "execution_count": 5,
   "id": "9876c21c",
   "metadata": {},
   "outputs": [],
   "source": [
    "marketing_events['start_dt'] = pd.to_datetime(marketing_events['start_dt'])\n",
    "marketing_events['finish_dt'] = pd.to_datetime(marketing_events['finish_dt'])\n",
    "events['event_dt'] = pd.to_datetime(events['event_dt'])\n",
    "new_users['first_date'] = pd.to_datetime(new_users['first_date'])"
   ]
  },
  {
   "cell_type": "markdown",
   "id": "f975bbe5",
   "metadata": {},
   "source": [
    "Проверим тип данных после внесенных изменений."
   ]
  },
  {
   "cell_type": "code",
   "execution_count": 6,
   "id": "bcc943ff",
   "metadata": {},
   "outputs": [
    {
     "name": "stdout",
     "output_type": "stream",
     "text": [
      "name                 object\n",
      "regions              object\n",
      "start_dt     datetime64[ns]\n",
      "finish_dt    datetime64[ns]\n",
      "dtype: object\n",
      "\n",
      "user_id               object\n",
      "event_dt      datetime64[ns]\n",
      "event_name            object\n",
      "details              float64\n",
      "dtype: object\n"
     ]
    },
    {
     "data": {
      "text/plain": [
       "user_id               object\n",
       "first_date    datetime64[ns]\n",
       "region                object\n",
       "device                object\n",
       "dtype: object"
      ]
     },
     "execution_count": 6,
     "metadata": {},
     "output_type": "execute_result"
    }
   ],
   "source": [
    "print(marketing_events.dtypes)\n",
    "print()\n",
    "print(events.dtypes)\n",
    "new_users.dtypes"
   ]
  },
  {
   "cell_type": "markdown",
   "id": "773ff435",
   "metadata": {},
   "source": [
    "Теперь тип данных во всех колонках верный."
   ]
  },
  {
   "cell_type": "markdown",
   "id": "2f2d4c90",
   "metadata": {},
   "source": [
    "### Проверка на наличие дубликатов."
   ]
  },
  {
   "cell_type": "code",
   "execution_count": 7,
   "id": "fa00bb10",
   "metadata": {},
   "outputs": [
    {
     "name": "stdout",
     "output_type": "stream",
     "text": [
      "Количество дубликатов в таблице marketing_events: 0\n",
      "Количество дубликатов в таблице events: 0\n",
      "Количество дубликатов в таблице new_users: 0\n",
      "Количество дубликатов в таблице participants: 0\n"
     ]
    }
   ],
   "source": [
    "print('Количество дубликатов в таблице marketing_events:',sum(marketing_events.duplicated()))\n",
    "print('Количество дубликатов в таблице events:',sum(events.duplicated()))\n",
    "print('Количество дубликатов в таблице new_users:',sum(new_users.duplicated()))\n",
    "print('Количество дубликатов в таблице participants:',sum(participants.duplicated()))"
   ]
  },
  {
   "cell_type": "markdown",
   "id": "1c021d41",
   "metadata": {},
   "source": [
    "Как видно, в данных нет дубликатов."
   ]
  },
  {
   "cell_type": "markdown",
   "id": "39b6b9ef",
   "metadata": {},
   "source": [
    "### Поиск и обработка пропущенных значений."
   ]
  },
  {
   "cell_type": "code",
   "execution_count": 8,
   "id": "9a05e6fd",
   "metadata": {},
   "outputs": [
    {
     "name": "stdout",
     "output_type": "stream",
     "text": [
      "name         0\n",
      "regions      0\n",
      "start_dt     0\n",
      "finish_dt    0\n",
      "dtype: int64\n",
      "\n",
      "user_id            0\n",
      "event_dt           0\n",
      "event_name         0\n",
      "details       377577\n",
      "dtype: int64\n",
      "\n",
      "user_id       0\n",
      "first_date    0\n",
      "region        0\n",
      "device        0\n",
      "dtype: int64\n",
      "\n",
      "user_id    0\n",
      "group      0\n",
      "ab_test    0\n",
      "dtype: int64\n",
      "\n"
     ]
    }
   ],
   "source": [
    "for df in [marketing_events,events,new_users,participants]:\n",
    "    print(df.isna().sum())\n",
    "    print()"
   ]
  },
  {
   "cell_type": "markdown",
   "id": "24b6e450",
   "metadata": {},
   "source": [
    "В таблице events колонке details есть пропуски и их очень много - это дополнительные данные о событии, проверим какие события представлены и сколько пропусков соответствует каждому."
   ]
  },
  {
   "cell_type": "code",
   "execution_count": 9,
   "id": "6112ae38",
   "metadata": {},
   "outputs": [
    {
     "name": "stdout",
     "output_type": "stream",
     "text": [
      "Количество пропусков в столбце details таблицы events: 377577\n"
     ]
    }
   ],
   "source": [
    "print('Количество пропусков в столбце details таблицы events:', events['details'].isna().sum())"
   ]
  },
  {
   "cell_type": "code",
   "execution_count": 10,
   "id": "ee510d54",
   "metadata": {},
   "outputs": [
    {
     "data": {
      "text/plain": [
       "event_name\n",
       "login               0\n",
       "product_cart        0\n",
       "product_page        0\n",
       "purchase        62740\n",
       "Name: details, dtype: int64"
      ]
     },
     "execution_count": 10,
     "metadata": {},
     "output_type": "execute_result"
    }
   ],
   "source": [
    "events.groupby('event_name')['details'].count()"
   ]
  },
  {
   "cell_type": "markdown",
   "id": "d4cfc021",
   "metadata": {},
   "source": [
    "По событиям 'product_cart', 'product_page', 'login' данных в столбце details нет. Пропуски по этим событиям можно объяснить тем, что нет числового выражения, способного описать эти события, в отличие от этапа покупки (purchase), где есть стоимость покупки. Будем учитывать эту информацию при дальнейшем анализе, но заменять пропуски ничем не будем, чтобы не искажать данные."
   ]
  },
  {
   "cell_type": "markdown",
   "id": "5dbf0312",
   "metadata": {},
   "source": [
    "### Проверка на наличие выбросов и аномальных значений."
   ]
  },
  {
   "cell_type": "markdown",
   "id": "043aaca3",
   "metadata": {},
   "source": [
    "Начнем проверять таблицы по порядку. Первую таблицу загрузим и оценим полностью, т.к. она маленькая."
   ]
  },
  {
   "cell_type": "code",
   "execution_count": 11,
   "id": "10c09919",
   "metadata": {},
   "outputs": [
    {
     "data": {
      "text/html": [
       "<div>\n",
       "<style scoped>\n",
       "    .dataframe tbody tr th:only-of-type {\n",
       "        vertical-align: middle;\n",
       "    }\n",
       "\n",
       "    .dataframe tbody tr th {\n",
       "        vertical-align: top;\n",
       "    }\n",
       "\n",
       "    .dataframe thead th {\n",
       "        text-align: right;\n",
       "    }\n",
       "</style>\n",
       "<table border=\"1\" class=\"dataframe\">\n",
       "  <thead>\n",
       "    <tr style=\"text-align: right;\">\n",
       "      <th></th>\n",
       "      <th>name</th>\n",
       "      <th>regions</th>\n",
       "      <th>start_dt</th>\n",
       "      <th>finish_dt</th>\n",
       "    </tr>\n",
       "  </thead>\n",
       "  <tbody>\n",
       "    <tr>\n",
       "      <th>0</th>\n",
       "      <td>Christmas&amp;New Year Promo</td>\n",
       "      <td>EU, N.America</td>\n",
       "      <td>2020-12-25</td>\n",
       "      <td>2021-01-03</td>\n",
       "    </tr>\n",
       "    <tr>\n",
       "      <th>1</th>\n",
       "      <td>St. Valentine's Day Giveaway</td>\n",
       "      <td>EU, CIS, APAC, N.America</td>\n",
       "      <td>2020-02-14</td>\n",
       "      <td>2020-02-16</td>\n",
       "    </tr>\n",
       "    <tr>\n",
       "      <th>2</th>\n",
       "      <td>St. Patric's Day Promo</td>\n",
       "      <td>EU, N.America</td>\n",
       "      <td>2020-03-17</td>\n",
       "      <td>2020-03-19</td>\n",
       "    </tr>\n",
       "    <tr>\n",
       "      <th>3</th>\n",
       "      <td>Easter Promo</td>\n",
       "      <td>EU, CIS, APAC, N.America</td>\n",
       "      <td>2020-04-12</td>\n",
       "      <td>2020-04-19</td>\n",
       "    </tr>\n",
       "    <tr>\n",
       "      <th>4</th>\n",
       "      <td>4th of July Promo</td>\n",
       "      <td>N.America</td>\n",
       "      <td>2020-07-04</td>\n",
       "      <td>2020-07-11</td>\n",
       "    </tr>\n",
       "    <tr>\n",
       "      <th>5</th>\n",
       "      <td>Black Friday Ads Campaign</td>\n",
       "      <td>EU, CIS, APAC, N.America</td>\n",
       "      <td>2020-11-26</td>\n",
       "      <td>2020-12-01</td>\n",
       "    </tr>\n",
       "    <tr>\n",
       "      <th>6</th>\n",
       "      <td>Chinese New Year Promo</td>\n",
       "      <td>APAC</td>\n",
       "      <td>2020-01-25</td>\n",
       "      <td>2020-02-07</td>\n",
       "    </tr>\n",
       "    <tr>\n",
       "      <th>7</th>\n",
       "      <td>Labor day (May 1st) Ads Campaign</td>\n",
       "      <td>EU, CIS, APAC</td>\n",
       "      <td>2020-05-01</td>\n",
       "      <td>2020-05-03</td>\n",
       "    </tr>\n",
       "    <tr>\n",
       "      <th>8</th>\n",
       "      <td>International Women's Day Promo</td>\n",
       "      <td>EU, CIS, APAC</td>\n",
       "      <td>2020-03-08</td>\n",
       "      <td>2020-03-10</td>\n",
       "    </tr>\n",
       "    <tr>\n",
       "      <th>9</th>\n",
       "      <td>Victory Day CIS (May 9th) Event</td>\n",
       "      <td>CIS</td>\n",
       "      <td>2020-05-09</td>\n",
       "      <td>2020-05-11</td>\n",
       "    </tr>\n",
       "    <tr>\n",
       "      <th>10</th>\n",
       "      <td>CIS New Year Gift Lottery</td>\n",
       "      <td>CIS</td>\n",
       "      <td>2020-12-30</td>\n",
       "      <td>2021-01-07</td>\n",
       "    </tr>\n",
       "    <tr>\n",
       "      <th>11</th>\n",
       "      <td>Dragon Boat Festival Giveaway</td>\n",
       "      <td>APAC</td>\n",
       "      <td>2020-06-25</td>\n",
       "      <td>2020-07-01</td>\n",
       "    </tr>\n",
       "    <tr>\n",
       "      <th>12</th>\n",
       "      <td>Single's Day Gift Promo</td>\n",
       "      <td>APAC</td>\n",
       "      <td>2020-11-11</td>\n",
       "      <td>2020-11-12</td>\n",
       "    </tr>\n",
       "    <tr>\n",
       "      <th>13</th>\n",
       "      <td>Chinese Moon Festival</td>\n",
       "      <td>APAC</td>\n",
       "      <td>2020-10-01</td>\n",
       "      <td>2020-10-07</td>\n",
       "    </tr>\n",
       "  </tbody>\n",
       "</table>\n",
       "</div>"
      ],
      "text/plain": [
       "                                name                   regions   start_dt  \\\n",
       "0           Christmas&New Year Promo             EU, N.America 2020-12-25   \n",
       "1       St. Valentine's Day Giveaway  EU, CIS, APAC, N.America 2020-02-14   \n",
       "2             St. Patric's Day Promo             EU, N.America 2020-03-17   \n",
       "3                       Easter Promo  EU, CIS, APAC, N.America 2020-04-12   \n",
       "4                  4th of July Promo                 N.America 2020-07-04   \n",
       "5          Black Friday Ads Campaign  EU, CIS, APAC, N.America 2020-11-26   \n",
       "6             Chinese New Year Promo                      APAC 2020-01-25   \n",
       "7   Labor day (May 1st) Ads Campaign             EU, CIS, APAC 2020-05-01   \n",
       "8    International Women's Day Promo             EU, CIS, APAC 2020-03-08   \n",
       "9    Victory Day CIS (May 9th) Event                       CIS 2020-05-09   \n",
       "10         CIS New Year Gift Lottery                       CIS 2020-12-30   \n",
       "11     Dragon Boat Festival Giveaway                      APAC 2020-06-25   \n",
       "12           Single's Day Gift Promo                      APAC 2020-11-11   \n",
       "13             Chinese Moon Festival                      APAC 2020-10-01   \n",
       "\n",
       "    finish_dt  \n",
       "0  2021-01-03  \n",
       "1  2020-02-16  \n",
       "2  2020-03-19  \n",
       "3  2020-04-19  \n",
       "4  2020-07-11  \n",
       "5  2020-12-01  \n",
       "6  2020-02-07  \n",
       "7  2020-05-03  \n",
       "8  2020-03-10  \n",
       "9  2020-05-11  \n",
       "10 2021-01-07  \n",
       "11 2020-07-01  \n",
       "12 2020-11-12  \n",
       "13 2020-10-07  "
      ]
     },
     "execution_count": 11,
     "metadata": {},
     "output_type": "execute_result"
    }
   ],
   "source": [
    "marketing_events"
   ]
  },
  {
   "cell_type": "markdown",
   "id": "37c2edc4",
   "metadata": {},
   "source": [
    "Никаких странных или подозрительных даных в этой таблице нет."
   ]
  },
  {
   "cell_type": "code",
   "execution_count": 12,
   "id": "a7b78771",
   "metadata": {},
   "outputs": [
    {
     "data": {
      "text/html": [
       "<div>\n",
       "<style scoped>\n",
       "    .dataframe tbody tr th:only-of-type {\n",
       "        vertical-align: middle;\n",
       "    }\n",
       "\n",
       "    .dataframe tbody tr th {\n",
       "        vertical-align: top;\n",
       "    }\n",
       "\n",
       "    .dataframe thead th {\n",
       "        text-align: right;\n",
       "    }\n",
       "</style>\n",
       "<table border=\"1\" class=\"dataframe\">\n",
       "  <thead>\n",
       "    <tr style=\"text-align: right;\">\n",
       "      <th></th>\n",
       "      <th>user_id</th>\n",
       "      <th>event_dt</th>\n",
       "      <th>event_name</th>\n",
       "      <th>details</th>\n",
       "    </tr>\n",
       "  </thead>\n",
       "  <tbody>\n",
       "    <tr>\n",
       "      <th>0</th>\n",
       "      <td>E1BDDCE0DAFA2679</td>\n",
       "      <td>2020-12-07 20:22:03</td>\n",
       "      <td>purchase</td>\n",
       "      <td>99.99</td>\n",
       "    </tr>\n",
       "    <tr>\n",
       "      <th>1</th>\n",
       "      <td>7B6452F081F49504</td>\n",
       "      <td>2020-12-07 09:22:53</td>\n",
       "      <td>purchase</td>\n",
       "      <td>9.99</td>\n",
       "    </tr>\n",
       "    <tr>\n",
       "      <th>2</th>\n",
       "      <td>9CD9F34546DF254C</td>\n",
       "      <td>2020-12-07 12:59:29</td>\n",
       "      <td>purchase</td>\n",
       "      <td>4.99</td>\n",
       "    </tr>\n",
       "    <tr>\n",
       "      <th>3</th>\n",
       "      <td>96F27A054B191457</td>\n",
       "      <td>2020-12-07 04:02:40</td>\n",
       "      <td>purchase</td>\n",
       "      <td>4.99</td>\n",
       "    </tr>\n",
       "    <tr>\n",
       "      <th>4</th>\n",
       "      <td>1FD7660FDF94CA1F</td>\n",
       "      <td>2020-12-07 10:15:09</td>\n",
       "      <td>purchase</td>\n",
       "      <td>4.99</td>\n",
       "    </tr>\n",
       "  </tbody>\n",
       "</table>\n",
       "</div>"
      ],
      "text/plain": [
       "            user_id            event_dt event_name  details\n",
       "0  E1BDDCE0DAFA2679 2020-12-07 20:22:03   purchase    99.99\n",
       "1  7B6452F081F49504 2020-12-07 09:22:53   purchase     9.99\n",
       "2  9CD9F34546DF254C 2020-12-07 12:59:29   purchase     4.99\n",
       "3  96F27A054B191457 2020-12-07 04:02:40   purchase     4.99\n",
       "4  1FD7660FDF94CA1F 2020-12-07 10:15:09   purchase     4.99"
      ]
     },
     "execution_count": 12,
     "metadata": {},
     "output_type": "execute_result"
    }
   ],
   "source": [
    "events.head()"
   ]
  },
  {
   "cell_type": "markdown",
   "id": "edff2508",
   "metadata": {},
   "source": [
    "В таблице с событиями проверим столбец с датой и описанием действия."
   ]
  },
  {
   "cell_type": "code",
   "execution_count": 13,
   "id": "a159b0fc",
   "metadata": {},
   "outputs": [
    {
     "data": {
      "text/plain": [
       "count    62740.000000\n",
       "mean        23.877631\n",
       "std         72.180465\n",
       "min          4.990000\n",
       "25%          4.990000\n",
       "50%          4.990000\n",
       "75%          9.990000\n",
       "max        499.990000\n",
       "Name: details, dtype: float64"
      ]
     },
     "execution_count": 13,
     "metadata": {},
     "output_type": "execute_result"
    }
   ],
   "source": [
    "events['details'].describe()"
   ]
  },
  {
   "cell_type": "code",
   "execution_count": 14,
   "id": "124e23fd",
   "metadata": {},
   "outputs": [
    {
     "data": {
      "text/plain": [
       "4.99      46362\n",
       "9.99       9530\n",
       "99.99      5631\n",
       "499.99     1217\n",
       "Name: details, dtype: int64"
      ]
     },
     "execution_count": 14,
     "metadata": {},
     "output_type": "execute_result"
    }
   ],
   "source": [
    "events['details'].value_counts()"
   ]
  },
  {
   "cell_type": "markdown",
   "id": "bf7895f8",
   "metadata": {},
   "source": [
    "Так как все дополнительные данные соответствуют действию покупки они хранят стоимость покупки. В наших данных всего 4 цены - 4.99, 9.99, 99.99 и 499.99. По всей видимости у интернет-магазина узкий ассортимент продукции, либо, возможно, это 4 варианта подписки."
   ]
  },
  {
   "cell_type": "code",
   "execution_count": 15,
   "id": "5b8aa9b4",
   "metadata": {},
   "outputs": [
    {
     "name": "stdout",
     "output_type": "stream",
     "text": [
      "Минимальная дата в данных: 2020-12-07 00:00:33\n",
      "Максимальная дата в данных: 2020-12-30 23:36:33\n"
     ]
    }
   ],
   "source": [
    "print('Минимальная дата в данных:',events['event_dt'].min())\n",
    "print('Максимальная дата в данных:',events['event_dt'].max())"
   ]
  },
  {
   "cell_type": "markdown",
   "id": "0b7a3a03",
   "metadata": {},
   "source": [
    "В нашем распоряжении данные по событиям с 7 декабря 2020 года по 30 декабря 2020 года, хотя в техническом задании указана дата остановки тесте 4 января 2021. По всей видимости, у нас нет данных за 5 дней."
   ]
  },
  {
   "cell_type": "code",
   "execution_count": 16,
   "id": "388a09b7",
   "metadata": {},
   "outputs": [
    {
     "data": {
      "text/html": [
       "<div>\n",
       "<style scoped>\n",
       "    .dataframe tbody tr th:only-of-type {\n",
       "        vertical-align: middle;\n",
       "    }\n",
       "\n",
       "    .dataframe tbody tr th {\n",
       "        vertical-align: top;\n",
       "    }\n",
       "\n",
       "    .dataframe thead th {\n",
       "        text-align: right;\n",
       "    }\n",
       "</style>\n",
       "<table border=\"1\" class=\"dataframe\">\n",
       "  <thead>\n",
       "    <tr style=\"text-align: right;\">\n",
       "      <th></th>\n",
       "      <th>user_id</th>\n",
       "      <th>first_date</th>\n",
       "      <th>region</th>\n",
       "      <th>device</th>\n",
       "    </tr>\n",
       "  </thead>\n",
       "  <tbody>\n",
       "    <tr>\n",
       "      <th>0</th>\n",
       "      <td>D72A72121175D8BE</td>\n",
       "      <td>2020-12-07</td>\n",
       "      <td>EU</td>\n",
       "      <td>PC</td>\n",
       "    </tr>\n",
       "    <tr>\n",
       "      <th>1</th>\n",
       "      <td>F1C668619DFE6E65</td>\n",
       "      <td>2020-12-07</td>\n",
       "      <td>N.America</td>\n",
       "      <td>Android</td>\n",
       "    </tr>\n",
       "    <tr>\n",
       "      <th>2</th>\n",
       "      <td>2E1BF1D4C37EA01F</td>\n",
       "      <td>2020-12-07</td>\n",
       "      <td>EU</td>\n",
       "      <td>PC</td>\n",
       "    </tr>\n",
       "    <tr>\n",
       "      <th>3</th>\n",
       "      <td>50734A22C0C63768</td>\n",
       "      <td>2020-12-07</td>\n",
       "      <td>EU</td>\n",
       "      <td>iPhone</td>\n",
       "    </tr>\n",
       "    <tr>\n",
       "      <th>4</th>\n",
       "      <td>E1BDDCE0DAFA2679</td>\n",
       "      <td>2020-12-07</td>\n",
       "      <td>N.America</td>\n",
       "      <td>iPhone</td>\n",
       "    </tr>\n",
       "  </tbody>\n",
       "</table>\n",
       "</div>"
      ],
      "text/plain": [
       "            user_id first_date     region   device\n",
       "0  D72A72121175D8BE 2020-12-07         EU       PC\n",
       "1  F1C668619DFE6E65 2020-12-07  N.America  Android\n",
       "2  2E1BF1D4C37EA01F 2020-12-07         EU       PC\n",
       "3  50734A22C0C63768 2020-12-07         EU   iPhone\n",
       "4  E1BDDCE0DAFA2679 2020-12-07  N.America   iPhone"
      ]
     },
     "execution_count": 16,
     "metadata": {},
     "output_type": "execute_result"
    }
   ],
   "source": [
    "new_users.head()"
   ]
  },
  {
   "cell_type": "markdown",
   "id": "e843c410",
   "metadata": {},
   "source": [
    "Проверим столбец с датой и распределением пользователей по региону."
   ]
  },
  {
   "cell_type": "code",
   "execution_count": 17,
   "id": "d6162452",
   "metadata": {},
   "outputs": [
    {
     "data": {
      "text/plain": [
       "EU           46270\n",
       "N.America     9155\n",
       "CIS           3155\n",
       "APAC          3153\n",
       "Name: region, dtype: int64"
      ]
     },
     "execution_count": 17,
     "metadata": {},
     "output_type": "execute_result"
    }
   ],
   "source": [
    "new_users['region'].value_counts()"
   ]
  },
  {
   "cell_type": "markdown",
   "id": "e85a0299",
   "metadata": {},
   "source": [
    "Подавляющее большинство пользователей из Европейского союза."
   ]
  },
  {
   "cell_type": "code",
   "execution_count": 18,
   "id": "0abb664a",
   "metadata": {},
   "outputs": [
    {
     "name": "stdout",
     "output_type": "stream",
     "text": [
      "Минимальная дата в данных: 2020-12-07 00:00:00\n",
      "Максимальная дата в данных: 2020-12-23 00:00:00\n"
     ]
    }
   ],
   "source": [
    "print('Минимальная дата в данных:',new_users['first_date'].min())\n",
    "print('Максимальная дата в данных:',new_users['first_date'].max())"
   ]
  },
  {
   "cell_type": "markdown",
   "id": "a7ff65fc",
   "metadata": {},
   "source": [
    "В нашем распоряжении данные о пользователях зарегистрированных с 7 декабря по 23 декабря - этот временной промежуток немного больше того, что указан в ТЗ."
   ]
  },
  {
   "cell_type": "code",
   "execution_count": 19,
   "id": "f4cd601e",
   "metadata": {},
   "outputs": [
    {
     "data": {
      "text/html": [
       "<div>\n",
       "<style scoped>\n",
       "    .dataframe tbody tr th:only-of-type {\n",
       "        vertical-align: middle;\n",
       "    }\n",
       "\n",
       "    .dataframe tbody tr th {\n",
       "        vertical-align: top;\n",
       "    }\n",
       "\n",
       "    .dataframe thead th {\n",
       "        text-align: right;\n",
       "    }\n",
       "</style>\n",
       "<table border=\"1\" class=\"dataframe\">\n",
       "  <thead>\n",
       "    <tr style=\"text-align: right;\">\n",
       "      <th></th>\n",
       "      <th>user_id</th>\n",
       "      <th>group</th>\n",
       "      <th>ab_test</th>\n",
       "    </tr>\n",
       "  </thead>\n",
       "  <tbody>\n",
       "    <tr>\n",
       "      <th>0</th>\n",
       "      <td>D1ABA3E2887B6A73</td>\n",
       "      <td>A</td>\n",
       "      <td>recommender_system_test</td>\n",
       "    </tr>\n",
       "    <tr>\n",
       "      <th>1</th>\n",
       "      <td>A7A3664BD6242119</td>\n",
       "      <td>A</td>\n",
       "      <td>recommender_system_test</td>\n",
       "    </tr>\n",
       "    <tr>\n",
       "      <th>2</th>\n",
       "      <td>DABC14FDDFADD29E</td>\n",
       "      <td>A</td>\n",
       "      <td>recommender_system_test</td>\n",
       "    </tr>\n",
       "    <tr>\n",
       "      <th>3</th>\n",
       "      <td>04988C5DF189632E</td>\n",
       "      <td>A</td>\n",
       "      <td>recommender_system_test</td>\n",
       "    </tr>\n",
       "    <tr>\n",
       "      <th>4</th>\n",
       "      <td>482F14783456D21B</td>\n",
       "      <td>B</td>\n",
       "      <td>recommender_system_test</td>\n",
       "    </tr>\n",
       "  </tbody>\n",
       "</table>\n",
       "</div>"
      ],
      "text/plain": [
       "            user_id group                  ab_test\n",
       "0  D1ABA3E2887B6A73     A  recommender_system_test\n",
       "1  A7A3664BD6242119     A  recommender_system_test\n",
       "2  DABC14FDDFADD29E     A  recommender_system_test\n",
       "3  04988C5DF189632E     A  recommender_system_test\n",
       "4  482F14783456D21B     B  recommender_system_test"
      ]
     },
     "execution_count": 19,
     "metadata": {},
     "output_type": "execute_result"
    }
   ],
   "source": [
    "participants.head()"
   ]
  },
  {
   "cell_type": "markdown",
   "id": "f36980f9",
   "metadata": {},
   "source": [
    "В последней таблице, с данными о пользователях участвующих в тестах, посмотрим на распределение в столбцах с группой и тестом."
   ]
  },
  {
   "cell_type": "code",
   "execution_count": 20,
   "id": "0eb8e6d4",
   "metadata": {},
   "outputs": [
    {
     "data": {
      "text/plain": [
       "A    9655\n",
       "B    8613\n",
       "Name: group, dtype: int64"
      ]
     },
     "execution_count": 20,
     "metadata": {},
     "output_type": "execute_result"
    }
   ],
   "source": [
    "participants['group'].value_counts()"
   ]
  },
  {
   "cell_type": "markdown",
   "id": "732bc043",
   "metadata": {},
   "source": [
    "Примерно на 10% больше пользователей в группе контрольной группе А, чем в тестовой B."
   ]
  },
  {
   "cell_type": "code",
   "execution_count": 21,
   "id": "c01ba25b",
   "metadata": {},
   "outputs": [
    {
     "data": {
      "text/plain": [
       "interface_eu_test          11567\n",
       "recommender_system_test     6701\n",
       "Name: ab_test, dtype: int64"
      ]
     },
     "execution_count": 21,
     "metadata": {},
     "output_type": "execute_result"
    }
   ],
   "source": [
    "participants['ab_test'].value_counts()"
   ]
  },
  {
   "cell_type": "markdown",
   "id": "5f8c1223",
   "metadata": {},
   "source": [
    "В разделение по тестам еще большее разделение, практически в два раза. Тест, который нам интересен recommender_system_test и в нем приняло участие 6701 пользователь."
   ]
  },
  {
   "cell_type": "markdown",
   "id": "83a31cd5",
   "metadata": {},
   "source": [
    "### Проверка данных на соответствие техническому заданию."
   ]
  },
  {
   "cell_type": "markdown",
   "id": "50721731",
   "metadata": {},
   "source": [
    "*1) Название теста: recommender_system_test*  \n",
    "\n",
    "Как мы выяснили ранее, такой тест есть в наших данных и в нем приняло участие 6701 пользователь.  \n",
    "\n",
    "*2) группы: А — контрольная, B — новая платёжная воронка*  \n",
    "\n",
    "В наших данных присутствует информация об этих двух группах.  \n",
    "\n",
    "*3) дата запуска: 2020-12-07*\n",
    "\n",
    "В наших таблицах хранится информация о зарегистрированных пользователях и действиях с 2020-12-07."
   ]
  },
  {
   "cell_type": "markdown",
   "id": "0d84cdac",
   "metadata": {},
   "source": [
    "*4) дата остановки набора новых пользователей: 2020-12-21*\n",
    "\n",
    "В таблице с регистрацией новых пользователей данные до 23 декабря включительно, чтобы датасет соответствовал ТЗ удалим данные о пользователях зарегистрированных 22 и 23 декабря."
   ]
  },
  {
   "cell_type": "code",
   "execution_count": 22,
   "id": "5688f1bd",
   "metadata": {},
   "outputs": [
    {
     "data": {
      "text/html": [
       "<div>\n",
       "<style scoped>\n",
       "    .dataframe tbody tr th:only-of-type {\n",
       "        vertical-align: middle;\n",
       "    }\n",
       "\n",
       "    .dataframe tbody tr th {\n",
       "        vertical-align: top;\n",
       "    }\n",
       "\n",
       "    .dataframe thead th {\n",
       "        text-align: right;\n",
       "    }\n",
       "</style>\n",
       "<table border=\"1\" class=\"dataframe\">\n",
       "  <thead>\n",
       "    <tr style=\"text-align: right;\">\n",
       "      <th></th>\n",
       "      <th>user_id</th>\n",
       "      <th>first_date</th>\n",
       "      <th>region</th>\n",
       "      <th>device</th>\n",
       "    </tr>\n",
       "  </thead>\n",
       "  <tbody>\n",
       "    <tr>\n",
       "      <th>0</th>\n",
       "      <td>D72A72121175D8BE</td>\n",
       "      <td>2020-12-07</td>\n",
       "      <td>EU</td>\n",
       "      <td>PC</td>\n",
       "    </tr>\n",
       "    <tr>\n",
       "      <th>1</th>\n",
       "      <td>F1C668619DFE6E65</td>\n",
       "      <td>2020-12-07</td>\n",
       "      <td>N.America</td>\n",
       "      <td>Android</td>\n",
       "    </tr>\n",
       "    <tr>\n",
       "      <th>2</th>\n",
       "      <td>2E1BF1D4C37EA01F</td>\n",
       "      <td>2020-12-07</td>\n",
       "      <td>EU</td>\n",
       "      <td>PC</td>\n",
       "    </tr>\n",
       "    <tr>\n",
       "      <th>3</th>\n",
       "      <td>50734A22C0C63768</td>\n",
       "      <td>2020-12-07</td>\n",
       "      <td>EU</td>\n",
       "      <td>iPhone</td>\n",
       "    </tr>\n",
       "    <tr>\n",
       "      <th>4</th>\n",
       "      <td>E1BDDCE0DAFA2679</td>\n",
       "      <td>2020-12-07</td>\n",
       "      <td>N.America</td>\n",
       "      <td>iPhone</td>\n",
       "    </tr>\n",
       "    <tr>\n",
       "      <th>...</th>\n",
       "      <td>...</td>\n",
       "      <td>...</td>\n",
       "      <td>...</td>\n",
       "      <td>...</td>\n",
       "    </tr>\n",
       "    <tr>\n",
       "      <th>61728</th>\n",
       "      <td>1DB53B933257165D</td>\n",
       "      <td>2020-12-20</td>\n",
       "      <td>EU</td>\n",
       "      <td>Android</td>\n",
       "    </tr>\n",
       "    <tr>\n",
       "      <th>61729</th>\n",
       "      <td>538643EB4527ED03</td>\n",
       "      <td>2020-12-20</td>\n",
       "      <td>EU</td>\n",
       "      <td>Mac</td>\n",
       "    </tr>\n",
       "    <tr>\n",
       "      <th>61730</th>\n",
       "      <td>7ADEE837D5D8CBBD</td>\n",
       "      <td>2020-12-20</td>\n",
       "      <td>EU</td>\n",
       "      <td>PC</td>\n",
       "    </tr>\n",
       "    <tr>\n",
       "      <th>61731</th>\n",
       "      <td>1C7D23927835213F</td>\n",
       "      <td>2020-12-20</td>\n",
       "      <td>EU</td>\n",
       "      <td>iPhone</td>\n",
       "    </tr>\n",
       "    <tr>\n",
       "      <th>61732</th>\n",
       "      <td>8F04273BB2860229</td>\n",
       "      <td>2020-12-20</td>\n",
       "      <td>EU</td>\n",
       "      <td>Android</td>\n",
       "    </tr>\n",
       "  </tbody>\n",
       "</table>\n",
       "<p>61733 rows × 4 columns</p>\n",
       "</div>"
      ],
      "text/plain": [
       "                user_id first_date     region   device\n",
       "0      D72A72121175D8BE 2020-12-07         EU       PC\n",
       "1      F1C668619DFE6E65 2020-12-07  N.America  Android\n",
       "2      2E1BF1D4C37EA01F 2020-12-07         EU       PC\n",
       "3      50734A22C0C63768 2020-12-07         EU   iPhone\n",
       "4      E1BDDCE0DAFA2679 2020-12-07  N.America   iPhone\n",
       "...                 ...        ...        ...      ...\n",
       "61728  1DB53B933257165D 2020-12-20         EU  Android\n",
       "61729  538643EB4527ED03 2020-12-20         EU      Mac\n",
       "61730  7ADEE837D5D8CBBD 2020-12-20         EU       PC\n",
       "61731  1C7D23927835213F 2020-12-20         EU   iPhone\n",
       "61732  8F04273BB2860229 2020-12-20         EU  Android\n",
       "\n",
       "[61733 rows x 4 columns]"
      ]
     },
     "execution_count": 22,
     "metadata": {},
     "output_type": "execute_result"
    }
   ],
   "source": [
    "new_users"
   ]
  },
  {
   "cell_type": "code",
   "execution_count": 23,
   "id": "f9d0f726",
   "metadata": {},
   "outputs": [
    {
     "name": "stdout",
     "output_type": "stream",
     "text": [
      "Количество пользователей зарегистрированных 22 и 23 декабря: 5263\n"
     ]
    }
   ],
   "source": [
    "print('Количество пользователей зарегистрированных 22 и 23 декабря:',len(new_users[new_users['first_date']> '2020-12-21']))"
   ]
  },
  {
   "cell_type": "markdown",
   "id": "ce737a09",
   "metadata": {},
   "source": [
    "При удалении, мы потеряем чуть менее 10% данных о зарегистрированных пользователях."
   ]
  },
  {
   "cell_type": "code",
   "execution_count": 24,
   "id": "beb1edf5",
   "metadata": {},
   "outputs": [
    {
     "data": {
      "text/html": [
       "<div>\n",
       "<style scoped>\n",
       "    .dataframe tbody tr th:only-of-type {\n",
       "        vertical-align: middle;\n",
       "    }\n",
       "\n",
       "    .dataframe tbody tr th {\n",
       "        vertical-align: top;\n",
       "    }\n",
       "\n",
       "    .dataframe thead th {\n",
       "        text-align: right;\n",
       "    }\n",
       "</style>\n",
       "<table border=\"1\" class=\"dataframe\">\n",
       "  <thead>\n",
       "    <tr style=\"text-align: right;\">\n",
       "      <th></th>\n",
       "      <th>user_id</th>\n",
       "      <th>first_date</th>\n",
       "      <th>region</th>\n",
       "      <th>device</th>\n",
       "    </tr>\n",
       "  </thead>\n",
       "  <tbody>\n",
       "    <tr>\n",
       "      <th>0</th>\n",
       "      <td>D72A72121175D8BE</td>\n",
       "      <td>2020-12-07</td>\n",
       "      <td>EU</td>\n",
       "      <td>PC</td>\n",
       "    </tr>\n",
       "    <tr>\n",
       "      <th>1</th>\n",
       "      <td>F1C668619DFE6E65</td>\n",
       "      <td>2020-12-07</td>\n",
       "      <td>N.America</td>\n",
       "      <td>Android</td>\n",
       "    </tr>\n",
       "    <tr>\n",
       "      <th>2</th>\n",
       "      <td>2E1BF1D4C37EA01F</td>\n",
       "      <td>2020-12-07</td>\n",
       "      <td>EU</td>\n",
       "      <td>PC</td>\n",
       "    </tr>\n",
       "    <tr>\n",
       "      <th>3</th>\n",
       "      <td>50734A22C0C63768</td>\n",
       "      <td>2020-12-07</td>\n",
       "      <td>EU</td>\n",
       "      <td>iPhone</td>\n",
       "    </tr>\n",
       "    <tr>\n",
       "      <th>4</th>\n",
       "      <td>E1BDDCE0DAFA2679</td>\n",
       "      <td>2020-12-07</td>\n",
       "      <td>N.America</td>\n",
       "      <td>iPhone</td>\n",
       "    </tr>\n",
       "    <tr>\n",
       "      <th>...</th>\n",
       "      <td>...</td>\n",
       "      <td>...</td>\n",
       "      <td>...</td>\n",
       "      <td>...</td>\n",
       "    </tr>\n",
       "    <tr>\n",
       "      <th>56465</th>\n",
       "      <td>1DB53B933257165D</td>\n",
       "      <td>2020-12-20</td>\n",
       "      <td>EU</td>\n",
       "      <td>Android</td>\n",
       "    </tr>\n",
       "    <tr>\n",
       "      <th>56466</th>\n",
       "      <td>538643EB4527ED03</td>\n",
       "      <td>2020-12-20</td>\n",
       "      <td>EU</td>\n",
       "      <td>Mac</td>\n",
       "    </tr>\n",
       "    <tr>\n",
       "      <th>56467</th>\n",
       "      <td>7ADEE837D5D8CBBD</td>\n",
       "      <td>2020-12-20</td>\n",
       "      <td>EU</td>\n",
       "      <td>PC</td>\n",
       "    </tr>\n",
       "    <tr>\n",
       "      <th>56468</th>\n",
       "      <td>1C7D23927835213F</td>\n",
       "      <td>2020-12-20</td>\n",
       "      <td>EU</td>\n",
       "      <td>iPhone</td>\n",
       "    </tr>\n",
       "    <tr>\n",
       "      <th>56469</th>\n",
       "      <td>8F04273BB2860229</td>\n",
       "      <td>2020-12-20</td>\n",
       "      <td>EU</td>\n",
       "      <td>Android</td>\n",
       "    </tr>\n",
       "  </tbody>\n",
       "</table>\n",
       "<p>56470 rows × 4 columns</p>\n",
       "</div>"
      ],
      "text/plain": [
       "                user_id first_date     region   device\n",
       "0      D72A72121175D8BE 2020-12-07         EU       PC\n",
       "1      F1C668619DFE6E65 2020-12-07  N.America  Android\n",
       "2      2E1BF1D4C37EA01F 2020-12-07         EU       PC\n",
       "3      50734A22C0C63768 2020-12-07         EU   iPhone\n",
       "4      E1BDDCE0DAFA2679 2020-12-07  N.America   iPhone\n",
       "...                 ...        ...        ...      ...\n",
       "56465  1DB53B933257165D 2020-12-20         EU  Android\n",
       "56466  538643EB4527ED03 2020-12-20         EU      Mac\n",
       "56467  7ADEE837D5D8CBBD 2020-12-20         EU       PC\n",
       "56468  1C7D23927835213F 2020-12-20         EU   iPhone\n",
       "56469  8F04273BB2860229 2020-12-20         EU  Android\n",
       "\n",
       "[56470 rows x 4 columns]"
      ]
     },
     "execution_count": 24,
     "metadata": {},
     "output_type": "execute_result"
    }
   ],
   "source": [
    "new_users = new_users[new_users['first_date'] < '2020-12-22'].reset_index(drop=True)\n",
    "new_users"
   ]
  },
  {
   "cell_type": "markdown",
   "id": "72b488ec",
   "metadata": {},
   "source": [
    "*4) дата остановки теста: 2021-01-04*  \n",
    "\n",
    "В наших данных имеется информации о событиях по 30 декабря, т.е. мы не выйдем за рамки ТЗ, однако, имеем период меньше чем указан.\n"
   ]
  },
  {
   "cell_type": "markdown",
   "id": "051355a8",
   "metadata": {},
   "source": [
    "Далее, отдельно проверим три условия соответствия данных ТЗ."
   ]
  },
  {
   "cell_type": "markdown",
   "id": "d353f1a7",
   "metadata": {},
   "source": [
    "### Проверка условия о том, что число участников должно быть 6000 и это 15% от общего числа зарегистрованных с  7 по 21 из стран ЕС."
   ]
  },
  {
   "cell_type": "code",
   "execution_count": 25,
   "id": "2e542a81",
   "metadata": {},
   "outputs": [
    {
     "data": {
      "text/html": [
       "<div>\n",
       "<style scoped>\n",
       "    .dataframe tbody tr th:only-of-type {\n",
       "        vertical-align: middle;\n",
       "    }\n",
       "\n",
       "    .dataframe tbody tr th {\n",
       "        vertical-align: top;\n",
       "    }\n",
       "\n",
       "    .dataframe thead th {\n",
       "        text-align: right;\n",
       "    }\n",
       "</style>\n",
       "<table border=\"1\" class=\"dataframe\">\n",
       "  <thead>\n",
       "    <tr style=\"text-align: right;\">\n",
       "      <th></th>\n",
       "      <th>user_id</th>\n",
       "    </tr>\n",
       "    <tr>\n",
       "      <th>region</th>\n",
       "      <th></th>\n",
       "    </tr>\n",
       "  </thead>\n",
       "  <tbody>\n",
       "    <tr>\n",
       "      <th>APAC</th>\n",
       "      <td>2883</td>\n",
       "    </tr>\n",
       "    <tr>\n",
       "      <th>CIS</th>\n",
       "      <td>2900</td>\n",
       "    </tr>\n",
       "    <tr>\n",
       "      <th>EU</th>\n",
       "      <td>42340</td>\n",
       "    </tr>\n",
       "    <tr>\n",
       "      <th>N.America</th>\n",
       "      <td>8347</td>\n",
       "    </tr>\n",
       "  </tbody>\n",
       "</table>\n",
       "</div>"
      ],
      "text/plain": [
       "           user_id\n",
       "region            \n",
       "APAC          2883\n",
       "CIS           2900\n",
       "EU           42340\n",
       "N.America     8347"
      ]
     },
     "execution_count": 25,
     "metadata": {},
     "output_type": "execute_result"
    }
   ],
   "source": [
    "new_users.groupby('region').agg({'user_id':'nunique'})"
   ]
  },
  {
   "cell_type": "markdown",
   "id": "e2323d4d",
   "metadata": {},
   "source": [
    "Большинство зарегистрированных пользователей из ЕС, однако, нам нужно посмотреть сколько человек из них учавствуют в тесте.\n",
    "С 7 по 21 декабря было зарегистрированы 42340 человек из Европы.\n",
    "Объединим таблицы с участвующими в тесте и зарегистрированными пользователями."
   ]
  },
  {
   "cell_type": "code",
   "execution_count": 26,
   "id": "489af158",
   "metadata": {},
   "outputs": [
    {
     "data": {
      "text/html": [
       "<div>\n",
       "<style scoped>\n",
       "    .dataframe tbody tr th:only-of-type {\n",
       "        vertical-align: middle;\n",
       "    }\n",
       "\n",
       "    .dataframe tbody tr th {\n",
       "        vertical-align: top;\n",
       "    }\n",
       "\n",
       "    .dataframe thead th {\n",
       "        text-align: right;\n",
       "    }\n",
       "</style>\n",
       "<table border=\"1\" class=\"dataframe\">\n",
       "  <thead>\n",
       "    <tr style=\"text-align: right;\">\n",
       "      <th></th>\n",
       "      <th>user_id</th>\n",
       "      <th>group</th>\n",
       "      <th>ab_test</th>\n",
       "      <th>first_date</th>\n",
       "      <th>region</th>\n",
       "      <th>device</th>\n",
       "    </tr>\n",
       "  </thead>\n",
       "  <tbody>\n",
       "    <tr>\n",
       "      <th>0</th>\n",
       "      <td>D1ABA3E2887B6A73</td>\n",
       "      <td>A</td>\n",
       "      <td>recommender_system_test</td>\n",
       "      <td>2020-12-07</td>\n",
       "      <td>EU</td>\n",
       "      <td>PC</td>\n",
       "    </tr>\n",
       "    <tr>\n",
       "      <th>1</th>\n",
       "      <td>A7A3664BD6242119</td>\n",
       "      <td>A</td>\n",
       "      <td>recommender_system_test</td>\n",
       "      <td>2020-12-20</td>\n",
       "      <td>EU</td>\n",
       "      <td>iPhone</td>\n",
       "    </tr>\n",
       "    <tr>\n",
       "      <th>2</th>\n",
       "      <td>DABC14FDDFADD29E</td>\n",
       "      <td>A</td>\n",
       "      <td>recommender_system_test</td>\n",
       "      <td>2020-12-08</td>\n",
       "      <td>EU</td>\n",
       "      <td>Mac</td>\n",
       "    </tr>\n",
       "    <tr>\n",
       "      <th>3</th>\n",
       "      <td>DABC14FDDFADD29E</td>\n",
       "      <td>A</td>\n",
       "      <td>interface_eu_test</td>\n",
       "      <td>2020-12-08</td>\n",
       "      <td>EU</td>\n",
       "      <td>Mac</td>\n",
       "    </tr>\n",
       "    <tr>\n",
       "      <th>4</th>\n",
       "      <td>04988C5DF189632E</td>\n",
       "      <td>A</td>\n",
       "      <td>recommender_system_test</td>\n",
       "      <td>2020-12-14</td>\n",
       "      <td>EU</td>\n",
       "      <td>iPhone</td>\n",
       "    </tr>\n",
       "    <tr>\n",
       "      <th>...</th>\n",
       "      <td>...</td>\n",
       "      <td>...</td>\n",
       "      <td>...</td>\n",
       "      <td>...</td>\n",
       "      <td>...</td>\n",
       "      <td>...</td>\n",
       "    </tr>\n",
       "    <tr>\n",
       "      <th>17261</th>\n",
       "      <td>1D302F8688B91781</td>\n",
       "      <td>B</td>\n",
       "      <td>interface_eu_test</td>\n",
       "      <td>2020-12-15</td>\n",
       "      <td>EU</td>\n",
       "      <td>PC</td>\n",
       "    </tr>\n",
       "    <tr>\n",
       "      <th>17262</th>\n",
       "      <td>3DE51B726983B657</td>\n",
       "      <td>A</td>\n",
       "      <td>interface_eu_test</td>\n",
       "      <td>2020-12-07</td>\n",
       "      <td>EU</td>\n",
       "      <td>Android</td>\n",
       "    </tr>\n",
       "    <tr>\n",
       "      <th>17263</th>\n",
       "      <td>F501F79D332BE86C</td>\n",
       "      <td>A</td>\n",
       "      <td>interface_eu_test</td>\n",
       "      <td>2020-12-17</td>\n",
       "      <td>EU</td>\n",
       "      <td>Mac</td>\n",
       "    </tr>\n",
       "    <tr>\n",
       "      <th>17264</th>\n",
       "      <td>63FBE257B05F2245</td>\n",
       "      <td>A</td>\n",
       "      <td>interface_eu_test</td>\n",
       "      <td>2020-12-20</td>\n",
       "      <td>EU</td>\n",
       "      <td>Android</td>\n",
       "    </tr>\n",
       "    <tr>\n",
       "      <th>17265</th>\n",
       "      <td>79F9ABFB029CF724</td>\n",
       "      <td>B</td>\n",
       "      <td>interface_eu_test</td>\n",
       "      <td>2020-12-14</td>\n",
       "      <td>EU</td>\n",
       "      <td>PC</td>\n",
       "    </tr>\n",
       "  </tbody>\n",
       "</table>\n",
       "<p>17266 rows × 6 columns</p>\n",
       "</div>"
      ],
      "text/plain": [
       "                user_id group                  ab_test first_date region  \\\n",
       "0      D1ABA3E2887B6A73     A  recommender_system_test 2020-12-07     EU   \n",
       "1      A7A3664BD6242119     A  recommender_system_test 2020-12-20     EU   \n",
       "2      DABC14FDDFADD29E     A  recommender_system_test 2020-12-08     EU   \n",
       "3      DABC14FDDFADD29E     A        interface_eu_test 2020-12-08     EU   \n",
       "4      04988C5DF189632E     A  recommender_system_test 2020-12-14     EU   \n",
       "...                 ...   ...                      ...        ...    ...   \n",
       "17261  1D302F8688B91781     B        interface_eu_test 2020-12-15     EU   \n",
       "17262  3DE51B726983B657     A        interface_eu_test 2020-12-07     EU   \n",
       "17263  F501F79D332BE86C     A        interface_eu_test 2020-12-17     EU   \n",
       "17264  63FBE257B05F2245     A        interface_eu_test 2020-12-20     EU   \n",
       "17265  79F9ABFB029CF724     B        interface_eu_test 2020-12-14     EU   \n",
       "\n",
       "        device  \n",
       "0           PC  \n",
       "1       iPhone  \n",
       "2          Mac  \n",
       "3          Mac  \n",
       "4       iPhone  \n",
       "...        ...  \n",
       "17261       PC  \n",
       "17262  Android  \n",
       "17263      Mac  \n",
       "17264  Android  \n",
       "17265       PC  \n",
       "\n",
       "[17266 rows x 6 columns]"
      ]
     },
     "execution_count": 26,
     "metadata": {},
     "output_type": "execute_result"
    }
   ],
   "source": [
    "ab_test_users = participants.merge(new_users,on='user_id')\n",
    "ab_test_users"
   ]
  },
  {
   "cell_type": "markdown",
   "id": "e2acd1c2",
   "metadata": {},
   "source": [
    "Так как по ТЗ нам необходимо, чтобы в тесте участвовало 6000 пользователей из Европы и это составляло 15% от зарегистрированых пользователей в период с 7 по 21 из ЕС, то уберем пользователей из других регионов. Также проверим сколько таких пользователей проходили именно наш тест."
   ]
  },
  {
   "cell_type": "code",
   "execution_count": 27,
   "id": "da831ed8",
   "metadata": {},
   "outputs": [
    {
     "data": {
      "text/plain": [
       "interface_eu_test          10565\n",
       "recommender_system_test     6351\n",
       "Name: ab_test, dtype: int64"
      ]
     },
     "execution_count": 27,
     "metadata": {},
     "output_type": "execute_result"
    }
   ],
   "source": [
    "ab_test_users = ab_test_users[ab_test_users['region']=='EU']\n",
    "ab_test_users['ab_test'].value_counts()"
   ]
  },
  {
   "cell_type": "code",
   "execution_count": 28,
   "id": "dd1bff53",
   "metadata": {},
   "outputs": [
    {
     "name": "stdout",
     "output_type": "stream",
     "text": [
      "Доля новых пользователей учавствующих в тесте, от всех новых пользователей из Евросоюза: 0.15\n"
     ]
    }
   ],
   "source": [
    "print('Доля новых пользователей учавствующих в тесте, от всех новых пользователей из Евросоюза:',\n",
    "     ab_test_users[ab_test_users['ab_test']=='recommender_system_test'].shape[0]/\n",
    "     new_users[new_users['region']=='EU'].shape[0]\n",
    "     )"
   ]
  },
  {
   "cell_type": "markdown",
   "id": "7c03acce",
   "metadata": {},
   "source": [
    "В итоге получается, что в нашем тесте учавствует 6351 человек из Евросоюза и это составляет 15% от общего числа пользователей из Евросоюза, зарегистрированных в период с 7 по 21 декабря. Два пункта ТЗ выполнены, дальнейшее отсеивание пользователей приведет к нарушению условий ТЗ."
   ]
  },
  {
   "cell_type": "markdown",
   "id": "436e559c",
   "metadata": {},
   "source": [
    "### Проверка времени проведения теста. Совпадает ли оно с маркетинговыми и другими активностями."
   ]
  },
  {
   "cell_type": "markdown",
   "id": "35d93d92",
   "metadata": {},
   "source": [
    "Время проведения теста с 2020-12-07 по 2021-01-04, хотя фактически в нашем распоряжении данные по 2020-12-30."
   ]
  },
  {
   "cell_type": "markdown",
   "id": "8f3a28db",
   "metadata": {},
   "source": [
    "Проверим, проводились ли маркетинговые компании в это время."
   ]
  },
  {
   "cell_type": "code",
   "execution_count": 29,
   "id": "28bf18ac",
   "metadata": {},
   "outputs": [
    {
     "data": {
      "text/html": [
       "<div>\n",
       "<style scoped>\n",
       "    .dataframe tbody tr th:only-of-type {\n",
       "        vertical-align: middle;\n",
       "    }\n",
       "\n",
       "    .dataframe tbody tr th {\n",
       "        vertical-align: top;\n",
       "    }\n",
       "\n",
       "    .dataframe thead th {\n",
       "        text-align: right;\n",
       "    }\n",
       "</style>\n",
       "<table border=\"1\" class=\"dataframe\">\n",
       "  <thead>\n",
       "    <tr style=\"text-align: right;\">\n",
       "      <th></th>\n",
       "      <th>name</th>\n",
       "      <th>regions</th>\n",
       "      <th>start_dt</th>\n",
       "      <th>finish_dt</th>\n",
       "    </tr>\n",
       "  </thead>\n",
       "  <tbody>\n",
       "    <tr>\n",
       "      <th>0</th>\n",
       "      <td>Christmas&amp;New Year Promo</td>\n",
       "      <td>EU, N.America</td>\n",
       "      <td>2020-12-25</td>\n",
       "      <td>2021-01-03</td>\n",
       "    </tr>\n",
       "  </tbody>\n",
       "</table>\n",
       "</div>"
      ],
      "text/plain": [
       "                       name        regions   start_dt  finish_dt\n",
       "0  Christmas&New Year Promo  EU, N.America 2020-12-25 2021-01-03"
      ]
     },
     "execution_count": 29,
     "metadata": {},
     "output_type": "execute_result"
    }
   ],
   "source": [
    "marketing_events[(marketing_events['finish_dt'] > '2020-12-06') & (marketing_events['finish_dt'] <= '2021-01-04')]"
   ]
  },
  {
   "cell_type": "code",
   "execution_count": 30,
   "id": "6ae4ed5b",
   "metadata": {},
   "outputs": [
    {
     "data": {
      "text/html": [
       "<div>\n",
       "<style scoped>\n",
       "    .dataframe tbody tr th:only-of-type {\n",
       "        vertical-align: middle;\n",
       "    }\n",
       "\n",
       "    .dataframe tbody tr th {\n",
       "        vertical-align: top;\n",
       "    }\n",
       "\n",
       "    .dataframe thead th {\n",
       "        text-align: right;\n",
       "    }\n",
       "</style>\n",
       "<table border=\"1\" class=\"dataframe\">\n",
       "  <thead>\n",
       "    <tr style=\"text-align: right;\">\n",
       "      <th></th>\n",
       "      <th>name</th>\n",
       "      <th>regions</th>\n",
       "      <th>start_dt</th>\n",
       "      <th>finish_dt</th>\n",
       "    </tr>\n",
       "  </thead>\n",
       "  <tbody>\n",
       "    <tr>\n",
       "      <th>0</th>\n",
       "      <td>Christmas&amp;New Year Promo</td>\n",
       "      <td>EU, N.America</td>\n",
       "      <td>2020-12-25</td>\n",
       "      <td>2021-01-03</td>\n",
       "    </tr>\n",
       "    <tr>\n",
       "      <th>10</th>\n",
       "      <td>CIS New Year Gift Lottery</td>\n",
       "      <td>CIS</td>\n",
       "      <td>2020-12-30</td>\n",
       "      <td>2021-01-07</td>\n",
       "    </tr>\n",
       "  </tbody>\n",
       "</table>\n",
       "</div>"
      ],
      "text/plain": [
       "                         name        regions   start_dt  finish_dt\n",
       "0    Christmas&New Year Promo  EU, N.America 2020-12-25 2021-01-03\n",
       "10  CIS New Year Gift Lottery            CIS 2020-12-30 2021-01-07"
      ]
     },
     "execution_count": 30,
     "metadata": {},
     "output_type": "execute_result"
    }
   ],
   "source": [
    "marketing_events[(marketing_events['start_dt'] > '2020-12-06') & (marketing_events['start_dt'] <= '2021-01-04')]"
   ]
  },
  {
   "cell_type": "markdown",
   "id": "d586f938",
   "metadata": {},
   "source": [
    "Компания CIS New Year Gift Lottery проводилась для региона CIS и не могла повлиять на поведение пользователей из Европы.  \n",
    "Christmas&New Year Promo проводилась для региона EU с 25 декабря по 3 января 2021 года. Период с 25 декабря по 30 декабря совпадает с проведением нашего теста."
   ]
  },
  {
   "cell_type": "code",
   "execution_count": 31,
   "id": "a805fc24",
   "metadata": {},
   "outputs": [
    {
     "data": {
      "text/html": [
       "<div>\n",
       "<style scoped>\n",
       "    .dataframe tbody tr th:only-of-type {\n",
       "        vertical-align: middle;\n",
       "    }\n",
       "\n",
       "    .dataframe tbody tr th {\n",
       "        vertical-align: top;\n",
       "    }\n",
       "\n",
       "    .dataframe thead th {\n",
       "        text-align: right;\n",
       "    }\n",
       "</style>\n",
       "<table border=\"1\" class=\"dataframe\">\n",
       "  <thead>\n",
       "    <tr style=\"text-align: right;\">\n",
       "      <th></th>\n",
       "      <th>user_id</th>\n",
       "      <th>event_dt</th>\n",
       "      <th>event_name</th>\n",
       "      <th>details</th>\n",
       "    </tr>\n",
       "  </thead>\n",
       "  <tbody>\n",
       "    <tr>\n",
       "      <th>0</th>\n",
       "      <td>E1BDDCE0DAFA2679</td>\n",
       "      <td>2020-12-07 20:22:03</td>\n",
       "      <td>purchase</td>\n",
       "      <td>99.99</td>\n",
       "    </tr>\n",
       "    <tr>\n",
       "      <th>1</th>\n",
       "      <td>7B6452F081F49504</td>\n",
       "      <td>2020-12-07 09:22:53</td>\n",
       "      <td>purchase</td>\n",
       "      <td>9.99</td>\n",
       "    </tr>\n",
       "    <tr>\n",
       "      <th>2</th>\n",
       "      <td>9CD9F34546DF254C</td>\n",
       "      <td>2020-12-07 12:59:29</td>\n",
       "      <td>purchase</td>\n",
       "      <td>4.99</td>\n",
       "    </tr>\n",
       "    <tr>\n",
       "      <th>3</th>\n",
       "      <td>96F27A054B191457</td>\n",
       "      <td>2020-12-07 04:02:40</td>\n",
       "      <td>purchase</td>\n",
       "      <td>4.99</td>\n",
       "    </tr>\n",
       "    <tr>\n",
       "      <th>4</th>\n",
       "      <td>1FD7660FDF94CA1F</td>\n",
       "      <td>2020-12-07 10:15:09</td>\n",
       "      <td>purchase</td>\n",
       "      <td>4.99</td>\n",
       "    </tr>\n",
       "    <tr>\n",
       "      <th>...</th>\n",
       "      <td>...</td>\n",
       "      <td>...</td>\n",
       "      <td>...</td>\n",
       "      <td>...</td>\n",
       "    </tr>\n",
       "    <tr>\n",
       "      <th>440312</th>\n",
       "      <td>245E85F65C358E08</td>\n",
       "      <td>2020-12-30 19:35:55</td>\n",
       "      <td>login</td>\n",
       "      <td>NaN</td>\n",
       "    </tr>\n",
       "    <tr>\n",
       "      <th>440313</th>\n",
       "      <td>9385A108F5A0A7A7</td>\n",
       "      <td>2020-12-30 10:54:15</td>\n",
       "      <td>login</td>\n",
       "      <td>NaN</td>\n",
       "    </tr>\n",
       "    <tr>\n",
       "      <th>440314</th>\n",
       "      <td>DB650B7559AC6EAC</td>\n",
       "      <td>2020-12-30 10:59:09</td>\n",
       "      <td>login</td>\n",
       "      <td>NaN</td>\n",
       "    </tr>\n",
       "    <tr>\n",
       "      <th>440315</th>\n",
       "      <td>F80C9BDDEA02E53C</td>\n",
       "      <td>2020-12-30 09:53:39</td>\n",
       "      <td>login</td>\n",
       "      <td>NaN</td>\n",
       "    </tr>\n",
       "    <tr>\n",
       "      <th>440316</th>\n",
       "      <td>7AEC61159B672CC5</td>\n",
       "      <td>2020-12-30 11:36:13</td>\n",
       "      <td>login</td>\n",
       "      <td>NaN</td>\n",
       "    </tr>\n",
       "  </tbody>\n",
       "</table>\n",
       "<p>440317 rows × 4 columns</p>\n",
       "</div>"
      ],
      "text/plain": [
       "                 user_id            event_dt event_name  details\n",
       "0       E1BDDCE0DAFA2679 2020-12-07 20:22:03   purchase    99.99\n",
       "1       7B6452F081F49504 2020-12-07 09:22:53   purchase     9.99\n",
       "2       9CD9F34546DF254C 2020-12-07 12:59:29   purchase     4.99\n",
       "3       96F27A054B191457 2020-12-07 04:02:40   purchase     4.99\n",
       "4       1FD7660FDF94CA1F 2020-12-07 10:15:09   purchase     4.99\n",
       "...                  ...                 ...        ...      ...\n",
       "440312  245E85F65C358E08 2020-12-30 19:35:55      login      NaN\n",
       "440313  9385A108F5A0A7A7 2020-12-30 10:54:15      login      NaN\n",
       "440314  DB650B7559AC6EAC 2020-12-30 10:59:09      login      NaN\n",
       "440315  F80C9BDDEA02E53C 2020-12-30 09:53:39      login      NaN\n",
       "440316  7AEC61159B672CC5 2020-12-30 11:36:13      login      NaN\n",
       "\n",
       "[440317 rows x 4 columns]"
      ]
     },
     "execution_count": 31,
     "metadata": {},
     "output_type": "execute_result"
    }
   ],
   "source": [
    "events"
   ]
  },
  {
   "cell_type": "code",
   "execution_count": 32,
   "id": "a6a9ffd0",
   "metadata": {},
   "outputs": [
    {
     "data": {
      "image/png": "[encoded data removed]",
      "text/plain": [
       "<Figure size 1008x360 with 1 Axes>"
      ]
     },
     "metadata": {
      "needs_background": "light"
     },
     "output_type": "display_data"
    }
   ],
   "source": [
    "#Построим гистрограмму количества событий по времени\n",
    "plt.figure(figsize=(14,5))\n",
    "plt.hist(events['event_dt'],bins=14*23)\n",
    "plt.title('Распределение количества событий по датам')\n",
    "plt.xlabel('Дата')\n",
    "plt.ylabel('Количество событий')\n",
    "plt.xticks(rotation=45)\n",
    "plt.grid(True)\n",
    "plt.show()"
   ]
  },
  {
   "cell_type": "markdown",
   "id": "a0a5d6a5",
   "metadata": {},
   "source": [
    "Мы видим, что глобально, пик активности всех пользователей приходится на отрезок с 14 декабря по 23 декабря, а, начиная с 25 количество событий неуклонно снижается, и достигает своих минимальных значений к 30 декабря. Учитывая вышеописанное и то, что дальнейшая фильтрация приведет к нарушению ТЗ по минимальному количеству участников в тесте, мы не будем считать что, маркетинговая компания оказала влияние на поведение пользователей и не будем удалять данные за этот период."
   ]
  },
  {
   "cell_type": "markdown",
   "id": "1176fb31",
   "metadata": {},
   "source": [
    "### Проверим есть ли пересечения с конкурирующим тестом и есть ли пользователи, участвующие в двух группах теста одновременно. Проверим равномерность распределения по тестовым группам и правильность их формирования."
   ]
  },
  {
   "cell_type": "markdown",
   "id": "30df57cd",
   "metadata": {},
   "source": [
    "Посмотрим сколько пользователей участвовали в тестах в разбивке по группам."
   ]
  },
  {
   "cell_type": "code",
   "execution_count": 33,
   "id": "0836cf1c",
   "metadata": {},
   "outputs": [
    {
     "data": {
      "text/html": [
       "<div>\n",
       "<style scoped>\n",
       "    .dataframe tbody tr th:only-of-type {\n",
       "        vertical-align: middle;\n",
       "    }\n",
       "\n",
       "    .dataframe tbody tr th {\n",
       "        vertical-align: top;\n",
       "    }\n",
       "\n",
       "    .dataframe thead th {\n",
       "        text-align: right;\n",
       "    }\n",
       "</style>\n",
       "<table border=\"1\" class=\"dataframe\">\n",
       "  <thead>\n",
       "    <tr style=\"text-align: right;\">\n",
       "      <th></th>\n",
       "      <th></th>\n",
       "      <th>user_id</th>\n",
       "    </tr>\n",
       "    <tr>\n",
       "      <th>ab_test</th>\n",
       "      <th>group</th>\n",
       "      <th></th>\n",
       "    </tr>\n",
       "  </thead>\n",
       "  <tbody>\n",
       "    <tr>\n",
       "      <th rowspan=\"2\" valign=\"top\">interface_eu_test</th>\n",
       "      <th>A</th>\n",
       "      <td>5342</td>\n",
       "    </tr>\n",
       "    <tr>\n",
       "      <th>B</th>\n",
       "      <td>5223</td>\n",
       "    </tr>\n",
       "    <tr>\n",
       "      <th rowspan=\"2\" valign=\"top\">recommender_system_test</th>\n",
       "      <th>A</th>\n",
       "      <td>3634</td>\n",
       "    </tr>\n",
       "    <tr>\n",
       "      <th>B</th>\n",
       "      <td>2717</td>\n",
       "    </tr>\n",
       "  </tbody>\n",
       "</table>\n",
       "</div>"
      ],
      "text/plain": [
       "                               user_id\n",
       "ab_test                 group         \n",
       "interface_eu_test       A         5342\n",
       "                        B         5223\n",
       "recommender_system_test A         3634\n",
       "                        B         2717"
      ]
     },
     "execution_count": 33,
     "metadata": {},
     "output_type": "execute_result"
    }
   ],
   "source": [
    "ab_test_users.groupby(['ab_test','group']).agg({'user_id':'nunique'})"
   ]
  },
  {
   "cell_type": "markdown",
   "id": "d058c056",
   "metadata": {},
   "source": [
    "Распределение по группам нашего теста показывает перевес по количеству пользователей в пользу группы A - 3634 человека, против B - 2717 человек."
   ]
  },
  {
   "cell_type": "markdown",
   "id": "4c287e77",
   "metadata": {},
   "source": [
    "Проверим, есть ли пользователи участвующие в нашем тесте и находящиеся одновременно в двух группах."
   ]
  },
  {
   "cell_type": "code",
   "execution_count": 34,
   "id": "75f84a1a",
   "metadata": {},
   "outputs": [
    {
     "data": {
      "text/plain": [
       "0"
      ]
     },
     "execution_count": 34,
     "metadata": {},
     "output_type": "execute_result"
    }
   ],
   "source": [
    "first_test = ab_test_users.query('ab_test == \"recommender_system_test\"')\n",
    "len(first_test.groupby('user_id')['group'].nunique().reset_index().query('group > 1'))"
   ]
  },
  {
   "cell_type": "markdown",
   "id": "7d9ffc3b",
   "metadata": {},
   "source": [
    "Среди наших данных нет пользователей, участвующих в нашем тесте, находящихся в двух группах одновременно."
   ]
  },
  {
   "cell_type": "markdown",
   "id": "01db392a",
   "metadata": {},
   "source": [
    "Теперь проверим, есть ли пересечения нашего с конкурирующим тестом. В первую очередь, нам интересны пользователи группы B участвующие во втором тесте, т.к. они видели уже сделанные изменения в работе сайта.  \n",
    "Посмотрим, сколько пользователей из нашего теста учавствовала во втором тесте из группы B."
   ]
  },
  {
   "cell_type": "code",
   "execution_count": 35,
   "id": "ed0bccb0",
   "metadata": {},
   "outputs": [
    {
     "data": {
      "text/html": [
       "<div>\n",
       "<style scoped>\n",
       "    .dataframe tbody tr th:only-of-type {\n",
       "        vertical-align: middle;\n",
       "    }\n",
       "\n",
       "    .dataframe tbody tr th {\n",
       "        vertical-align: top;\n",
       "    }\n",
       "\n",
       "    .dataframe thead th {\n",
       "        text-align: right;\n",
       "    }\n",
       "</style>\n",
       "<table border=\"1\" class=\"dataframe\">\n",
       "  <thead>\n",
       "    <tr style=\"text-align: right;\">\n",
       "      <th></th>\n",
       "      <th>user_id</th>\n",
       "      <th>group</th>\n",
       "      <th>ab_test</th>\n",
       "      <th>first_date</th>\n",
       "      <th>region</th>\n",
       "      <th>device</th>\n",
       "    </tr>\n",
       "  </thead>\n",
       "  <tbody>\n",
       "    <tr>\n",
       "      <th>3</th>\n",
       "      <td>DABC14FDDFADD29E</td>\n",
       "      <td>A</td>\n",
       "      <td>interface_eu_test</td>\n",
       "      <td>2020-12-08</td>\n",
       "      <td>EU</td>\n",
       "      <td>Mac</td>\n",
       "    </tr>\n",
       "    <tr>\n",
       "      <th>5</th>\n",
       "      <td>04988C5DF189632E</td>\n",
       "      <td>A</td>\n",
       "      <td>interface_eu_test</td>\n",
       "      <td>2020-12-14</td>\n",
       "      <td>EU</td>\n",
       "      <td>iPhone</td>\n",
       "    </tr>\n",
       "    <tr>\n",
       "      <th>13</th>\n",
       "      <td>B3A2485649E4A012</td>\n",
       "      <td>A</td>\n",
       "      <td>interface_eu_test</td>\n",
       "      <td>2020-12-09</td>\n",
       "      <td>EU</td>\n",
       "      <td>iPhone</td>\n",
       "    </tr>\n",
       "    <tr>\n",
       "      <th>29</th>\n",
       "      <td>EAFB9027A27D510C</td>\n",
       "      <td>A</td>\n",
       "      <td>interface_eu_test</td>\n",
       "      <td>2020-12-07</td>\n",
       "      <td>EU</td>\n",
       "      <td>Android</td>\n",
       "    </tr>\n",
       "    <tr>\n",
       "      <th>34</th>\n",
       "      <td>5D5E6EE92AF6E9E0</td>\n",
       "      <td>B</td>\n",
       "      <td>interface_eu_test</td>\n",
       "      <td>2020-12-21</td>\n",
       "      <td>EU</td>\n",
       "      <td>Android</td>\n",
       "    </tr>\n",
       "  </tbody>\n",
       "</table>\n",
       "</div>"
      ],
      "text/plain": [
       "             user_id group            ab_test first_date region   device\n",
       "3   DABC14FDDFADD29E     A  interface_eu_test 2020-12-08     EU      Mac\n",
       "5   04988C5DF189632E     A  interface_eu_test 2020-12-14     EU   iPhone\n",
       "13  B3A2485649E4A012     A  interface_eu_test 2020-12-09     EU   iPhone\n",
       "29  EAFB9027A27D510C     A  interface_eu_test 2020-12-07     EU  Android\n",
       "34  5D5E6EE92AF6E9E0     B  interface_eu_test 2020-12-21     EU  Android"
      ]
     },
     "execution_count": 35,
     "metadata": {},
     "output_type": "execute_result"
    }
   ],
   "source": [
    "second_test = ab_test_users.query('ab_test == \"interface_eu_test\"')\n",
    "second_test.head()"
   ]
  },
  {
   "cell_type": "code",
   "execution_count": 36,
   "id": "ce6f8bd3",
   "metadata": {},
   "outputs": [
    {
     "data": {
      "text/html": [
       "<div>\n",
       "<style scoped>\n",
       "    .dataframe tbody tr th:only-of-type {\n",
       "        vertical-align: middle;\n",
       "    }\n",
       "\n",
       "    .dataframe tbody tr th {\n",
       "        vertical-align: top;\n",
       "    }\n",
       "\n",
       "    .dataframe thead th {\n",
       "        text-align: right;\n",
       "    }\n",
       "</style>\n",
       "<table border=\"1\" class=\"dataframe\">\n",
       "  <thead>\n",
       "    <tr style=\"text-align: right;\">\n",
       "      <th></th>\n",
       "      <th>user_id</th>\n",
       "    </tr>\n",
       "    <tr>\n",
       "      <th>group</th>\n",
       "      <th></th>\n",
       "    </tr>\n",
       "  </thead>\n",
       "  <tbody>\n",
       "    <tr>\n",
       "      <th>A</th>\n",
       "      <td>439</td>\n",
       "    </tr>\n",
       "    <tr>\n",
       "      <th>B</th>\n",
       "      <td>344</td>\n",
       "    </tr>\n",
       "  </tbody>\n",
       "</table>\n",
       "</div>"
      ],
      "text/plain": [
       "       user_id\n",
       "group         \n",
       "A          439\n",
       "B          344"
      ]
     },
     "execution_count": 36,
     "metadata": {},
     "output_type": "execute_result"
    }
   ],
   "source": [
    "second_test_b_group = second_test.query('group == \"B\"').user_id.unique()\n",
    "second_test_b_in_first_test = first_test.query('user_id in @second_test_b_group').groupby('group').agg({'user_id':'nunique'})\n",
    "second_test_b_in_first_test"
   ]
  },
  {
   "cell_type": "markdown",
   "id": "df4151af",
   "metadata": {},
   "source": [
    "Получается, что пользователи второго теста группы B участвовали в нашем тесте в группе A 439 человек, в группе B 344."
   ]
  },
  {
   "cell_type": "markdown",
   "id": "33c50569",
   "metadata": {},
   "source": [
    "Посмотрим на доли этих пользователей от всех участников нашего теста в разбивке по группам."
   ]
  },
  {
   "cell_type": "code",
   "execution_count": 37,
   "id": "1ed3b025",
   "metadata": {},
   "outputs": [
    {
     "name": "stdout",
     "output_type": "stream",
     "text": [
      "Доля участников второго теста группы B в нашем тесте группы A: 0.12080352228948817\n",
      "Доля участников второго теста группы B в нашем тесте группы B: 0.12661023187338977\n"
     ]
    }
   ],
   "source": [
    "print('Доля участников второго теста группы B в нашем тесте группы A:',\n",
    "     second_test_b_in_first_test.loc['A','user_id']/len(first_test[first_test['group']=='A']))\n",
    "print('Доля участников второго теста группы B в нашем тесте группы B:',\n",
    "     second_test_b_in_first_test.loc['B','user_id']/len(first_test[first_test['group']=='B']))"
   ]
  },
  {
   "cell_type": "markdown",
   "id": "a3b738fd",
   "metadata": {},
   "source": [
    "Соотношение пользователей второго теста группы B от общего числа пользователей по группам в нашем тесте одинаковое, около 12%,  т.е. эти пользователи в равной степени могли повлиять на поведение групп в нашем тесте, поэтому данное пересечение, скорее всего, не будет влиять на достоверность нашего A/B теста."
   ]
  },
  {
   "cell_type": "markdown",
   "id": "28cf8702",
   "metadata": {},
   "source": [
    "### Сколько дней прошло со дня регистрации до первого действия для каждого пользователя."
   ]
  },
  {
   "cell_type": "markdown",
   "id": "1b90f742",
   "metadata": {},
   "source": [
    "Так как по ТЗ нам нужно оценить эффект от новвоведений на горизонте 14 дней с момента регистрации, крайний день регистрации пользователя учитываемый в тесте 21 декабря, а данные о событиях у нас по 30 декабря, то получается, что наш горизонт событий сужается до 9 дней. Нам важно, чтобы все пользователи с момента регистрации совершили свое первое действие в течение 9 дней, т.к. именно оно будет учитываться в воронке событий и это важно для рассчёта конверсии. Проверим это. "
   ]
  },
  {
   "cell_type": "markdown",
   "id": "5af1dd79",
   "metadata": {},
   "source": [
    "Для проведения дальнейшего анализа данных, соединим таблицу с пользователями и таблицу с событиями.\n",
    "Удалим из таблицы с пользователями информацию по конкурирующему тесту."
   ]
  },
  {
   "cell_type": "code",
   "execution_count": 38,
   "id": "851786d5",
   "metadata": {},
   "outputs": [],
   "source": [
    "ab_test_users = ab_test_users.query('ab_test == \"recommender_system_test\"').reset_index(drop=True)"
   ]
  },
  {
   "cell_type": "code",
   "execution_count": 39,
   "id": "37d3aa11",
   "metadata": {},
   "outputs": [
    {
     "data": {
      "text/html": [
       "<div>\n",
       "<style scoped>\n",
       "    .dataframe tbody tr th:only-of-type {\n",
       "        vertical-align: middle;\n",
       "    }\n",
       "\n",
       "    .dataframe tbody tr th {\n",
       "        vertical-align: top;\n",
       "    }\n",
       "\n",
       "    .dataframe thead th {\n",
       "        text-align: right;\n",
       "    }\n",
       "</style>\n",
       "<table border=\"1\" class=\"dataframe\">\n",
       "  <thead>\n",
       "    <tr style=\"text-align: right;\">\n",
       "      <th></th>\n",
       "      <th>user_id</th>\n",
       "      <th>event_dt</th>\n",
       "      <th>event_name</th>\n",
       "      <th>details</th>\n",
       "      <th>group</th>\n",
       "      <th>ab_test</th>\n",
       "      <th>first_date</th>\n",
       "      <th>region</th>\n",
       "      <th>device</th>\n",
       "    </tr>\n",
       "  </thead>\n",
       "  <tbody>\n",
       "    <tr>\n",
       "      <th>0</th>\n",
       "      <td>831887FE7F2D6CBA</td>\n",
       "      <td>2020-12-07 06:50:29</td>\n",
       "      <td>purchase</td>\n",
       "      <td>4.99</td>\n",
       "      <td>A</td>\n",
       "      <td>recommender_system_test</td>\n",
       "      <td>2020-12-07</td>\n",
       "      <td>EU</td>\n",
       "      <td>Android</td>\n",
       "    </tr>\n",
       "    <tr>\n",
       "      <th>1</th>\n",
       "      <td>831887FE7F2D6CBA</td>\n",
       "      <td>2020-12-09 02:19:17</td>\n",
       "      <td>purchase</td>\n",
       "      <td>99.99</td>\n",
       "      <td>A</td>\n",
       "      <td>recommender_system_test</td>\n",
       "      <td>2020-12-07</td>\n",
       "      <td>EU</td>\n",
       "      <td>Android</td>\n",
       "    </tr>\n",
       "    <tr>\n",
       "      <th>2</th>\n",
       "      <td>831887FE7F2D6CBA</td>\n",
       "      <td>2020-12-07 06:50:30</td>\n",
       "      <td>product_cart</td>\n",
       "      <td>NaN</td>\n",
       "      <td>A</td>\n",
       "      <td>recommender_system_test</td>\n",
       "      <td>2020-12-07</td>\n",
       "      <td>EU</td>\n",
       "      <td>Android</td>\n",
       "    </tr>\n",
       "    <tr>\n",
       "      <th>3</th>\n",
       "      <td>831887FE7F2D6CBA</td>\n",
       "      <td>2020-12-08 10:52:27</td>\n",
       "      <td>product_cart</td>\n",
       "      <td>NaN</td>\n",
       "      <td>A</td>\n",
       "      <td>recommender_system_test</td>\n",
       "      <td>2020-12-07</td>\n",
       "      <td>EU</td>\n",
       "      <td>Android</td>\n",
       "    </tr>\n",
       "    <tr>\n",
       "      <th>4</th>\n",
       "      <td>831887FE7F2D6CBA</td>\n",
       "      <td>2020-12-09 02:19:17</td>\n",
       "      <td>product_cart</td>\n",
       "      <td>NaN</td>\n",
       "      <td>A</td>\n",
       "      <td>recommender_system_test</td>\n",
       "      <td>2020-12-07</td>\n",
       "      <td>EU</td>\n",
       "      <td>Android</td>\n",
       "    </tr>\n",
       "    <tr>\n",
       "      <th>...</th>\n",
       "      <td>...</td>\n",
       "      <td>...</td>\n",
       "      <td>...</td>\n",
       "      <td>...</td>\n",
       "      <td>...</td>\n",
       "      <td>...</td>\n",
       "      <td>...</td>\n",
       "      <td>...</td>\n",
       "      <td>...</td>\n",
       "    </tr>\n",
       "    <tr>\n",
       "      <th>23415</th>\n",
       "      <td>1484BBF124DB1B18</td>\n",
       "      <td>2020-12-27 10:53:34</td>\n",
       "      <td>login</td>\n",
       "      <td>NaN</td>\n",
       "      <td>A</td>\n",
       "      <td>recommender_system_test</td>\n",
       "      <td>2020-12-21</td>\n",
       "      <td>EU</td>\n",
       "      <td>PC</td>\n",
       "    </tr>\n",
       "    <tr>\n",
       "      <th>23416</th>\n",
       "      <td>BEF16764A13AEC34</td>\n",
       "      <td>2020-12-21 03:49:49</td>\n",
       "      <td>login</td>\n",
       "      <td>NaN</td>\n",
       "      <td>B</td>\n",
       "      <td>recommender_system_test</td>\n",
       "      <td>2020-12-21</td>\n",
       "      <td>EU</td>\n",
       "      <td>PC</td>\n",
       "    </tr>\n",
       "    <tr>\n",
       "      <th>23417</th>\n",
       "      <td>BEF16764A13AEC34</td>\n",
       "      <td>2020-12-22 18:52:25</td>\n",
       "      <td>login</td>\n",
       "      <td>NaN</td>\n",
       "      <td>B</td>\n",
       "      <td>recommender_system_test</td>\n",
       "      <td>2020-12-21</td>\n",
       "      <td>EU</td>\n",
       "      <td>PC</td>\n",
       "    </tr>\n",
       "    <tr>\n",
       "      <th>23418</th>\n",
       "      <td>BEF16764A13AEC34</td>\n",
       "      <td>2020-12-24 22:11:00</td>\n",
       "      <td>login</td>\n",
       "      <td>NaN</td>\n",
       "      <td>B</td>\n",
       "      <td>recommender_system_test</td>\n",
       "      <td>2020-12-21</td>\n",
       "      <td>EU</td>\n",
       "      <td>PC</td>\n",
       "    </tr>\n",
       "    <tr>\n",
       "      <th>23419</th>\n",
       "      <td>23DDD27AC3FEFA63</td>\n",
       "      <td>2020-12-21 02:51:45</td>\n",
       "      <td>login</td>\n",
       "      <td>NaN</td>\n",
       "      <td>A</td>\n",
       "      <td>recommender_system_test</td>\n",
       "      <td>2020-12-21</td>\n",
       "      <td>EU</td>\n",
       "      <td>PC</td>\n",
       "    </tr>\n",
       "  </tbody>\n",
       "</table>\n",
       "<p>23420 rows × 9 columns</p>\n",
       "</div>"
      ],
      "text/plain": [
       "                user_id            event_dt    event_name  details group  \\\n",
       "0      831887FE7F2D6CBA 2020-12-07 06:50:29      purchase     4.99     A   \n",
       "1      831887FE7F2D6CBA 2020-12-09 02:19:17      purchase    99.99     A   \n",
       "2      831887FE7F2D6CBA 2020-12-07 06:50:30  product_cart      NaN     A   \n",
       "3      831887FE7F2D6CBA 2020-12-08 10:52:27  product_cart      NaN     A   \n",
       "4      831887FE7F2D6CBA 2020-12-09 02:19:17  product_cart      NaN     A   \n",
       "...                 ...                 ...           ...      ...   ...   \n",
       "23415  1484BBF124DB1B18 2020-12-27 10:53:34         login      NaN     A   \n",
       "23416  BEF16764A13AEC34 2020-12-21 03:49:49         login      NaN     B   \n",
       "23417  BEF16764A13AEC34 2020-12-22 18:52:25         login      NaN     B   \n",
       "23418  BEF16764A13AEC34 2020-12-24 22:11:00         login      NaN     B   \n",
       "23419  23DDD27AC3FEFA63 2020-12-21 02:51:45         login      NaN     A   \n",
       "\n",
       "                       ab_test first_date region   device  \n",
       "0      recommender_system_test 2020-12-07     EU  Android  \n",
       "1      recommender_system_test 2020-12-07     EU  Android  \n",
       "2      recommender_system_test 2020-12-07     EU  Android  \n",
       "3      recommender_system_test 2020-12-07     EU  Android  \n",
       "4      recommender_system_test 2020-12-07     EU  Android  \n",
       "...                        ...        ...    ...      ...  \n",
       "23415  recommender_system_test 2020-12-21     EU       PC  \n",
       "23416  recommender_system_test 2020-12-21     EU       PC  \n",
       "23417  recommender_system_test 2020-12-21     EU       PC  \n",
       "23418  recommender_system_test 2020-12-21     EU       PC  \n",
       "23419  recommender_system_test 2020-12-21     EU       PC  \n",
       "\n",
       "[23420 rows x 9 columns]"
      ]
     },
     "execution_count": 39,
     "metadata": {},
     "output_type": "execute_result"
    }
   ],
   "source": [
    "final_ab_test = events.merge(ab_test_users, on='user_id')\n",
    "final_ab_test"
   ]
  },
  {
   "cell_type": "code",
   "execution_count": 40,
   "id": "1cfdf22e",
   "metadata": {},
   "outputs": [
    {
     "data": {
      "text/html": [
       "<div>\n",
       "<style scoped>\n",
       "    .dataframe tbody tr th:only-of-type {\n",
       "        vertical-align: middle;\n",
       "    }\n",
       "\n",
       "    .dataframe tbody tr th {\n",
       "        vertical-align: top;\n",
       "    }\n",
       "\n",
       "    .dataframe thead th {\n",
       "        text-align: right;\n",
       "    }\n",
       "</style>\n",
       "<table border=\"1\" class=\"dataframe\">\n",
       "  <thead>\n",
       "    <tr style=\"text-align: right;\">\n",
       "      <th></th>\n",
       "      <th>user_id</th>\n",
       "    </tr>\n",
       "    <tr>\n",
       "      <th>group</th>\n",
       "      <th></th>\n",
       "    </tr>\n",
       "  </thead>\n",
       "  <tbody>\n",
       "    <tr>\n",
       "      <th>A</th>\n",
       "      <td>2604</td>\n",
       "    </tr>\n",
       "    <tr>\n",
       "      <th>B</th>\n",
       "      <td>877</td>\n",
       "    </tr>\n",
       "  </tbody>\n",
       "</table>\n",
       "</div>"
      ],
      "text/plain": [
       "       user_id\n",
       "group         \n",
       "A         2604\n",
       "B          877"
      ]
     },
     "execution_count": 40,
     "metadata": {},
     "output_type": "execute_result"
    }
   ],
   "source": [
    "final_ab_test.groupby('group').agg({'user_id':'nunique'})"
   ]
  },
  {
   "cell_type": "markdown",
   "id": "7a0e9a4b",
   "metadata": {},
   "source": [
    "Мы видим, что из 6351 пользователя, участвоваших в тесте, активность проявили чуть больше половины и участников группы B оказалось существенно меньше, чем участников группы A, 877 против 2604."
   ]
  },
  {
   "cell_type": "markdown",
   "id": "ba4a5ad5",
   "metadata": {},
   "source": [
    "Для начала, нам необходимо добавить столбец с датой события в формате datetime."
   ]
  },
  {
   "cell_type": "code",
   "execution_count": 41,
   "id": "54c79142",
   "metadata": {},
   "outputs": [
    {
     "data": {
      "text/html": [
       "<div>\n",
       "<style scoped>\n",
       "    .dataframe tbody tr th:only-of-type {\n",
       "        vertical-align: middle;\n",
       "    }\n",
       "\n",
       "    .dataframe tbody tr th {\n",
       "        vertical-align: top;\n",
       "    }\n",
       "\n",
       "    .dataframe thead th {\n",
       "        text-align: right;\n",
       "    }\n",
       "</style>\n",
       "<table border=\"1\" class=\"dataframe\">\n",
       "  <thead>\n",
       "    <tr style=\"text-align: right;\">\n",
       "      <th></th>\n",
       "      <th>user_id</th>\n",
       "      <th>event_dt</th>\n",
       "      <th>event_name</th>\n",
       "      <th>details</th>\n",
       "      <th>group</th>\n",
       "      <th>ab_test</th>\n",
       "      <th>first_date</th>\n",
       "      <th>region</th>\n",
       "      <th>device</th>\n",
       "      <th>event_date</th>\n",
       "    </tr>\n",
       "  </thead>\n",
       "  <tbody>\n",
       "    <tr>\n",
       "      <th>0</th>\n",
       "      <td>831887FE7F2D6CBA</td>\n",
       "      <td>2020-12-07 06:50:29</td>\n",
       "      <td>purchase</td>\n",
       "      <td>4.99</td>\n",
       "      <td>A</td>\n",
       "      <td>recommender_system_test</td>\n",
       "      <td>2020-12-07</td>\n",
       "      <td>EU</td>\n",
       "      <td>Android</td>\n",
       "      <td>2020-12-07</td>\n",
       "    </tr>\n",
       "    <tr>\n",
       "      <th>1</th>\n",
       "      <td>831887FE7F2D6CBA</td>\n",
       "      <td>2020-12-09 02:19:17</td>\n",
       "      <td>purchase</td>\n",
       "      <td>99.99</td>\n",
       "      <td>A</td>\n",
       "      <td>recommender_system_test</td>\n",
       "      <td>2020-12-07</td>\n",
       "      <td>EU</td>\n",
       "      <td>Android</td>\n",
       "      <td>2020-12-09</td>\n",
       "    </tr>\n",
       "    <tr>\n",
       "      <th>2</th>\n",
       "      <td>831887FE7F2D6CBA</td>\n",
       "      <td>2020-12-07 06:50:30</td>\n",
       "      <td>product_cart</td>\n",
       "      <td>NaN</td>\n",
       "      <td>A</td>\n",
       "      <td>recommender_system_test</td>\n",
       "      <td>2020-12-07</td>\n",
       "      <td>EU</td>\n",
       "      <td>Android</td>\n",
       "      <td>2020-12-07</td>\n",
       "    </tr>\n",
       "    <tr>\n",
       "      <th>3</th>\n",
       "      <td>831887FE7F2D6CBA</td>\n",
       "      <td>2020-12-08 10:52:27</td>\n",
       "      <td>product_cart</td>\n",
       "      <td>NaN</td>\n",
       "      <td>A</td>\n",
       "      <td>recommender_system_test</td>\n",
       "      <td>2020-12-07</td>\n",
       "      <td>EU</td>\n",
       "      <td>Android</td>\n",
       "      <td>2020-12-08</td>\n",
       "    </tr>\n",
       "    <tr>\n",
       "      <th>4</th>\n",
       "      <td>831887FE7F2D6CBA</td>\n",
       "      <td>2020-12-09 02:19:17</td>\n",
       "      <td>product_cart</td>\n",
       "      <td>NaN</td>\n",
       "      <td>A</td>\n",
       "      <td>recommender_system_test</td>\n",
       "      <td>2020-12-07</td>\n",
       "      <td>EU</td>\n",
       "      <td>Android</td>\n",
       "      <td>2020-12-09</td>\n",
       "    </tr>\n",
       "    <tr>\n",
       "      <th>...</th>\n",
       "      <td>...</td>\n",
       "      <td>...</td>\n",
       "      <td>...</td>\n",
       "      <td>...</td>\n",
       "      <td>...</td>\n",
       "      <td>...</td>\n",
       "      <td>...</td>\n",
       "      <td>...</td>\n",
       "      <td>...</td>\n",
       "      <td>...</td>\n",
       "    </tr>\n",
       "    <tr>\n",
       "      <th>23415</th>\n",
       "      <td>1484BBF124DB1B18</td>\n",
       "      <td>2020-12-27 10:53:34</td>\n",
       "      <td>login</td>\n",
       "      <td>NaN</td>\n",
       "      <td>A</td>\n",
       "      <td>recommender_system_test</td>\n",
       "      <td>2020-12-21</td>\n",
       "      <td>EU</td>\n",
       "      <td>PC</td>\n",
       "      <td>2020-12-27</td>\n",
       "    </tr>\n",
       "    <tr>\n",
       "      <th>23416</th>\n",
       "      <td>BEF16764A13AEC34</td>\n",
       "      <td>2020-12-21 03:49:49</td>\n",
       "      <td>login</td>\n",
       "      <td>NaN</td>\n",
       "      <td>B</td>\n",
       "      <td>recommender_system_test</td>\n",
       "      <td>2020-12-21</td>\n",
       "      <td>EU</td>\n",
       "      <td>PC</td>\n",
       "      <td>2020-12-21</td>\n",
       "    </tr>\n",
       "    <tr>\n",
       "      <th>23417</th>\n",
       "      <td>BEF16764A13AEC34</td>\n",
       "      <td>2020-12-22 18:52:25</td>\n",
       "      <td>login</td>\n",
       "      <td>NaN</td>\n",
       "      <td>B</td>\n",
       "      <td>recommender_system_test</td>\n",
       "      <td>2020-12-21</td>\n",
       "      <td>EU</td>\n",
       "      <td>PC</td>\n",
       "      <td>2020-12-22</td>\n",
       "    </tr>\n",
       "    <tr>\n",
       "      <th>23418</th>\n",
       "      <td>BEF16764A13AEC34</td>\n",
       "      <td>2020-12-24 22:11:00</td>\n",
       "      <td>login</td>\n",
       "      <td>NaN</td>\n",
       "      <td>B</td>\n",
       "      <td>recommender_system_test</td>\n",
       "      <td>2020-12-21</td>\n",
       "      <td>EU</td>\n",
       "      <td>PC</td>\n",
       "      <td>2020-12-24</td>\n",
       "    </tr>\n",
       "    <tr>\n",
       "      <th>23419</th>\n",
       "      <td>23DDD27AC3FEFA63</td>\n",
       "      <td>2020-12-21 02:51:45</td>\n",
       "      <td>login</td>\n",
       "      <td>NaN</td>\n",
       "      <td>A</td>\n",
       "      <td>recommender_system_test</td>\n",
       "      <td>2020-12-21</td>\n",
       "      <td>EU</td>\n",
       "      <td>PC</td>\n",
       "      <td>2020-12-21</td>\n",
       "    </tr>\n",
       "  </tbody>\n",
       "</table>\n",
       "<p>23420 rows × 10 columns</p>\n",
       "</div>"
      ],
      "text/plain": [
       "                user_id            event_dt    event_name  details group  \\\n",
       "0      831887FE7F2D6CBA 2020-12-07 06:50:29      purchase     4.99     A   \n",
       "1      831887FE7F2D6CBA 2020-12-09 02:19:17      purchase    99.99     A   \n",
       "2      831887FE7F2D6CBA 2020-12-07 06:50:30  product_cart      NaN     A   \n",
       "3      831887FE7F2D6CBA 2020-12-08 10:52:27  product_cart      NaN     A   \n",
       "4      831887FE7F2D6CBA 2020-12-09 02:19:17  product_cart      NaN     A   \n",
       "...                 ...                 ...           ...      ...   ...   \n",
       "23415  1484BBF124DB1B18 2020-12-27 10:53:34         login      NaN     A   \n",
       "23416  BEF16764A13AEC34 2020-12-21 03:49:49         login      NaN     B   \n",
       "23417  BEF16764A13AEC34 2020-12-22 18:52:25         login      NaN     B   \n",
       "23418  BEF16764A13AEC34 2020-12-24 22:11:00         login      NaN     B   \n",
       "23419  23DDD27AC3FEFA63 2020-12-21 02:51:45         login      NaN     A   \n",
       "\n",
       "                       ab_test first_date region   device event_date  \n",
       "0      recommender_system_test 2020-12-07     EU  Android 2020-12-07  \n",
       "1      recommender_system_test 2020-12-07     EU  Android 2020-12-09  \n",
       "2      recommender_system_test 2020-12-07     EU  Android 2020-12-07  \n",
       "3      recommender_system_test 2020-12-07     EU  Android 2020-12-08  \n",
       "4      recommender_system_test 2020-12-07     EU  Android 2020-12-09  \n",
       "...                        ...        ...    ...      ...        ...  \n",
       "23415  recommender_system_test 2020-12-21     EU       PC 2020-12-27  \n",
       "23416  recommender_system_test 2020-12-21     EU       PC 2020-12-21  \n",
       "23417  recommender_system_test 2020-12-21     EU       PC 2020-12-22  \n",
       "23418  recommender_system_test 2020-12-21     EU       PC 2020-12-24  \n",
       "23419  recommender_system_test 2020-12-21     EU       PC 2020-12-21  \n",
       "\n",
       "[23420 rows x 10 columns]"
      ]
     },
     "execution_count": 41,
     "metadata": {},
     "output_type": "execute_result"
    }
   ],
   "source": [
    "final_ab_test['event_date']=final_ab_test['event_dt'].dt.date\n",
    "final_ab_test['event_date']=pd.to_datetime(final_ab_test['event_date'])\n",
    "final_ab_test"
   ]
  },
  {
   "cell_type": "markdown",
   "id": "c7a2b682",
   "metadata": {},
   "source": [
    "Далее, сгруппируем данные по пользователям, оставив 3481 уникальных и оставим столбцы с датой первого действия и датой регистрации. Затем, вычтем столбец с первой датой и датой регистрации, таким образом, получим количество дней прошедших от дня регистрации до первого действия для каждого пользователя."
   ]
  },
  {
   "cell_type": "code",
   "execution_count": 42,
   "id": "1ad323b4",
   "metadata": {},
   "outputs": [
    {
     "data": {
      "text/plain": [
       "0 days    3467\n",
       "1 days       4\n",
       "2 days       4\n",
       "6 days       2\n",
       "4 days       1\n",
       "8 days       1\n",
       "5 days       1\n",
       "3 days       1\n",
       "Name: date_calc, dtype: int64"
      ]
     },
     "execution_count": 42,
     "metadata": {},
     "output_type": "execute_result"
    }
   ],
   "source": [
    "first_event=final_ab_test.groupby('user_id')[['event_date','first_date']].agg({'event_date':'min','first_date':'min'})\n",
    "first_event['date_calc'] = first_event['event_date']-first_event['first_date']\n",
    "first_event['date_calc'].value_counts()"
   ]
  },
  {
   "cell_type": "markdown",
   "id": "17ec18b4",
   "metadata": {},
   "source": [
    "Как мы видим, почти все пользователи совершили действие в момент регистрации, а максимальное количество дней у одного пользователя, с момента регистрации до первого действия заняло 8 дней, что вписывается в наши рамки определенные 9 днями."
   ]
  },
  {
   "cell_type": "markdown",
   "id": "00b36adf",
   "metadata": {},
   "source": [
    "### Выводы по этапу предобработки данных."
   ]
  },
  {
   "cell_type": "markdown",
   "id": "06688dc1",
   "metadata": {},
   "source": [
    "* Тип данных в колонках с датой был object была произведена замена типа данных на datetime;\n",
    "* Проверка на наличие дубликатов показала их отсутствие;\n",
    "* В столбце details таблицы events были обнаружены пропуски, но ввиду того, что адекватную замену пропуску сделать невозможно, было принято решение пропуски оставить.\n",
    "* В ходе изучения таблиц на аномалии и выбросы, никаких подозрительных данных обнаружено не было.\n",
    "* Было проверено соответствие данных техническому заданию. По результатам исследования все пункты технического задания были выполнены;\n",
    "* Мы установили, что максимальное количество дней, которое прошло с момента регистрации до первого действия составило 8 дней, что вписывается в установленный горизонт 9 дней.\n",
    "\n"
   ]
  },
  {
   "cell_type": "markdown",
   "id": "f4c6b6f6",
   "metadata": {},
   "source": [
    "## Исследовательский анализ данных."
   ]
  },
  {
   "cell_type": "markdown",
   "id": "63291f63",
   "metadata": {},
   "source": [
    "### Распределение количества событий на пользователя в группах."
   ]
  },
  {
   "cell_type": "markdown",
   "id": "85b78470",
   "metadata": {},
   "source": [
    "Посмотрим, сколько событий было совершенно в каждой группе."
   ]
  },
  {
   "cell_type": "code",
   "execution_count": 43,
   "id": "27569069",
   "metadata": {},
   "outputs": [
    {
     "data": {
      "text/html": [
       "<div>\n",
       "<style scoped>\n",
       "    .dataframe tbody tr th:only-of-type {\n",
       "        vertical-align: middle;\n",
       "    }\n",
       "\n",
       "    .dataframe tbody tr th {\n",
       "        vertical-align: top;\n",
       "    }\n",
       "\n",
       "    .dataframe thead th {\n",
       "        text-align: right;\n",
       "    }\n",
       "</style>\n",
       "<table border=\"1\" class=\"dataframe\">\n",
       "  <thead>\n",
       "    <tr style=\"text-align: right;\">\n",
       "      <th></th>\n",
       "      <th>user_id</th>\n",
       "    </tr>\n",
       "    <tr>\n",
       "      <th>group</th>\n",
       "      <th></th>\n",
       "    </tr>\n",
       "  </thead>\n",
       "  <tbody>\n",
       "    <tr>\n",
       "      <th>A</th>\n",
       "      <td>18309</td>\n",
       "    </tr>\n",
       "    <tr>\n",
       "      <th>B</th>\n",
       "      <td>5111</td>\n",
       "    </tr>\n",
       "  </tbody>\n",
       "</table>\n",
       "</div>"
      ],
      "text/plain": [
       "       user_id\n",
       "group         \n",
       "A        18309\n",
       "B         5111"
      ]
     },
     "execution_count": 43,
     "metadata": {},
     "output_type": "execute_result"
    }
   ],
   "source": [
    "final_ab_test.groupby('group').agg({'user_id':'count'})"
   ]
  },
  {
   "cell_type": "code",
   "execution_count": 44,
   "id": "4de1ae94",
   "metadata": {},
   "outputs": [
    {
     "name": "stdout",
     "output_type": "stream",
     "text": [
      "Количество событий пользователей группы А: 18309\n",
      "Количество событий пользователей группы B: 5111\n",
      "Среднее количество событий пользователей группы А на 1 пользователя: 7\n",
      "Среднее количество событий пользователей группы B на 1 пользователя: 6\n"
     ]
    }
   ],
   "source": [
    "print('Количество событий пользователей группы А:',len(final_ab_test[final_ab_test['group']=='A']))\n",
    "print('Количество событий пользователей группы B:',len(final_ab_test[final_ab_test['group']=='B']))\n",
    "print('Среднее количество событий пользователей группы А на 1 пользователя:',\n",
    "      round((len(final_ab_test[final_ab_test['group']=='A']))/\n",
    "      (final_ab_test[final_ab_test['group']=='A']['user_id'].nunique())))\n",
    "print('Среднее количество событий пользователей группы B на 1 пользователя:',\n",
    "      round((len(final_ab_test[final_ab_test['group']=='B']))/\n",
    "      (final_ab_test[final_ab_test['group']=='B']['user_id'].nunique())))"
   ]
  },
  {
   "cell_type": "markdown",
   "id": "231825e0",
   "metadata": {},
   "source": [
    "В среднем, на 1 событие больше совершали пользователи из группы A."
   ]
  },
  {
   "cell_type": "markdown",
   "id": "0a9d1705",
   "metadata": {},
   "source": [
    "Построим гистрограмму количества пользователей по числу событий"
   ]
  },
  {
   "cell_type": "code",
   "execution_count": 45,
   "id": "e19ca349",
   "metadata": {},
   "outputs": [
    {
     "data": {
      "image/png": "[encoded data removed]",
      "text/plain": [
       "<Figure size 1008x360 with 1 Axes>"
      ]
     },
     "metadata": {
      "needs_background": "light"
     },
     "output_type": "display_data"
    }
   ],
   "source": [
    "#Построим гистрограмму количества событий по времени для группы А\n",
    "plt.figure(figsize=(14,5))\n",
    "plt.hist(final_ab_test[final_ab_test['group']=='A'].groupby('user_id')[['event_name']].count(),bins=15)\n",
    "plt.title('Распределение количества событий по пользователям группы A')\n",
    "plt.xlabel('События')\n",
    "plt.ylabel('Количество пользователей')\n",
    "plt.xticks(rotation=45)\n",
    "plt.grid(True)\n",
    "plt.show()"
   ]
  },
  {
   "cell_type": "code",
   "execution_count": 46,
   "id": "65a364c3",
   "metadata": {},
   "outputs": [
    {
     "data": {
      "image/png": "[encoded data removed]",
      "text/plain": [
       "<Figure size 1008x360 with 1 Axes>"
      ]
     },
     "metadata": {
      "needs_background": "light"
     },
     "output_type": "display_data"
    }
   ],
   "source": [
    "#Построим гистрограмму количества событий по времени для группы B\n",
    "plt.figure(figsize=(14,5))\n",
    "plt.hist(final_ab_test[final_ab_test['group']=='B'].groupby('user_id')[['event_name']].count(),bins=15)\n",
    "plt.title('Распределение количества событий по пользователям группы B')\n",
    "plt.xlabel('События')\n",
    "plt.ylabel('Количество пользователей')\n",
    "plt.xticks(rotation=45)\n",
    "plt.grid(True)\n",
    "plt.show()"
   ]
  },
  {
   "cell_type": "markdown",
   "id": "8d74d6a0",
   "metadata": {},
   "source": [
    "В группе A пользователем совершается приемущественно совершается от 1 до 10 событий с пиком 6-10 событий,\n",
    "а в группе B преимущественно совершается от 1 до 6 событий с пиком 4-6 событий."
   ]
  },
  {
   "cell_type": "markdown",
   "id": "75985e62",
   "metadata": {},
   "source": [
    "### Распределение числа событий в группах по дням."
   ]
  },
  {
   "cell_type": "code",
   "execution_count": 47,
   "id": "74d4180d",
   "metadata": {},
   "outputs": [
    {
     "data": {
      "image/png": "[encoded data removed]",
      "text/plain": [
       "<Figure size 1008x360 with 1 Axes>"
      ]
     },
     "metadata": {
      "needs_background": "light"
     },
     "output_type": "display_data"
    }
   ],
   "source": [
    "#Построим гистрограмму количества событий группы A\n",
    "plt.figure(figsize=(14,5))\n",
    "plt.hist(final_ab_test[final_ab_test['group']=='A']['event_dt'],bins=12*23)\n",
    "plt.title('Распределение количества событий по датам группы A')\n",
    "plt.xlabel('Дата')\n",
    "plt.ylabel('Количество событий')\n",
    "plt.xticks(rotation=45)\n",
    "plt.grid(True)\n",
    "plt.show()"
   ]
  },
  {
   "cell_type": "code",
   "execution_count": 48,
   "id": "3bbd132e",
   "metadata": {},
   "outputs": [
    {
     "data": {
      "image/png": "[encoded data removed]",
      "text/plain": [
       "<Figure size 1008x360 with 1 Axes>"
      ]
     },
     "metadata": {
      "needs_background": "light"
     },
     "output_type": "display_data"
    }
   ],
   "source": [
    "#Построим гистрограмму количества событий группы B\n",
    "plt.figure(figsize=(14,5))\n",
    "plt.hist(final_ab_test[final_ab_test['group']=='B']['event_dt'],bins=12*23)\n",
    "plt.title('Распределение количества событий по датам группы B')\n",
    "plt.xlabel('Дата')\n",
    "plt.ylabel('Количество событий')\n",
    "plt.xticks(rotation=45)\n",
    "plt.grid(True)\n",
    "plt.show()"
   ]
  },
  {
   "cell_type": "markdown",
   "id": "974f8ff4",
   "metadata": {},
   "source": [
    "Мы видим, что распределение количества событий по датам в группе А и B разное, у группы А пик приходится с 14 по 24 декабря, а у группы B на 7-9 декабря, 14-15 и 21-22 декабря, при том, после 21 декабря количество существенно снижается.  \n"
   ]
  },
  {
   "cell_type": "markdown",
   "id": "8100e059",
   "metadata": {},
   "source": [
    "Также, отдельно отметим, что после 25 декабря активность снижается - это подтверждает наше мнение о том, что маркетинговая компания, проводимая в этот период, не повлияла на активность пользователей."
   ]
  },
  {
   "cell_type": "markdown",
   "id": "b70669b0",
   "metadata": {},
   "source": [
    "### Изучение воронки событий."
   ]
  },
  {
   "cell_type": "code",
   "execution_count": 49,
   "id": "fcec5d35",
   "metadata": {},
   "outputs": [
    {
     "name": "stdout",
     "output_type": "stream",
     "text": [
      "Уникальных событий в логе: 4\n"
     ]
    },
    {
     "data": {
      "text/plain": [
       "login           10595\n",
       "product_page     6554\n",
       "purchase         3196\n",
       "product_cart     3075\n",
       "Name: event_name, dtype: int64"
      ]
     },
     "execution_count": 49,
     "metadata": {},
     "output_type": "execute_result"
    }
   ],
   "source": [
    "print('Уникальных событий в логе:',final_ab_test['event_name'].nunique())\n",
    "final_ab_test['event_name'].value_counts()"
   ]
  },
  {
   "cell_type": "markdown",
   "id": "b907edd7",
   "metadata": {},
   "source": [
    "Всего 4 уникальных событий:\n",
    "1) login - страница аккаунта, человек зашел под своим логином,           \n",
    "2) product_page - экран продукта,           \n",
    "3) product_cart - экран корзины / пользователь добавил продукты в корзину,           \n",
    "4) purchase - пользователь успешно оплатил заказ.  "
   ]
  },
  {
   "cell_type": "markdown",
   "id": "22f28019",
   "metadata": {},
   "source": [
    "Все события последовательны и выстраиваются в логическую цепочку исходя из их количества, однако, немного странно, что событий покупки больше чем событий с корзиной продуктов. Возможно, у пользователей есть выбор купить продукты в один клик, без добавления в корзину, но в дальнейшем, при построении воронки событий мы переместим событие product_cart на 3 место, а purchase опустим на 4."
   ]
  },
  {
   "cell_type": "markdown",
   "id": "a686eefb",
   "metadata": {},
   "source": [
    "Визуализируем полученные данные."
   ]
  },
  {
   "cell_type": "code",
   "execution_count": 50,
   "id": "17ade3b2",
   "metadata": {},
   "outputs": [
    {
     "data": {
      "image/png": "[encoded data removed]",
      "text/plain": [
       "<Figure size 720x504 with 1 Axes>"
      ]
     },
     "metadata": {
      "needs_background": "light"
     },
     "output_type": "display_data"
    }
   ],
   "source": [
    "df_event_name=final_ab_test.pivot_table(\n",
    "    index='event_name', values='group',aggfunc='count').reset_index().set_axis(\n",
    "    ['event_name','count'],axis='columns'\n",
    "    ).sort_values(by='count',ascending=False)\n",
    "plt.figure(figsize=(10,7))\n",
    "sns.barplot(x='count',y='event_name',data=df_event_name)\n",
    "plt.title('Количество событий')\n",
    "plt.xlabel('Количество')\n",
    "plt.ylabel('Событие')\n",
    "plt.show()"
   ]
  },
  {
   "cell_type": "markdown",
   "id": "5c981361",
   "metadata": {},
   "source": [
    "Найдем число уникальных пользователей, которые совершали разные события и сразу разместим события по их логической цепочке, т.е. оплата будет последняя."
   ]
  },
  {
   "cell_type": "code",
   "execution_count": 51,
   "id": "82f13f15",
   "metadata": {},
   "outputs": [
    {
     "data": {
      "text/html": [
       "<div>\n",
       "<style scoped>\n",
       "    .dataframe tbody tr th:only-of-type {\n",
       "        vertical-align: middle;\n",
       "    }\n",
       "\n",
       "    .dataframe tbody tr th {\n",
       "        vertical-align: top;\n",
       "    }\n",
       "\n",
       "    .dataframe thead th {\n",
       "        text-align: right;\n",
       "    }\n",
       "</style>\n",
       "<table border=\"1\" class=\"dataframe\">\n",
       "  <thead>\n",
       "    <tr style=\"text-align: right;\">\n",
       "      <th>group</th>\n",
       "      <th>event_name</th>\n",
       "      <th>A</th>\n",
       "      <th>B</th>\n",
       "    </tr>\n",
       "  </thead>\n",
       "  <tbody>\n",
       "    <tr>\n",
       "      <th>0</th>\n",
       "      <td>login</td>\n",
       "      <td>2604</td>\n",
       "      <td>877</td>\n",
       "    </tr>\n",
       "    <tr>\n",
       "      <th>1</th>\n",
       "      <td>product_page</td>\n",
       "      <td>1685</td>\n",
       "      <td>493</td>\n",
       "    </tr>\n",
       "    <tr>\n",
       "      <th>3</th>\n",
       "      <td>product_cart</td>\n",
       "      <td>782</td>\n",
       "      <td>244</td>\n",
       "    </tr>\n",
       "    <tr>\n",
       "      <th>2</th>\n",
       "      <td>purchase</td>\n",
       "      <td>833</td>\n",
       "      <td>249</td>\n",
       "    </tr>\n",
       "  </tbody>\n",
       "</table>\n",
       "</div>"
      ],
      "text/plain": [
       "group    event_name     A    B\n",
       "0             login  2604  877\n",
       "1      product_page  1685  493\n",
       "3      product_cart   782  244\n",
       "2          purchase   833  249"
      ]
     },
     "execution_count": 51,
     "metadata": {},
     "output_type": "execute_result"
    }
   ],
   "source": [
    "event_name_unique = final_ab_test.pivot_table(index='event_name', \n",
    "                                                      values='user_id', \n",
    "                                                      columns='group', \n",
    "                                                      aggfunc='nunique')\n",
    "\n",
    "event_name_unique = event_name_unique.sort_values(by = 'A', ascending = False).reset_index().reindex([0,1,3,2])\n",
    "\n",
    "event_name_unique"
   ]
  },
  {
   "cell_type": "markdown",
   "id": "f64e65e0",
   "metadata": {},
   "source": [
    "Построим воронку событий."
   ]
  },
  {
   "cell_type": "code",
   "execution_count": 52,
   "id": "ca5e2dec",
   "metadata": {},
   "outputs": [],
   "source": [
    "fig = go.Figure()\n",
    "\n",
    "fig.add_trace(go.Funnel(\n",
    "    name = 'Group A',\n",
    "    y = event_name_unique['event_name'],\n",
    "    x = event_name_unique['A'],\n",
    "    textinfo = \"value+percent initial+percent previous\"))\n",
    "    \n",
    "\n",
    "fig.add_trace(go.Funnel(\n",
    "    name = 'Group B',\n",
    "    orientation = \"h\",\n",
    "    y = event_name_unique['event_name'],\n",
    "    x = event_name_unique['B'],\n",
    "    textposition = [\"inside\", \"outside\", \"outside\", \"outside\"],\n",
    "    textinfo = \"value+percent initial+percent previous\"))\n",
    "fig.update_layout(\n",
    "    autosize=False,\n",
    "    width=1000,\n",
    "    height=600,)\n",
    "pio.renderers\n",
    "pio.renderers.default = \"svg\""
   ]
  },
  {
   "cell_type": "markdown",
   "id": "fc95c6d5",
   "metadata": {},
   "source": [
    "Представим данные, полученные из воронки событий в виде таблицы.  \n",
    "Найдем долю пользователей совершавших каждое из событий, поделив количество уникальных событий для каждого на общее количество уникальных пользователей по группам."
   ]
  },
  {
   "cell_type": "code",
   "execution_count": 53,
   "id": "eaae2bb2",
   "metadata": {},
   "outputs": [
    {
     "data": {
      "text/html": [
       "<div>\n",
       "<style scoped>\n",
       "    .dataframe tbody tr th:only-of-type {\n",
       "        vertical-align: middle;\n",
       "    }\n",
       "\n",
       "    .dataframe tbody tr th {\n",
       "        vertical-align: top;\n",
       "    }\n",
       "\n",
       "    .dataframe thead th {\n",
       "        text-align: right;\n",
       "    }\n",
       "</style>\n",
       "<table border=\"1\" class=\"dataframe\">\n",
       "  <thead>\n",
       "    <tr style=\"text-align: right;\">\n",
       "      <th>group</th>\n",
       "      <th>event_name</th>\n",
       "      <th>A</th>\n",
       "      <th>B</th>\n",
       "      <th>share_A</th>\n",
       "      <th>share_B</th>\n",
       "    </tr>\n",
       "  </thead>\n",
       "  <tbody>\n",
       "    <tr>\n",
       "      <th>0</th>\n",
       "      <td>login</td>\n",
       "      <td>2604</td>\n",
       "      <td>877</td>\n",
       "      <td>100.0%</td>\n",
       "      <td>100.0%</td>\n",
       "    </tr>\n",
       "    <tr>\n",
       "      <th>1</th>\n",
       "      <td>product_page</td>\n",
       "      <td>1685</td>\n",
       "      <td>493</td>\n",
       "      <td>64.71%</td>\n",
       "      <td>56.21%</td>\n",
       "    </tr>\n",
       "    <tr>\n",
       "      <th>3</th>\n",
       "      <td>product_cart</td>\n",
       "      <td>782</td>\n",
       "      <td>244</td>\n",
       "      <td>30.03%</td>\n",
       "      <td>27.82%</td>\n",
       "    </tr>\n",
       "    <tr>\n",
       "      <th>2</th>\n",
       "      <td>purchase</td>\n",
       "      <td>833</td>\n",
       "      <td>249</td>\n",
       "      <td>31.99%</td>\n",
       "      <td>28.39%</td>\n",
       "    </tr>\n",
       "  </tbody>\n",
       "</table>\n",
       "</div>"
      ],
      "text/plain": [
       "group    event_name     A    B share_A share_B\n",
       "0             login  2604  877  100.0%  100.0%\n",
       "1      product_page  1685  493  64.71%  56.21%\n",
       "3      product_cart   782  244  30.03%  27.82%\n",
       "2          purchase   833  249  31.99%  28.39%"
      ]
     },
     "execution_count": 53,
     "metadata": {},
     "output_type": "execute_result"
    }
   ],
   "source": [
    "\n",
    "event_name_unique['share_A'] = round((event_name_unique['A'] / \n",
    "                               final_ab_test[final_ab_test['group']=='A']['user_id'].nunique())*100,2).astype(str) + '%'\n",
    "event_name_unique['share_B'] = round((event_name_unique['B'] / \n",
    "                               final_ab_test[final_ab_test['group']=='B']['user_id'].nunique())*100,2).astype(str) + '%'\n",
    "event_name_unique"
   ]
  },
  {
   "cell_type": "markdown",
   "id": "f781070c",
   "metadata": {},
   "source": [
    "Добавим столбцы с количеством клиентов, для расчёта доли пользователей перешедших на следующий этап от числа пользователей на предыдущем."
   ]
  },
  {
   "cell_type": "code",
   "execution_count": 54,
   "id": "eeb89212",
   "metadata": {},
   "outputs": [
    {
     "data": {
      "text/html": [
       "<div>\n",
       "<style scoped>\n",
       "    .dataframe tbody tr th:only-of-type {\n",
       "        vertical-align: middle;\n",
       "    }\n",
       "\n",
       "    .dataframe tbody tr th {\n",
       "        vertical-align: top;\n",
       "    }\n",
       "\n",
       "    .dataframe thead th {\n",
       "        text-align: right;\n",
       "    }\n",
       "</style>\n",
       "<table border=\"1\" class=\"dataframe\">\n",
       "  <thead>\n",
       "    <tr style=\"text-align: right;\">\n",
       "      <th>group</th>\n",
       "      <th>event_name</th>\n",
       "      <th>A</th>\n",
       "      <th>B</th>\n",
       "      <th>share_A</th>\n",
       "      <th>share_B</th>\n",
       "      <th>share_from_previous_A</th>\n",
       "      <th>share_from_previous_B</th>\n",
       "    </tr>\n",
       "  </thead>\n",
       "  <tbody>\n",
       "    <tr>\n",
       "      <th>0</th>\n",
       "      <td>login</td>\n",
       "      <td>2604</td>\n",
       "      <td>877</td>\n",
       "      <td>100.0%</td>\n",
       "      <td>100.0%</td>\n",
       "      <td>100.0%</td>\n",
       "      <td>100.0%</td>\n",
       "    </tr>\n",
       "    <tr>\n",
       "      <th>1</th>\n",
       "      <td>product_page</td>\n",
       "      <td>1685</td>\n",
       "      <td>493</td>\n",
       "      <td>64.71%</td>\n",
       "      <td>56.21%</td>\n",
       "      <td>64.71%</td>\n",
       "      <td>56.21%</td>\n",
       "    </tr>\n",
       "    <tr>\n",
       "      <th>3</th>\n",
       "      <td>product_cart</td>\n",
       "      <td>782</td>\n",
       "      <td>244</td>\n",
       "      <td>30.03%</td>\n",
       "      <td>27.82%</td>\n",
       "      <td>46.41%</td>\n",
       "      <td>49.49%</td>\n",
       "    </tr>\n",
       "    <tr>\n",
       "      <th>2</th>\n",
       "      <td>purchase</td>\n",
       "      <td>833</td>\n",
       "      <td>249</td>\n",
       "      <td>31.99%</td>\n",
       "      <td>28.39%</td>\n",
       "      <td>106.52%</td>\n",
       "      <td>102.05%</td>\n",
       "    </tr>\n",
       "  </tbody>\n",
       "</table>\n",
       "</div>"
      ],
      "text/plain": [
       "group    event_name     A    B share_A share_B share_from_previous_A  \\\n",
       "0             login  2604  877  100.0%  100.0%                100.0%   \n",
       "1      product_page  1685  493  64.71%  56.21%                64.71%   \n",
       "3      product_cart   782  244  30.03%  27.82%                46.41%   \n",
       "2          purchase   833  249  31.99%  28.39%               106.52%   \n",
       "\n",
       "group share_from_previous_B  \n",
       "0                    100.0%  \n",
       "1                    56.21%  \n",
       "3                    49.49%  \n",
       "2                   102.05%  "
      ]
     },
     "execution_count": 54,
     "metadata": {},
     "output_type": "execute_result"
    }
   ],
   "source": [
    "event_name_unique['for_calculation_A'] = event_name_unique['A'].shift(1, fill_value = event_name_unique['A'].loc[0])\n",
    "event_name_unique['share_from_previous_A'] = round(\n",
    "                                                (event_name_unique['A'] / event_name_unique['for_calculation_A'] * 100),2\n",
    "                                                ).astype(str) + '%'\n",
    "event_name_unique['for_calculation_B'] = event_name_unique['B'].shift(1, fill_value = event_name_unique['B'].loc[0])\n",
    "event_name_unique['share_from_previous_B'] = round(\n",
    "                                                (event_name_unique['B'] / event_name_unique['for_calculation_B'] * 100),2\n",
    "                                                ).astype(str) + '%'\n",
    "event_name_unique = event_name_unique.drop(['for_calculation_A','for_calculation_B'],axis=1)\n",
    "event_name_unique"
   ]
  },
  {
   "cell_type": "markdown",
   "id": "614ad4a3",
   "metadata": {},
   "source": [
    "Мы видим, что на всех этапах воронки, кроме одного, конверсия выше у пользователей группы A, как по доле от общего числа пользователей по группам, так и от числа пользователей на предыдущем шаге воронки (доля пользователей от количества на предыдущем этапе воронке выше у группы B только на шаге корзины 49.49% против 46.41% у группы А). Также, по воронке событий видно насколько пользователей группы A больше чем пользователей группы B."
   ]
  },
  {
   "cell_type": "markdown",
   "id": "74c68f25",
   "metadata": {},
   "source": [
    "### Особенности данных, которые нужно учесть, прежде чем приступать к A/B-тестированию."
   ]
  },
  {
   "cell_type": "markdown",
   "id": "58f7c23f",
   "metadata": {},
   "source": [
    "* Разное количество пользователей в группе A и B, 2604 против 877 - колоссальная разница;\n",
    "* В среднем, пользователи группы A совершают на 1 событие больше;\n",
    "* Шаг login прошли 100% пользователей в обеих группах;\n",
    "* Конверсия по результатам построения воронки событий выше у группы А на каждом этапе;\n",
    "* Последний шаг воронки - оплата, содержит больше пользователей чем предыдущий - страница корзины."
   ]
  },
  {
   "cell_type": "markdown",
   "id": "1f3623bd",
   "metadata": {},
   "source": [
    "## Оценка результатов A/B-тестирования."
   ]
  },
  {
   "cell_type": "markdown",
   "id": "61a18962",
   "metadata": {},
   "source": [
    "Создадим переменную с количеством пользователей в каждой группе."
   ]
  },
  {
   "cell_type": "code",
   "execution_count": 55,
   "id": "2a272550",
   "metadata": {},
   "outputs": [
    {
     "data": {
      "text/html": [
       "<div>\n",
       "<style scoped>\n",
       "    .dataframe tbody tr th:only-of-type {\n",
       "        vertical-align: middle;\n",
       "    }\n",
       "\n",
       "    .dataframe tbody tr th {\n",
       "        vertical-align: top;\n",
       "    }\n",
       "\n",
       "    .dataframe thead th {\n",
       "        text-align: right;\n",
       "    }\n",
       "</style>\n",
       "<table border=\"1\" class=\"dataframe\">\n",
       "  <thead>\n",
       "    <tr style=\"text-align: right;\">\n",
       "      <th></th>\n",
       "      <th>user_id</th>\n",
       "    </tr>\n",
       "    <tr>\n",
       "      <th>group</th>\n",
       "      <th></th>\n",
       "    </tr>\n",
       "  </thead>\n",
       "  <tbody>\n",
       "    <tr>\n",
       "      <th>A</th>\n",
       "      <td>2604</td>\n",
       "    </tr>\n",
       "    <tr>\n",
       "      <th>B</th>\n",
       "      <td>877</td>\n",
       "    </tr>\n",
       "  </tbody>\n",
       "</table>\n",
       "</div>"
      ],
      "text/plain": [
       "       user_id\n",
       "group         \n",
       "A         2604\n",
       "B          877"
      ]
     },
     "execution_count": 55,
     "metadata": {},
     "output_type": "execute_result"
    }
   ],
   "source": [
    "users = final_ab_test.groupby('group')['user_id'].nunique().reset_index().copy()\n",
    "users.set_index('group', inplace=True)\n",
    "users"
   ]
  },
  {
   "cell_type": "code",
   "execution_count": 56,
   "id": "27c113b7",
   "metadata": {},
   "outputs": [
    {
     "data": {
      "text/plain": [
       "2604"
      ]
     },
     "execution_count": 56,
     "metadata": {},
     "output_type": "execute_result"
    }
   ],
   "source": [
    "users.loc['A','user_id']"
   ]
  },
  {
   "cell_type": "code",
   "execution_count": 57,
   "id": "198f58f8",
   "metadata": {},
   "outputs": [
    {
     "name": "stdout",
     "output_type": "stream",
     "text": [
      "Доля группы B от A составляет: 0.33678955453149\n"
     ]
    }
   ],
   "source": [
    "print('Доля группы B от A составляет:',users.loc['B','user_id']/users.loc['A','user_id'])"
   ]
  },
  {
   "cell_type": "markdown",
   "id": "a84c738f",
   "metadata": {},
   "source": [
    "Разница в количестве участников двух групп очень большая, что вызывает сомнения в успешности проведения A/B теста."
   ]
  },
  {
   "cell_type": "markdown",
   "id": "f969528b",
   "metadata": {},
   "source": [
    "Создадим таблицу с числом уникальных пользователей по каждому событию в разбивке по группам."
   ]
  },
  {
   "cell_type": "code",
   "execution_count": 58,
   "id": "848d4b1c",
   "metadata": {},
   "outputs": [
    {
     "data": {
      "text/html": [
       "<div>\n",
       "<style scoped>\n",
       "    .dataframe tbody tr th:only-of-type {\n",
       "        vertical-align: middle;\n",
       "    }\n",
       "\n",
       "    .dataframe tbody tr th {\n",
       "        vertical-align: top;\n",
       "    }\n",
       "\n",
       "    .dataframe thead th {\n",
       "        text-align: right;\n",
       "    }\n",
       "</style>\n",
       "<table border=\"1\" class=\"dataframe\">\n",
       "  <thead>\n",
       "    <tr style=\"text-align: right;\">\n",
       "      <th>group</th>\n",
       "      <th>A</th>\n",
       "      <th>B</th>\n",
       "    </tr>\n",
       "    <tr>\n",
       "      <th>event_name</th>\n",
       "      <th></th>\n",
       "      <th></th>\n",
       "    </tr>\n",
       "  </thead>\n",
       "  <tbody>\n",
       "    <tr>\n",
       "      <th>login</th>\n",
       "      <td>2604</td>\n",
       "      <td>877</td>\n",
       "    </tr>\n",
       "    <tr>\n",
       "      <th>product_page</th>\n",
       "      <td>1685</td>\n",
       "      <td>493</td>\n",
       "    </tr>\n",
       "    <tr>\n",
       "      <th>purchase</th>\n",
       "      <td>833</td>\n",
       "      <td>249</td>\n",
       "    </tr>\n",
       "    <tr>\n",
       "      <th>product_cart</th>\n",
       "      <td>782</td>\n",
       "      <td>244</td>\n",
       "    </tr>\n",
       "  </tbody>\n",
       "</table>\n",
       "</div>"
      ],
      "text/plain": [
       "group            A    B\n",
       "event_name             \n",
       "login         2604  877\n",
       "product_page  1685  493\n",
       "purchase       833  249\n",
       "product_cart   782  244"
      ]
     },
     "execution_count": 58,
     "metadata": {},
     "output_type": "execute_result"
    }
   ],
   "source": [
    "funnels = final_ab_test.pivot_table(index='event_name', columns='group',values='user_id',aggfunc='nunique')\\\n",
    "                       .sort_values('A',ascending=False).reset_index()\n",
    "funnels.set_index('event_name', inplace=True)\n",
    "funnels"
   ]
  },
  {
   "cell_type": "markdown",
   "id": "56a2aa89",
   "metadata": {},
   "source": [
    "Примем за уровень статистической значимости стандартное значение 0.05 - вероятность совершить ошибку первого рода, т.е. вероятность отклонить нулевую гипотезу, если она истинна составляет 5%."
   ]
  },
  {
   "cell_type": "markdown",
   "id": "f07bb1e9",
   "metadata": {},
   "source": [
    "Сформулируем нулевую и альтернативную гипотезу:  \n",
    "\n",
    "\n",
    "**Нулевая гипотеза** - Доли уникальных посетителей, побывавших на этапе воронки, одинаковы.  \n",
    "   \n",
    "**Альтернативная гипотеза** - Между долями уникальных посетителей, побывавших на этапе воронки, есть значимая разница."
   ]
  },
  {
   "cell_type": "markdown",
   "id": "a67c7d51",
   "metadata": {},
   "source": [
    "Для удобства дальнейшего использования, напишем функцию для Z-критерия, которая будет принимать следующие значения:  \n",
    "первая группа, вторая группа, событие и уровень статистической значимости."
   ]
  },
  {
   "cell_type": "code",
   "execution_count": 59,
   "id": "5a00943a",
   "metadata": {},
   "outputs": [],
   "source": [
    "def z_test(group_1, group_2, event, alpha): \n",
    "    p1_event = funnels.loc[event, group_1]\n",
    "    p2_event = funnels.loc[event, group_2]\n",
    "    p1_users = users.loc[group_1, 'user_id']\n",
    "    p2_users = users.loc[group_2, 'user_id']\n",
    "    p1 = p1_event / p1_users\n",
    "    p2 = p2_event / p2_users\n",
    "    p_combined = (p1_event + p2_event) / (p1_users + p2_users)\n",
    "    difference = p1 - p2\n",
    "    z_value = difference / mth.sqrt(p_combined * (1 - p_combined) * (1 / p1_users + 1 / p2_users))\n",
    "                                                                                                  \n",
    "    distr = st.norm(0, 1)\n",
    "    p_value = (1 - distr.cdf(abs(z_value))) * 2\n",
    "            \n",
    "    print(f'Проверка для групп {group_1} и {group_2}, событие: {event}, p-значение: {p_value}')\n",
    "    \n",
    "    if (p_value < alpha):\n",
    "        print(\"Отвергаем нулевую гипотезу о равенстве долей уникальных посетителей, побывавших на этапе воронки\")\n",
    "        print('')\n",
    "    else:\n",
    "        print(\"Не получилось отвергнуть нулевую гипотезу о равенстве долей уникальных посетителей, побывавших на этапе воронки\")\n",
    "        print('')"
   ]
  },
  {
   "cell_type": "markdown",
   "id": "0c1599aa",
   "metadata": {},
   "source": [
    "Создадим цикл для подачи аргументов в функцию и сравним группы A и B"
   ]
  },
  {
   "cell_type": "code",
   "execution_count": 60,
   "id": "b6733dec",
   "metadata": {},
   "outputs": [
    {
     "name": "stdout",
     "output_type": "stream",
     "text": [
      "Проверка для групп A и B, событие: login, p-значение: nan\n",
      "Не получилось отвергнуть нулевую гипотезу о равенстве долей уникальных посетителей, побывавших на этапе воронки\n",
      "\n",
      "Проверка для групп A и B, событие: product_page, p-значение: 6.942739359416805e-06\n",
      "Отвергаем нулевую гипотезу о равенстве долей уникальных посетителей, побывавших на этапе воронки\n",
      "\n",
      "Проверка для групп A и B, событие: purchase, p-значение: 0.04652482738393027\n",
      "Отвергаем нулевую гипотезу о равенстве долей уникальных посетителей, побывавших на этапе воронки\n",
      "\n",
      "Проверка для групп A и B, событие: product_cart, p-значение: 0.21469192029582396\n",
      "Не получилось отвергнуть нулевую гипотезу о равенстве долей уникальных посетителей, побывавших на этапе воронки\n",
      "\n"
     ]
    },
    {
     "name": "stderr",
     "output_type": "stream",
     "text": [
      "C:\\Users\\Павлик\\AppData\\Local\\Temp\\ipykernel_2056\\3912008303.py:10: RuntimeWarning:\n",
      "\n",
      "invalid value encountered in double_scalars\n",
      "\n"
     ]
    }
   ],
   "source": [
    "for event in funnels.index:\n",
    "    z_test('A','B', event, 0.05)"
   ]
  },
  {
   "cell_type": "markdown",
   "id": "02ec384b",
   "metadata": {},
   "source": [
    "* Проверка событий login не могла быть корректной, т.к. этот этап выполнили 100% пользователей из обеих групп;\n",
    "* Тест показал статистическую значимость различий долей между группой A и B на действиях product_page и purchase;\n",
    "* На этапе product_cart тест не показал статистичской значимости различий долей между группой A и B."
   ]
  },
  {
   "cell_type": "markdown",
   "id": "2e5ce393",
   "metadata": {},
   "source": [
    "## Выводы."
   ]
  },
  {
   "cell_type": "markdown",
   "id": "cdd85a8a",
   "metadata": {},
   "source": [
    "**Общие выводы:**\n",
    "* В представленных данных была проведена предобработка данных:\n",
    "  * Тип данных в колонках с датой был object, была произведена замена типа данных на datetime;\n",
    "  * Проверка на наличие дубликатов показала их отсутствие;\n",
    "  * В столбце details таблицы events были обнаружены пропуски, но ввиду того, что адекватную замену пропуску сделать невозможно, было принято решение пропуски оставить;\n",
    "  * В ходе изучения таблиц на аномалии и выбросы, никаких подозрительных данных обнаружено не было;\n",
    "  * Было проверено соответствие данных техническому заданию. По результатам исследования все пункты технического задания были выполнены;\n",
    "  * Мы установили, что максимальное количество дней, которое прошло с момента регистрации до первого действия составило 8 дней, что вписывается в установленный горизонт 9 дней.\n",
    "  \n",
    "\n",
    "* Следующим этапом был произведен исследовательский анализ данных, по результатам которого выделены ключевые особенности данных:\n",
    "  * Разное количество пользователей в группе A и B, 2604 против 877 - колоссальная разница;\n",
    "  * В среднем, пользователи группы A совершают на 1 событие больше;\n",
    "  * Шаг login прошли 100% пользователей в обеих группах;\n",
    "  * Конверсия по результатам построения воронки событий выше у группы А на каждом этапе;\n",
    "  * Последний шаг воронки - оплата, содержит больше пользователей чем предыдущий - страница корзины.\n",
    "  \n",
    "  \n",
    "* Третий этап представлял оценку результатов A/B-тестирования:\n",
    "  * Проверка событий login не могла быть корректной, т.к. этот этап выполнили 100% пользователей из обеих групп;\n",
    "  * Тест показал статистическую значимость различий долей между группой A и B на действиях product_page и purchase;\n",
    "  * На этапе product_cart тест не показал статистичской значимости различий долей между группой A и B.  \n",
    "  \n",
    "**Общая оценка результата A/B-тестирования:**\n",
    " * Нельзя принимать результаты A/B теста, т.к. есть значимые ошибки при его проведении;\n",
    " * Количество пользователей в контрольной группе 2604 пользователей, в тестовой группе 877, разница почти в три раза;\n",
    " * Минимальное количество пользователей, установленное в ТЗ, было набрано и составило более 6000 человек, однако, какое-либо действие в ходе теста сделали лишь 3481 человек, что существенно ниже условию из ТЗ;\n",
    " * В таблице с действиями пользователей не хватило данных за 5 дней, с 31 декабря 2020 года по 4 января 2021 года;\n",
    " * Параллельно с нашим тестом проводился конкурирующий тест и были пользователи, которые участвовали в двух тестах одновременно. Хотя мы и выяснили, что доля пользователей из конкурирующего теста в группе B одновременно участвовала в равных долях в первом тесте в группах A и B, нельзя считать, что это не могло повлиять на результаты теста - это серьезное допущение;\n",
    " * Было установлено, что в период проведение теста проводилась одна маркетинговая компания, и хотя активность пользователей группы A и B одновременно снизилась в этот период, знать точное влияния компании не представляется возможным.\n"
   ]
  }
 ],
 "metadata": {
  "ExecuteTimeLog": [
   {
    "duration": 1169,
    "start_time": "2022-10-22T13:26:53.488Z"
   },
   {
    "duration": 759,
    "start_time": "2022-10-22T13:26:54.659Z"
   },
   {
    "duration": 120,
    "start_time": "2022-10-22T13:26:55.419Z"
   },
   {
    "duration": 7,
    "start_time": "2022-10-22T13:26:55.541Z"
   },
   {
    "duration": 139,
    "start_time": "2022-10-22T13:26:55.549Z"
   },
   {
    "duration": 7,
    "start_time": "2022-10-22T13:26:55.690Z"
   },
   {
    "duration": 247,
    "start_time": "2022-10-22T13:26:55.699Z"
   },
   {
    "duration": 45,
    "start_time": "2022-10-22T13:26:55.948Z"
   },
   {
    "duration": 6,
    "start_time": "2022-10-22T13:26:56.008Z"
   },
   {
    "duration": 39,
    "start_time": "2022-10-22T13:26:56.016Z"
   },
   {
    "duration": 11,
    "start_time": "2022-10-22T13:26:56.057Z"
   },
   {
    "duration": 10,
    "start_time": "2022-10-22T13:26:56.070Z"
   },
   {
    "duration": 44,
    "start_time": "2022-10-22T13:26:56.081Z"
   },
   {
    "duration": 7,
    "start_time": "2022-10-22T13:26:56.126Z"
   },
   {
    "duration": 6,
    "start_time": "2022-10-22T13:26:56.135Z"
   },
   {
    "duration": 10,
    "start_time": "2022-10-22T13:26:56.142Z"
   },
   {
    "duration": 14,
    "start_time": "2022-10-22T13:26:56.154Z"
   },
   {
    "duration": 6,
    "start_time": "2022-10-22T13:26:56.170Z"
   },
   {
    "duration": 34,
    "start_time": "2022-10-22T13:26:56.178Z"
   },
   {
    "duration": 8,
    "start_time": "2022-10-22T13:26:56.214Z"
   },
   {
    "duration": 6,
    "start_time": "2022-10-22T13:26:56.223Z"
   },
   {
    "duration": 13,
    "start_time": "2022-10-22T13:26:56.231Z"
   },
   {
    "duration": 7,
    "start_time": "2022-10-22T13:26:56.245Z"
   },
   {
    "duration": 18,
    "start_time": "2022-10-22T13:26:56.254Z"
   },
   {
    "duration": 45,
    "start_time": "2022-10-22T13:26:56.274Z"
   },
   {
    "duration": 34,
    "start_time": "2022-10-22T13:26:56.320Z"
   },
   {
    "duration": 9,
    "start_time": "2022-10-22T13:26:56.356Z"
   },
   {
    "duration": 10,
    "start_time": "2022-10-22T13:26:56.369Z"
   },
   {
    "duration": 35,
    "start_time": "2022-10-22T13:26:56.380Z"
   },
   {
    "duration": 9,
    "start_time": "2022-10-22T13:26:56.417Z"
   },
   {
    "duration": 13,
    "start_time": "2022-10-22T13:26:56.427Z"
   },
   {
    "duration": 621,
    "start_time": "2022-10-22T13:26:56.442Z"
   },
   {
    "duration": 14,
    "start_time": "2022-10-22T13:26:57.065Z"
   },
   {
    "duration": 30,
    "start_time": "2022-10-22T13:26:57.080Z"
   },
   {
    "duration": 12,
    "start_time": "2022-10-22T13:26:57.111Z"
   },
   {
    "duration": 14,
    "start_time": "2022-10-22T13:26:57.124Z"
   },
   {
    "duration": 6,
    "start_time": "2022-10-22T13:26:57.140Z"
   },
   {
    "duration": 6,
    "start_time": "2022-10-22T13:26:57.147Z"
   },
   {
    "duration": 125,
    "start_time": "2022-10-22T13:26:57.154Z"
   },
   {
    "duration": 12,
    "start_time": "2022-10-22T13:26:57.281Z"
   },
   {
    "duration": 30,
    "start_time": "2022-10-22T13:26:57.308Z"
   },
   {
    "duration": 17,
    "start_time": "2022-10-22T13:26:57.340Z"
   },
   {
    "duration": 9,
    "start_time": "2022-10-22T13:26:57.359Z"
   },
   {
    "duration": 44,
    "start_time": "2022-10-22T13:26:57.369Z"
   },
   {
    "duration": 179,
    "start_time": "2022-10-22T13:26:57.415Z"
   },
   {
    "duration": 169,
    "start_time": "2022-10-22T13:26:57.596Z"
   },
   {
    "duration": 537,
    "start_time": "2022-10-22T13:26:57.767Z"
   },
   {
    "duration": 449,
    "start_time": "2022-10-22T13:26:58.306Z"
   },
   {
    "duration": 11,
    "start_time": "2022-10-22T13:26:58.757Z"
   },
   {
    "duration": 151,
    "start_time": "2022-10-22T13:26:58.770Z"
   },
   {
    "duration": 24,
    "start_time": "2022-10-22T13:26:58.923Z"
   },
   {
    "duration": 186,
    "start_time": "2022-10-22T13:26:58.948Z"
   },
   {
    "duration": 21,
    "start_time": "2022-10-22T13:26:59.136Z"
   },
   {
    "duration": 61,
    "start_time": "2022-10-22T13:26:59.158Z"
   },
   {
    "duration": 37,
    "start_time": "2022-10-22T13:26:59.221Z"
   },
   {
    "duration": 50,
    "start_time": "2022-10-22T13:26:59.260Z"
   },
   {
    "duration": 17,
    "start_time": "2022-10-22T13:26:59.312Z"
   },
   {
    "duration": 49,
    "start_time": "2022-10-22T13:26:59.331Z"
   },
   {
    "duration": 5,
    "start_time": "2022-10-22T13:26:59.382Z"
   },
   {
    "duration": 15,
    "start_time": "2022-10-22T13:26:59.388Z"
   }
  ],
  "kernelspec": {
   "display_name": "Python 3 (ipykernel)",
   "language": "python",
   "name": "python3"
  },
  "language_info": {
   "codemirror_mode": {
    "name": "ipython",
    "version": 3
   },
   "file_extension": ".py",
   "mimetype": "text/x-python",
   "name": "python",
   "nbconvert_exporter": "python",
   "pygments_lexer": "ipython3",
   "version": "3.9.12"
  },
  "toc": {
   "base_numbering": 1,
   "nav_menu": {},
   "number_sections": true,
   "sideBar": true,
   "skip_h1_title": false,
   "title_cell": "Table of Contents",
   "title_sidebar": "Contents",
   "toc_cell": false,
   "toc_position": {
    "height": "calc(100% - 180px)",
    "left": "10px",
    "top": "150px",
    "width": "384px"
   },
   "toc_section_display": true,
   "toc_window_display": true
  }
 },
 "nbformat": 4,
 "nbformat_minor": 5
}
