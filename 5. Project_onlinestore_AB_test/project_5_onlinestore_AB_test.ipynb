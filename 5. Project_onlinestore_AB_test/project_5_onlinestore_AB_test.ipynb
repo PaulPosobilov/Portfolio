{
 "cells": [
  {
   "cell_type": "markdown",
   "metadata": {},
   "source": [
    "# Анализ гипотез для увеличения выручки."
   ]
  },
  {
   "cell_type": "markdown",
   "metadata": {},
   "source": [
    "В нашем распоряжении таблица с 9-ю гипотезами по увеличению выручки и две таблицы с проевденным A/B тестом. На первом этапе необходимо приоритизировать гипотезы, использовав фреймворки ICE и RICE, написаться общие выводы. На втором этапе нужно провести анализ A/B теста."
   ]
  },
  {
   "cell_type": "markdown",
   "metadata": {},
   "source": [
    "Для выполнения первой части используем таблицу hypothesis.csv, содержащую следующие колонки: \n",
    " * Hypothesis — краткое описание гипотезы;\n",
    " * Reach — охват пользователей по 10-балльной шкале;\n",
    " * Impact — влияние на пользователей по 10-балльной шкале;\n",
    " * Confidence — уверенность в гипотезе по 10-балльной шкале;\n",
    " * Efforts — затраты ресурсов на проверку гипотезы по 10-балльной шкале. Чем больше значение Efforts, тем дороже проверка гипотезы."
   ]
  },
  {
   "cell_type": "markdown",
   "metadata": {},
   "source": [
    "Для выполнения второй части будем использовать таблицу orders.csv.csv, содержащую следующие колонки: \n",
    " * transactionId — идентификатор заказа;\n",
    " * visitorId — идентификатор пользователя, совершившего заказ;\n",
    " * date — дата, когда был совершён заказ;\n",
    " * revenue — выручка заказа;\n",
    " * group — группа A/B-теста, в которую попал заказ.  \n",
    " \n",
    "и таблицу visitors.csv, содержащую следующие столбцы:\n",
    " * date — дата;\n",
    " * group — группа A/B-теста;\n",
    " * visitors — количество пользователей в указанную дату в указанной группе A/B-теста."
   ]
  },
  {
   "cell_type": "markdown",
   "metadata": {},
   "source": [
    "Последовательность действий:\n",
    "* Изучить предоставленные данные.\n",
    "* Провести предобработку данных:\n",
    "  - проверить название колонок, тип данных в столбцах;\n",
    "  - сделать проверку на наличие дубликатов;\n",
    "* Приоритизировать гипотезы использовав: \n",
    "  - Использовать фреймворке ICE для приоритизации гипотез;\n",
    "  - Использовать фреймворке RICE для приоритизации гипотез;\n",
    "  - Сравнить результаты полученные разными методами и написать вывод.\n",
    "* Проанализировать A/B тест:\n",
    "   - Изучаить графики кумулятивных данных - выручки по группам, среднего чека по группам, относительного изменения среднего чека, конверсии по группам, относительного изменения конверсии по группам;\n",
    "   - Анализ выбросов в данных - построить точечные график количества заказов и стоимости заказов, посчитать 95-й и 99-й перцентили количества заказов и стоимости заказов;\n",
    "   - Посчитать статистическую значимость различий в конверсии и среднем чеке между группами по «сырым» данным;\n",
    "   - Посчитать статистическую значимость различий в конверсии и среднем чеке между группами по «очищенным» данным;\n",
    "   - Сделать вывод и принять решение о дальнейшей судьбе теста."
   ]
  },
  {
   "cell_type": "markdown",
   "metadata": {},
   "source": [
    "## Изучение данных из файлов."
   ]
  },
  {
   "cell_type": "code",
   "execution_count": 1,
   "metadata": {},
   "outputs": [],
   "source": [
    "#Импортируем необходимые библиотеки для работы\n",
    "import pandas as pd\n",
    "import numpy as np\n",
    "from matplotlib import pyplot as plt\n",
    "import scipy.stats as stats\n",
    "import datetime as dt"
   ]
  },
  {
   "cell_type": "code",
   "execution_count": 2,
   "metadata": {},
   "outputs": [],
   "source": [
    "#Загрузим данные и сохраним их в переменные\n",
    "try:\n",
    "    hypothesis = pd.read_csv('hypothesis.csv')\n",
    "    orders = pd.read_csv('orders.csv')\n",
    "    visitors = pd.read_csv('visitors.csv')\n",
    "except:\n",
    "    hypothesis = pd.read_csv('/datasets/hypothesis.csv')\n",
    "    orders = pd.read_csv('/datasets/orders.csv')\n",
    "    visitors = pd.read_csv('/datasets/visitors.csv')"
   ]
  },
  {
   "cell_type": "code",
   "execution_count": 3,
   "metadata": {},
   "outputs": [
    {
     "name": "stdout",
     "output_type": "stream",
     "text": [
      "<class 'pandas.core.frame.DataFrame'>\n",
      "RangeIndex: 9 entries, 0 to 8\n",
      "Data columns (total 5 columns):\n",
      " #   Column      Non-Null Count  Dtype \n",
      "---  ------      --------------  ----- \n",
      " 0   Hypothesis  9 non-null      object\n",
      " 1   Reach       9 non-null      int64 \n",
      " 2   Impact      9 non-null      int64 \n",
      " 3   Confidence  9 non-null      int64 \n",
      " 4   Efforts     9 non-null      int64 \n",
      "dtypes: int64(4), object(1)\n",
      "memory usage: 488.0+ bytes\n"
     ]
    },
    {
     "data": {
      "text/html": [
       "<div>\n",
       "<style scoped>\n",
       "    .dataframe tbody tr th:only-of-type {\n",
       "        vertical-align: middle;\n",
       "    }\n",
       "\n",
       "    .dataframe tbody tr th {\n",
       "        vertical-align: top;\n",
       "    }\n",
       "\n",
       "    .dataframe thead th {\n",
       "        text-align: right;\n",
       "    }\n",
       "</style>\n",
       "<table border=\"1\" class=\"dataframe\">\n",
       "  <thead>\n",
       "    <tr style=\"text-align: right;\">\n",
       "      <th></th>\n",
       "      <th>Hypothesis</th>\n",
       "      <th>Reach</th>\n",
       "      <th>Impact</th>\n",
       "      <th>Confidence</th>\n",
       "      <th>Efforts</th>\n",
       "    </tr>\n",
       "  </thead>\n",
       "  <tbody>\n",
       "    <tr>\n",
       "      <th>0</th>\n",
       "      <td>Добавить два новых канала привлечения трафика,...</td>\n",
       "      <td>3</td>\n",
       "      <td>10</td>\n",
       "      <td>8</td>\n",
       "      <td>6</td>\n",
       "    </tr>\n",
       "    <tr>\n",
       "      <th>1</th>\n",
       "      <td>Запустить собственную службу доставки, что сок...</td>\n",
       "      <td>2</td>\n",
       "      <td>5</td>\n",
       "      <td>4</td>\n",
       "      <td>10</td>\n",
       "    </tr>\n",
       "    <tr>\n",
       "      <th>2</th>\n",
       "      <td>Добавить блоки рекомендаций товаров на сайт ин...</td>\n",
       "      <td>8</td>\n",
       "      <td>3</td>\n",
       "      <td>7</td>\n",
       "      <td>3</td>\n",
       "    </tr>\n",
       "    <tr>\n",
       "      <th>3</th>\n",
       "      <td>Изменить структура категорий, что увеличит кон...</td>\n",
       "      <td>8</td>\n",
       "      <td>3</td>\n",
       "      <td>3</td>\n",
       "      <td>8</td>\n",
       "    </tr>\n",
       "    <tr>\n",
       "      <th>4</th>\n",
       "      <td>Изменить цвет фона главной страницы, чтобы уве...</td>\n",
       "      <td>3</td>\n",
       "      <td>1</td>\n",
       "      <td>1</td>\n",
       "      <td>1</td>\n",
       "    </tr>\n",
       "    <tr>\n",
       "      <th>5</th>\n",
       "      <td>Добавить страницу отзывов клиентов о магазине,...</td>\n",
       "      <td>3</td>\n",
       "      <td>2</td>\n",
       "      <td>2</td>\n",
       "      <td>3</td>\n",
       "    </tr>\n",
       "    <tr>\n",
       "      <th>6</th>\n",
       "      <td>Показать на главной странице баннеры с актуаль...</td>\n",
       "      <td>5</td>\n",
       "      <td>3</td>\n",
       "      <td>8</td>\n",
       "      <td>3</td>\n",
       "    </tr>\n",
       "    <tr>\n",
       "      <th>7</th>\n",
       "      <td>Добавить форму подписки на все основные страни...</td>\n",
       "      <td>10</td>\n",
       "      <td>7</td>\n",
       "      <td>8</td>\n",
       "      <td>5</td>\n",
       "    </tr>\n",
       "    <tr>\n",
       "      <th>8</th>\n",
       "      <td>Запустить акцию, дающую скидку на товар в день...</td>\n",
       "      <td>1</td>\n",
       "      <td>9</td>\n",
       "      <td>9</td>\n",
       "      <td>5</td>\n",
       "    </tr>\n",
       "  </tbody>\n",
       "</table>\n",
       "</div>"
      ],
      "text/plain": [
       "                                          Hypothesis  Reach  Impact  \\\n",
       "0  Добавить два новых канала привлечения трафика,...      3      10   \n",
       "1  Запустить собственную службу доставки, что сок...      2       5   \n",
       "2  Добавить блоки рекомендаций товаров на сайт ин...      8       3   \n",
       "3  Изменить структура категорий, что увеличит кон...      8       3   \n",
       "4  Изменить цвет фона главной страницы, чтобы уве...      3       1   \n",
       "5  Добавить страницу отзывов клиентов о магазине,...      3       2   \n",
       "6  Показать на главной странице баннеры с актуаль...      5       3   \n",
       "7  Добавить форму подписки на все основные страни...     10       7   \n",
       "8  Запустить акцию, дающую скидку на товар в день...      1       9   \n",
       "\n",
       "   Confidence  Efforts  \n",
       "0           8        6  \n",
       "1           4       10  \n",
       "2           7        3  \n",
       "3           3        8  \n",
       "4           1        1  \n",
       "5           2        3  \n",
       "6           8        3  \n",
       "7           8        5  \n",
       "8           9        5  "
      ]
     },
     "execution_count": 3,
     "metadata": {},
     "output_type": "execute_result"
    }
   ],
   "source": [
    "#Посмотрим информацию о таблицах\n",
    "hypothesis.info()\n",
    "hypothesis.head(10)"
   ]
  },
  {
   "cell_type": "code",
   "execution_count": 4,
   "metadata": {},
   "outputs": [
    {
     "name": "stdout",
     "output_type": "stream",
     "text": [
      "<class 'pandas.core.frame.DataFrame'>\n",
      "RangeIndex: 1197 entries, 0 to 1196\n",
      "Data columns (total 5 columns):\n",
      " #   Column         Non-Null Count  Dtype \n",
      "---  ------         --------------  ----- \n",
      " 0   transactionId  1197 non-null   int64 \n",
      " 1   visitorId      1197 non-null   int64 \n",
      " 2   date           1197 non-null   object\n",
      " 3   revenue        1197 non-null   int64 \n",
      " 4   group          1197 non-null   object\n",
      "dtypes: int64(3), object(2)\n",
      "memory usage: 46.9+ KB\n"
     ]
    },
    {
     "data": {
      "text/html": [
       "<div>\n",
       "<style scoped>\n",
       "    .dataframe tbody tr th:only-of-type {\n",
       "        vertical-align: middle;\n",
       "    }\n",
       "\n",
       "    .dataframe tbody tr th {\n",
       "        vertical-align: top;\n",
       "    }\n",
       "\n",
       "    .dataframe thead th {\n",
       "        text-align: right;\n",
       "    }\n",
       "</style>\n",
       "<table border=\"1\" class=\"dataframe\">\n",
       "  <thead>\n",
       "    <tr style=\"text-align: right;\">\n",
       "      <th></th>\n",
       "      <th>transactionId</th>\n",
       "      <th>visitorId</th>\n",
       "      <th>date</th>\n",
       "      <th>revenue</th>\n",
       "      <th>group</th>\n",
       "    </tr>\n",
       "  </thead>\n",
       "  <tbody>\n",
       "    <tr>\n",
       "      <th>0</th>\n",
       "      <td>3667963787</td>\n",
       "      <td>3312258926</td>\n",
       "      <td>2019-08-15</td>\n",
       "      <td>1650</td>\n",
       "      <td>B</td>\n",
       "    </tr>\n",
       "    <tr>\n",
       "      <th>1</th>\n",
       "      <td>2804400009</td>\n",
       "      <td>3642806036</td>\n",
       "      <td>2019-08-15</td>\n",
       "      <td>730</td>\n",
       "      <td>B</td>\n",
       "    </tr>\n",
       "    <tr>\n",
       "      <th>2</th>\n",
       "      <td>2961555356</td>\n",
       "      <td>4069496402</td>\n",
       "      <td>2019-08-15</td>\n",
       "      <td>400</td>\n",
       "      <td>A</td>\n",
       "    </tr>\n",
       "    <tr>\n",
       "      <th>3</th>\n",
       "      <td>3797467345</td>\n",
       "      <td>1196621759</td>\n",
       "      <td>2019-08-15</td>\n",
       "      <td>9759</td>\n",
       "      <td>B</td>\n",
       "    </tr>\n",
       "    <tr>\n",
       "      <th>4</th>\n",
       "      <td>2282983706</td>\n",
       "      <td>2322279887</td>\n",
       "      <td>2019-08-15</td>\n",
       "      <td>2308</td>\n",
       "      <td>B</td>\n",
       "    </tr>\n",
       "  </tbody>\n",
       "</table>\n",
       "</div>"
      ],
      "text/plain": [
       "   transactionId   visitorId        date  revenue group\n",
       "0     3667963787  3312258926  2019-08-15     1650     B\n",
       "1     2804400009  3642806036  2019-08-15      730     B\n",
       "2     2961555356  4069496402  2019-08-15      400     A\n",
       "3     3797467345  1196621759  2019-08-15     9759     B\n",
       "4     2282983706  2322279887  2019-08-15     2308     B"
      ]
     },
     "execution_count": 4,
     "metadata": {},
     "output_type": "execute_result"
    }
   ],
   "source": [
    "orders.info()\n",
    "orders.head(5)"
   ]
  },
  {
   "cell_type": "code",
   "execution_count": 5,
   "metadata": {},
   "outputs": [
    {
     "name": "stdout",
     "output_type": "stream",
     "text": [
      "<class 'pandas.core.frame.DataFrame'>\n",
      "RangeIndex: 62 entries, 0 to 61\n",
      "Data columns (total 3 columns):\n",
      " #   Column    Non-Null Count  Dtype \n",
      "---  ------    --------------  ----- \n",
      " 0   date      62 non-null     object\n",
      " 1   group     62 non-null     object\n",
      " 2   visitors  62 non-null     int64 \n",
      "dtypes: int64(1), object(2)\n",
      "memory usage: 1.6+ KB\n"
     ]
    },
    {
     "data": {
      "text/html": [
       "<div>\n",
       "<style scoped>\n",
       "    .dataframe tbody tr th:only-of-type {\n",
       "        vertical-align: middle;\n",
       "    }\n",
       "\n",
       "    .dataframe tbody tr th {\n",
       "        vertical-align: top;\n",
       "    }\n",
       "\n",
       "    .dataframe thead th {\n",
       "        text-align: right;\n",
       "    }\n",
       "</style>\n",
       "<table border=\"1\" class=\"dataframe\">\n",
       "  <thead>\n",
       "    <tr style=\"text-align: right;\">\n",
       "      <th></th>\n",
       "      <th>date</th>\n",
       "      <th>group</th>\n",
       "      <th>visitors</th>\n",
       "    </tr>\n",
       "  </thead>\n",
       "  <tbody>\n",
       "    <tr>\n",
       "      <th>0</th>\n",
       "      <td>2019-08-01</td>\n",
       "      <td>A</td>\n",
       "      <td>719</td>\n",
       "    </tr>\n",
       "    <tr>\n",
       "      <th>1</th>\n",
       "      <td>2019-08-02</td>\n",
       "      <td>A</td>\n",
       "      <td>619</td>\n",
       "    </tr>\n",
       "    <tr>\n",
       "      <th>2</th>\n",
       "      <td>2019-08-03</td>\n",
       "      <td>A</td>\n",
       "      <td>507</td>\n",
       "    </tr>\n",
       "    <tr>\n",
       "      <th>3</th>\n",
       "      <td>2019-08-04</td>\n",
       "      <td>A</td>\n",
       "      <td>717</td>\n",
       "    </tr>\n",
       "    <tr>\n",
       "      <th>4</th>\n",
       "      <td>2019-08-05</td>\n",
       "      <td>A</td>\n",
       "      <td>756</td>\n",
       "    </tr>\n",
       "  </tbody>\n",
       "</table>\n",
       "</div>"
      ],
      "text/plain": [
       "         date group  visitors\n",
       "0  2019-08-01     A       719\n",
       "1  2019-08-02     A       619\n",
       "2  2019-08-03     A       507\n",
       "3  2019-08-04     A       717\n",
       "4  2019-08-05     A       756"
      ]
     },
     "execution_count": 5,
     "metadata": {},
     "output_type": "execute_result"
    }
   ],
   "source": [
    "visitors.info()\n",
    "visitors.head(5)"
   ]
  },
  {
   "cell_type": "markdown",
   "metadata": {},
   "source": [
    "При рассмотрении информации о таблицах, были обнаружены следующие ошибки, которые следует исправить на этапе предобработки данных:\n",
    "   1) В таблице hypothesis названия столбцов начинаются с заглавных букв - необходимо привести к единому регистру;  \n",
    "   2) В таблице orders, в некоторых названиях колонок применяется \"верблюжий\" регистр - заменим его на \"змеиный\" регистр;  \n",
    "   3) в таблице orders колонке date тип данных object - тип данных нужно изменить на datetime;  \n",
    "   4) в таблице visitors колонке date тип данных указан как object - для дальнейшей работы изменим тип данных на datetime."
   ]
  },
  {
   "cell_type": "markdown",
   "metadata": {},
   "source": [
    "## Предобработка данных."
   ]
  },
  {
   "cell_type": "markdown",
   "metadata": {},
   "source": [
    "###  Изменение названия колонок."
   ]
  },
  {
   "cell_type": "code",
   "execution_count": 6,
   "metadata": {},
   "outputs": [
    {
     "name": "stdout",
     "output_type": "stream",
     "text": [
      "<class 'pandas.core.frame.DataFrame'>\n",
      "RangeIndex: 9 entries, 0 to 8\n",
      "Data columns (total 5 columns):\n",
      " #   Column      Non-Null Count  Dtype \n",
      "---  ------      --------------  ----- \n",
      " 0   hypothesis  9 non-null      object\n",
      " 1   reach       9 non-null      int64 \n",
      " 2   impact      9 non-null      int64 \n",
      " 3   confidence  9 non-null      int64 \n",
      " 4   efforts     9 non-null      int64 \n",
      "dtypes: int64(4), object(1)\n",
      "memory usage: 488.0+ bytes\n"
     ]
    }
   ],
   "source": [
    "#Приведем к единому регистру названия столбцов в таблице hypothesis\n",
    "hypothesis.columns = hypothesis.columns.str.lower()\n",
    "hypothesis.info()"
   ]
  },
  {
   "cell_type": "code",
   "execution_count": 7,
   "metadata": {},
   "outputs": [
    {
     "name": "stdout",
     "output_type": "stream",
     "text": [
      "<class 'pandas.core.frame.DataFrame'>\n",
      "RangeIndex: 1197 entries, 0 to 1196\n",
      "Data columns (total 5 columns):\n",
      " #   Column          Non-Null Count  Dtype \n",
      "---  ------          --------------  ----- \n",
      " 0   transaction_id  1197 non-null   int64 \n",
      " 1   visitors_id     1197 non-null   int64 \n",
      " 2   date            1197 non-null   object\n",
      " 3   revenue         1197 non-null   int64 \n",
      " 4   group           1197 non-null   object\n",
      "dtypes: int64(3), object(2)\n",
      "memory usage: 46.9+ KB\n"
     ]
    }
   ],
   "source": [
    "#Измения \"верблюжий\" регистр в названии столбцов таблицы orders на \"змеиный\"\n",
    "orders = orders.rename(columns={'transactionId':'transaction_id', 'visitorId':'visitors_id'})\n",
    "orders.info()"
   ]
  },
  {
   "cell_type": "markdown",
   "metadata": {},
   "source": [
    "### Изменение типа данных в колонках."
   ]
  },
  {
   "cell_type": "code",
   "execution_count": 8,
   "metadata": {},
   "outputs": [],
   "source": [
    "#В таблицах orders и visitors изменим тип данных в колонках содержащие даты\n",
    "orders['date'] = pd.to_datetime(orders['date'])\n",
    "\n",
    "visitors['date'] = pd.to_datetime(visitors['date'])\n"
   ]
  },
  {
   "cell_type": "code",
   "execution_count": 9,
   "metadata": {},
   "outputs": [
    {
     "name": "stdout",
     "output_type": "stream",
     "text": [
      "<class 'pandas.core.frame.DataFrame'>\n",
      "RangeIndex: 1197 entries, 0 to 1196\n",
      "Data columns (total 5 columns):\n",
      " #   Column          Non-Null Count  Dtype         \n",
      "---  ------          --------------  -----         \n",
      " 0   transaction_id  1197 non-null   int64         \n",
      " 1   visitors_id     1197 non-null   int64         \n",
      " 2   date            1197 non-null   datetime64[ns]\n",
      " 3   revenue         1197 non-null   int64         \n",
      " 4   group           1197 non-null   object        \n",
      "dtypes: datetime64[ns](1), int64(3), object(1)\n",
      "memory usage: 46.9+ KB\n",
      "None\n",
      "<class 'pandas.core.frame.DataFrame'>\n",
      "RangeIndex: 62 entries, 0 to 61\n",
      "Data columns (total 3 columns):\n",
      " #   Column    Non-Null Count  Dtype         \n",
      "---  ------    --------------  -----         \n",
      " 0   date      62 non-null     datetime64[ns]\n",
      " 1   group     62 non-null     object        \n",
      " 2   visitors  62 non-null     int64         \n",
      "dtypes: datetime64[ns](1), int64(1), object(1)\n",
      "memory usage: 1.6+ KB\n"
     ]
    }
   ],
   "source": [
    "#Проверим изменения\n",
    "print(orders.info())\n",
    "visitors.info()"
   ]
  },
  {
   "cell_type": "markdown",
   "metadata": {},
   "source": [
    "### Проверка таблиц на наличие дубликатов и пользователей входящих в обе группы."
   ]
  },
  {
   "cell_type": "code",
   "execution_count": 10,
   "metadata": {
    "scrolled": true
   },
   "outputs": [
    {
     "name": "stdout",
     "output_type": "stream",
     "text": [
      "В таблице hypothesis явных дубликатов: 0\n",
      "В таблице orders явных дубликатов: 0\n",
      "В таблице visitors явных дубликатов: 0\n"
     ]
    }
   ],
   "source": [
    "print('В таблице hypothesis явных дубликатов:', orders.duplicated().sum())\n",
    "print('В таблице orders явных дубликатов:', orders.duplicated().sum())\n",
    "print('В таблице visitors явных дубликатов:', orders.duplicated().sum())"
   ]
  },
  {
   "cell_type": "markdown",
   "metadata": {},
   "source": [
    "Проверим есть ли в таблице orders пользователи которые входят одновременно в группу A и B."
   ]
  },
  {
   "cell_type": "code",
   "execution_count": 11,
   "metadata": {},
   "outputs": [
    {
     "name": "stdout",
     "output_type": "stream",
     "text": [
      "Количество пользователей, которые одновременно учтены в двух группах 58\n"
     ]
    },
    {
     "data": {
      "text/html": [
       "<div>\n",
       "<style scoped>\n",
       "    .dataframe tbody tr th:only-of-type {\n",
       "        vertical-align: middle;\n",
       "    }\n",
       "\n",
       "    .dataframe tbody tr th {\n",
       "        vertical-align: top;\n",
       "    }\n",
       "\n",
       "    .dataframe thead th {\n",
       "        text-align: right;\n",
       "    }\n",
       "</style>\n",
       "<table border=\"1\" class=\"dataframe\">\n",
       "  <thead>\n",
       "    <tr style=\"text-align: right;\">\n",
       "      <th></th>\n",
       "      <th>transaction_id</th>\n",
       "      <th>visitors_id</th>\n",
       "      <th>date</th>\n",
       "      <th>revenue</th>\n",
       "      <th>group_x</th>\n",
       "      <th>group_y</th>\n",
       "    </tr>\n",
       "  </thead>\n",
       "  <tbody>\n",
       "    <tr>\n",
       "      <th>0</th>\n",
       "      <td>3667963787</td>\n",
       "      <td>3312258926</td>\n",
       "      <td>2019-08-15</td>\n",
       "      <td>1650</td>\n",
       "      <td>B</td>\n",
       "      <td>1</td>\n",
       "    </tr>\n",
       "    <tr>\n",
       "      <th>1</th>\n",
       "      <td>2804400009</td>\n",
       "      <td>3642806036</td>\n",
       "      <td>2019-08-15</td>\n",
       "      <td>730</td>\n",
       "      <td>B</td>\n",
       "      <td>1</td>\n",
       "    </tr>\n",
       "    <tr>\n",
       "      <th>2</th>\n",
       "      <td>2961555356</td>\n",
       "      <td>4069496402</td>\n",
       "      <td>2019-08-15</td>\n",
       "      <td>400</td>\n",
       "      <td>A</td>\n",
       "      <td>2</td>\n",
       "    </tr>\n",
       "    <tr>\n",
       "      <th>3</th>\n",
       "      <td>1473132782</td>\n",
       "      <td>4069496402</td>\n",
       "      <td>2019-08-12</td>\n",
       "      <td>640</td>\n",
       "      <td>B</td>\n",
       "      <td>2</td>\n",
       "    </tr>\n",
       "    <tr>\n",
       "      <th>4</th>\n",
       "      <td>3797467345</td>\n",
       "      <td>1196621759</td>\n",
       "      <td>2019-08-15</td>\n",
       "      <td>9759</td>\n",
       "      <td>B</td>\n",
       "      <td>1</td>\n",
       "    </tr>\n",
       "  </tbody>\n",
       "</table>\n",
       "</div>"
      ],
      "text/plain": [
       "   transaction_id  visitors_id       date  revenue group_x  group_y\n",
       "0      3667963787   3312258926 2019-08-15     1650       B        1\n",
       "1      2804400009   3642806036 2019-08-15      730       B        1\n",
       "2      2961555356   4069496402 2019-08-15      400       A        2\n",
       "3      1473132782   4069496402 2019-08-12      640       B        2\n",
       "4      3797467345   1196621759 2019-08-15     9759       B        1"
      ]
     },
     "execution_count": 11,
     "metadata": {},
     "output_type": "execute_result"
    }
   ],
   "source": [
    "#Создадим переменную в которой сгруппируем данные по пользователям, \n",
    "#во втором столбце будет количество уникальных групп в которые входит пользователь\n",
    "visitors_group=orders.groupby('visitors_id')['group'].nunique()\n",
    "#Добавим полученную таблицу к таблице orders и посмотрим результат\n",
    "df = orders.merge(visitors_group, on=[\"visitors_id\", \"visitors_id\"])\n",
    "print('Количество пользователей, которые одновременно учтены в двух группах',df.query('group_y>1')['visitors_id'].nunique())\n",
    "df.head(5)\n"
   ]
  },
  {
   "cell_type": "markdown",
   "metadata": {},
   "source": [
    "Как видно, в таблице orders есть 58  уникальных пользователя которые находятся одновременно и в группе A и в группе B."
   ]
  },
  {
   "cell_type": "code",
   "execution_count": 12,
   "metadata": {},
   "outputs": [
    {
     "data": {
      "text/html": [
       "<div>\n",
       "<style scoped>\n",
       "    .dataframe tbody tr th:only-of-type {\n",
       "        vertical-align: middle;\n",
       "    }\n",
       "\n",
       "    .dataframe tbody tr th {\n",
       "        vertical-align: top;\n",
       "    }\n",
       "\n",
       "    .dataframe thead th {\n",
       "        text-align: right;\n",
       "    }\n",
       "</style>\n",
       "<table border=\"1\" class=\"dataframe\">\n",
       "  <thead>\n",
       "    <tr style=\"text-align: right;\">\n",
       "      <th></th>\n",
       "      <th>transaction_id</th>\n",
       "      <th>visitors_id</th>\n",
       "      <th>date</th>\n",
       "      <th>revenue</th>\n",
       "      <th>group</th>\n",
       "    </tr>\n",
       "  </thead>\n",
       "  <tbody>\n",
       "    <tr>\n",
       "      <th>0</th>\n",
       "      <td>3667963787</td>\n",
       "      <td>3312258926</td>\n",
       "      <td>2019-08-15</td>\n",
       "      <td>1650</td>\n",
       "      <td>B</td>\n",
       "    </tr>\n",
       "    <tr>\n",
       "      <th>1</th>\n",
       "      <td>2804400009</td>\n",
       "      <td>3642806036</td>\n",
       "      <td>2019-08-15</td>\n",
       "      <td>730</td>\n",
       "      <td>B</td>\n",
       "    </tr>\n",
       "    <tr>\n",
       "      <th>2</th>\n",
       "      <td>3797467345</td>\n",
       "      <td>1196621759</td>\n",
       "      <td>2019-08-15</td>\n",
       "      <td>9759</td>\n",
       "      <td>B</td>\n",
       "    </tr>\n",
       "    <tr>\n",
       "      <th>3</th>\n",
       "      <td>2282983706</td>\n",
       "      <td>2322279887</td>\n",
       "      <td>2019-08-15</td>\n",
       "      <td>2308</td>\n",
       "      <td>B</td>\n",
       "    </tr>\n",
       "    <tr>\n",
       "      <th>4</th>\n",
       "      <td>182168103</td>\n",
       "      <td>935554773</td>\n",
       "      <td>2019-08-15</td>\n",
       "      <td>2210</td>\n",
       "      <td>B</td>\n",
       "    </tr>\n",
       "    <tr>\n",
       "      <th>...</th>\n",
       "      <td>...</td>\n",
       "      <td>...</td>\n",
       "      <td>...</td>\n",
       "      <td>...</td>\n",
       "      <td>...</td>\n",
       "    </tr>\n",
       "    <tr>\n",
       "      <th>1011</th>\n",
       "      <td>3592955527</td>\n",
       "      <td>608641596</td>\n",
       "      <td>2019-08-14</td>\n",
       "      <td>16490</td>\n",
       "      <td>B</td>\n",
       "    </tr>\n",
       "    <tr>\n",
       "      <th>1012</th>\n",
       "      <td>2662137336</td>\n",
       "      <td>3733762160</td>\n",
       "      <td>2019-08-14</td>\n",
       "      <td>6490</td>\n",
       "      <td>B</td>\n",
       "    </tr>\n",
       "    <tr>\n",
       "      <th>1013</th>\n",
       "      <td>2203539145</td>\n",
       "      <td>370388673</td>\n",
       "      <td>2019-08-14</td>\n",
       "      <td>3190</td>\n",
       "      <td>A</td>\n",
       "    </tr>\n",
       "    <tr>\n",
       "      <th>1014</th>\n",
       "      <td>1807773912</td>\n",
       "      <td>573423106</td>\n",
       "      <td>2019-08-14</td>\n",
       "      <td>10550</td>\n",
       "      <td>A</td>\n",
       "    </tr>\n",
       "    <tr>\n",
       "      <th>1015</th>\n",
       "      <td>3936777065</td>\n",
       "      <td>2108080724</td>\n",
       "      <td>2019-08-15</td>\n",
       "      <td>202740</td>\n",
       "      <td>B</td>\n",
       "    </tr>\n",
       "  </tbody>\n",
       "</table>\n",
       "<p>1016 rows × 5 columns</p>\n",
       "</div>"
      ],
      "text/plain": [
       "      transaction_id  visitors_id       date  revenue group\n",
       "0         3667963787   3312258926 2019-08-15     1650     B\n",
       "1         2804400009   3642806036 2019-08-15      730     B\n",
       "2         3797467345   1196621759 2019-08-15     9759     B\n",
       "3         2282983706   2322279887 2019-08-15     2308     B\n",
       "4          182168103    935554773 2019-08-15     2210     B\n",
       "...              ...          ...        ...      ...   ...\n",
       "1011      3592955527    608641596 2019-08-14    16490     B\n",
       "1012      2662137336   3733762160 2019-08-14     6490     B\n",
       "1013      2203539145    370388673 2019-08-14     3190     A\n",
       "1014      1807773912    573423106 2019-08-14    10550     A\n",
       "1015      3936777065   2108080724 2019-08-15   202740     B\n",
       "\n",
       "[1016 rows x 5 columns]"
      ]
     },
     "execution_count": 12,
     "metadata": {},
     "output_type": "execute_result"
    }
   ],
   "source": [
    "#Удалим из таблицы orders 58 пользователей, которые одновременно входят в обе группы\n",
    "orders = df.query('group_y == 1').reset_index(drop=True)\n",
    "#Удалим лишний столбец\n",
    "orders.drop(columns = ['group_y'],axis = 1, inplace=True)\n",
    "#Переименуем столбец 'group_x' в 'group', как было изначально\n",
    "orders = orders.rename(columns={'group_x':'group'})\n",
    "orders\n"
   ]
  },
  {
   "cell_type": "markdown",
   "metadata": {},
   "source": [
    "Таким образом были удалены 58 пользователей которые встречались одновременно в двух группах."
   ]
  },
  {
   "cell_type": "markdown",
   "metadata": {},
   "source": [
    "В ходе предобработки данных были устранены следующие недочеты в таблицах: \n",
    " * все названия колонок были приведены к нижнему регистру;\n",
    " * названия слолбцов приведены к единому \"змеиному\" регистру;\n",
    " * в таблице orders столбце date изменен тип данных на datetime;\n",
    " * в таблице visitors столбце date изменен тип данных на datetime;\n",
    " * из таблицы orders были удалены 58 уникальных пользователей, которые одновременно встречались в группе A и B."
   ]
  },
  {
   "cell_type": "markdown",
   "metadata": {},
   "source": [
    "## Приоритизация гипотез."
   ]
  },
  {
   "cell_type": "markdown",
   "metadata": {},
   "source": [
    "### Приоритизация гипотез с помощью фреймворка  ICE."
   ]
  },
  {
   "cell_type": "code",
   "execution_count": 13,
   "metadata": {},
   "outputs": [
    {
     "data": {
      "text/html": [
       "<div>\n",
       "<style scoped>\n",
       "    .dataframe tbody tr th:only-of-type {\n",
       "        vertical-align: middle;\n",
       "    }\n",
       "\n",
       "    .dataframe tbody tr th {\n",
       "        vertical-align: top;\n",
       "    }\n",
       "\n",
       "    .dataframe thead th {\n",
       "        text-align: right;\n",
       "    }\n",
       "</style>\n",
       "<table border=\"1\" class=\"dataframe\">\n",
       "  <thead>\n",
       "    <tr style=\"text-align: right;\">\n",
       "      <th></th>\n",
       "      <th>hypothesis</th>\n",
       "      <th>ICE</th>\n",
       "    </tr>\n",
       "  </thead>\n",
       "  <tbody>\n",
       "    <tr>\n",
       "      <th>8</th>\n",
       "      <td>Запустить акцию, дающую скидку на товар в день рождения</td>\n",
       "      <td>16.200</td>\n",
       "    </tr>\n",
       "    <tr>\n",
       "      <th>0</th>\n",
       "      <td>Добавить два новых канала привлечения трафика, что позволит привлекать на 30% больше пользователей</td>\n",
       "      <td>13.333</td>\n",
       "    </tr>\n",
       "    <tr>\n",
       "      <th>7</th>\n",
       "      <td>Добавить форму подписки на все основные страницы, чтобы собрать базу клиентов для email-рассылок</td>\n",
       "      <td>11.200</td>\n",
       "    </tr>\n",
       "    <tr>\n",
       "      <th>6</th>\n",
       "      <td>Показать на главной странице баннеры с актуальными акциями и распродажами, чтобы увеличить конверсию</td>\n",
       "      <td>8.000</td>\n",
       "    </tr>\n",
       "    <tr>\n",
       "      <th>2</th>\n",
       "      <td>Добавить блоки рекомендаций товаров на сайт интернет магазина, чтобы повысить конверсию и средний чек заказа</td>\n",
       "      <td>7.000</td>\n",
       "    </tr>\n",
       "    <tr>\n",
       "      <th>1</th>\n",
       "      <td>Запустить собственную службу доставки, что сократит срок доставки заказов</td>\n",
       "      <td>2.000</td>\n",
       "    </tr>\n",
       "    <tr>\n",
       "      <th>5</th>\n",
       "      <td>Добавить страницу отзывов клиентов о магазине, что позволит увеличить количество заказов</td>\n",
       "      <td>1.333</td>\n",
       "    </tr>\n",
       "    <tr>\n",
       "      <th>3</th>\n",
       "      <td>Изменить структура категорий, что увеличит конверсию, т.к. пользователи быстрее найдут нужный товар</td>\n",
       "      <td>1.125</td>\n",
       "    </tr>\n",
       "    <tr>\n",
       "      <th>4</th>\n",
       "      <td>Изменить цвет фона главной страницы, чтобы увеличить вовлеченность пользователей</td>\n",
       "      <td>1.000</td>\n",
       "    </tr>\n",
       "  </tbody>\n",
       "</table>\n",
       "</div>"
      ],
      "text/plain": [
       "                                                                                                     hypothesis  \\\n",
       "8  Запустить акцию, дающую скидку на товар в день рождения                                                        \n",
       "0  Добавить два новых канала привлечения трафика, что позволит привлекать на 30% больше пользователей             \n",
       "7  Добавить форму подписки на все основные страницы, чтобы собрать базу клиентов для email-рассылок               \n",
       "6  Показать на главной странице баннеры с актуальными акциями и распродажами, чтобы увеличить конверсию           \n",
       "2  Добавить блоки рекомендаций товаров на сайт интернет магазина, чтобы повысить конверсию и средний чек заказа   \n",
       "1  Запустить собственную службу доставки, что сократит срок доставки заказов                                      \n",
       "5  Добавить страницу отзывов клиентов о магазине, что позволит увеличить количество заказов                       \n",
       "3  Изменить структура категорий, что увеличит конверсию, т.к. пользователи быстрее найдут нужный товар            \n",
       "4  Изменить цвет фона главной страницы, чтобы увеличить вовлеченность пользователей                               \n",
       "\n",
       "      ICE  \n",
       "8  16.200  \n",
       "0  13.333  \n",
       "7  11.200  \n",
       "6  8.000   \n",
       "2  7.000   \n",
       "1  2.000   \n",
       "5  1.333   \n",
       "3  1.125   \n",
       "4  1.000   "
      ]
     },
     "metadata": {},
     "output_type": "display_data"
    }
   ],
   "source": [
    "#Проведем приоритизацию гипотез использовав метод ICE\n",
    "hypothesis['ICE'] = round(hypothesis['impact'] * hypothesis['confidence']/hypothesis['efforts'],3)\n",
    "pd.options.display.max_colwidth = 1\n",
    "display(hypothesis[['hypothesis','ICE']].sort_values(by='ICE',ascending=False))\n"
   ]
  },
  {
   "cell_type": "markdown",
   "metadata": {},
   "source": [
    "5 самых важных гипотез, после использования метода ICE:\n",
    " 1) 8  Запустить акцию, дающую скидку на товар в день рождения  \n",
    " 2) 0  Добавить два новых канала привлечения трафика, что позволит привлекать на 30% больше пользователей  \n",
    " 3) 7  Добавить форму подписки на все основные страницы, чтобы собрать базу клиентов для email-рассылок  \n",
    " 4) 6  Показать на главной странице баннеры с актуальными акциями и распродажами, чтобы увеличить конверсию  \n",
    " 5) 2  Добавить блоки рекомендаций товаров на сайт интернет магазина, чтобы повысить конверсию и средний чек заказа"
   ]
  },
  {
   "cell_type": "markdown",
   "metadata": {},
   "source": [
    "### Приоритизация гипотез с помощью фреймворка RICE."
   ]
  },
  {
   "cell_type": "code",
   "execution_count": 14,
   "metadata": {},
   "outputs": [
    {
     "data": {
      "text/html": [
       "<div>\n",
       "<style scoped>\n",
       "    .dataframe tbody tr th:only-of-type {\n",
       "        vertical-align: middle;\n",
       "    }\n",
       "\n",
       "    .dataframe tbody tr th {\n",
       "        vertical-align: top;\n",
       "    }\n",
       "\n",
       "    .dataframe thead th {\n",
       "        text-align: right;\n",
       "    }\n",
       "</style>\n",
       "<table border=\"1\" class=\"dataframe\">\n",
       "  <thead>\n",
       "    <tr style=\"text-align: right;\">\n",
       "      <th></th>\n",
       "      <th>hypothesis</th>\n",
       "      <th>RICE</th>\n",
       "    </tr>\n",
       "  </thead>\n",
       "  <tbody>\n",
       "    <tr>\n",
       "      <th>7</th>\n",
       "      <td>Добавить форму подписки на все основные страницы, чтобы собрать базу клиентов для email-рассылок</td>\n",
       "      <td>112.0</td>\n",
       "    </tr>\n",
       "    <tr>\n",
       "      <th>2</th>\n",
       "      <td>Добавить блоки рекомендаций товаров на сайт интернет магазина, чтобы повысить конверсию и средний чек заказа</td>\n",
       "      <td>56.0</td>\n",
       "    </tr>\n",
       "    <tr>\n",
       "      <th>0</th>\n",
       "      <td>Добавить два новых канала привлечения трафика, что позволит привлекать на 30% больше пользователей</td>\n",
       "      <td>40.0</td>\n",
       "    </tr>\n",
       "    <tr>\n",
       "      <th>6</th>\n",
       "      <td>Показать на главной странице баннеры с актуальными акциями и распродажами, чтобы увеличить конверсию</td>\n",
       "      <td>40.0</td>\n",
       "    </tr>\n",
       "    <tr>\n",
       "      <th>8</th>\n",
       "      <td>Запустить акцию, дающую скидку на товар в день рождения</td>\n",
       "      <td>16.2</td>\n",
       "    </tr>\n",
       "    <tr>\n",
       "      <th>3</th>\n",
       "      <td>Изменить структура категорий, что увеличит конверсию, т.к. пользователи быстрее найдут нужный товар</td>\n",
       "      <td>9.0</td>\n",
       "    </tr>\n",
       "    <tr>\n",
       "      <th>1</th>\n",
       "      <td>Запустить собственную службу доставки, что сократит срок доставки заказов</td>\n",
       "      <td>4.0</td>\n",
       "    </tr>\n",
       "    <tr>\n",
       "      <th>5</th>\n",
       "      <td>Добавить страницу отзывов клиентов о магазине, что позволит увеличить количество заказов</td>\n",
       "      <td>4.0</td>\n",
       "    </tr>\n",
       "    <tr>\n",
       "      <th>4</th>\n",
       "      <td>Изменить цвет фона главной страницы, чтобы увеличить вовлеченность пользователей</td>\n",
       "      <td>3.0</td>\n",
       "    </tr>\n",
       "  </tbody>\n",
       "</table>\n",
       "</div>"
      ],
      "text/plain": [
       "                                                                                                     hypothesis  \\\n",
       "7  Добавить форму подписки на все основные страницы, чтобы собрать базу клиентов для email-рассылок               \n",
       "2  Добавить блоки рекомендаций товаров на сайт интернет магазина, чтобы повысить конверсию и средний чек заказа   \n",
       "0  Добавить два новых канала привлечения трафика, что позволит привлекать на 30% больше пользователей             \n",
       "6  Показать на главной странице баннеры с актуальными акциями и распродажами, чтобы увеличить конверсию           \n",
       "8  Запустить акцию, дающую скидку на товар в день рождения                                                        \n",
       "3  Изменить структура категорий, что увеличит конверсию, т.к. пользователи быстрее найдут нужный товар            \n",
       "1  Запустить собственную службу доставки, что сократит срок доставки заказов                                      \n",
       "5  Добавить страницу отзывов клиентов о магазине, что позволит увеличить количество заказов                       \n",
       "4  Изменить цвет фона главной страницы, чтобы увеличить вовлеченность пользователей                               \n",
       "\n",
       "    RICE  \n",
       "7  112.0  \n",
       "2  56.0   \n",
       "0  40.0   \n",
       "6  40.0   \n",
       "8  16.2   \n",
       "3  9.0    \n",
       "1  4.0    \n",
       "5  4.0    \n",
       "4  3.0    "
      ]
     },
     "metadata": {},
     "output_type": "display_data"
    }
   ],
   "source": [
    "#Проведем приоритизацию гипотез использовав метод RICE\n",
    "hypothesis['RICE'] = hypothesis['reach']*hypothesis['impact']*hypothesis['confidence']/hypothesis['efforts']\n",
    "display(hypothesis[['hypothesis','RICE']].sort_values(by='RICE',ascending=False))"
   ]
  },
  {
   "cell_type": "markdown",
   "metadata": {},
   "source": [
    "5 самых важных гипотез, после использования метода RICE:\n",
    " 1) 7  Добавить форму подписки на все основные страницы, чтобы собрать базу клиентов для email-рассылок\t   \n",
    " 2) 2  Добавить блоки рекомендаций товаров на сайт интернет магазина, чтобы повысить конверсию и средний чек заказа    \n",
    " 3) 0  Добавить два новых канала привлечения трафика, что позволит привлекать на 30% больше пользователей  \n",
    " 4) 6  Показать на главной странице баннеры с актуальными акциями и распродажами, чтобы увеличить конверсию \n",
    " 5) 8  Запустить акцию, дающую скидку на товар в день рождения "
   ]
  },
  {
   "cell_type": "code",
   "execution_count": 15,
   "metadata": {},
   "outputs": [
    {
     "data": {
      "text/html": [
       "<div>\n",
       "<style scoped>\n",
       "    .dataframe tbody tr th:only-of-type {\n",
       "        vertical-align: middle;\n",
       "    }\n",
       "\n",
       "    .dataframe tbody tr th {\n",
       "        vertical-align: top;\n",
       "    }\n",
       "\n",
       "    .dataframe thead th {\n",
       "        text-align: right;\n",
       "    }\n",
       "</style>\n",
       "<table border=\"1\" class=\"dataframe\">\n",
       "  <thead>\n",
       "    <tr style=\"text-align: right;\">\n",
       "      <th></th>\n",
       "      <th>hypothesis</th>\n",
       "      <th>reach</th>\n",
       "      <th>impact</th>\n",
       "      <th>confidence</th>\n",
       "      <th>efforts</th>\n",
       "      <th>ICE</th>\n",
       "      <th>RICE</th>\n",
       "    </tr>\n",
       "  </thead>\n",
       "  <tbody>\n",
       "    <tr>\n",
       "      <th>0</th>\n",
       "      <td>Добавить два новых канала привлечения трафика, что позволит привлекать на 30% больше пользователей</td>\n",
       "      <td>3</td>\n",
       "      <td>10</td>\n",
       "      <td>8</td>\n",
       "      <td>6</td>\n",
       "      <td>13.333</td>\n",
       "      <td>40.0</td>\n",
       "    </tr>\n",
       "    <tr>\n",
       "      <th>1</th>\n",
       "      <td>Запустить собственную службу доставки, что сократит срок доставки заказов</td>\n",
       "      <td>2</td>\n",
       "      <td>5</td>\n",
       "      <td>4</td>\n",
       "      <td>10</td>\n",
       "      <td>2.000</td>\n",
       "      <td>4.0</td>\n",
       "    </tr>\n",
       "    <tr>\n",
       "      <th>2</th>\n",
       "      <td>Добавить блоки рекомендаций товаров на сайт интернет магазина, чтобы повысить конверсию и средний чек заказа</td>\n",
       "      <td>8</td>\n",
       "      <td>3</td>\n",
       "      <td>7</td>\n",
       "      <td>3</td>\n",
       "      <td>7.000</td>\n",
       "      <td>56.0</td>\n",
       "    </tr>\n",
       "    <tr>\n",
       "      <th>3</th>\n",
       "      <td>Изменить структура категорий, что увеличит конверсию, т.к. пользователи быстрее найдут нужный товар</td>\n",
       "      <td>8</td>\n",
       "      <td>3</td>\n",
       "      <td>3</td>\n",
       "      <td>8</td>\n",
       "      <td>1.125</td>\n",
       "      <td>9.0</td>\n",
       "    </tr>\n",
       "    <tr>\n",
       "      <th>4</th>\n",
       "      <td>Изменить цвет фона главной страницы, чтобы увеличить вовлеченность пользователей</td>\n",
       "      <td>3</td>\n",
       "      <td>1</td>\n",
       "      <td>1</td>\n",
       "      <td>1</td>\n",
       "      <td>1.000</td>\n",
       "      <td>3.0</td>\n",
       "    </tr>\n",
       "    <tr>\n",
       "      <th>5</th>\n",
       "      <td>Добавить страницу отзывов клиентов о магазине, что позволит увеличить количество заказов</td>\n",
       "      <td>3</td>\n",
       "      <td>2</td>\n",
       "      <td>2</td>\n",
       "      <td>3</td>\n",
       "      <td>1.333</td>\n",
       "      <td>4.0</td>\n",
       "    </tr>\n",
       "    <tr>\n",
       "      <th>6</th>\n",
       "      <td>Показать на главной странице баннеры с актуальными акциями и распродажами, чтобы увеличить конверсию</td>\n",
       "      <td>5</td>\n",
       "      <td>3</td>\n",
       "      <td>8</td>\n",
       "      <td>3</td>\n",
       "      <td>8.000</td>\n",
       "      <td>40.0</td>\n",
       "    </tr>\n",
       "    <tr>\n",
       "      <th>7</th>\n",
       "      <td>Добавить форму подписки на все основные страницы, чтобы собрать базу клиентов для email-рассылок</td>\n",
       "      <td>10</td>\n",
       "      <td>7</td>\n",
       "      <td>8</td>\n",
       "      <td>5</td>\n",
       "      <td>11.200</td>\n",
       "      <td>112.0</td>\n",
       "    </tr>\n",
       "    <tr>\n",
       "      <th>8</th>\n",
       "      <td>Запустить акцию, дающую скидку на товар в день рождения</td>\n",
       "      <td>1</td>\n",
       "      <td>9</td>\n",
       "      <td>9</td>\n",
       "      <td>5</td>\n",
       "      <td>16.200</td>\n",
       "      <td>16.2</td>\n",
       "    </tr>\n",
       "  </tbody>\n",
       "</table>\n",
       "</div>"
      ],
      "text/plain": [
       "                                                                                                     hypothesis  \\\n",
       "0  Добавить два новых канала привлечения трафика, что позволит привлекать на 30% больше пользователей             \n",
       "1  Запустить собственную службу доставки, что сократит срок доставки заказов                                      \n",
       "2  Добавить блоки рекомендаций товаров на сайт интернет магазина, чтобы повысить конверсию и средний чек заказа   \n",
       "3  Изменить структура категорий, что увеличит конверсию, т.к. пользователи быстрее найдут нужный товар            \n",
       "4  Изменить цвет фона главной страницы, чтобы увеличить вовлеченность пользователей                               \n",
       "5  Добавить страницу отзывов клиентов о магазине, что позволит увеличить количество заказов                       \n",
       "6  Показать на главной странице баннеры с актуальными акциями и распродажами, чтобы увеличить конверсию           \n",
       "7  Добавить форму подписки на все основные страницы, чтобы собрать базу клиентов для email-рассылок               \n",
       "8  Запустить акцию, дающую скидку на товар в день рождения                                                        \n",
       "\n",
       "   reach  impact  confidence  efforts     ICE   RICE  \n",
       "0  3      10      8           6        13.333  40.0   \n",
       "1  2      5       4           10       2.000   4.0    \n",
       "2  8      3       7           3        7.000   56.0   \n",
       "3  8      3       3           8        1.125   9.0    \n",
       "4  3      1       1           1        1.000   3.0    \n",
       "5  3      2       2           3        1.333   4.0    \n",
       "6  5      3       8           3        8.000   40.0   \n",
       "7  10     7       8           5        11.200  112.0  \n",
       "8  1      9       9           5        16.200  16.2   "
      ]
     },
     "execution_count": 15,
     "metadata": {},
     "output_type": "execute_result"
    }
   ],
   "source": [
    "hypothesis"
   ]
  },
  {
   "cell_type": "markdown",
   "metadata": {},
   "source": [
    "Как можно замтетить из получившихся таблиц, топ-5 по своему наполнению идентичен, однако места приоритета разные:  \n",
    "    - Так, самая важная гипотеза по методу ICE под порядковым номером 8 (Запустить акцию, дающую скидку на товар в день) оказалась только на пятом месте по методу RICE - это произошло из-за того, что показатель reach равен 1, то есть это изменения затронет небольшое количество людей.  \n",
    "    - По методу RICE наиболее приоритетна, с большим отрывом, гипотеза с порядковым номером 7 (Добавить форму подписки на все основные страни...),а по методу ICE она была на 3 месте - все из-за того, что эта гипотеза имеет показатель reach максим альный равным 10, т.е. изменения затронут очень большое количество человек.\n",
    "    \n",
    "   Как итог, особо стоит учитывать на какое количество пользователей окажет влияние та или иная гипотеза, среди представленных наиболее приоритетны гипотезы под номерами 7, 2, 0, 6.\n",
    "    "
   ]
  },
  {
   "cell_type": "markdown",
   "metadata": {},
   "source": [
    "## Анализ A/B-теста"
   ]
  },
  {
   "cell_type": "markdown",
   "metadata": {},
   "source": [
    "### Построение графиков кумулятивной выручки, среднего чека по группам."
   ]
  },
  {
   "cell_type": "markdown",
   "metadata": {},
   "source": [
    "Чтобы исключить проблему подсматривания, проанализируем графики метрик по группам.\n",
    "Изучим графики кумулятивных данных. Для начала создадим таблицу с накопленными данными."
   ]
  },
  {
   "cell_type": "code",
   "execution_count": 16,
   "metadata": {
    "scrolled": false
   },
   "outputs": [
    {
     "data": {
      "text/html": [
       "<div>\n",
       "<style scoped>\n",
       "    .dataframe tbody tr th:only-of-type {\n",
       "        vertical-align: middle;\n",
       "    }\n",
       "\n",
       "    .dataframe tbody tr th {\n",
       "        vertical-align: top;\n",
       "    }\n",
       "\n",
       "    .dataframe thead th {\n",
       "        text-align: right;\n",
       "    }\n",
       "</style>\n",
       "<table border=\"1\" class=\"dataframe\">\n",
       "  <thead>\n",
       "    <tr style=\"text-align: right;\">\n",
       "      <th></th>\n",
       "      <th>date</th>\n",
       "      <th>group</th>\n",
       "      <th>orders</th>\n",
       "      <th>buyers</th>\n",
       "      <th>revenue</th>\n",
       "      <th>visitors</th>\n",
       "    </tr>\n",
       "  </thead>\n",
       "  <tbody>\n",
       "    <tr>\n",
       "      <th>0</th>\n",
       "      <td>2019-08-01</td>\n",
       "      <td>A</td>\n",
       "      <td>23</td>\n",
       "      <td>19</td>\n",
       "      <td>142779</td>\n",
       "      <td>719</td>\n",
       "    </tr>\n",
       "    <tr>\n",
       "      <th>1</th>\n",
       "      <td>2019-08-01</td>\n",
       "      <td>B</td>\n",
       "      <td>17</td>\n",
       "      <td>17</td>\n",
       "      <td>59758</td>\n",
       "      <td>713</td>\n",
       "    </tr>\n",
       "    <tr>\n",
       "      <th>2</th>\n",
       "      <td>2019-08-02</td>\n",
       "      <td>A</td>\n",
       "      <td>42</td>\n",
       "      <td>36</td>\n",
       "      <td>234381</td>\n",
       "      <td>1338</td>\n",
       "    </tr>\n",
       "    <tr>\n",
       "      <th>3</th>\n",
       "      <td>2019-08-02</td>\n",
       "      <td>B</td>\n",
       "      <td>40</td>\n",
       "      <td>39</td>\n",
       "      <td>221801</td>\n",
       "      <td>1294</td>\n",
       "    </tr>\n",
       "    <tr>\n",
       "      <th>4</th>\n",
       "      <td>2019-08-03</td>\n",
       "      <td>A</td>\n",
       "      <td>66</td>\n",
       "      <td>60</td>\n",
       "      <td>346854</td>\n",
       "      <td>1845</td>\n",
       "    </tr>\n",
       "    <tr>\n",
       "      <th>...</th>\n",
       "      <td>...</td>\n",
       "      <td>...</td>\n",
       "      <td>...</td>\n",
       "      <td>...</td>\n",
       "      <td>...</td>\n",
       "      <td>...</td>\n",
       "    </tr>\n",
       "    <tr>\n",
       "      <th>57</th>\n",
       "      <td>2019-08-29</td>\n",
       "      <td>B</td>\n",
       "      <td>510</td>\n",
       "      <td>490</td>\n",
       "      <td>4746610</td>\n",
       "      <td>17708</td>\n",
       "    </tr>\n",
       "    <tr>\n",
       "      <th>58</th>\n",
       "      <td>2019-08-30</td>\n",
       "      <td>A</td>\n",
       "      <td>460</td>\n",
       "      <td>437</td>\n",
       "      <td>3311413</td>\n",
       "      <td>18037</td>\n",
       "    </tr>\n",
       "    <tr>\n",
       "      <th>59</th>\n",
       "      <td>2019-08-30</td>\n",
       "      <td>B</td>\n",
       "      <td>531</td>\n",
       "      <td>511</td>\n",
       "      <td>4955833</td>\n",
       "      <td>18198</td>\n",
       "    </tr>\n",
       "    <tr>\n",
       "      <th>60</th>\n",
       "      <td>2019-08-31</td>\n",
       "      <td>A</td>\n",
       "      <td>468</td>\n",
       "      <td>445</td>\n",
       "      <td>3364656</td>\n",
       "      <td>18736</td>\n",
       "    </tr>\n",
       "    <tr>\n",
       "      <th>61</th>\n",
       "      <td>2019-08-31</td>\n",
       "      <td>B</td>\n",
       "      <td>548</td>\n",
       "      <td>528</td>\n",
       "      <td>5068972</td>\n",
       "      <td>18916</td>\n",
       "    </tr>\n",
       "  </tbody>\n",
       "</table>\n",
       "<p>62 rows × 6 columns</p>\n",
       "</div>"
      ],
      "text/plain": [
       "         date group  orders  buyers  revenue  visitors\n",
       "0  2019-08-01  A     23      19      142779   719     \n",
       "1  2019-08-01  B     17      17      59758    713     \n",
       "2  2019-08-02  A     42      36      234381   1338    \n",
       "3  2019-08-02  B     40      39      221801   1294    \n",
       "4  2019-08-03  A     66      60      346854   1845    \n",
       "..        ... ..     ..      ..         ...    ...    \n",
       "57 2019-08-29  B     510     490     4746610  17708   \n",
       "58 2019-08-30  A     460     437     3311413  18037   \n",
       "59 2019-08-30  B     531     511     4955833  18198   \n",
       "60 2019-08-31  A     468     445     3364656  18736   \n",
       "61 2019-08-31  B     548     528     5068972  18916   \n",
       "\n",
       "[62 rows x 6 columns]"
      ]
     },
     "execution_count": 16,
     "metadata": {},
     "output_type": "execute_result"
    }
   ],
   "source": [
    "#Создадим переменную с уникальными парами дат и групп\n",
    "date_groups = orders[['date','group']].drop_duplicates()\n",
    "#Создадим переменную orders_aggregated и visitors_aggregated\n",
    "orders_aggregated = date_groups.apply(\n",
    "    lambda x: orders[\n",
    "        np.logical_and(orders['date'] <= x['date'], orders['group'] == x['group'])\n",
    "    ].agg(\n",
    "        {'date' : 'max', 'group' : 'max', 'transaction_id' : 'nunique', 'visitors_id' : 'nunique', 'revenue' : 'sum'}\n",
    "    ), axis=1).sort_values(by=['date','group']\n",
    "    )\n",
    "visitors_aggregated = date_groups.apply(\n",
    "    lambda x: visitors[\n",
    "        np.logical_and(visitors['date'] <= x['date'], visitors['group'] == x['group'])\n",
    "    ].agg(\n",
    "        {'date' : 'max', 'group' : 'max', 'visitors' : 'sum'}\n",
    "    ), axis=1).sort_values(by=['date','group']\n",
    "    )\n",
    "#Объединим полученные таблицы в переменную cumulative_data\n",
    "cumulative_data = orders_aggregated.merge(visitors_aggregated, left_on=['date','group'], right_on=['date','group'])\n",
    "#Переименуем названия колонок\n",
    "cumulative_data.columns = ['date', 'group', 'orders', 'buyers', 'revenue', 'visitors']\n",
    "cumulative_data"
   ]
  },
  {
   "cell_type": "code",
   "execution_count": 17,
   "metadata": {},
   "outputs": [],
   "source": [
    "#Объявим две переменные в разрезе групп, в которые добавим информацию о дате, выручке  и числе заказов \n",
    "cumulative_revenue_a = cumulative_data[cumulative_data['group'] == 'A'][['date','revenue','orders']]\n",
    "cumulative_revenue_b = cumulative_data[cumulative_data['group'] == 'B'][['date','revenue','orders']]"
   ]
  },
  {
   "cell_type": "code",
   "execution_count": 18,
   "metadata": {
    "scrolled": false
   },
   "outputs": [
    {
     "data": {
      "image/png": "[encoded data removed]",
      "text/plain": [
       "<Figure size 1080x504 with 1 Axes>"
      ]
     },
     "metadata": {
      "needs_background": "light"
     },
     "output_type": "display_data"
    }
   ],
   "source": [
    "#Построим график кумулятивной выручки по группам\n",
    "plt.figure(figsize=(15, 7))\n",
    "plt.title('График кумулятивной выручки по группам A и B')\n",
    "plt.xlabel('Дата')\n",
    "plt.ylabel('Выручка')\n",
    "plt.plot(cumulative_revenue_a['date'],cumulative_revenue_a['revenue'],label='A')\n",
    "plt.plot(cumulative_revenue_b['date'],cumulative_revenue_b['revenue'],label='B')\n",
    "plt.legend()\n",
    "plt.show()"
   ]
  },
  {
   "cell_type": "markdown",
   "metadata": {},
   "source": [
    "До середины теста показатели у двух групп были сопоставимы, однако в середине тесте группа B резко вырвалась вперед и оставалась лучше группы A до конца теста. Возможно, резкий рост показателя выручки группы B вызван аномальными значениями в определенные дни."
   ]
  },
  {
   "cell_type": "code",
   "execution_count": 19,
   "metadata": {},
   "outputs": [
    {
     "data": {
      "image/png": "[encoded data removed]",
      "text/plain": [
       "<Figure size 1080x504 with 1 Axes>"
      ]
     },
     "metadata": {
      "needs_background": "light"
     },
     "output_type": "display_data"
    }
   ],
   "source": [
    "#Построим график кумулятивного среднего чека по группам\n",
    "plt.figure(figsize=(15, 7))\n",
    "plt.title('График среднего чека по группам A и B')\n",
    "plt.xlabel('Дата')\n",
    "plt.ylabel('Средний чек')\n",
    "plt.plot(cumulative_revenue_a['date'],cumulative_revenue_a['revenue']/cumulative_revenue_a['orders'],label='A')\n",
    "plt.plot(cumulative_revenue_b['date'],cumulative_revenue_b['revenue']/cumulative_revenue_b['orders'],label='B')\n",
    "plt.legend()\n",
    "plt.show()"
   ]
  },
  {
   "cell_type": "markdown",
   "metadata": {},
   "source": [
    "Схожая картина с предыдущим графиком - средний чек групп колебался в пределах 5000-7000 без явного приемущества одной из групп, однако потом произошел резкий скачок у группы B и средний чек этой группы стал выше 10000. Такая картина подтверждает предположении о наличии аномальных значений выручки у пользователей группы B, в период с 2019-08-18 по 2019-08-20."
   ]
  },
  {
   "cell_type": "markdown",
   "metadata": {},
   "source": [
    "### Построение графика относительного изменения кумулятивного среднего чека группы B к группе A."
   ]
  },
  {
   "cell_type": "code",
   "execution_count": 20,
   "metadata": {},
   "outputs": [
    {
     "data": {
      "text/html": [
       "<div>\n",
       "<style scoped>\n",
       "    .dataframe tbody tr th:only-of-type {\n",
       "        vertical-align: middle;\n",
       "    }\n",
       "\n",
       "    .dataframe tbody tr th {\n",
       "        vertical-align: top;\n",
       "    }\n",
       "\n",
       "    .dataframe thead th {\n",
       "        text-align: right;\n",
       "    }\n",
       "</style>\n",
       "<table border=\"1\" class=\"dataframe\">\n",
       "  <thead>\n",
       "    <tr style=\"text-align: right;\">\n",
       "      <th></th>\n",
       "      <th>date</th>\n",
       "      <th>revenueA</th>\n",
       "      <th>ordersA</th>\n",
       "      <th>revenueB</th>\n",
       "      <th>ordersB</th>\n",
       "    </tr>\n",
       "  </thead>\n",
       "  <tbody>\n",
       "    <tr>\n",
       "      <th>0</th>\n",
       "      <td>2019-08-01</td>\n",
       "      <td>142779</td>\n",
       "      <td>23</td>\n",
       "      <td>59758</td>\n",
       "      <td>17</td>\n",
       "    </tr>\n",
       "    <tr>\n",
       "      <th>1</th>\n",
       "      <td>2019-08-02</td>\n",
       "      <td>234381</td>\n",
       "      <td>42</td>\n",
       "      <td>221801</td>\n",
       "      <td>40</td>\n",
       "    </tr>\n",
       "    <tr>\n",
       "      <th>2</th>\n",
       "      <td>2019-08-03</td>\n",
       "      <td>346854</td>\n",
       "      <td>66</td>\n",
       "      <td>288850</td>\n",
       "      <td>54</td>\n",
       "    </tr>\n",
       "    <tr>\n",
       "      <th>3</th>\n",
       "      <td>2019-08-04</td>\n",
       "      <td>388030</td>\n",
       "      <td>77</td>\n",
       "      <td>385740</td>\n",
       "      <td>68</td>\n",
       "    </tr>\n",
       "    <tr>\n",
       "      <th>4</th>\n",
       "      <td>2019-08-05</td>\n",
       "      <td>474413</td>\n",
       "      <td>99</td>\n",
       "      <td>475648</td>\n",
       "      <td>89</td>\n",
       "    </tr>\n",
       "  </tbody>\n",
       "</table>\n",
       "</div>"
      ],
      "text/plain": [
       "        date  revenueA  ordersA  revenueB  ordersB\n",
       "0 2019-08-01  142779    23       59758     17     \n",
       "1 2019-08-02  234381    42       221801    40     \n",
       "2 2019-08-03  346854    66       288850    54     \n",
       "3 2019-08-04  388030    77       385740    68     \n",
       "4 2019-08-05  474413    99       475648    89     "
      ]
     },
     "execution_count": 20,
     "metadata": {},
     "output_type": "execute_result"
    }
   ],
   "source": [
    "# Объединим таблицы cumulative_revenue_a и cumulative_revenue_b, \n",
    "#где общей будет дата, а выручка и количество заказов для каждой группы\n",
    "merged_cumulative_revenue = cumulative_revenue_a.merge(\n",
    "    cumulative_revenue_b, left_on = 'date', right_on = 'date', how = 'left', suffixes=['A', 'B'] \n",
    ")\n",
    "merged_cumulative_revenue.head(5)"
   ]
  },
  {
   "cell_type": "code",
   "execution_count": 21,
   "metadata": {},
   "outputs": [
    {
     "data": {
      "image/png": "[encoded data removed]",
      "text/plain": [
       "<Figure size 864x360 with 1 Axes>"
      ]
     },
     "metadata": {
      "needs_background": "light"
     },
     "output_type": "display_data"
    }
   ],
   "source": [
    "#Построим график относительного изменения кумулятивного среднего чека группы B к группе A\n",
    "plt.figure(figsize=(12, 5))\n",
    "plt.title('График относительного изменения кумулятивного среднего чека группы B к группе A')\n",
    "plt.xlabel('Дата')\n",
    "plt.ylabel('Изменение')\n",
    "plt.plot(merged_cumulative_revenue['date'],\n",
    "         (merged_cumulative_revenue['revenueB']/merged_cumulative_revenue['ordersB'])/\n",
    "         (merged_cumulative_revenue['revenueA']/merged_cumulative_revenue['ordersA'])-1)\n",
    "\n",
    "plt.axhline(y=0, color='black', linestyle='--')\n",
    "plt.show()"
   ]
  },
  {
   "cell_type": "markdown",
   "metadata": {},
   "source": [
    "В самом начале средний чек был выше у группы А, затем значение колебалось и примерно выравнялось и стало около 0, однако примерно 18-19 августа 2019 резко вырос средний чек группы B вследствии чего показатель до конца теста находился существенно выше 0, т.е. уровня равенства."
   ]
  },
  {
   "cell_type": "markdown",
   "metadata": {},
   "source": [
    "### Построение графика кумулятивной конверсии по группам  и относительного изменения кумулятивной конверсии группы B к группе A."
   ]
  },
  {
   "cell_type": "code",
   "execution_count": 22,
   "metadata": {},
   "outputs": [
    {
     "data": {
      "image/png": "[encoded data removed]",
      "text/plain": [
       "<Figure size 1080x504 with 1 Axes>"
      ]
     },
     "metadata": {
      "needs_background": "light"
     },
     "output_type": "display_data"
    }
   ],
   "source": [
    "# К таблице cumulative_data добавим столбец с конверсией, как отношение количества заказов к количеству клиентов\n",
    "cumulative_data['conversion'] = cumulative_data['orders'] / cumulative_data['visitors']\n",
    "# Создадим две переменные для двух групп которые будут содержать дату и конверсию\n",
    "cumulative_conversion_a = cumulative_data[cumulative_data['group'] == 'A'][['date','conversion']]\n",
    "cumulative_conversion_b = cumulative_data[cumulative_data['group'] == 'B'][['date','conversion']]\n",
    "#Построим график кумулятивной конверсии по группам\n",
    "plt.figure(figsize=(15, 7))\n",
    "plt.title('График кумулятивной конверсии по группам A и B')\n",
    "plt.xlabel('Дата')\n",
    "plt.ylabel('Конверсия')\n",
    "plt.plot(cumulative_conversion_a['date'], cumulative_conversion_a['conversion'],label='A')\n",
    "plt.plot(cumulative_conversion_b['date'], cumulative_conversion_b['conversion'],label='B')\n",
    "plt.legend()\n",
    "plt.axis([dt.datetime(2019, 8, 1), dt.datetime(2019, 9, 1), 0, 0.05])\n",
    "plt.show()"
   ]
  },
  {
   "cell_type": "markdown",
   "metadata": {},
   "source": [
    "В начале теста конверсия группы A была выше, однако затем конверсия группы B выросла и стала выше чем в группе A, такое распределение осталось до конца теста. Колебания конверсии наблюдалось только в начале, примерно после первой недели теста показатель конверсии устаканился и установился у своего среднего значения."
   ]
  },
  {
   "cell_type": "code",
   "execution_count": 23,
   "metadata": {},
   "outputs": [
    {
     "data": {
      "text/html": [
       "<div>\n",
       "<style scoped>\n",
       "    .dataframe tbody tr th:only-of-type {\n",
       "        vertical-align: middle;\n",
       "    }\n",
       "\n",
       "    .dataframe tbody tr th {\n",
       "        vertical-align: top;\n",
       "    }\n",
       "\n",
       "    .dataframe thead th {\n",
       "        text-align: right;\n",
       "    }\n",
       "</style>\n",
       "<table border=\"1\" class=\"dataframe\">\n",
       "  <thead>\n",
       "    <tr style=\"text-align: right;\">\n",
       "      <th></th>\n",
       "      <th>date</th>\n",
       "      <th>conversionA</th>\n",
       "      <th>conversionB</th>\n",
       "    </tr>\n",
       "  </thead>\n",
       "  <tbody>\n",
       "    <tr>\n",
       "      <th>0</th>\n",
       "      <td>2019-08-01</td>\n",
       "      <td>0.031989</td>\n",
       "      <td>0.023843</td>\n",
       "    </tr>\n",
       "    <tr>\n",
       "      <th>1</th>\n",
       "      <td>2019-08-02</td>\n",
       "      <td>0.031390</td>\n",
       "      <td>0.030912</td>\n",
       "    </tr>\n",
       "    <tr>\n",
       "      <th>2</th>\n",
       "      <td>2019-08-03</td>\n",
       "      <td>0.035772</td>\n",
       "      <td>0.029950</td>\n",
       "    </tr>\n",
       "    <tr>\n",
       "      <th>3</th>\n",
       "      <td>2019-08-04</td>\n",
       "      <td>0.030055</td>\n",
       "      <td>0.026428</td>\n",
       "    </tr>\n",
       "    <tr>\n",
       "      <th>4</th>\n",
       "      <td>2019-08-05</td>\n",
       "      <td>0.029837</td>\n",
       "      <td>0.027134</td>\n",
       "    </tr>\n",
       "  </tbody>\n",
       "</table>\n",
       "</div>"
      ],
      "text/plain": [
       "        date  conversionA  conversionB\n",
       "0 2019-08-01  0.031989     0.023843   \n",
       "1 2019-08-02  0.031390     0.030912   \n",
       "2 2019-08-03  0.035772     0.029950   \n",
       "3 2019-08-04  0.030055     0.026428   \n",
       "4 2019-08-05  0.029837     0.027134   "
      ]
     },
     "execution_count": 23,
     "metadata": {},
     "output_type": "execute_result"
    }
   ],
   "source": [
    "# Объединим таблицы cumulative_conversion_a и cumulative_conversion_b, \n",
    "#где общей будет дата и конверсия для каждой группы\n",
    "merged_cumulative_conversion = cumulative_conversion_a.merge(\n",
    "    cumulative_conversion_b, left_on = 'date', right_on = 'date', how = 'left', suffixes=['A', 'B'] \n",
    ")\n",
    "merged_cumulative_conversion.head(5)"
   ]
  },
  {
   "cell_type": "code",
   "execution_count": 24,
   "metadata": {},
   "outputs": [
    {
     "data": {
      "image/png": "[encoded data removed]",
      "text/plain": [
       "<Figure size 864x360 with 1 Axes>"
      ]
     },
     "metadata": {
      "needs_background": "light"
     },
     "output_type": "display_data"
    }
   ],
   "source": [
    "#Построим график относительного изменения кумулятивной конверсии группы B к группе A\n",
    "plt.figure(figsize=(12, 5))\n",
    "plt.title('График относительного изменения кумулятивной конверсии группы B к группе A')\n",
    "plt.xlabel('Дата')\n",
    "plt.ylabel('Изменение')\n",
    "plt.plot(merged_cumulative_conversion['date'],\n",
    "         merged_cumulative_conversion['conversionB']/merged_cumulative_conversion['conversionA']-1,\n",
    "        label=\"Относительный прирост конверсии группы B относительно группы A\")\n",
    "plt.legend()\n",
    "plt.axhline(y=0, color='black', linestyle='--')\n",
    "plt.axhline(y=0.15, color='grey', linestyle='--')\n",
    "plt.show()"
   ]
  },
  {
   "cell_type": "markdown",
   "metadata": {},
   "source": [
    "В начале теста конверсия была лучше у группы А, однако спустя 5 дней после начала теста показатель у группы B начал стремительно расти и он стабильно зафиксировался на уровне около 15% прироста относительно группы A."
   ]
  },
  {
   "cell_type": "markdown",
   "metadata": {},
   "source": [
    "### Анализ выбросов в данных."
   ]
  },
  {
   "cell_type": "code",
   "execution_count": 25,
   "metadata": {},
   "outputs": [
    {
     "data": {
      "text/html": [
       "<div>\n",
       "<style scoped>\n",
       "    .dataframe tbody tr th:only-of-type {\n",
       "        vertical-align: middle;\n",
       "    }\n",
       "\n",
       "    .dataframe tbody tr th {\n",
       "        vertical-align: top;\n",
       "    }\n",
       "\n",
       "    .dataframe thead th {\n",
       "        text-align: right;\n",
       "    }\n",
       "</style>\n",
       "<table border=\"1\" class=\"dataframe\">\n",
       "  <thead>\n",
       "    <tr style=\"text-align: right;\">\n",
       "      <th></th>\n",
       "      <th>user_id</th>\n",
       "      <th>orders</th>\n",
       "    </tr>\n",
       "  </thead>\n",
       "  <tbody>\n",
       "    <tr>\n",
       "      <th>908</th>\n",
       "      <td>3967698036</td>\n",
       "      <td>3</td>\n",
       "    </tr>\n",
       "    <tr>\n",
       "      <th>55</th>\n",
       "      <td>249864742</td>\n",
       "      <td>3</td>\n",
       "    </tr>\n",
       "    <tr>\n",
       "      <th>478</th>\n",
       "      <td>2108163459</td>\n",
       "      <td>3</td>\n",
       "    </tr>\n",
       "    <tr>\n",
       "      <th>687</th>\n",
       "      <td>2988190573</td>\n",
       "      <td>3</td>\n",
       "    </tr>\n",
       "    <tr>\n",
       "      <th>890</th>\n",
       "      <td>3908431265</td>\n",
       "      <td>3</td>\n",
       "    </tr>\n",
       "  </tbody>\n",
       "</table>\n",
       "</div>"
      ],
      "text/plain": [
       "        user_id  orders\n",
       "908  3967698036  3     \n",
       "55   249864742   3     \n",
       "478  2108163459  3     \n",
       "687  2988190573  3     \n",
       "890  3908431265  3     "
      ]
     },
     "execution_count": 25,
     "metadata": {},
     "output_type": "execute_result"
    }
   ],
   "source": [
    "# Построим точечный график количества заказов по пользователям\n",
    "# Создадим переменную которая будет содержать пользователей и количество их заказов\n",
    "odrder_by_users = (orders.groupby('visitors_id', as_index=False).\n",
    "agg({'transaction_id':'nunique'}))\n",
    "odrder_by_users.columns=['user_id','orders']\n",
    "odrder_by_users.sort_values(by='orders',ascending=False).head(5)"
   ]
  },
  {
   "cell_type": "code",
   "execution_count": 26,
   "metadata": {},
   "outputs": [
    {
     "data": {
      "image/png": "[encoded data removed]",
      "text/plain": [
       "<Figure size 432x288 with 1 Axes>"
      ]
     },
     "metadata": {
      "needs_background": "light"
     },
     "output_type": "display_data"
    }
   ],
   "source": [
    "x_values = pd.Series(range(0, len(odrder_by_users)))\n",
    "plt.scatter(x_values,odrder_by_users['orders'])\n",
    "plt.title('Точечный график количества заказов на одного пользователя')\n",
    "plt.xlabel('Количество наблюдений')\n",
    "plt.ylabel('Количество заказов')\n",
    "plt.show()"
   ]
  },
  {
   "cell_type": "markdown",
   "metadata": {},
   "source": [
    "Как мы видим, самое большое значение заказов для 1 пользователя это один."
   ]
  },
  {
   "cell_type": "code",
   "execution_count": 27,
   "metadata": {},
   "outputs": [
    {
     "name": "stdout",
     "output_type": "stream",
     "text": [
      "        user_id  orders\n",
      "908  3967698036  3     \n",
      "55   249864742   3     \n",
      "478  2108163459  3     \n",
      "687  2988190573  3     \n",
      "890  3908431265  3     \n",
      "[1. 1. 2.]\n"
     ]
    }
   ],
   "source": [
    "#Посчитаем 95-й и 99-й перцентили количества заказов на пользователя\n",
    "print(odrder_by_users.sort_values(by='orders', ascending=False).head(5))\n",
    "print(np.percentile(odrder_by_users['orders'], [90, 95, 99]))"
   ]
  },
  {
   "cell_type": "markdown",
   "metadata": {},
   "source": [
    "Не более 5% пользователей совершали больше одного заказа и не более 1% пользователей совершали больше двух закзов.  \n",
    "За верхнюю границу можно принять пользователей с двумя заказами.\n"
   ]
  },
  {
   "cell_type": "code",
   "execution_count": 28,
   "metadata": {},
   "outputs": [
    {
     "data": {
      "text/html": [
       "<div>\n",
       "<style scoped>\n",
       "    .dataframe tbody tr th:only-of-type {\n",
       "        vertical-align: middle;\n",
       "    }\n",
       "\n",
       "    .dataframe tbody tr th {\n",
       "        vertical-align: top;\n",
       "    }\n",
       "\n",
       "    .dataframe thead th {\n",
       "        text-align: right;\n",
       "    }\n",
       "</style>\n",
       "<table border=\"1\" class=\"dataframe\">\n",
       "  <thead>\n",
       "    <tr style=\"text-align: right;\">\n",
       "      <th></th>\n",
       "      <th>transaction_id</th>\n",
       "      <th>visitors_id</th>\n",
       "      <th>date</th>\n",
       "      <th>revenue</th>\n",
       "      <th>group</th>\n",
       "    </tr>\n",
       "  </thead>\n",
       "  <tbody>\n",
       "    <tr>\n",
       "      <th>376</th>\n",
       "      <td>590470918</td>\n",
       "      <td>1920142716</td>\n",
       "      <td>2019-08-19</td>\n",
       "      <td>1294500</td>\n",
       "      <td>B</td>\n",
       "    </tr>\n",
       "    <tr>\n",
       "      <th>1015</th>\n",
       "      <td>3936777065</td>\n",
       "      <td>2108080724</td>\n",
       "      <td>2019-08-15</td>\n",
       "      <td>202740</td>\n",
       "      <td>B</td>\n",
       "    </tr>\n",
       "    <tr>\n",
       "      <th>973</th>\n",
       "      <td>666610489</td>\n",
       "      <td>1307669133</td>\n",
       "      <td>2019-08-13</td>\n",
       "      <td>92550</td>\n",
       "      <td>A</td>\n",
       "    </tr>\n",
       "    <tr>\n",
       "      <th>645</th>\n",
       "      <td>3668308183</td>\n",
       "      <td>888512513</td>\n",
       "      <td>2019-08-27</td>\n",
       "      <td>86620</td>\n",
       "      <td>B</td>\n",
       "    </tr>\n",
       "    <tr>\n",
       "      <th>644</th>\n",
       "      <td>3603576309</td>\n",
       "      <td>4133034833</td>\n",
       "      <td>2019-08-09</td>\n",
       "      <td>67990</td>\n",
       "      <td>A</td>\n",
       "    </tr>\n",
       "    <tr>\n",
       "      <th>941</th>\n",
       "      <td>1348774318</td>\n",
       "      <td>1164614297</td>\n",
       "      <td>2019-08-12</td>\n",
       "      <td>66350</td>\n",
       "      <td>A</td>\n",
       "    </tr>\n",
       "    <tr>\n",
       "      <th>939</th>\n",
       "      <td>316924019</td>\n",
       "      <td>148427295</td>\n",
       "      <td>2019-08-12</td>\n",
       "      <td>65710</td>\n",
       "      <td>A</td>\n",
       "    </tr>\n",
       "    <tr>\n",
       "      <th>816</th>\n",
       "      <td>1347999392</td>\n",
       "      <td>887908475</td>\n",
       "      <td>2019-08-21</td>\n",
       "      <td>60450</td>\n",
       "      <td>A</td>\n",
       "    </tr>\n",
       "    <tr>\n",
       "      <th>808</th>\n",
       "      <td>2420050534</td>\n",
       "      <td>4003628586</td>\n",
       "      <td>2019-08-08</td>\n",
       "      <td>58550</td>\n",
       "      <td>B</td>\n",
       "    </tr>\n",
       "    <tr>\n",
       "      <th>537</th>\n",
       "      <td>4071177889</td>\n",
       "      <td>3931967268</td>\n",
       "      <td>2019-08-07</td>\n",
       "      <td>53904</td>\n",
       "      <td>B</td>\n",
       "    </tr>\n",
       "  </tbody>\n",
       "</table>\n",
       "</div>"
      ],
      "text/plain": [
       "      transaction_id  visitors_id       date  revenue group\n",
       "376   590470918       1920142716  2019-08-19  1294500  B   \n",
       "1015  3936777065      2108080724  2019-08-15  202740   B   \n",
       "973   666610489       1307669133  2019-08-13  92550    A   \n",
       "645   3668308183      888512513   2019-08-27  86620    B   \n",
       "644   3603576309      4133034833  2019-08-09  67990    A   \n",
       "941   1348774318      1164614297  2019-08-12  66350    A   \n",
       "939   316924019       148427295   2019-08-12  65710    A   \n",
       "816   1347999392      887908475   2019-08-21  60450    A   \n",
       "808   2420050534      4003628586  2019-08-08  58550    B   \n",
       "537   4071177889      3931967268  2019-08-07  53904    B   "
      ]
     },
     "metadata": {},
     "output_type": "display_data"
    },
    {
     "data": {
      "image/png": "[encoded data removed]",
      "text/plain": [
       "<Figure size 432x288 with 1 Axes>"
      ]
     },
     "metadata": {
      "needs_background": "light"
     },
     "output_type": "display_data"
    }
   ],
   "source": [
    "# Построим точечный график стоимости заказов\n",
    "# Создадим переменную которая будет содержать пользователей и количество их заказов\n",
    "display(orders.sort_values(by='revenue', ascending=False).head(10))\n",
    "\n",
    "x_values = pd.Series(range(0, len(orders['revenue'])))\n",
    "plt.scatter(x_values,orders['revenue'])\n",
    "plt.ticklabel_format(style='plain')\n",
    "plt.title('Точечный график суммы заказа одного пользователя')\n",
    "plt.xlabel('Количество наблюдений')\n",
    "plt.ylabel('Сумма заказа')\n",
    "plt.show()"
   ]
  },
  {
   "cell_type": "markdown",
   "metadata": {},
   "source": [
    "В таблице есть очень большие значения в размере более 1.2 млн. и 200 тыс. все остальные значения до 100 тыс."
   ]
  },
  {
   "cell_type": "code",
   "execution_count": 29,
   "metadata": {},
   "outputs": [
    {
     "name": "stdout",
     "output_type": "stream",
     "text": [
      "      transaction_id  visitors_id       date  revenue group\n",
      "376   590470918       1920142716  2019-08-19  1294500  B   \n",
      "1015  3936777065      2108080724  2019-08-15  202740   B   \n",
      "973   666610489       1307669133  2019-08-13  92550    A   \n",
      "645   3668308183      888512513   2019-08-27  86620    B   \n",
      "644   3603576309      4133034833  2019-08-09  67990    A   \n",
      "[17990. 26785. 53904.]\n"
     ]
    }
   ],
   "source": [
    "#Посчитаем 95-й и 99-й перцентили количества заказов на пользователя\n",
    "print(orders.sort_values(by='revenue', ascending=False).head(5))\n",
    "print(np.percentile(orders['revenue'], [90, 95, 99]))"
   ]
  },
  {
   "cell_type": "markdown",
   "metadata": {},
   "source": [
    "Не более чем у 5% заказов сумма выше 26785 и не более чем у 1% заказов сумма выше чем 53904.  \n",
    "За верхнюю границу можно принять 30000."
   ]
  },
  {
   "cell_type": "markdown",
   "metadata": {},
   "source": [
    "Таким образом мы уберем из данных от 1% до 5% пользователей с большой суммой заказов и 1% пользователей с большим количеством заказов."
   ]
  },
  {
   "cell_type": "markdown",
   "metadata": {},
   "source": [
    "### Расчёт статистической значимости различий в конверсии и среднем чеке между группами по «сырым» данным."
   ]
  },
  {
   "cell_type": "code",
   "execution_count": 30,
   "metadata": {},
   "outputs": [
    {
     "data": {
      "text/html": [
       "<div>\n",
       "<style scoped>\n",
       "    .dataframe tbody tr th:only-of-type {\n",
       "        vertical-align: middle;\n",
       "    }\n",
       "\n",
       "    .dataframe tbody tr th {\n",
       "        vertical-align: top;\n",
       "    }\n",
       "\n",
       "    .dataframe thead th {\n",
       "        text-align: right;\n",
       "    }\n",
       "</style>\n",
       "<table border=\"1\" class=\"dataframe\">\n",
       "  <thead>\n",
       "    <tr style=\"text-align: right;\">\n",
       "      <th></th>\n",
       "      <th>date</th>\n",
       "      <th>group</th>\n",
       "      <th>visitors</th>\n",
       "    </tr>\n",
       "  </thead>\n",
       "  <tbody>\n",
       "    <tr>\n",
       "      <th>0</th>\n",
       "      <td>2019-08-01</td>\n",
       "      <td>A</td>\n",
       "      <td>719</td>\n",
       "    </tr>\n",
       "    <tr>\n",
       "      <th>1</th>\n",
       "      <td>2019-08-02</td>\n",
       "      <td>A</td>\n",
       "      <td>619</td>\n",
       "    </tr>\n",
       "    <tr>\n",
       "      <th>2</th>\n",
       "      <td>2019-08-03</td>\n",
       "      <td>A</td>\n",
       "      <td>507</td>\n",
       "    </tr>\n",
       "    <tr>\n",
       "      <th>3</th>\n",
       "      <td>2019-08-04</td>\n",
       "      <td>A</td>\n",
       "      <td>717</td>\n",
       "    </tr>\n",
       "    <tr>\n",
       "      <th>4</th>\n",
       "      <td>2019-08-05</td>\n",
       "      <td>A</td>\n",
       "      <td>756</td>\n",
       "    </tr>\n",
       "    <tr>\n",
       "      <th>...</th>\n",
       "      <td>...</td>\n",
       "      <td>...</td>\n",
       "      <td>...</td>\n",
       "    </tr>\n",
       "    <tr>\n",
       "      <th>57</th>\n",
       "      <td>2019-08-27</td>\n",
       "      <td>B</td>\n",
       "      <td>720</td>\n",
       "    </tr>\n",
       "    <tr>\n",
       "      <th>58</th>\n",
       "      <td>2019-08-28</td>\n",
       "      <td>B</td>\n",
       "      <td>654</td>\n",
       "    </tr>\n",
       "    <tr>\n",
       "      <th>59</th>\n",
       "      <td>2019-08-29</td>\n",
       "      <td>B</td>\n",
       "      <td>531</td>\n",
       "    </tr>\n",
       "    <tr>\n",
       "      <th>60</th>\n",
       "      <td>2019-08-30</td>\n",
       "      <td>B</td>\n",
       "      <td>490</td>\n",
       "    </tr>\n",
       "    <tr>\n",
       "      <th>61</th>\n",
       "      <td>2019-08-31</td>\n",
       "      <td>B</td>\n",
       "      <td>718</td>\n",
       "    </tr>\n",
       "  </tbody>\n",
       "</table>\n",
       "<p>62 rows × 3 columns</p>\n",
       "</div>"
      ],
      "text/plain": [
       "         date group  visitors\n",
       "0  2019-08-01  A     719     \n",
       "1  2019-08-02  A     619     \n",
       "2  2019-08-03  A     507     \n",
       "3  2019-08-04  A     717     \n",
       "4  2019-08-05  A     756     \n",
       "..        ... ..     ...     \n",
       "57 2019-08-27  B     720     \n",
       "58 2019-08-28  B     654     \n",
       "59 2019-08-29  B     531     \n",
       "60 2019-08-30  B     490     \n",
       "61 2019-08-31  B     718     \n",
       "\n",
       "[62 rows x 3 columns]"
      ]
     },
     "execution_count": 30,
     "metadata": {},
     "output_type": "execute_result"
    }
   ],
   "source": [
    "visitors"
   ]
  },
  {
   "cell_type": "code",
   "execution_count": 31,
   "metadata": {},
   "outputs": [
    {
     "data": {
      "text/html": [
       "<div>\n",
       "<style scoped>\n",
       "    .dataframe tbody tr th:only-of-type {\n",
       "        vertical-align: middle;\n",
       "    }\n",
       "\n",
       "    .dataframe tbody tr th {\n",
       "        vertical-align: top;\n",
       "    }\n",
       "\n",
       "    .dataframe thead th {\n",
       "        text-align: right;\n",
       "    }\n",
       "</style>\n",
       "<table border=\"1\" class=\"dataframe\">\n",
       "  <thead>\n",
       "    <tr style=\"text-align: right;\">\n",
       "      <th></th>\n",
       "      <th>date</th>\n",
       "      <th>visits_per_date_a</th>\n",
       "    </tr>\n",
       "  </thead>\n",
       "  <tbody>\n",
       "    <tr>\n",
       "      <th>0</th>\n",
       "      <td>2019-08-01</td>\n",
       "      <td>719</td>\n",
       "    </tr>\n",
       "    <tr>\n",
       "      <th>1</th>\n",
       "      <td>2019-08-02</td>\n",
       "      <td>619</td>\n",
       "    </tr>\n",
       "    <tr>\n",
       "      <th>2</th>\n",
       "      <td>2019-08-03</td>\n",
       "      <td>507</td>\n",
       "    </tr>\n",
       "  </tbody>\n",
       "</table>\n",
       "</div>"
      ],
      "text/plain": [
       "        date  visits_per_date_a\n",
       "0 2019-08-01  719              \n",
       "1 2019-08-02  619              \n",
       "2 2019-08-03  507              "
      ]
     },
     "execution_count": 31,
     "metadata": {},
     "output_type": "execute_result"
    }
   ],
   "source": [
    "# Создадим переменную для пользователей группы А, где будут столбцы с датой и количеством посетителей\n",
    "visitors_a_daily = visitors[visitors['group'] == 'A'][['date', 'visitors']]\n",
    "# Переименуем названия колонок\n",
    "visitors_a_daily.columns = ['date', 'visits_per_date_a']\n",
    "visitors_a_daily.head(3)"
   ]
  },
  {
   "cell_type": "code",
   "execution_count": 32,
   "metadata": {},
   "outputs": [
    {
     "data": {
      "text/html": [
       "<div>\n",
       "<style scoped>\n",
       "    .dataframe tbody tr th:only-of-type {\n",
       "        vertical-align: middle;\n",
       "    }\n",
       "\n",
       "    .dataframe tbody tr th {\n",
       "        vertical-align: top;\n",
       "    }\n",
       "\n",
       "    .dataframe thead th {\n",
       "        text-align: right;\n",
       "    }\n",
       "</style>\n",
       "<table border=\"1\" class=\"dataframe\">\n",
       "  <thead>\n",
       "    <tr style=\"text-align: right;\">\n",
       "      <th></th>\n",
       "      <th>date</th>\n",
       "      <th>visits_per_date_b</th>\n",
       "    </tr>\n",
       "  </thead>\n",
       "  <tbody>\n",
       "    <tr>\n",
       "      <th>31</th>\n",
       "      <td>2019-08-01</td>\n",
       "      <td>713</td>\n",
       "    </tr>\n",
       "    <tr>\n",
       "      <th>32</th>\n",
       "      <td>2019-08-02</td>\n",
       "      <td>581</td>\n",
       "    </tr>\n",
       "    <tr>\n",
       "      <th>33</th>\n",
       "      <td>2019-08-03</td>\n",
       "      <td>509</td>\n",
       "    </tr>\n",
       "  </tbody>\n",
       "</table>\n",
       "</div>"
      ],
      "text/plain": [
       "         date  visits_per_date_b\n",
       "31 2019-08-01  713              \n",
       "32 2019-08-02  581              \n",
       "33 2019-08-03  509              "
      ]
     },
     "execution_count": 32,
     "metadata": {},
     "output_type": "execute_result"
    }
   ],
   "source": [
    "# Создадим переменную для пользователей группы А, где будет столбцы с датой и количеством посетителей\n",
    "visitors_b_daily = visitors[visitors['group'] == 'B'][['date', 'visitors']]\n",
    "# Переименуем названия колонок\n",
    "visitors_b_daily.columns = ['date', 'visits_per_date_b']\n",
    "visitors_b_daily.head(3)"
   ]
  },
  {
   "cell_type": "code",
   "execution_count": 33,
   "metadata": {},
   "outputs": [
    {
     "data": {
      "text/html": [
       "<div>\n",
       "<style scoped>\n",
       "    .dataframe tbody tr th:only-of-type {\n",
       "        vertical-align: middle;\n",
       "    }\n",
       "\n",
       "    .dataframe tbody tr th {\n",
       "        vertical-align: top;\n",
       "    }\n",
       "\n",
       "    .dataframe thead th {\n",
       "        text-align: right;\n",
       "    }\n",
       "</style>\n",
       "<table border=\"1\" class=\"dataframe\">\n",
       "  <thead>\n",
       "    <tr style=\"text-align: right;\">\n",
       "      <th></th>\n",
       "      <th>user_id</th>\n",
       "      <th>orders</th>\n",
       "    </tr>\n",
       "  </thead>\n",
       "  <tbody>\n",
       "    <tr>\n",
       "      <th>0</th>\n",
       "      <td>11685486</td>\n",
       "      <td>1</td>\n",
       "    </tr>\n",
       "    <tr>\n",
       "      <th>1</th>\n",
       "      <td>54447517</td>\n",
       "      <td>1</td>\n",
       "    </tr>\n",
       "    <tr>\n",
       "      <th>2</th>\n",
       "      <td>66685450</td>\n",
       "      <td>1</td>\n",
       "    </tr>\n",
       "    <tr>\n",
       "      <th>3</th>\n",
       "      <td>78758296</td>\n",
       "      <td>1</td>\n",
       "    </tr>\n",
       "    <tr>\n",
       "      <th>4</th>\n",
       "      <td>85103373</td>\n",
       "      <td>1</td>\n",
       "    </tr>\n",
       "  </tbody>\n",
       "</table>\n",
       "</div>"
      ],
      "text/plain": [
       "    user_id  orders\n",
       "0  11685486  1     \n",
       "1  54447517  1     \n",
       "2  66685450  1     \n",
       "3  78758296  1     \n",
       "4  85103373  1     "
      ]
     },
     "metadata": {},
     "output_type": "display_data"
    },
    {
     "data": {
      "text/html": [
       "<div>\n",
       "<style scoped>\n",
       "    .dataframe tbody tr th:only-of-type {\n",
       "        vertical-align: middle;\n",
       "    }\n",
       "\n",
       "    .dataframe tbody tr th {\n",
       "        vertical-align: top;\n",
       "    }\n",
       "\n",
       "    .dataframe thead th {\n",
       "        text-align: right;\n",
       "    }\n",
       "</style>\n",
       "<table border=\"1\" class=\"dataframe\">\n",
       "  <thead>\n",
       "    <tr style=\"text-align: right;\">\n",
       "      <th></th>\n",
       "      <th>user_id</th>\n",
       "      <th>orders</th>\n",
       "    </tr>\n",
       "  </thead>\n",
       "  <tbody>\n",
       "    <tr>\n",
       "      <th>0</th>\n",
       "      <td>5114589</td>\n",
       "      <td>1</td>\n",
       "    </tr>\n",
       "    <tr>\n",
       "      <th>1</th>\n",
       "      <td>6958315</td>\n",
       "      <td>1</td>\n",
       "    </tr>\n",
       "    <tr>\n",
       "      <th>2</th>\n",
       "      <td>39475350</td>\n",
       "      <td>1</td>\n",
       "    </tr>\n",
       "    <tr>\n",
       "      <th>3</th>\n",
       "      <td>47206413</td>\n",
       "      <td>1</td>\n",
       "    </tr>\n",
       "    <tr>\n",
       "      <th>4</th>\n",
       "      <td>48147722</td>\n",
       "      <td>1</td>\n",
       "    </tr>\n",
       "  </tbody>\n",
       "</table>\n",
       "</div>"
      ],
      "text/plain": [
       "    user_id  orders\n",
       "0  5114589   1     \n",
       "1  6958315   1     \n",
       "2  39475350  1     \n",
       "3  47206413  1     \n",
       "4  48147722  1     "
      ]
     },
     "execution_count": 33,
     "metadata": {},
     "output_type": "execute_result"
    }
   ],
   "source": [
    "#Из таблицы orders создадим две переменные, одна для пользователей группы A, вторая для пользователей группы B,\n",
    "#переменные будут содержать информацию о клиенте и количество уникальных заказов\n",
    "orders_by_users_a = (\n",
    "    orders[orders['group'] == 'A']\n",
    "    .groupby('visitors_id', as_index=False)\n",
    "    .agg({'transaction_id': pd.Series.nunique})\n",
    ")\n",
    "# Переименуем названия колонок\n",
    "orders_by_users_a.columns = ['user_id', 'orders']\n",
    "\n",
    "orders_by_users_b = (\n",
    "    orders[orders['group'] == 'B']\n",
    "    .groupby('visitors_id', as_index=False)\n",
    "    .agg({'transaction_id': pd.Series.nunique})\n",
    ")\n",
    "# Переименуем названия колонок\n",
    "orders_by_users_b.columns = ['user_id', 'orders'] \n",
    "\n",
    "display(orders_by_users_a.head(5))\n",
    "orders_by_users_b.head(5)"
   ]
  },
  {
   "cell_type": "code",
   "execution_count": 34,
   "metadata": {},
   "outputs": [
    {
     "data": {
      "text/plain": [
       "0        1\n",
       "1        1\n",
       "2        1\n",
       "3        1\n",
       "4        1\n",
       "        ..\n",
       "18286    0\n",
       "18287    0\n",
       "18288    0\n",
       "18289    0\n",
       "18290    0\n",
       "Name: orders, Length: 18736, dtype: int64"
      ]
     },
     "execution_count": 34,
     "metadata": {},
     "output_type": "execute_result"
    }
   ],
   "source": [
    "#Cоставим списки кол-ва заказов sample_a и sample_b со всеми пользователями (в том числе и не купившими) по группам \n",
    "sample_a = pd.concat([orders_by_users_a['orders'],pd.Series(0, index=np.arange(visitors_a_daily['visits_per_date_a'].sum() -\n",
    "                    len(orders_by_users_a['orders'])), name='orders')],axis=0)\n",
    "\n",
    "sample_b = pd.concat([orders_by_users_b['orders'],pd.Series(0, index=np.arange(visitors_b_daily['visits_per_date_b'].sum() - \n",
    "                    len(orders_by_users_b['orders'])), name='orders')],axis=0)\n",
    "sample_a"
   ]
  },
  {
   "cell_type": "markdown",
   "metadata": {},
   "source": [
    "Сформируем нулевую гипотезу и альтернативную, для сравнения конверсии между группами по неочищенным данным:\n",
    "* Нулевая гипотеза - конверсия пользователей группы A равна конверсии пользователей группы B.\n",
    "* Альтернативная гипотеза - конверсия пользователей группы A не равна конверсии пользователей группы B.  \n",
    "\n",
    "Для проверки гипотез мы будем использовать непараметрический тест Уилкоксона-Манна-Уитни. Этот метод работает с номерами значений в упорядоченном ряду и не учитывает сами значения - это позволит нам избежать искаженных результатов из-за выбросов.   \n",
    "\n",
    "Уровень статистической значимости примем за 0.05."
   ]
  },
  {
   "cell_type": "code",
   "execution_count": 35,
   "metadata": {},
   "outputs": [
    {
     "name": "stdout",
     "output_type": "stream",
     "text": [
      "Относительный прирост конверсии группы B по отношению к группе A: 0.160\n",
      "p-значение: 0.011018084110014696\n",
      "По неочищенным данным в конверсии групп A и B разница статистически значима.\n"
     ]
    }
   ],
   "source": [
    "print('Относительный прирост конверсии группы B по отношению к группе A: {:.3f}'.format(sample_b.mean()/sample_a.mean()-1))\n",
    "#Рассчитаем p-value для сравнения конверсии между группами\n",
    "alpha = 0.05\n",
    "results = stats.mannwhitneyu(sample_a, sample_b)\n",
    "print('p-значение:',results.pvalue)\n",
    "if results.pvalue < alpha:\n",
    "    print('По неочищенным данным в конверсии групп A и B разница статистически значима.')\n",
    "else:\n",
    "    print('По неочищенным данным различий в конверсии групп A и B нет.')"
   ]
  },
  {
   "cell_type": "markdown",
   "metadata": {},
   "source": [
    "Значение P-value существенно меньше 0.05, поэтому нулевую гипотезу отвеграем. Анализ по \"сырым\" данным показывает, что между группами по конверсии есть статистически значимые различия. Относительный прирост конверсии группы B по отношению к группе A 16%."
   ]
  },
  {
   "cell_type": "markdown",
   "metadata": {},
   "source": [
    "Сформируем нулевую гипотезу и альтернативную, для сравнения среднего чека между группами по неочищенным данным:\n",
    "* Нулевая гипотеза - средний чек пользователей группы A равен среднему чеку пользователей группы B.\n",
    "* Альтернативная гипотеза - средний чек пользователей группы A не равен среднему чеку пользователей группы B.\n",
    "\n",
    "Для проверки гипотез мы также будем использовать непараметрический тест Уилкоксона-Манна-Уитни, чтобы избежать искаженных результатов из-за выбросов.   \n",
    "\n",
    "Уровень статистической значимости примем за 0.05."
   ]
  },
  {
   "cell_type": "code",
   "execution_count": 36,
   "metadata": {},
   "outputs": [
    {
     "name": "stdout",
     "output_type": "stream",
     "text": [
      "Относительный прирост среднего чека группы B по отношению к группе A: 0.287\n",
      "p-значение: 0.8294908998149533\n",
      "По неочищенным данным различий в средних чеках групп A и B нет.\n"
     ]
    }
   ],
   "source": [
    "#Посчитаем статистическую значимость различий в среднем чеке заказа между группами по «сырым» данным\n",
    "print('Относительный прирост среднего чека группы B по отношению к группе A: {:.3f}'\n",
    "      .format(orders[orders['group']=='B']['revenue'].mean()/orders[orders['group']=='A']['revenue'].mean()-1))\n",
    "#Рассчитаем p-value для сравнения средних чеков между группами\n",
    "alpha = 0.05\n",
    "results = stats.mannwhitneyu(orders[orders['group'] == 'A']['revenue'], orders[orders['group'] == 'B']['revenue'])\n",
    "print('p-значение:',results.pvalue)\n",
    "if results.pvalue < alpha:\n",
    "    print('По неочищенным данным в средних чеках групп A и B разница статистически значима.')\n",
    "else:\n",
    "    print('По неочищенным данным различий в средних чеках групп A и B нет.')"
   ]
  },
  {
   "cell_type": "markdown",
   "metadata": {},
   "source": [
    "P-value 0.83 - статистически значимых различий в среднем чеке между группами нет, мы не можем отвергнуть нулевую гипотезу, однако относительный прирост среднего чека группы B отностиельно группы A составил 28.7%, что существенно, по всей видимости сильное влияние на показатели оказывают аномальные значения."
   ]
  },
  {
   "cell_type": "markdown",
   "metadata": {},
   "source": [
    "### Расчёт статистической значимости различий в конверсии и среднем чеке между группами по «очищенным» данным."
   ]
  },
  {
   "cell_type": "markdown",
   "metadata": {},
   "source": [
    "Сначала получим данные пользователей с аномальными значенями количества заказов и суммы одного заказа, затем уберем их из данных."
   ]
  },
  {
   "cell_type": "code",
   "execution_count": 37,
   "metadata": {
    "scrolled": true
   },
   "outputs": [
    {
     "name": "stdout",
     "output_type": "stream",
     "text": [
      "Количество пользователей с аномальными значениями: 49\n"
     ]
    }
   ],
   "source": [
    "#Создадим переменную в которой будут пользователи, которые совершилии больше двух закзов\n",
    "users_with_many_orders = pd.concat(\n",
    "    [orders_by_users_a[orders_by_users_a['orders'] > 2]['user_id'],\n",
    "     orders_by_users_b[orders_by_users_b['orders'] > 2]['user_id'],     \n",
    "    ], axis=0\n",
    ")\n",
    "#Создадим переменную в которой будут пользователи с суммой одного заказа более 30000\n",
    "users_with_expensive_orders = orders[orders['revenue']>30000]['visitors_id']\n",
    "#Объединим две таблицы удалив дубликаты\n",
    "ab_normal_users = pd.concat([users_with_many_orders,users_with_expensive_orders], axis=0).drop_duplicates().sort_values()\n",
    "print('Количество пользователей с аномальными значениями:', len(ab_normal_users))"
   ]
  },
  {
   "cell_type": "code",
   "execution_count": 38,
   "metadata": {},
   "outputs": [],
   "source": [
    "#Cоставим очищенные данные о заказах по группам \n",
    "sample_a_filtered = pd.concat(\n",
    "    [\n",
    "    orders_by_users_a[np.logical_not(orders_by_users_a['user_id'].isin(ab_normal_users))]['orders'],\n",
    "    pd.Series(0, index=np.arange(visitors_a_daily['visits_per_date_a'].sum() - len(orders_by_users_a['orders'])), name='orders')\n",
    "    ],axis=0\n",
    ")\n",
    "\n",
    "sample_b_filtered = pd.concat(\n",
    "    [\n",
    "    orders_by_users_b[np.logical_not(orders_by_users_b['user_id'].isin(ab_normal_users))]['orders'],\n",
    "    pd.Series(0, index=np.arange(visitors_b_daily['visits_per_date_b'].sum() - len(orders_by_users_b['orders'])), name='orders')\n",
    "    ],axis=0\n",
    ")\n"
   ]
  },
  {
   "cell_type": "markdown",
   "metadata": {},
   "source": [
    "Сформируем нулевую гипотезу и альтернативную, для сравнения конверсии между группами по очищенным данным:\n",
    "* Нулевая гипотеза - конверсия пользователей группы A равна конверсии пользователей группы B.\n",
    "* Альтернативная гипотеза - конверсия пользователей группы A не равна конверсии пользователей группы B.\n",
    "\n",
    "Для того, чтобы сопоставить результаты теста по \"сырым\" и \"очищенным\" данным, мы будем использовать тот же метод что и раньше - непараметрический тест Уилкоксона-Манна-Уитни.\n",
    "\n",
    "Уровень статистической значимости примем за 0.05."
   ]
  },
  {
   "cell_type": "code",
   "execution_count": 39,
   "metadata": {},
   "outputs": [
    {
     "name": "stdout",
     "output_type": "stream",
     "text": [
      "Относительный прирост конверсии группы B по отношению к группе A: 0.187\n",
      "p-значение: 0.009707773706615004\n",
      "По очищенным данным в конверсии групп A и B разница статистически значима.\n"
     ]
    }
   ],
   "source": [
    "#Посчитаем статистическую значимость конверсии по группам для очищенных данных\n",
    "print('Относительный прирост конверсии группы B по отношению к группе A: {:.3f}'\n",
    "      .format(sample_b_filtered.mean()/sample_a_filtered.mean()-1))\n",
    "#Рассчитаем p-value для сравнения конверсии между группами\n",
    "alpha = 0.05\n",
    "results = stats.mannwhitneyu(sample_a_filtered, sample_b_filtered)\n",
    "print('p-значение:',results.pvalue)\n",
    "if results.pvalue < alpha:\n",
    "    print('По очищенным данным в конверсии групп A и B разница статистически значима.')\n",
    "else:\n",
    "    print('По очищенным данным РАЗЛИЧИЙ в конверсии групп A и B нет.')"
   ]
  },
  {
   "cell_type": "markdown",
   "metadata": {},
   "source": [
    "Значение P-value всё также существенно меньше 0.05, поэтому нулевую гипотезу по-прежнему не отвеграем. Анализ по \"сырым\" данным показывает, что между группами по конверсии есть статистически значимые различия. Относительный прирост конверсии группы B по отношению к группе A 18.7%, что еще выше чем по неочищенным данным."
   ]
  },
  {
   "cell_type": "markdown",
   "metadata": {},
   "source": [
    "Сформируем нулевую гипотезу и альтернативную, для сравнения среднего чека между группами по очищенным данным:\n",
    "* Нулевая гипотеза - средний чек пользователей группы A равен среднему чеку пользователей группы B.\n",
    "* Альтернативная гипотеза - средний чек пользователей группы A не равен среднему чеку пользователей группы B.\n",
    "\n",
    "Для того, чтобы сопоставить результаты теста по \"сырым\" и \"очищенным\" данным, мы будем использовать тот же метод что и раньше - непараметрический тест Уилкоксона-Манна-Уитни.\n",
    "\n",
    "Уровень статистической значимости примем за 0.05."
   ]
  },
  {
   "cell_type": "code",
   "execution_count": 40,
   "metadata": {},
   "outputs": [
    {
     "name": "stdout",
     "output_type": "stream",
     "text": [
      "\n",
      "Относительный прирост конверсии группы B по отношению к группе A: -0.027\n",
      "p-значение: 0.7408811467812091\n",
      "По очищенным данным различий в среднем чеке групп A и B нет.\n"
     ]
    }
   ],
   "source": [
    "#Посчитаем статистическую значимость среднего чека по группам для очищенных данных\n",
    "print('\\nОтносительный прирост конверсии группы B по отношению к группе A: {:.3f}'\n",
    "      .format(\n",
    "orders[np.logical_and(orders['group']=='B', np.logical_not(orders['visitors_id'].isin(ab_normal_users)))]['revenue'].mean()/\n",
    "orders[np.logical_and(orders['group']=='A', np.logical_not(orders['visitors_id'].isin(ab_normal_users)))]['revenue'].mean()-1\n",
    "      )\n",
    "     )\n",
    "#Рассчитаем p-value для сравнения среднего чека между группами\n",
    "alpha = 0.05\n",
    "results = stats.mannwhitneyu(\n",
    "    orders[np.logical_and(orders['group']=='A',np.logical_not(orders['visitors_id'].isin(ab_normal_users)))]['revenue'], \n",
    "    orders[np.logical_and(orders['group']=='B',np.logical_not(orders['visitors_id'].isin(ab_normal_users)))]['revenue']\n",
    ")\n",
    "print('p-значение:',results.pvalue)\n",
    "if results.pvalue < alpha:\n",
    "    print('По очищенным данным в среднем чеке групп A и B разница статистически значима.')\n",
    "else:\n",
    "    print('По очищенным данным различий в среднем чеке групп A и B нет.')"
   ]
  },
  {
   "cell_type": "markdown",
   "metadata": {},
   "source": [
    "По очищенным данным P-value 0.74 - статистически значимых различий в среднем чеке между группами нет, мы не можем отвергнуть нулевую гипотезу, также и относительного прироста среднего чека группы B отностиельно группы A нет, показатель около 2%."
   ]
  },
  {
   "cell_type": "markdown",
   "metadata": {},
   "source": [
    "### Выводы и решение по результатам теста."
   ]
  },
  {
   "cell_type": "markdown",
   "metadata": {},
   "source": [
    "**Выводы по результатам теста:**\n",
    " * Между группами есть статистически значимое различие в показатели конверсии, как по \"сырым\" данным так и по \"очищенным\".\n",
    " * По \"сырым\" и \"очищенным\" данным нет статистически значимого различия по показателю среднего чека между группами A и B.\n",
    " * По кумулятивным метрикам выручки, среднего чека и конверсии, практически всегда лидировала группа B.\n",
    " * Относительный прирост конверсии группы B по отношению к группе A после очищения данных от аномалий  возрос с 16% до 18.7%.\n",
    " * По графику конверсии видно, что конверсия пользователей группы B стабильно выше чем у пользователей группы A и значение зафиксировалось на отметке около 15%."
   ]
  },
  {
   "cell_type": "code",
   "execution_count": 41,
   "metadata": {},
   "outputs": [
    {
     "data": {
      "image/png": "[encoded data removed]",
      "text/plain": [
       "<Figure size 864x360 with 1 Axes>"
      ]
     },
     "metadata": {
      "needs_background": "light"
     },
     "output_type": "display_data"
    }
   ],
   "source": [
    "plt.figure(figsize=(12, 5))\n",
    "plt.title('График относительного изменения кумулятивной конверсии группы B к группе A')\n",
    "plt.xlabel('Дата')\n",
    "plt.ylabel('Изменение')\n",
    "plt.plot(merged_cumulative_conversion['date'],\n",
    "         merged_cumulative_conversion['conversionB']/merged_cumulative_conversion['conversionA']-1,\n",
    "        label=\"Относительный прирост конверсии группы B относительно группы A\")\n",
    "plt.legend()\n",
    "plt.axhline(y=0, color='black', linestyle='--')\n",
    "plt.axhline(y=0.15, color='grey', linestyle='--')\n",
    "plt.show()\n"
   ]
  },
  {
   "cell_type": "markdown",
   "metadata": {},
   "source": [
    "**Учитывая убедительное приемущество группы B в показатели конверсии, при сравнимом значении среднего чека с группой А, можно сделать вывод о победе группы B и завершить тест.**"
   ]
  },
  {
   "cell_type": "markdown",
   "metadata": {},
   "source": [
    "**Общие выводы:**\n",
    "* В предоставленных таблицах была проведена предобработка данных, включающая:\n",
    "  * Изменение названия колонок - приведение всех символов к нижнему регистру и использование \"змеиного\" регистра;\n",
    "  * Изменение типа данных в столбцах, где это было необходимо;\n",
    "  * Проверка данных на дубликаты;\n",
    "  * Удаление пользователей находившихся одновременно в группе A и B.\n",
    "  \n",
    "  \n",
    "\n",
    "* Следующим этапом была произведена приоритизация девяти гипотез с помощью фреймворков ICE и RICE:\n",
    "  * Топ-5 самых важных гипотез совпал, по результатам исследования обоими методами, однако распределение по местам было разное. Особое значение стоит обращать на какое количество пользователей окажет влияние та или иная гипотеза. \n",
    "  * Среди представленных гипотез наиболее приоритетны оказались гипотезы под номерами 7, 2, 0, 6.\n",
    "  \n",
    "\n",
    "* Следующим этапом был произведен анализ A/B теста:\n",
    "  * Построены и проанализированы графики кумулятивной выручки, среднего чека, конверсии и относительного изменения кумулятивного среднего чека и конверсии группы B к группе A;\n",
    "  * По кумулятивным метрикам практически всегда лидировала группа B;\n",
    "  * Используя 95-й и 99-й перцентили были опрелены границы по количеству заказов и сумме заказов для аномальных пользователей и аномальных заказов;\n",
    "  * Была изучена статистическая значимость различий в конверсии и серднем чеке между группами A и B по \"сырым\" и \"очищенным\"  данным. В ходе анализа этих данных была выявлена разница в показатели конверсии и зафиксирована победа пользователей группы  B.\n"
   ]
  },
  {
   "cell_type": "code",
   "execution_count": null,
   "metadata": {},
   "outputs": [],
   "source": []
  }
 ],
 "metadata": {
  "ExecuteTimeLog": [
   {
    "duration": 511,
    "start_time": "2022-07-28T10:01:47.148Z"
   },
   {
    "duration": 1061,
    "start_time": "2022-07-28T10:02:07.398Z"
   },
   {
    "duration": 242,
    "start_time": "2022-07-28T10:02:10.607Z"
   },
   {
    "duration": 43,
    "start_time": "2022-07-28T10:02:22.793Z"
   },
   {
    "duration": 14,
    "start_time": "2022-07-28T10:02:27.788Z"
   },
   {
    "duration": 21,
    "start_time": "2022-07-28T10:03:41.216Z"
   },
   {
    "duration": 16,
    "start_time": "2022-07-28T10:03:59.534Z"
   },
   {
    "duration": 17,
    "start_time": "2022-07-28T10:04:30.084Z"
   },
   {
    "duration": 111,
    "start_time": "2022-07-28T10:05:25.306Z"
   },
   {
    "duration": 25,
    "start_time": "2022-07-28T10:05:26.371Z"
   },
   {
    "duration": 116,
    "start_time": "2022-07-28T10:06:35.497Z"
   },
   {
    "duration": 19,
    "start_time": "2022-07-28T10:06:36.867Z"
   },
   {
    "duration": 119,
    "start_time": "2022-07-28T10:06:44.507Z"
   },
   {
    "duration": 18,
    "start_time": "2022-07-28T10:06:45.720Z"
   },
   {
    "duration": 17,
    "start_time": "2022-07-28T10:11:55.442Z"
   },
   {
    "duration": 11,
    "start_time": "2022-07-28T10:28:37.737Z"
   },
   {
    "duration": 10,
    "start_time": "2022-07-28T10:29:02.343Z"
   },
   {
    "duration": 4,
    "start_time": "2022-07-28T10:29:19.511Z"
   },
   {
    "duration": 13,
    "start_time": "2022-07-28T10:29:31.074Z"
   },
   {
    "duration": 4,
    "start_time": "2022-07-28T10:32:37.098Z"
   },
   {
    "duration": 13,
    "start_time": "2022-07-28T10:32:44.559Z"
   },
   {
    "duration": 388,
    "start_time": "2022-07-28T10:36:48.474Z"
   },
   {
    "duration": 322,
    "start_time": "2022-07-28T10:42:43.143Z"
   },
   {
    "duration": 1301,
    "start_time": "2022-07-28T10:43:01.526Z"
   },
   {
    "duration": 120,
    "start_time": "2022-07-28T10:43:02.829Z"
   },
   {
    "duration": 23,
    "start_time": "2022-07-28T10:43:02.951Z"
   },
   {
    "duration": 17,
    "start_time": "2022-07-28T10:43:02.976Z"
   },
   {
    "duration": 18,
    "start_time": "2022-07-28T10:43:02.995Z"
   },
   {
    "duration": 12,
    "start_time": "2022-07-28T10:43:03.016Z"
   },
   {
    "duration": 20,
    "start_time": "2022-07-28T10:43:03.030Z"
   },
   {
    "duration": 437,
    "start_time": "2022-07-28T10:43:03.051Z"
   },
   {
    "duration": 361,
    "start_time": "2022-07-28T10:44:50.644Z"
   },
   {
    "duration": 306,
    "start_time": "2022-07-28T10:45:00.116Z"
   },
   {
    "duration": 13,
    "start_time": "2022-07-28T10:46:28.322Z"
   },
   {
    "duration": 320,
    "start_time": "2022-07-28T10:46:44.255Z"
   },
   {
    "duration": 324,
    "start_time": "2022-07-28T10:46:54.018Z"
   },
   {
    "duration": 1123,
    "start_time": "2022-07-28T10:47:13.060Z"
   },
   {
    "duration": 107,
    "start_time": "2022-07-28T10:47:14.185Z"
   },
   {
    "duration": 22,
    "start_time": "2022-07-28T10:47:14.294Z"
   },
   {
    "duration": 20,
    "start_time": "2022-07-28T10:47:14.318Z"
   },
   {
    "duration": 33,
    "start_time": "2022-07-28T10:47:14.340Z"
   },
   {
    "duration": 25,
    "start_time": "2022-07-28T10:47:14.375Z"
   },
   {
    "duration": 36,
    "start_time": "2022-07-28T10:47:14.402Z"
   },
   {
    "duration": 42,
    "start_time": "2022-07-28T10:47:14.441Z"
   },
   {
    "duration": 13,
    "start_time": "2022-07-28T10:47:27.554Z"
   },
   {
    "duration": 20,
    "start_time": "2022-07-28T11:06:38.211Z"
   },
   {
    "duration": 25,
    "start_time": "2022-07-28T11:06:45.041Z"
   },
   {
    "duration": 1170,
    "start_time": "2022-07-28T11:38:55.137Z"
   },
   {
    "duration": 140,
    "start_time": "2022-07-28T11:38:56.309Z"
   },
   {
    "duration": 22,
    "start_time": "2022-07-28T11:38:56.451Z"
   },
   {
    "duration": 16,
    "start_time": "2022-07-28T11:38:56.475Z"
   },
   {
    "duration": 26,
    "start_time": "2022-07-28T11:38:56.493Z"
   },
   {
    "duration": 27,
    "start_time": "2022-07-28T11:38:56.522Z"
   },
   {
    "duration": 22,
    "start_time": "2022-07-28T11:38:56.551Z"
   },
   {
    "duration": 18,
    "start_time": "2022-07-28T11:38:56.575Z"
   },
   {
    "duration": 39,
    "start_time": "2022-07-28T11:38:56.595Z"
   },
   {
    "duration": 7,
    "start_time": "2022-07-28T11:38:56.636Z"
   },
   {
    "duration": 82,
    "start_time": "2022-07-28T11:39:34.105Z"
   },
   {
    "duration": 6,
    "start_time": "2022-07-28T11:39:38.450Z"
   },
   {
    "duration": 10,
    "start_time": "2022-07-28T11:39:55.594Z"
   },
   {
    "duration": 1417,
    "start_time": "2022-07-28T11:46:41.031Z"
   },
   {
    "duration": 13,
    "start_time": "2022-07-28T11:46:52.910Z"
   },
   {
    "duration": 9,
    "start_time": "2022-07-28T11:47:54.437Z"
   },
   {
    "duration": 11,
    "start_time": "2022-07-28T11:49:08.930Z"
   },
   {
    "duration": 11,
    "start_time": "2022-07-28T11:56:53.925Z"
   },
   {
    "duration": 9,
    "start_time": "2022-07-28T13:52:52.174Z"
   },
   {
    "duration": 1326,
    "start_time": "2022-07-28T13:52:57.328Z"
   },
   {
    "duration": 121,
    "start_time": "2022-07-28T13:52:58.656Z"
   },
   {
    "duration": 24,
    "start_time": "2022-07-28T13:52:58.779Z"
   },
   {
    "duration": 39,
    "start_time": "2022-07-28T13:52:58.805Z"
   },
   {
    "duration": 32,
    "start_time": "2022-07-28T13:52:58.847Z"
   },
   {
    "duration": 21,
    "start_time": "2022-07-28T13:52:58.881Z"
   },
   {
    "duration": 26,
    "start_time": "2022-07-28T13:52:58.904Z"
   },
   {
    "duration": 27,
    "start_time": "2022-07-28T13:52:58.931Z"
   },
   {
    "duration": 34,
    "start_time": "2022-07-28T13:52:58.959Z"
   },
   {
    "duration": 11,
    "start_time": "2022-07-28T13:52:58.995Z"
   },
   {
    "duration": 23,
    "start_time": "2022-07-28T13:52:59.008Z"
   },
   {
    "duration": 18,
    "start_time": "2022-07-28T13:52:59.033Z"
   },
   {
    "duration": 18,
    "start_time": "2022-07-28T13:52:59.052Z"
   },
   {
    "duration": 3,
    "start_time": "2022-07-28T13:54:04.693Z"
   },
   {
    "duration": 111,
    "start_time": "2022-07-28T14:09:29.600Z"
   },
   {
    "duration": 16,
    "start_time": "2022-07-28T14:09:38.743Z"
   },
   {
    "duration": 14,
    "start_time": "2022-07-28T14:09:54.775Z"
   },
   {
    "duration": 12,
    "start_time": "2022-07-28T14:09:59.323Z"
   },
   {
    "duration": 16,
    "start_time": "2022-07-28T14:10:07.740Z"
   },
   {
    "duration": 181,
    "start_time": "2022-07-28T14:25:03.987Z"
   },
   {
    "duration": 83,
    "start_time": "2022-07-28T14:25:13.641Z"
   },
   {
    "duration": 87,
    "start_time": "2022-07-28T14:25:42.505Z"
   },
   {
    "duration": 77,
    "start_time": "2022-07-28T14:25:48.819Z"
   },
   {
    "duration": 33,
    "start_time": "2022-07-28T14:26:13.525Z"
   },
   {
    "duration": 31,
    "start_time": "2022-07-28T14:26:52.070Z"
   },
   {
    "duration": 194,
    "start_time": "2022-07-28T14:29:32.442Z"
   },
   {
    "duration": 233,
    "start_time": "2022-07-28T14:30:01.872Z"
   },
   {
    "duration": 174,
    "start_time": "2022-07-28T14:30:33.277Z"
   },
   {
    "duration": 11,
    "start_time": "2022-07-28T14:30:43.826Z"
   },
   {
    "duration": 303,
    "start_time": "2022-07-28T14:32:33.182Z"
   },
   {
    "duration": 11,
    "start_time": "2022-07-28T14:32:51.355Z"
   },
   {
    "duration": 182,
    "start_time": "2022-07-28T14:34:14.441Z"
   },
   {
    "duration": 13,
    "start_time": "2022-07-28T14:34:22.417Z"
   },
   {
    "duration": 282,
    "start_time": "2022-07-28T14:34:47.521Z"
   },
   {
    "duration": 12,
    "start_time": "2022-07-28T14:34:49.387Z"
   },
   {
    "duration": 12,
    "start_time": "2022-07-28T14:34:52.921Z"
   },
   {
    "duration": 293,
    "start_time": "2022-07-28T14:38:18.045Z"
   },
   {
    "duration": 14,
    "start_time": "2022-07-28T14:38:22.236Z"
   },
   {
    "duration": 324,
    "start_time": "2022-07-28T14:40:27.187Z"
   },
   {
    "duration": 10,
    "start_time": "2022-07-28T14:44:31.004Z"
   },
   {
    "duration": 14,
    "start_time": "2022-07-28T14:44:35.358Z"
   },
   {
    "duration": 7,
    "start_time": "2022-07-28T14:44:51.574Z"
   },
   {
    "duration": 5,
    "start_time": "2022-07-28T14:45:55.192Z"
   },
   {
    "duration": 7,
    "start_time": "2022-07-28T14:50:33.974Z"
   },
   {
    "duration": 7,
    "start_time": "2022-07-28T14:51:41.182Z"
   },
   {
    "duration": 7,
    "start_time": "2022-07-28T14:52:06.300Z"
   },
   {
    "duration": 8,
    "start_time": "2022-07-28T14:53:43.325Z"
   },
   {
    "duration": 20,
    "start_time": "2022-07-28T14:53:46.993Z"
   },
   {
    "duration": 21,
    "start_time": "2022-07-28T14:54:20.502Z"
   },
   {
    "duration": 15,
    "start_time": "2022-07-28T14:55:12.135Z"
   },
   {
    "duration": 14,
    "start_time": "2022-07-28T14:55:30.941Z"
   },
   {
    "duration": 30,
    "start_time": "2022-07-28T14:55:37.818Z"
   },
   {
    "duration": 19,
    "start_time": "2022-07-28T14:55:50.695Z"
   },
   {
    "duration": 12,
    "start_time": "2022-07-28T14:56:05.841Z"
   },
   {
    "duration": 23,
    "start_time": "2022-07-28T14:58:59.199Z"
   },
   {
    "duration": 14,
    "start_time": "2022-07-28T15:13:18.022Z"
   },
   {
    "duration": 22,
    "start_time": "2022-07-28T15:13:38.752Z"
   },
   {
    "duration": 43,
    "start_time": "2022-07-29T08:52:47.840Z"
   },
   {
    "duration": 1117,
    "start_time": "2022-07-29T08:52:55.747Z"
   },
   {
    "duration": 217,
    "start_time": "2022-07-29T08:52:56.869Z"
   },
   {
    "duration": 22,
    "start_time": "2022-07-29T08:52:57.088Z"
   },
   {
    "duration": 17,
    "start_time": "2022-07-29T08:52:57.112Z"
   },
   {
    "duration": 15,
    "start_time": "2022-07-29T08:52:57.130Z"
   },
   {
    "duration": 14,
    "start_time": "2022-07-29T08:52:57.147Z"
   },
   {
    "duration": 16,
    "start_time": "2022-07-29T08:52:57.163Z"
   },
   {
    "duration": 7,
    "start_time": "2022-07-29T08:52:57.182Z"
   },
   {
    "duration": 41,
    "start_time": "2022-07-29T08:52:57.191Z"
   },
   {
    "duration": 14,
    "start_time": "2022-07-29T08:52:57.235Z"
   },
   {
    "duration": 114,
    "start_time": "2022-07-29T08:52:57.251Z"
   },
   {
    "duration": 0,
    "start_time": "2022-07-29T08:52:57.367Z"
   },
   {
    "duration": 0,
    "start_time": "2022-07-29T08:52:57.368Z"
   },
   {
    "duration": 0,
    "start_time": "2022-07-29T08:52:57.369Z"
   },
   {
    "duration": 0,
    "start_time": "2022-07-29T08:52:57.371Z"
   },
   {
    "duration": 0,
    "start_time": "2022-07-29T08:52:57.372Z"
   },
   {
    "duration": 13,
    "start_time": "2022-07-29T08:53:22.515Z"
   },
   {
    "duration": 29,
    "start_time": "2022-07-29T08:53:37.958Z"
   },
   {
    "duration": 17,
    "start_time": "2022-07-29T08:53:43.257Z"
   },
   {
    "duration": 1419,
    "start_time": "2022-07-29T08:55:05.652Z"
   },
   {
    "duration": 12,
    "start_time": "2022-07-29T08:55:15.485Z"
   },
   {
    "duration": 14,
    "start_time": "2022-07-29T08:55:19.873Z"
   },
   {
    "duration": 12,
    "start_time": "2022-07-29T08:56:08.372Z"
   },
   {
    "duration": 10,
    "start_time": "2022-07-29T08:57:09.205Z"
   },
   {
    "duration": 19,
    "start_time": "2022-07-29T08:57:39.500Z"
   },
   {
    "duration": 1024,
    "start_time": "2022-07-29T08:59:13.729Z"
   },
   {
    "duration": 105,
    "start_time": "2022-07-29T08:59:14.755Z"
   },
   {
    "duration": 23,
    "start_time": "2022-07-29T08:59:14.862Z"
   },
   {
    "duration": 18,
    "start_time": "2022-07-29T08:59:14.887Z"
   },
   {
    "duration": 15,
    "start_time": "2022-07-29T08:59:14.907Z"
   },
   {
    "duration": 14,
    "start_time": "2022-07-29T08:59:14.924Z"
   },
   {
    "duration": 20,
    "start_time": "2022-07-29T08:59:14.940Z"
   },
   {
    "duration": 8,
    "start_time": "2022-07-29T08:59:14.962Z"
   },
   {
    "duration": 25,
    "start_time": "2022-07-29T08:59:14.972Z"
   },
   {
    "duration": 25,
    "start_time": "2022-07-29T08:59:15.000Z"
   },
   {
    "duration": 24,
    "start_time": "2022-07-29T08:59:15.027Z"
   },
   {
    "duration": 10,
    "start_time": "2022-07-29T08:59:15.053Z"
   },
   {
    "duration": 9,
    "start_time": "2022-07-29T08:59:15.064Z"
   },
   {
    "duration": 10,
    "start_time": "2022-07-29T08:59:15.074Z"
   },
   {
    "duration": 46,
    "start_time": "2022-07-29T08:59:15.086Z"
   },
   {
    "duration": 273,
    "start_time": "2022-07-29T08:59:15.134Z"
   },
   {
    "duration": 254,
    "start_time": "2022-07-29T08:59:56.504Z"
   },
   {
    "duration": 35,
    "start_time": "2022-07-29T09:03:52.671Z"
   },
   {
    "duration": 8,
    "start_time": "2022-07-29T09:04:59.821Z"
   },
   {
    "duration": 14,
    "start_time": "2022-07-29T09:05:03.245Z"
   },
   {
    "duration": 95,
    "start_time": "2022-07-29T09:07:07.859Z"
   },
   {
    "duration": 14,
    "start_time": "2022-07-29T09:43:33.365Z"
   },
   {
    "duration": 16,
    "start_time": "2022-07-29T09:43:41.204Z"
   },
   {
    "duration": 14,
    "start_time": "2022-07-29T09:44:17.352Z"
   },
   {
    "duration": 6,
    "start_time": "2022-07-29T09:48:39.684Z"
   },
   {
    "duration": 7,
    "start_time": "2022-07-29T09:48:48.823Z"
   },
   {
    "duration": 19,
    "start_time": "2022-07-29T09:48:52.984Z"
   },
   {
    "duration": 16,
    "start_time": "2022-07-29T09:50:16.376Z"
   },
   {
    "duration": 18,
    "start_time": "2022-07-29T09:50:20.555Z"
   },
   {
    "duration": 14,
    "start_time": "2022-07-29T09:50:26.353Z"
   },
   {
    "duration": 13,
    "start_time": "2022-07-29T09:50:38.308Z"
   },
   {
    "duration": 13,
    "start_time": "2022-07-29T09:50:42.360Z"
   },
   {
    "duration": 16,
    "start_time": "2022-07-29T09:54:22.402Z"
   },
   {
    "duration": 19,
    "start_time": "2022-07-29T09:55:10.976Z"
   },
   {
    "duration": 19,
    "start_time": "2022-07-29T10:03:29.521Z"
   },
   {
    "duration": 14,
    "start_time": "2022-07-29T10:03:58.575Z"
   },
   {
    "duration": 17,
    "start_time": "2022-07-29T10:05:03.048Z"
   },
   {
    "duration": 6,
    "start_time": "2022-07-29T10:07:08.093Z"
   },
   {
    "duration": 16,
    "start_time": "2022-07-29T10:07:11.942Z"
   },
   {
    "duration": 4,
    "start_time": "2022-07-29T10:09:45.754Z"
   },
   {
    "duration": 6,
    "start_time": "2022-07-29T10:09:51.216Z"
   },
   {
    "duration": 5,
    "start_time": "2022-07-29T10:10:06.760Z"
   },
   {
    "duration": 61,
    "start_time": "2022-07-29T10:10:13.390Z"
   },
   {
    "duration": 6,
    "start_time": "2022-07-29T10:10:18.416Z"
   },
   {
    "duration": 19,
    "start_time": "2022-07-29T10:12:35.869Z"
   },
   {
    "duration": 12,
    "start_time": "2022-07-29T10:14:41.263Z"
   },
   {
    "duration": 15,
    "start_time": "2022-07-29T10:14:59.642Z"
   },
   {
    "duration": 976,
    "start_time": "2022-07-29T10:17:15.374Z"
   },
   {
    "duration": 113,
    "start_time": "2022-07-29T10:17:16.352Z"
   },
   {
    "duration": 18,
    "start_time": "2022-07-29T10:17:16.466Z"
   },
   {
    "duration": 20,
    "start_time": "2022-07-29T10:17:16.486Z"
   },
   {
    "duration": 19,
    "start_time": "2022-07-29T10:17:16.508Z"
   },
   {
    "duration": 22,
    "start_time": "2022-07-29T10:17:16.528Z"
   },
   {
    "duration": 18,
    "start_time": "2022-07-29T10:17:16.551Z"
   },
   {
    "duration": 9,
    "start_time": "2022-07-29T10:17:16.570Z"
   },
   {
    "duration": 21,
    "start_time": "2022-07-29T10:17:16.580Z"
   },
   {
    "duration": 20,
    "start_time": "2022-07-29T10:17:16.602Z"
   },
   {
    "duration": 26,
    "start_time": "2022-07-29T10:17:16.623Z"
   },
   {
    "duration": 20,
    "start_time": "2022-07-29T10:17:16.650Z"
   },
   {
    "duration": 14,
    "start_time": "2022-07-29T10:17:16.672Z"
   },
   {
    "duration": 9,
    "start_time": "2022-07-29T10:17:16.687Z"
   },
   {
    "duration": 14,
    "start_time": "2022-07-29T10:17:16.698Z"
   },
   {
    "duration": 13,
    "start_time": "2022-07-29T10:17:16.713Z"
   },
   {
    "duration": 267,
    "start_time": "2022-07-29T10:17:16.727Z"
   },
   {
    "duration": 6,
    "start_time": "2022-07-29T12:03:09.272Z"
   },
   {
    "duration": 210,
    "start_time": "2022-07-29T12:04:14.770Z"
   },
   {
    "duration": 70,
    "start_time": "2022-07-29T12:04:31.376Z"
   },
   {
    "duration": 237,
    "start_time": "2022-07-29T12:04:36.296Z"
   },
   {
    "duration": 150,
    "start_time": "2022-07-29T12:05:22.528Z"
   },
   {
    "duration": 147,
    "start_time": "2022-07-29T12:05:28.388Z"
   },
   {
    "duration": 217,
    "start_time": "2022-07-29T12:06:31.394Z"
   },
   {
    "duration": 261,
    "start_time": "2022-07-29T12:06:39.074Z"
   },
   {
    "duration": 144,
    "start_time": "2022-07-29T12:06:45.458Z"
   },
   {
    "duration": 162,
    "start_time": "2022-07-29T12:08:25.173Z"
   },
   {
    "duration": 228,
    "start_time": "2022-07-29T12:08:42.758Z"
   },
   {
    "duration": 157,
    "start_time": "2022-07-29T12:08:52.793Z"
   },
   {
    "duration": 152,
    "start_time": "2022-07-29T12:08:56.362Z"
   },
   {
    "duration": 158,
    "start_time": "2022-07-29T12:08:59.694Z"
   },
   {
    "duration": 266,
    "start_time": "2022-07-29T12:10:13.827Z"
   },
   {
    "duration": 153,
    "start_time": "2022-07-29T12:10:21.096Z"
   },
   {
    "duration": 159,
    "start_time": "2022-07-29T12:10:26.359Z"
   },
   {
    "duration": 319,
    "start_time": "2022-07-29T12:10:34.107Z"
   },
   {
    "duration": 151,
    "start_time": "2022-07-29T12:10:46.002Z"
   },
   {
    "duration": 272,
    "start_time": "2022-07-29T12:10:55.518Z"
   },
   {
    "duration": 242,
    "start_time": "2022-07-29T12:11:03.533Z"
   },
   {
    "duration": 186,
    "start_time": "2022-07-29T12:16:18.482Z"
   },
   {
    "duration": 180,
    "start_time": "2022-07-29T12:16:22.470Z"
   },
   {
    "duration": 180,
    "start_time": "2022-07-29T12:16:30.301Z"
   },
   {
    "duration": 255,
    "start_time": "2022-07-29T12:20:39.422Z"
   },
   {
    "duration": 8,
    "start_time": "2022-07-29T12:27:49.072Z"
   },
   {
    "duration": 8,
    "start_time": "2022-07-29T12:32:17.156Z"
   },
   {
    "duration": 5,
    "start_time": "2022-07-29T12:32:27.322Z"
   },
   {
    "duration": 16,
    "start_time": "2022-07-29T12:32:35.026Z"
   },
   {
    "duration": 11,
    "start_time": "2022-07-29T12:37:53.855Z"
   },
   {
    "duration": 190,
    "start_time": "2022-07-29T12:40:09.829Z"
   },
   {
    "duration": 261,
    "start_time": "2022-07-29T12:40:51.258Z"
   },
   {
    "duration": 288,
    "start_time": "2022-07-29T12:43:39.319Z"
   },
   {
    "duration": 254,
    "start_time": "2022-07-29T12:43:48.205Z"
   },
   {
    "duration": 236,
    "start_time": "2022-07-29T12:43:54.962Z"
   },
   {
    "duration": 288,
    "start_time": "2022-07-29T12:43:59.615Z"
   },
   {
    "duration": 2,
    "start_time": "2022-07-29T12:47:52.687Z"
   },
   {
    "duration": 10,
    "start_time": "2022-07-29T13:00:56.247Z"
   },
   {
    "duration": 8,
    "start_time": "2022-07-29T13:04:18.670Z"
   },
   {
    "duration": 4,
    "start_time": "2022-07-29T13:04:26.094Z"
   },
   {
    "duration": 13,
    "start_time": "2022-07-29T13:04:33.870Z"
   },
   {
    "duration": 6,
    "start_time": "2022-07-29T13:07:02.946Z"
   },
   {
    "duration": 193,
    "start_time": "2022-07-29T13:09:26.432Z"
   },
   {
    "duration": 178,
    "start_time": "2022-07-29T13:11:05.800Z"
   },
   {
    "duration": 202,
    "start_time": "2022-07-29T13:12:00.272Z"
   },
   {
    "duration": 179,
    "start_time": "2022-07-29T13:12:07.878Z"
   },
   {
    "duration": 11,
    "start_time": "2022-07-29T13:29:52.271Z"
   },
   {
    "duration": 102,
    "start_time": "2022-07-29T13:31:57.457Z"
   },
   {
    "duration": 92,
    "start_time": "2022-07-29T13:32:31.598Z"
   },
   {
    "duration": 92,
    "start_time": "2022-07-29T13:32:53.889Z"
   },
   {
    "duration": 98,
    "start_time": "2022-07-29T13:33:14.991Z"
   },
   {
    "duration": 1422,
    "start_time": "2022-07-29T13:33:36.339Z"
   },
   {
    "duration": 1244,
    "start_time": "2022-07-29T13:34:07.354Z"
   },
   {
    "duration": 1168,
    "start_time": "2022-07-29T13:34:40.379Z"
   },
   {
    "duration": 2334,
    "start_time": "2022-07-29T13:35:58.266Z"
   },
   {
    "duration": 1491,
    "start_time": "2022-07-29T13:37:00.884Z"
   },
   {
    "duration": 178,
    "start_time": "2022-07-29T13:37:17.656Z"
   },
   {
    "duration": 161,
    "start_time": "2022-07-29T13:42:00.258Z"
   },
   {
    "duration": 147,
    "start_time": "2022-07-29T13:42:18.689Z"
   },
   {
    "duration": 147,
    "start_time": "2022-07-29T13:42:39.311Z"
   },
   {
    "duration": 259,
    "start_time": "2022-07-29T13:42:45.720Z"
   },
   {
    "duration": 291,
    "start_time": "2022-07-29T13:43:48.142Z"
   },
   {
    "duration": 316,
    "start_time": "2022-07-29T13:44:37.337Z"
   },
   {
    "duration": 287,
    "start_time": "2022-07-29T13:44:45.253Z"
   },
   {
    "duration": 213,
    "start_time": "2022-07-29T13:46:16.590Z"
   },
   {
    "duration": 247,
    "start_time": "2022-07-29T13:47:52.078Z"
   },
   {
    "duration": 263,
    "start_time": "2022-07-29T13:47:59.156Z"
   },
   {
    "duration": 286,
    "start_time": "2022-07-29T13:48:54.345Z"
   },
   {
    "duration": 12,
    "start_time": "2022-07-29T14:05:10.710Z"
   },
   {
    "duration": 75,
    "start_time": "2022-07-29T14:12:00.305Z"
   },
   {
    "duration": 7,
    "start_time": "2022-07-29T14:12:34.412Z"
   },
   {
    "duration": 12,
    "start_time": "2022-07-29T14:12:42.411Z"
   },
   {
    "duration": 12,
    "start_time": "2022-07-29T14:14:16.303Z"
   },
   {
    "duration": 1093,
    "start_time": "2022-07-29T14:15:56.372Z"
   },
   {
    "duration": 106,
    "start_time": "2022-07-29T14:15:57.466Z"
   },
   {
    "duration": 29,
    "start_time": "2022-07-29T14:15:57.574Z"
   },
   {
    "duration": 29,
    "start_time": "2022-07-29T14:15:57.606Z"
   },
   {
    "duration": 27,
    "start_time": "2022-07-29T14:15:57.638Z"
   },
   {
    "duration": 44,
    "start_time": "2022-07-29T14:15:57.667Z"
   },
   {
    "duration": 22,
    "start_time": "2022-07-29T14:15:57.713Z"
   },
   {
    "duration": 39,
    "start_time": "2022-07-29T14:15:57.737Z"
   },
   {
    "duration": 27,
    "start_time": "2022-07-29T14:15:57.779Z"
   },
   {
    "duration": 28,
    "start_time": "2022-07-29T14:15:57.809Z"
   },
   {
    "duration": 16,
    "start_time": "2022-07-29T14:15:57.839Z"
   },
   {
    "duration": 10,
    "start_time": "2022-07-29T14:15:57.857Z"
   },
   {
    "duration": 11,
    "start_time": "2022-07-29T14:15:57.870Z"
   },
   {
    "duration": 24,
    "start_time": "2022-07-29T14:15:57.883Z"
   },
   {
    "duration": 20,
    "start_time": "2022-07-29T14:15:57.909Z"
   },
   {
    "duration": 46,
    "start_time": "2022-07-29T14:15:57.931Z"
   },
   {
    "duration": 271,
    "start_time": "2022-07-29T14:15:57.979Z"
   },
   {
    "duration": 7,
    "start_time": "2022-07-29T14:15:58.251Z"
   },
   {
    "duration": 287,
    "start_time": "2022-07-29T14:15:58.261Z"
   },
   {
    "duration": 207,
    "start_time": "2022-07-29T14:15:58.550Z"
   },
   {
    "duration": 14,
    "start_time": "2022-07-29T14:15:58.759Z"
   },
   {
    "duration": 356,
    "start_time": "2022-07-29T14:15:58.775Z"
   },
   {
    "duration": 190,
    "start_time": "2022-07-29T14:15:59.133Z"
   },
   {
    "duration": 12,
    "start_time": "2022-07-29T14:15:59.330Z"
   },
   {
    "duration": 297,
    "start_time": "2022-07-29T14:15:59.343Z"
   },
   {
    "duration": 16,
    "start_time": "2022-07-29T14:15:59.641Z"
   },
   {
    "duration": 16,
    "start_time": "2022-07-29T14:16:53.845Z"
   },
   {
    "duration": 12,
    "start_time": "2022-07-29T14:17:15.487Z"
   },
   {
    "duration": 10,
    "start_time": "2022-07-29T14:17:55.229Z"
   },
   {
    "duration": 11,
    "start_time": "2022-07-29T14:18:20.878Z"
   },
   {
    "duration": 12,
    "start_time": "2022-07-29T14:18:29.713Z"
   },
   {
    "duration": 11,
    "start_time": "2022-07-29T14:18:50.344Z"
   },
   {
    "duration": 12,
    "start_time": "2022-07-29T14:19:01.244Z"
   },
   {
    "duration": 10,
    "start_time": "2022-07-29T14:19:13.517Z"
   },
   {
    "duration": 21,
    "start_time": "2022-07-29T14:19:28.797Z"
   },
   {
    "duration": 1073,
    "start_time": "2022-07-29T14:21:59.804Z"
   },
   {
    "duration": 109,
    "start_time": "2022-07-29T14:22:00.880Z"
   },
   {
    "duration": 24,
    "start_time": "2022-07-29T14:22:00.991Z"
   },
   {
    "duration": 24,
    "start_time": "2022-07-29T14:22:01.018Z"
   },
   {
    "duration": 22,
    "start_time": "2022-07-29T14:22:01.044Z"
   },
   {
    "duration": 22,
    "start_time": "2022-07-29T14:22:01.067Z"
   },
   {
    "duration": 30,
    "start_time": "2022-07-29T14:22:01.091Z"
   },
   {
    "duration": 29,
    "start_time": "2022-07-29T14:22:01.123Z"
   },
   {
    "duration": 37,
    "start_time": "2022-07-29T14:22:01.153Z"
   },
   {
    "duration": 14,
    "start_time": "2022-07-29T14:22:01.193Z"
   },
   {
    "duration": 17,
    "start_time": "2022-07-29T14:22:01.208Z"
   },
   {
    "duration": 36,
    "start_time": "2022-07-29T14:22:01.226Z"
   },
   {
    "duration": 17,
    "start_time": "2022-07-29T14:22:01.264Z"
   },
   {
    "duration": 11,
    "start_time": "2022-07-29T14:22:01.282Z"
   },
   {
    "duration": 14,
    "start_time": "2022-07-29T14:22:01.294Z"
   },
   {
    "duration": 12,
    "start_time": "2022-07-29T14:22:01.310Z"
   },
   {
    "duration": 290,
    "start_time": "2022-07-29T14:22:01.324Z"
   },
   {
    "duration": 16,
    "start_time": "2022-07-29T14:22:01.616Z"
   },
   {
    "duration": 286,
    "start_time": "2022-07-29T14:22:01.634Z"
   },
   {
    "duration": 205,
    "start_time": "2022-07-29T14:22:01.922Z"
   },
   {
    "duration": 11,
    "start_time": "2022-07-29T14:22:02.130Z"
   },
   {
    "duration": 265,
    "start_time": "2022-07-29T14:22:02.143Z"
   },
   {
    "duration": 207,
    "start_time": "2022-07-29T14:22:02.410Z"
   },
   {
    "duration": 13,
    "start_time": "2022-07-29T14:22:02.619Z"
   },
   {
    "duration": 301,
    "start_time": "2022-07-29T14:22:02.634Z"
   },
   {
    "duration": 11,
    "start_time": "2022-07-29T14:22:02.937Z"
   },
   {
    "duration": 121,
    "start_time": "2022-07-29T14:23:07.077Z"
   },
   {
    "duration": 12,
    "start_time": "2022-07-29T14:23:15.142Z"
   },
   {
    "duration": 10,
    "start_time": "2022-07-29T14:25:18.356Z"
   },
   {
    "duration": 6,
    "start_time": "2022-07-29T14:25:34.275Z"
   },
   {
    "duration": 114,
    "start_time": "2022-07-29T14:26:49.594Z"
   },
   {
    "duration": 113,
    "start_time": "2022-07-29T14:30:47.353Z"
   },
   {
    "duration": 162,
    "start_time": "2022-07-29T14:34:41.017Z"
   },
   {
    "duration": 8,
    "start_time": "2022-07-29T14:36:48.338Z"
   },
   {
    "duration": 83,
    "start_time": "2022-07-29T14:41:49.441Z"
   },
   {
    "duration": 1195,
    "start_time": "2022-07-29T14:44:16.975Z"
   },
   {
    "duration": 129,
    "start_time": "2022-07-29T14:44:18.174Z"
   },
   {
    "duration": 18,
    "start_time": "2022-07-29T14:44:18.305Z"
   },
   {
    "duration": 17,
    "start_time": "2022-07-29T14:44:18.325Z"
   },
   {
    "duration": 36,
    "start_time": "2022-07-29T14:44:18.343Z"
   },
   {
    "duration": 14,
    "start_time": "2022-07-29T14:44:18.382Z"
   },
   {
    "duration": 14,
    "start_time": "2022-07-29T14:44:18.398Z"
   },
   {
    "duration": 7,
    "start_time": "2022-07-29T14:44:18.413Z"
   },
   {
    "duration": 31,
    "start_time": "2022-07-29T14:44:18.421Z"
   },
   {
    "duration": 17,
    "start_time": "2022-07-29T14:44:18.454Z"
   },
   {
    "duration": 9,
    "start_time": "2022-07-29T14:44:18.472Z"
   },
   {
    "duration": 19,
    "start_time": "2022-07-29T14:44:18.483Z"
   },
   {
    "duration": 28,
    "start_time": "2022-07-29T14:44:18.504Z"
   },
   {
    "duration": 9,
    "start_time": "2022-07-29T14:44:18.533Z"
   },
   {
    "duration": 30,
    "start_time": "2022-07-29T14:44:18.548Z"
   },
   {
    "duration": 11,
    "start_time": "2022-07-29T14:44:18.581Z"
   },
   {
    "duration": 308,
    "start_time": "2022-07-29T14:44:18.594Z"
   },
   {
    "duration": 5,
    "start_time": "2022-07-29T14:44:18.904Z"
   },
   {
    "duration": 312,
    "start_time": "2022-07-29T14:44:18.910Z"
   },
   {
    "duration": 223,
    "start_time": "2022-07-29T14:44:19.223Z"
   },
   {
    "duration": 16,
    "start_time": "2022-07-29T14:44:19.450Z"
   },
   {
    "duration": 259,
    "start_time": "2022-07-29T14:44:19.467Z"
   },
   {
    "duration": 229,
    "start_time": "2022-07-29T14:44:19.728Z"
   },
   {
    "duration": 14,
    "start_time": "2022-07-29T14:44:19.959Z"
   },
   {
    "duration": 291,
    "start_time": "2022-07-29T14:44:19.975Z"
   },
   {
    "duration": 11,
    "start_time": "2022-07-29T14:44:20.267Z"
   },
   {
    "duration": 133,
    "start_time": "2022-07-29T14:44:20.279Z"
   },
   {
    "duration": 6,
    "start_time": "2022-07-29T14:44:20.414Z"
   },
   {
    "duration": 161,
    "start_time": "2022-07-29T14:44:20.430Z"
   },
   {
    "duration": 8,
    "start_time": "2022-07-29T14:44:20.592Z"
   },
   {
    "duration": 4,
    "start_time": "2022-08-01T09:39:46.614Z"
   },
   {
    "duration": 59,
    "start_time": "2022-08-01T09:42:09.834Z"
   },
   {
    "duration": 7,
    "start_time": "2022-08-01T09:51:30.704Z"
   },
   {
    "duration": 1337,
    "start_time": "2022-08-01T09:58:50.028Z"
   },
   {
    "duration": 324,
    "start_time": "2022-08-01T09:58:51.367Z"
   },
   {
    "duration": 21,
    "start_time": "2022-08-01T09:58:51.694Z"
   },
   {
    "duration": 15,
    "start_time": "2022-08-01T09:58:51.717Z"
   },
   {
    "duration": 23,
    "start_time": "2022-08-01T09:58:51.733Z"
   },
   {
    "duration": 13,
    "start_time": "2022-08-01T09:58:51.757Z"
   },
   {
    "duration": 23,
    "start_time": "2022-08-01T09:58:51.772Z"
   },
   {
    "duration": 17,
    "start_time": "2022-08-01T09:58:51.797Z"
   },
   {
    "duration": 35,
    "start_time": "2022-08-01T09:58:51.816Z"
   },
   {
    "duration": 13,
    "start_time": "2022-08-01T09:58:51.854Z"
   },
   {
    "duration": 9,
    "start_time": "2022-08-01T09:58:51.869Z"
   },
   {
    "duration": 25,
    "start_time": "2022-08-01T09:58:51.879Z"
   },
   {
    "duration": 24,
    "start_time": "2022-08-01T09:58:51.906Z"
   },
   {
    "duration": 9,
    "start_time": "2022-08-01T09:58:51.931Z"
   },
   {
    "duration": 12,
    "start_time": "2022-08-01T09:58:51.941Z"
   },
   {
    "duration": 16,
    "start_time": "2022-08-01T09:58:51.955Z"
   },
   {
    "duration": 371,
    "start_time": "2022-08-01T09:58:51.973Z"
   },
   {
    "duration": 7,
    "start_time": "2022-08-01T09:58:52.346Z"
   },
   {
    "duration": 395,
    "start_time": "2022-08-01T09:58:52.355Z"
   },
   {
    "duration": 477,
    "start_time": "2022-08-01T09:58:52.752Z"
   },
   {
    "duration": 12,
    "start_time": "2022-08-01T09:58:53.230Z"
   },
   {
    "duration": 487,
    "start_time": "2022-08-01T09:58:53.243Z"
   },
   {
    "duration": 421,
    "start_time": "2022-08-01T09:58:53.732Z"
   },
   {
    "duration": 11,
    "start_time": "2022-08-01T09:58:54.155Z"
   },
   {
    "duration": 486,
    "start_time": "2022-08-01T09:58:54.168Z"
   },
   {
    "duration": 68,
    "start_time": "2022-08-01T09:58:54.655Z"
   },
   {
    "duration": 302,
    "start_time": "2022-08-01T09:58:54.725Z"
   },
   {
    "duration": 7,
    "start_time": "2022-08-01T09:58:55.030Z"
   },
   {
    "duration": 229,
    "start_time": "2022-08-01T09:58:55.038Z"
   },
   {
    "duration": 9,
    "start_time": "2022-08-01T09:58:55.269Z"
   },
   {
    "duration": 41,
    "start_time": "2022-08-01T09:58:55.279Z"
   },
   {
    "duration": 6,
    "start_time": "2022-08-01T09:58:55.321Z"
   },
   {
    "duration": 6,
    "start_time": "2022-08-01T09:59:44.920Z"
   },
   {
    "duration": 11,
    "start_time": "2022-08-01T09:59:53.526Z"
   },
   {
    "duration": 11,
    "start_time": "2022-08-01T10:01:04.275Z"
   },
   {
    "duration": 10,
    "start_time": "2022-08-01T10:09:32.702Z"
   },
   {
    "duration": 9,
    "start_time": "2022-08-01T10:09:54.588Z"
   },
   {
    "duration": 259,
    "start_time": "2022-08-01T10:39:02.658Z"
   },
   {
    "duration": 180,
    "start_time": "2022-08-01T10:39:15.892Z"
   },
   {
    "duration": 168,
    "start_time": "2022-08-01T10:39:26.558Z"
   },
   {
    "duration": 132,
    "start_time": "2022-08-01T10:39:32.050Z"
   },
   {
    "duration": 156,
    "start_time": "2022-08-01T11:13:51.815Z"
   },
   {
    "duration": 51,
    "start_time": "2022-08-01T11:16:56.964Z"
   },
   {
    "duration": 10,
    "start_time": "2022-08-01T11:17:47.698Z"
   },
   {
    "duration": 23,
    "start_time": "2022-08-01T11:29:56.582Z"
   },
   {
    "duration": 27,
    "start_time": "2022-08-01T11:31:39.189Z"
   },
   {
    "duration": 11,
    "start_time": "2022-08-01T12:30:29.684Z"
   },
   {
    "duration": 12,
    "start_time": "2022-08-01T12:31:05.770Z"
   },
   {
    "duration": 2,
    "start_time": "2022-08-01T12:49:14.057Z"
   },
   {
    "duration": 53,
    "start_time": "2022-08-01T12:51:48.816Z"
   },
   {
    "duration": 49,
    "start_time": "2022-08-01T12:51:53.195Z"
   },
   {
    "duration": 11,
    "start_time": "2022-08-01T12:52:13.524Z"
   },
   {
    "duration": 13,
    "start_time": "2022-08-01T12:52:20.124Z"
   },
   {
    "duration": 7,
    "start_time": "2022-08-01T12:52:43.258Z"
   },
   {
    "duration": 7,
    "start_time": "2022-08-01T12:52:51.119Z"
   },
   {
    "duration": 869,
    "start_time": "2022-08-01T12:56:14.015Z"
   },
   {
    "duration": 6,
    "start_time": "2022-08-01T12:57:01.872Z"
   },
   {
    "duration": 6,
    "start_time": "2022-08-01T12:59:22.508Z"
   },
   {
    "duration": 7,
    "start_time": "2022-08-01T13:00:00.361Z"
   },
   {
    "duration": 6,
    "start_time": "2022-08-01T13:00:06.351Z"
   },
   {
    "duration": 6,
    "start_time": "2022-08-01T13:00:12.397Z"
   },
   {
    "duration": 8,
    "start_time": "2022-08-01T13:04:10.261Z"
   },
   {
    "duration": 10,
    "start_time": "2022-08-01T13:04:15.111Z"
   },
   {
    "duration": 9,
    "start_time": "2022-08-01T13:05:51.618Z"
   },
   {
    "duration": 9,
    "start_time": "2022-08-01T13:15:06.415Z"
   },
   {
    "duration": 878,
    "start_time": "2022-08-01T13:16:56.335Z"
   },
   {
    "duration": 10,
    "start_time": "2022-08-01T13:17:24.395Z"
   },
   {
    "duration": 11,
    "start_time": "2022-08-01T13:18:02.354Z"
   },
   {
    "duration": 9,
    "start_time": "2022-08-01T13:18:07.407Z"
   },
   {
    "duration": 24,
    "start_time": "2022-08-01T13:19:42.556Z"
   },
   {
    "duration": 25,
    "start_time": "2022-08-01T13:20:04.407Z"
   },
   {
    "duration": 22,
    "start_time": "2022-08-01T13:20:11.524Z"
   },
   {
    "duration": 14,
    "start_time": "2022-08-01T13:31:08.684Z"
   },
   {
    "duration": 15,
    "start_time": "2022-08-01T13:39:26.591Z"
   },
   {
    "duration": 1153,
    "start_time": "2022-08-01T13:43:15.238Z"
   },
   {
    "duration": 107,
    "start_time": "2022-08-01T13:43:16.393Z"
   },
   {
    "duration": 21,
    "start_time": "2022-08-01T13:43:16.501Z"
   },
   {
    "duration": 17,
    "start_time": "2022-08-01T13:43:16.524Z"
   },
   {
    "duration": 25,
    "start_time": "2022-08-01T13:43:16.542Z"
   },
   {
    "duration": 33,
    "start_time": "2022-08-01T13:43:16.569Z"
   },
   {
    "duration": 32,
    "start_time": "2022-08-01T13:43:16.604Z"
   },
   {
    "duration": 15,
    "start_time": "2022-08-01T13:43:16.638Z"
   },
   {
    "duration": 36,
    "start_time": "2022-08-01T13:43:16.655Z"
   },
   {
    "duration": 13,
    "start_time": "2022-08-01T13:43:16.694Z"
   },
   {
    "duration": 17,
    "start_time": "2022-08-01T13:43:16.708Z"
   },
   {
    "duration": 23,
    "start_time": "2022-08-01T13:43:16.728Z"
   },
   {
    "duration": 19,
    "start_time": "2022-08-01T13:43:16.753Z"
   },
   {
    "duration": 9,
    "start_time": "2022-08-01T13:43:16.775Z"
   },
   {
    "duration": 41,
    "start_time": "2022-08-01T13:43:16.786Z"
   },
   {
    "duration": 18,
    "start_time": "2022-08-01T13:43:16.829Z"
   },
   {
    "duration": 329,
    "start_time": "2022-08-01T13:43:16.849Z"
   },
   {
    "duration": 7,
    "start_time": "2022-08-01T13:43:17.180Z"
   },
   {
    "duration": 321,
    "start_time": "2022-08-01T13:43:17.189Z"
   },
   {
    "duration": 247,
    "start_time": "2022-08-01T13:43:17.512Z"
   },
   {
    "duration": 13,
    "start_time": "2022-08-01T13:43:17.760Z"
   },
   {
    "duration": 269,
    "start_time": "2022-08-01T13:43:17.775Z"
   },
   {
    "duration": 229,
    "start_time": "2022-08-01T13:43:18.045Z"
   },
   {
    "duration": 14,
    "start_time": "2022-08-01T13:43:18.276Z"
   },
   {
    "duration": 345,
    "start_time": "2022-08-01T13:43:18.291Z"
   },
   {
    "duration": 12,
    "start_time": "2022-08-01T13:43:18.638Z"
   },
   {
    "duration": 169,
    "start_time": "2022-08-01T13:43:18.652Z"
   },
   {
    "duration": 8,
    "start_time": "2022-08-01T13:43:18.826Z"
   },
   {
    "duration": 218,
    "start_time": "2022-08-01T13:43:18.836Z"
   },
   {
    "duration": 10,
    "start_time": "2022-08-01T13:43:19.056Z"
   },
   {
    "duration": 19,
    "start_time": "2022-08-01T13:43:19.069Z"
   },
   {
    "duration": 41,
    "start_time": "2022-08-01T13:43:19.090Z"
   },
   {
    "duration": 19,
    "start_time": "2022-08-01T13:43:19.132Z"
   },
   {
    "duration": 163,
    "start_time": "2022-08-01T13:43:19.153Z"
   },
   {
    "duration": 11,
    "start_time": "2022-08-01T13:43:19.324Z"
   },
   {
    "duration": 24,
    "start_time": "2022-08-01T13:43:19.337Z"
   },
   {
    "duration": 12,
    "start_time": "2022-08-01T13:43:19.363Z"
   },
   {
    "duration": 51,
    "start_time": "2022-08-01T13:43:19.377Z"
   },
   {
    "duration": 14,
    "start_time": "2022-08-01T13:43:19.429Z"
   },
   {
    "duration": 24,
    "start_time": "2022-08-01T13:43:19.445Z"
   },
   {
    "duration": 16,
    "start_time": "2022-08-01T13:43:19.470Z"
   },
   {
    "duration": 2,
    "start_time": "2022-08-01T13:46:18.332Z"
   },
   {
    "duration": 271,
    "start_time": "2022-08-01T13:50:34.474Z"
   },
   {
    "duration": 52,
    "start_time": "2022-08-02T10:06:59.621Z"
   },
   {
    "duration": 1450,
    "start_time": "2022-08-02T10:07:09.028Z"
   },
   {
    "duration": 279,
    "start_time": "2022-08-02T10:07:10.480Z"
   },
   {
    "duration": 22,
    "start_time": "2022-08-02T10:07:10.760Z"
   },
   {
    "duration": 28,
    "start_time": "2022-08-02T10:07:10.784Z"
   },
   {
    "duration": 35,
    "start_time": "2022-08-02T10:07:10.813Z"
   },
   {
    "duration": 11,
    "start_time": "2022-08-02T10:07:10.849Z"
   },
   {
    "duration": 13,
    "start_time": "2022-08-02T10:07:10.861Z"
   },
   {
    "duration": 6,
    "start_time": "2022-08-02T10:07:10.876Z"
   },
   {
    "duration": 56,
    "start_time": "2022-08-02T10:07:10.884Z"
   },
   {
    "duration": 14,
    "start_time": "2022-08-02T10:07:10.944Z"
   },
   {
    "duration": 11,
    "start_time": "2022-08-02T10:07:10.961Z"
   },
   {
    "duration": 50,
    "start_time": "2022-08-02T10:07:10.973Z"
   },
   {
    "duration": 19,
    "start_time": "2022-08-02T10:07:11.025Z"
   },
   {
    "duration": 8,
    "start_time": "2022-08-02T10:07:11.046Z"
   },
   {
    "duration": 11,
    "start_time": "2022-08-02T10:07:11.055Z"
   },
   {
    "duration": 12,
    "start_time": "2022-08-02T10:07:11.068Z"
   },
   {
    "duration": 348,
    "start_time": "2022-08-02T10:07:11.082Z"
   },
   {
    "duration": 6,
    "start_time": "2022-08-02T10:07:11.432Z"
   },
   {
    "duration": 330,
    "start_time": "2022-08-02T10:07:11.440Z"
   },
   {
    "duration": 240,
    "start_time": "2022-08-02T10:07:11.772Z"
   },
   {
    "duration": 12,
    "start_time": "2022-08-02T10:07:12.013Z"
   },
   {
    "duration": 323,
    "start_time": "2022-08-02T10:07:12.026Z"
   },
   {
    "duration": 222,
    "start_time": "2022-08-02T10:07:12.350Z"
   },
   {
    "duration": 14,
    "start_time": "2022-08-02T10:07:12.574Z"
   },
   {
    "duration": 308,
    "start_time": "2022-08-02T10:07:12.612Z"
   },
   {
    "duration": 13,
    "start_time": "2022-08-02T10:07:12.922Z"
   },
   {
    "duration": 147,
    "start_time": "2022-08-02T10:07:12.937Z"
   },
   {
    "duration": 14,
    "start_time": "2022-08-02T10:07:13.089Z"
   },
   {
    "duration": 163,
    "start_time": "2022-08-02T10:07:13.105Z"
   },
   {
    "duration": 8,
    "start_time": "2022-08-02T10:07:13.270Z"
   },
   {
    "duration": 10,
    "start_time": "2022-08-02T10:07:13.280Z"
   },
   {
    "duration": 15,
    "start_time": "2022-08-02T10:07:13.305Z"
   },
   {
    "duration": 21,
    "start_time": "2022-08-02T10:07:13.321Z"
   },
   {
    "duration": 185,
    "start_time": "2022-08-02T10:07:13.344Z"
   },
   {
    "duration": 9,
    "start_time": "2022-08-02T10:07:13.530Z"
   },
   {
    "duration": 24,
    "start_time": "2022-08-02T10:07:13.541Z"
   },
   {
    "duration": 12,
    "start_time": "2022-08-02T10:07:13.567Z"
   },
   {
    "duration": 56,
    "start_time": "2022-08-02T10:07:13.581Z"
   },
   {
    "duration": 9,
    "start_time": "2022-08-02T10:07:13.638Z"
   },
   {
    "duration": 22,
    "start_time": "2022-08-02T10:07:13.649Z"
   },
   {
    "duration": 14,
    "start_time": "2022-08-02T10:07:13.672Z"
   },
   {
    "duration": 364,
    "start_time": "2022-08-02T10:07:13.688Z"
   },
   {
    "duration": 27,
    "start_time": "2022-08-02T10:13:46.865Z"
   },
   {
    "duration": 25,
    "start_time": "2022-08-02T10:13:54.735Z"
   },
   {
    "duration": 33,
    "start_time": "2022-08-02T10:14:16.697Z"
   },
   {
    "duration": 130,
    "start_time": "2022-08-02T10:14:46.922Z"
   },
   {
    "duration": 105,
    "start_time": "2022-08-02T10:15:06.773Z"
   },
   {
    "duration": 13,
    "start_time": "2022-08-02T10:15:24.261Z"
   },
   {
    "duration": 1174,
    "start_time": "2022-08-02T10:15:40.463Z"
   },
   {
    "duration": 126,
    "start_time": "2022-08-02T10:15:41.642Z"
   },
   {
    "duration": 20,
    "start_time": "2022-08-02T10:15:41.769Z"
   },
   {
    "duration": 60,
    "start_time": "2022-08-02T10:15:41.790Z"
   },
   {
    "duration": 29,
    "start_time": "2022-08-02T10:15:41.853Z"
   },
   {
    "duration": 10,
    "start_time": "2022-08-02T10:15:41.884Z"
   },
   {
    "duration": 67,
    "start_time": "2022-08-02T10:15:41.896Z"
   },
   {
    "duration": 47,
    "start_time": "2022-08-02T10:15:41.965Z"
   },
   {
    "duration": 52,
    "start_time": "2022-08-02T10:15:42.013Z"
   },
   {
    "duration": 23,
    "start_time": "2022-08-02T10:15:42.066Z"
   },
   {
    "duration": 71,
    "start_time": "2022-08-02T10:15:42.090Z"
   },
   {
    "duration": 17,
    "start_time": "2022-08-02T10:15:42.162Z"
   },
   {
    "duration": 8,
    "start_time": "2022-08-02T10:15:42.181Z"
   },
   {
    "duration": 27,
    "start_time": "2022-08-02T10:15:42.192Z"
   },
   {
    "duration": 26,
    "start_time": "2022-08-02T10:15:42.221Z"
   },
   {
    "duration": 303,
    "start_time": "2022-08-02T10:15:42.249Z"
   },
   {
    "duration": 7,
    "start_time": "2022-08-02T10:15:42.554Z"
   },
   {
    "duration": 365,
    "start_time": "2022-08-02T10:15:42.563Z"
   },
   {
    "duration": 230,
    "start_time": "2022-08-02T10:15:42.930Z"
   },
   {
    "duration": 11,
    "start_time": "2022-08-02T10:15:43.162Z"
   },
   {
    "duration": 351,
    "start_time": "2022-08-02T10:15:43.175Z"
   },
   {
    "duration": 218,
    "start_time": "2022-08-02T10:15:43.528Z"
   },
   {
    "duration": 11,
    "start_time": "2022-08-02T10:15:43.747Z"
   },
   {
    "duration": 383,
    "start_time": "2022-08-02T10:15:43.760Z"
   },
   {
    "duration": 11,
    "start_time": "2022-08-02T10:15:44.145Z"
   },
   {
    "duration": 175,
    "start_time": "2022-08-02T10:15:44.157Z"
   },
   {
    "duration": 8,
    "start_time": "2022-08-02T10:15:44.336Z"
   },
   {
    "duration": 197,
    "start_time": "2022-08-02T10:15:44.346Z"
   },
   {
    "duration": 9,
    "start_time": "2022-08-02T10:15:44.545Z"
   },
   {
    "duration": 14,
    "start_time": "2022-08-02T10:15:44.557Z"
   },
   {
    "duration": 50,
    "start_time": "2022-08-02T10:15:44.574Z"
   },
   {
    "duration": 11,
    "start_time": "2022-08-02T10:15:44.636Z"
   },
   {
    "duration": 208,
    "start_time": "2022-08-02T10:15:44.650Z"
   },
   {
    "duration": 12,
    "start_time": "2022-08-02T10:15:44.860Z"
   },
   {
    "duration": 46,
    "start_time": "2022-08-02T10:15:44.873Z"
   },
   {
    "duration": 26,
    "start_time": "2022-08-02T10:15:44.921Z"
   },
   {
    "duration": 13,
    "start_time": "2022-08-02T10:15:44.949Z"
   },
   {
    "duration": 9,
    "start_time": "2022-08-02T10:15:44.963Z"
   },
   {
    "duration": 66,
    "start_time": "2022-08-02T10:15:44.974Z"
   },
   {
    "duration": 16,
    "start_time": "2022-08-02T10:15:45.045Z"
   },
   {
    "duration": 304,
    "start_time": "2022-08-02T10:15:45.066Z"
   },
   {
    "duration": 30,
    "start_time": "2022-08-02T10:16:37.836Z"
   },
   {
    "duration": 1134,
    "start_time": "2022-08-02T10:16:44.970Z"
   },
   {
    "duration": 133,
    "start_time": "2022-08-02T10:16:46.113Z"
   },
   {
    "duration": 20,
    "start_time": "2022-08-02T10:16:46.248Z"
   },
   {
    "duration": 16,
    "start_time": "2022-08-02T10:16:46.270Z"
   },
   {
    "duration": 37,
    "start_time": "2022-08-02T10:16:46.288Z"
   },
   {
    "duration": 24,
    "start_time": "2022-08-02T10:16:46.334Z"
   },
   {
    "duration": 15,
    "start_time": "2022-08-02T10:16:46.359Z"
   },
   {
    "duration": 7,
    "start_time": "2022-08-02T10:16:46.375Z"
   },
   {
    "duration": 23,
    "start_time": "2022-08-02T10:16:46.383Z"
   },
   {
    "duration": 41,
    "start_time": "2022-08-02T10:16:46.408Z"
   },
   {
    "duration": 24,
    "start_time": "2022-08-02T10:16:46.450Z"
   },
   {
    "duration": 16,
    "start_time": "2022-08-02T10:16:46.476Z"
   },
   {
    "duration": 30,
    "start_time": "2022-08-02T10:16:46.493Z"
   },
   {
    "duration": 15,
    "start_time": "2022-08-02T10:16:46.531Z"
   },
   {
    "duration": 16,
    "start_time": "2022-08-02T10:16:46.548Z"
   },
   {
    "duration": 310,
    "start_time": "2022-08-02T10:16:46.566Z"
   },
   {
    "duration": 6,
    "start_time": "2022-08-02T10:16:46.877Z"
   },
   {
    "duration": 327,
    "start_time": "2022-08-02T10:16:46.885Z"
   },
   {
    "duration": 254,
    "start_time": "2022-08-02T10:16:47.213Z"
   },
   {
    "duration": 12,
    "start_time": "2022-08-02T10:16:47.468Z"
   },
   {
    "duration": 292,
    "start_time": "2022-08-02T10:16:47.481Z"
   },
   {
    "duration": 470,
    "start_time": "2022-08-02T10:16:47.775Z"
   },
   {
    "duration": 12,
    "start_time": "2022-08-02T10:16:48.246Z"
   },
   {
    "duration": 528,
    "start_time": "2022-08-02T10:16:48.314Z"
   },
   {
    "duration": 82,
    "start_time": "2022-08-02T10:16:48.846Z"
   },
   {
    "duration": 383,
    "start_time": "2022-08-02T10:16:48.933Z"
   },
   {
    "duration": 14,
    "start_time": "2022-08-02T10:16:49.318Z"
   },
   {
    "duration": 405,
    "start_time": "2022-08-02T10:16:49.342Z"
   },
   {
    "duration": 31,
    "start_time": "2022-08-02T10:16:49.801Z"
   },
   {
    "duration": 25,
    "start_time": "2022-08-02T10:16:49.836Z"
   },
   {
    "duration": 46,
    "start_time": "2022-08-02T10:16:49.862Z"
   },
   {
    "duration": 49,
    "start_time": "2022-08-02T10:16:49.910Z"
   },
   {
    "duration": 177,
    "start_time": "2022-08-02T10:16:49.961Z"
   },
   {
    "duration": 14,
    "start_time": "2022-08-02T10:16:50.140Z"
   },
   {
    "duration": 33,
    "start_time": "2022-08-02T10:16:50.156Z"
   },
   {
    "duration": 45,
    "start_time": "2022-08-02T10:16:50.190Z"
   },
   {
    "duration": 9,
    "start_time": "2022-08-02T10:16:50.238Z"
   },
   {
    "duration": 9,
    "start_time": "2022-08-02T10:16:50.249Z"
   },
   {
    "duration": 22,
    "start_time": "2022-08-02T10:16:50.260Z"
   },
   {
    "duration": 51,
    "start_time": "2022-08-02T10:16:50.284Z"
   },
   {
    "duration": 313,
    "start_time": "2022-08-02T10:16:50.337Z"
   },
   {
    "duration": 1116,
    "start_time": "2022-08-02T10:17:29.435Z"
   },
   {
    "duration": 134,
    "start_time": "2022-08-02T10:17:30.553Z"
   },
   {
    "duration": 30,
    "start_time": "2022-08-02T10:17:30.690Z"
   },
   {
    "duration": 31,
    "start_time": "2022-08-02T10:17:30.734Z"
   },
   {
    "duration": 52,
    "start_time": "2022-08-02T10:17:30.767Z"
   },
   {
    "duration": 76,
    "start_time": "2022-08-02T10:17:30.821Z"
   },
   {
    "duration": 56,
    "start_time": "2022-08-02T10:17:30.901Z"
   },
   {
    "duration": 18,
    "start_time": "2022-08-02T10:17:30.958Z"
   },
   {
    "duration": 59,
    "start_time": "2022-08-02T10:17:30.978Z"
   },
   {
    "duration": 102,
    "start_time": "2022-08-02T10:17:31.038Z"
   },
   {
    "duration": 123,
    "start_time": "2022-08-02T10:17:31.141Z"
   },
   {
    "duration": 19,
    "start_time": "2022-08-02T10:17:31.265Z"
   },
   {
    "duration": 8,
    "start_time": "2022-08-02T10:17:31.285Z"
   },
   {
    "duration": 51,
    "start_time": "2022-08-02T10:17:31.296Z"
   },
   {
    "duration": 44,
    "start_time": "2022-08-02T10:17:31.349Z"
   },
   {
    "duration": 356,
    "start_time": "2022-08-02T10:17:31.394Z"
   },
   {
    "duration": 6,
    "start_time": "2022-08-02T10:17:31.751Z"
   },
   {
    "duration": 361,
    "start_time": "2022-08-02T10:17:31.759Z"
   },
   {
    "duration": 244,
    "start_time": "2022-08-02T10:17:32.133Z"
   },
   {
    "duration": 44,
    "start_time": "2022-08-02T10:17:32.379Z"
   },
   {
    "duration": 257,
    "start_time": "2022-08-02T10:17:32.438Z"
   },
   {
    "duration": 227,
    "start_time": "2022-08-02T10:17:32.697Z"
   },
   {
    "duration": 15,
    "start_time": "2022-08-02T10:17:32.925Z"
   },
   {
    "duration": 301,
    "start_time": "2022-08-02T10:17:32.942Z"
   },
   {
    "duration": 11,
    "start_time": "2022-08-02T10:17:33.246Z"
   },
   {
    "duration": 157,
    "start_time": "2022-08-02T10:17:33.259Z"
   },
   {
    "duration": 14,
    "start_time": "2022-08-02T10:17:33.418Z"
   },
   {
    "duration": 144,
    "start_time": "2022-08-02T10:17:33.437Z"
   },
   {
    "duration": 9,
    "start_time": "2022-08-02T10:17:33.583Z"
   },
   {
    "duration": 30,
    "start_time": "2022-08-02T10:17:33.618Z"
   },
   {
    "duration": 19,
    "start_time": "2022-08-02T10:17:33.650Z"
   },
   {
    "duration": 17,
    "start_time": "2022-08-02T10:17:33.670Z"
   },
   {
    "duration": 162,
    "start_time": "2022-08-02T10:17:33.688Z"
   },
   {
    "duration": 8,
    "start_time": "2022-08-02T10:17:33.852Z"
   },
   {
    "duration": 24,
    "start_time": "2022-08-02T10:17:33.862Z"
   },
   {
    "duration": 44,
    "start_time": "2022-08-02T10:17:33.888Z"
   },
   {
    "duration": 12,
    "start_time": "2022-08-02T10:17:33.934Z"
   },
   {
    "duration": 23,
    "start_time": "2022-08-02T10:17:33.948Z"
   },
   {
    "duration": 54,
    "start_time": "2022-08-02T10:17:33.974Z"
   },
   {
    "duration": 16,
    "start_time": "2022-08-02T10:17:34.030Z"
   },
   {
    "duration": 308,
    "start_time": "2022-08-02T10:17:34.050Z"
   },
   {
    "duration": 1120,
    "start_time": "2022-08-02T12:53:59.123Z"
   },
   {
    "duration": 113,
    "start_time": "2022-08-02T12:54:00.245Z"
   },
   {
    "duration": 19,
    "start_time": "2022-08-02T12:54:00.360Z"
   },
   {
    "duration": 41,
    "start_time": "2022-08-02T12:54:00.380Z"
   },
   {
    "duration": 18,
    "start_time": "2022-08-02T12:54:00.424Z"
   },
   {
    "duration": 27,
    "start_time": "2022-08-02T12:54:00.443Z"
   },
   {
    "duration": 38,
    "start_time": "2022-08-02T12:54:00.473Z"
   },
   {
    "duration": 23,
    "start_time": "2022-08-02T12:54:00.512Z"
   },
   {
    "duration": 18,
    "start_time": "2022-08-02T12:54:00.537Z"
   },
   {
    "duration": 25,
    "start_time": "2022-08-02T12:54:00.557Z"
   },
   {
    "duration": 42,
    "start_time": "2022-08-02T12:54:00.584Z"
   },
   {
    "duration": 17,
    "start_time": "2022-08-02T12:54:00.627Z"
   },
   {
    "duration": 19,
    "start_time": "2022-08-02T12:54:00.646Z"
   },
   {
    "duration": 17,
    "start_time": "2022-08-02T12:54:00.668Z"
   },
   {
    "duration": 41,
    "start_time": "2022-08-02T12:54:00.686Z"
   },
   {
    "duration": 306,
    "start_time": "2022-08-02T12:54:00.729Z"
   },
   {
    "duration": 6,
    "start_time": "2022-08-02T12:54:01.037Z"
   },
   {
    "duration": 320,
    "start_time": "2022-08-02T12:54:01.044Z"
   },
   {
    "duration": 224,
    "start_time": "2022-08-02T12:54:01.365Z"
   },
   {
    "duration": 28,
    "start_time": "2022-08-02T12:54:01.592Z"
   },
   {
    "duration": 259,
    "start_time": "2022-08-02T12:54:01.625Z"
   },
   {
    "duration": 242,
    "start_time": "2022-08-02T12:54:01.886Z"
   },
   {
    "duration": 13,
    "start_time": "2022-08-02T12:54:02.130Z"
   },
   {
    "duration": 293,
    "start_time": "2022-08-02T12:54:02.145Z"
   },
   {
    "duration": 13,
    "start_time": "2022-08-02T12:54:02.440Z"
   },
   {
    "duration": 169,
    "start_time": "2022-08-02T12:54:02.455Z"
   },
   {
    "duration": 8,
    "start_time": "2022-08-02T12:54:02.626Z"
   },
   {
    "duration": 153,
    "start_time": "2022-08-02T12:54:02.635Z"
   },
   {
    "duration": 26,
    "start_time": "2022-08-02T12:54:02.790Z"
   },
   {
    "duration": 25,
    "start_time": "2022-08-02T12:54:02.817Z"
   },
   {
    "duration": 17,
    "start_time": "2022-08-02T12:54:02.844Z"
   },
   {
    "duration": 21,
    "start_time": "2022-08-02T12:54:02.862Z"
   },
   {
    "duration": 153,
    "start_time": "2022-08-02T12:54:02.885Z"
   },
   {
    "duration": 12,
    "start_time": "2022-08-02T12:54:03.040Z"
   },
   {
    "duration": 67,
    "start_time": "2022-08-02T12:54:03.053Z"
   },
   {
    "duration": 12,
    "start_time": "2022-08-02T12:54:03.125Z"
   },
   {
    "duration": 8,
    "start_time": "2022-08-02T12:54:03.139Z"
   },
   {
    "duration": 31,
    "start_time": "2022-08-02T12:54:03.149Z"
   },
   {
    "duration": 41,
    "start_time": "2022-08-02T12:54:03.182Z"
   },
   {
    "duration": 14,
    "start_time": "2022-08-02T12:54:03.225Z"
   },
   {
    "duration": 292,
    "start_time": "2022-08-02T12:54:03.243Z"
   },
   {
    "duration": 1098,
    "start_time": "2022-08-02T13:01:20.462Z"
   },
   {
    "duration": 118,
    "start_time": "2022-08-02T13:01:21.562Z"
   },
   {
    "duration": 34,
    "start_time": "2022-08-02T13:01:21.682Z"
   },
   {
    "duration": 17,
    "start_time": "2022-08-02T13:01:21.721Z"
   },
   {
    "duration": 13,
    "start_time": "2022-08-02T13:01:21.741Z"
   },
   {
    "duration": 17,
    "start_time": "2022-08-02T13:01:21.756Z"
   },
   {
    "duration": 16,
    "start_time": "2022-08-02T13:01:21.775Z"
   },
   {
    "duration": 28,
    "start_time": "2022-08-02T13:01:21.793Z"
   },
   {
    "duration": 20,
    "start_time": "2022-08-02T13:01:21.825Z"
   },
   {
    "duration": 8,
    "start_time": "2022-08-02T13:01:21.846Z"
   },
   {
    "duration": 20,
    "start_time": "2022-08-02T13:01:21.855Z"
   },
   {
    "duration": 16,
    "start_time": "2022-08-02T13:01:21.876Z"
   },
   {
    "duration": 34,
    "start_time": "2022-08-02T13:01:21.893Z"
   },
   {
    "duration": 10,
    "start_time": "2022-08-02T13:01:21.930Z"
   },
   {
    "duration": 15,
    "start_time": "2022-08-02T13:01:21.942Z"
   },
   {
    "duration": 298,
    "start_time": "2022-08-02T13:01:21.959Z"
   },
   {
    "duration": 6,
    "start_time": "2022-08-02T13:01:22.259Z"
   },
   {
    "duration": 308,
    "start_time": "2022-08-02T13:01:22.266Z"
   },
   {
    "duration": 247,
    "start_time": "2022-08-02T13:01:22.575Z"
   },
   {
    "duration": 13,
    "start_time": "2022-08-02T13:01:22.826Z"
   },
   {
    "duration": 248,
    "start_time": "2022-08-02T13:01:22.841Z"
   },
   {
    "duration": 230,
    "start_time": "2022-08-02T13:01:23.091Z"
   },
   {
    "duration": 13,
    "start_time": "2022-08-02T13:01:23.325Z"
   },
   {
    "duration": 288,
    "start_time": "2022-08-02T13:01:23.339Z"
   },
   {
    "duration": 12,
    "start_time": "2022-08-02T13:01:23.629Z"
   },
   {
    "duration": 183,
    "start_time": "2022-08-02T13:01:23.642Z"
   },
   {
    "duration": 8,
    "start_time": "2022-08-02T13:01:23.826Z"
   },
   {
    "duration": 135,
    "start_time": "2022-08-02T13:01:23.836Z"
   },
   {
    "duration": 7,
    "start_time": "2022-08-02T13:01:23.973Z"
   },
   {
    "duration": 31,
    "start_time": "2022-08-02T13:01:23.981Z"
   },
   {
    "duration": 10,
    "start_time": "2022-08-02T13:01:24.021Z"
   },
   {
    "duration": 9,
    "start_time": "2022-08-02T13:01:24.034Z"
   },
   {
    "duration": 142,
    "start_time": "2022-08-02T13:01:24.045Z"
   },
   {
    "duration": 17,
    "start_time": "2022-08-02T13:01:24.189Z"
   },
   {
    "duration": 42,
    "start_time": "2022-08-02T13:01:24.207Z"
   },
   {
    "duration": 10,
    "start_time": "2022-08-02T13:01:24.251Z"
   },
   {
    "duration": 9,
    "start_time": "2022-08-02T13:01:24.263Z"
   },
   {
    "duration": 9,
    "start_time": "2022-08-02T13:01:24.274Z"
   },
   {
    "duration": 68,
    "start_time": "2022-08-02T13:01:24.284Z"
   },
   {
    "duration": 13,
    "start_time": "2022-08-02T13:01:24.354Z"
   },
   {
    "duration": 365,
    "start_time": "2022-08-02T13:01:24.371Z"
   },
   {
    "duration": 23,
    "start_time": "2022-08-02T13:03:41.145Z"
   },
   {
    "duration": 10,
    "start_time": "2022-08-02T13:07:38.049Z"
   },
   {
    "duration": 11,
    "start_time": "2022-08-02T13:09:46.171Z"
   },
   {
    "duration": 11,
    "start_time": "2022-08-02T13:10:55.054Z"
   },
   {
    "duration": 22,
    "start_time": "2022-08-02T13:21:11.071Z"
   },
   {
    "duration": 31,
    "start_time": "2022-08-02T13:22:39.490Z"
   },
   {
    "duration": 24,
    "start_time": "2022-08-02T13:24:19.886Z"
   },
   {
    "duration": 1149,
    "start_time": "2022-08-02T13:26:05.795Z"
   },
   {
    "duration": 111,
    "start_time": "2022-08-02T13:26:06.946Z"
   },
   {
    "duration": 24,
    "start_time": "2022-08-02T13:26:07.058Z"
   },
   {
    "duration": 32,
    "start_time": "2022-08-02T13:26:07.085Z"
   },
   {
    "duration": 33,
    "start_time": "2022-08-02T13:26:07.119Z"
   },
   {
    "duration": 23,
    "start_time": "2022-08-02T13:26:07.153Z"
   },
   {
    "duration": 11,
    "start_time": "2022-08-02T13:26:07.178Z"
   },
   {
    "duration": 39,
    "start_time": "2022-08-02T13:26:07.190Z"
   },
   {
    "duration": 36,
    "start_time": "2022-08-02T13:26:07.230Z"
   },
   {
    "duration": 9,
    "start_time": "2022-08-02T13:26:07.268Z"
   },
   {
    "duration": 19,
    "start_time": "2022-08-02T13:26:07.279Z"
   },
   {
    "duration": 29,
    "start_time": "2022-08-02T13:26:07.308Z"
   },
   {
    "duration": 12,
    "start_time": "2022-08-02T13:26:07.338Z"
   },
   {
    "duration": 13,
    "start_time": "2022-08-02T13:26:07.351Z"
   },
   {
    "duration": 12,
    "start_time": "2022-08-02T13:26:07.366Z"
   },
   {
    "duration": 311,
    "start_time": "2022-08-02T13:26:07.379Z"
   },
   {
    "duration": 16,
    "start_time": "2022-08-02T13:26:07.691Z"
   },
   {
    "duration": 345,
    "start_time": "2022-08-02T13:26:07.709Z"
   },
   {
    "duration": 220,
    "start_time": "2022-08-02T13:26:08.056Z"
   },
   {
    "duration": 11,
    "start_time": "2022-08-02T13:26:08.277Z"
   },
   {
    "duration": 266,
    "start_time": "2022-08-02T13:26:08.305Z"
   },
   {
    "duration": 252,
    "start_time": "2022-08-02T13:26:08.572Z"
   },
   {
    "duration": 12,
    "start_time": "2022-08-02T13:26:08.826Z"
   },
   {
    "duration": 288,
    "start_time": "2022-08-02T13:26:08.840Z"
   },
   {
    "duration": 12,
    "start_time": "2022-08-02T13:26:09.130Z"
   },
   {
    "duration": 180,
    "start_time": "2022-08-02T13:26:09.144Z"
   },
   {
    "duration": 8,
    "start_time": "2022-08-02T13:26:09.325Z"
   },
   {
    "duration": 149,
    "start_time": "2022-08-02T13:26:09.337Z"
   },
   {
    "duration": 8,
    "start_time": "2022-08-02T13:26:09.487Z"
   },
   {
    "duration": 35,
    "start_time": "2022-08-02T13:26:09.498Z"
   },
   {
    "duration": 15,
    "start_time": "2022-08-02T13:26:09.535Z"
   },
   {
    "duration": 10,
    "start_time": "2022-08-02T13:26:09.552Z"
   },
   {
    "duration": 155,
    "start_time": "2022-08-02T13:26:09.564Z"
   },
   {
    "duration": 10,
    "start_time": "2022-08-02T13:26:09.720Z"
   },
   {
    "duration": 34,
    "start_time": "2022-08-02T13:26:09.732Z"
   },
   {
    "duration": 10,
    "start_time": "2022-08-02T13:26:09.767Z"
   },
   {
    "duration": 30,
    "start_time": "2022-08-02T13:26:09.778Z"
   },
   {
    "duration": 27,
    "start_time": "2022-08-02T13:26:09.816Z"
   },
   {
    "duration": 33,
    "start_time": "2022-08-02T13:26:09.845Z"
   },
   {
    "duration": 14,
    "start_time": "2022-08-02T13:26:09.880Z"
   },
   {
    "duration": 322,
    "start_time": "2022-08-02T13:26:09.895Z"
   },
   {
    "duration": 1139,
    "start_time": "2022-08-02T13:34:56.796Z"
   },
   {
    "duration": 110,
    "start_time": "2022-08-02T13:34:57.937Z"
   },
   {
    "duration": 19,
    "start_time": "2022-08-02T13:34:58.049Z"
   },
   {
    "duration": 16,
    "start_time": "2022-08-02T13:34:58.070Z"
   },
   {
    "duration": 36,
    "start_time": "2022-08-02T13:34:58.088Z"
   },
   {
    "duration": 10,
    "start_time": "2022-08-02T13:34:58.126Z"
   },
   {
    "duration": 10,
    "start_time": "2022-08-02T13:34:58.138Z"
   },
   {
    "duration": 6,
    "start_time": "2022-08-02T13:34:58.149Z"
   },
   {
    "duration": 17,
    "start_time": "2022-08-02T13:34:58.156Z"
   },
   {
    "duration": 8,
    "start_time": "2022-08-02T13:34:58.174Z"
   },
   {
    "duration": 27,
    "start_time": "2022-08-02T13:34:58.205Z"
   },
   {
    "duration": 15,
    "start_time": "2022-08-02T13:34:58.234Z"
   },
   {
    "duration": 8,
    "start_time": "2022-08-02T13:34:58.250Z"
   },
   {
    "duration": 14,
    "start_time": "2022-08-02T13:34:58.261Z"
   },
   {
    "duration": 43,
    "start_time": "2022-08-02T13:34:58.277Z"
   },
   {
    "duration": 309,
    "start_time": "2022-08-02T13:34:58.323Z"
   },
   {
    "duration": 6,
    "start_time": "2022-08-02T13:34:58.633Z"
   },
   {
    "duration": 332,
    "start_time": "2022-08-02T13:34:58.640Z"
   },
   {
    "duration": 251,
    "start_time": "2022-08-02T13:34:58.974Z"
   },
   {
    "duration": 12,
    "start_time": "2022-08-02T13:34:59.227Z"
   },
   {
    "duration": 270,
    "start_time": "2022-08-02T13:34:59.241Z"
   },
   {
    "duration": 408,
    "start_time": "2022-08-02T13:34:59.512Z"
   },
   {
    "duration": 12,
    "start_time": "2022-08-02T13:34:59.928Z"
   },
   {
    "duration": 562,
    "start_time": "2022-08-02T13:34:59.942Z"
   },
   {
    "duration": 21,
    "start_time": "2022-08-02T13:35:00.506Z"
   },
   {
    "duration": 312,
    "start_time": "2022-08-02T13:35:00.529Z"
   },
   {
    "duration": 65,
    "start_time": "2022-08-02T13:35:00.843Z"
   },
   {
    "duration": 318,
    "start_time": "2022-08-02T13:35:00.909Z"
   },
   {
    "duration": 9,
    "start_time": "2022-08-02T13:35:01.229Z"
   },
   {
    "duration": 78,
    "start_time": "2022-08-02T13:35:01.240Z"
   },
   {
    "duration": 49,
    "start_time": "2022-08-02T13:35:01.320Z"
   },
   {
    "duration": 67,
    "start_time": "2022-08-02T13:35:01.370Z"
   },
   {
    "duration": 241,
    "start_time": "2022-08-02T13:35:01.439Z"
   },
   {
    "duration": 38,
    "start_time": "2022-08-02T13:35:01.682Z"
   },
   {
    "duration": 32,
    "start_time": "2022-08-02T13:35:01.721Z"
   },
   {
    "duration": 31,
    "start_time": "2022-08-02T13:35:01.754Z"
   },
   {
    "duration": 10,
    "start_time": "2022-08-02T13:35:01.786Z"
   },
   {
    "duration": 42,
    "start_time": "2022-08-02T13:35:01.797Z"
   },
   {
    "duration": 26,
    "start_time": "2022-08-02T13:35:01.841Z"
   },
   {
    "duration": 16,
    "start_time": "2022-08-02T13:35:01.869Z"
   },
   {
    "duration": 336,
    "start_time": "2022-08-02T13:35:01.889Z"
   },
   {
    "duration": 1067,
    "start_time": "2022-08-02T13:35:48.024Z"
   },
   {
    "duration": 149,
    "start_time": "2022-08-02T13:35:49.093Z"
   },
   {
    "duration": 23,
    "start_time": "2022-08-02T13:35:49.244Z"
   },
   {
    "duration": 18,
    "start_time": "2022-08-02T13:35:49.269Z"
   },
   {
    "duration": 60,
    "start_time": "2022-08-02T13:35:49.290Z"
   },
   {
    "duration": 31,
    "start_time": "2022-08-02T13:35:49.352Z"
   },
   {
    "duration": 23,
    "start_time": "2022-08-02T13:35:49.385Z"
   },
   {
    "duration": 31,
    "start_time": "2022-08-02T13:35:49.409Z"
   },
   {
    "duration": 19,
    "start_time": "2022-08-02T13:35:49.442Z"
   },
   {
    "duration": 10,
    "start_time": "2022-08-02T13:35:49.464Z"
   },
   {
    "duration": 40,
    "start_time": "2022-08-02T13:35:49.476Z"
   },
   {
    "duration": 20,
    "start_time": "2022-08-02T13:35:49.517Z"
   },
   {
    "duration": 11,
    "start_time": "2022-08-02T13:35:49.539Z"
   },
   {
    "duration": 22,
    "start_time": "2022-08-02T13:35:49.554Z"
   },
   {
    "duration": 12,
    "start_time": "2022-08-02T13:35:49.578Z"
   },
   {
    "duration": 323,
    "start_time": "2022-08-02T13:35:49.592Z"
   },
   {
    "duration": 12,
    "start_time": "2022-08-02T13:35:49.917Z"
   },
   {
    "duration": 328,
    "start_time": "2022-08-02T13:35:49.931Z"
   },
   {
    "duration": 221,
    "start_time": "2022-08-02T13:35:50.261Z"
   },
   {
    "duration": 21,
    "start_time": "2022-08-02T13:35:50.483Z"
   },
   {
    "duration": 315,
    "start_time": "2022-08-02T13:35:50.506Z"
   },
   {
    "duration": 211,
    "start_time": "2022-08-02T13:35:50.823Z"
   },
   {
    "duration": 11,
    "start_time": "2022-08-02T13:35:51.036Z"
   },
   {
    "duration": 297,
    "start_time": "2022-08-02T13:35:51.049Z"
   },
   {
    "duration": 13,
    "start_time": "2022-08-02T13:35:51.347Z"
   },
   {
    "duration": 173,
    "start_time": "2022-08-02T13:35:51.361Z"
   },
   {
    "duration": 7,
    "start_time": "2022-08-02T13:35:51.535Z"
   },
   {
    "duration": 139,
    "start_time": "2022-08-02T13:35:51.543Z"
   },
   {
    "duration": 37,
    "start_time": "2022-08-02T13:35:51.683Z"
   },
   {
    "duration": 13,
    "start_time": "2022-08-02T13:35:51.722Z"
   },
   {
    "duration": 12,
    "start_time": "2022-08-02T13:35:51.736Z"
   },
   {
    "duration": 13,
    "start_time": "2022-08-02T13:35:51.750Z"
   },
   {
    "duration": 162,
    "start_time": "2022-08-02T13:35:51.765Z"
   },
   {
    "duration": 9,
    "start_time": "2022-08-02T13:35:51.928Z"
   },
   {
    "duration": 35,
    "start_time": "2022-08-02T13:35:51.939Z"
   },
   {
    "duration": 20,
    "start_time": "2022-08-02T13:35:51.976Z"
   },
   {
    "duration": 28,
    "start_time": "2022-08-02T13:35:51.998Z"
   },
   {
    "duration": 9,
    "start_time": "2022-08-02T13:35:52.028Z"
   },
   {
    "duration": 24,
    "start_time": "2022-08-02T13:35:52.039Z"
   },
   {
    "duration": 15,
    "start_time": "2022-08-02T13:35:52.065Z"
   },
   {
    "duration": 325,
    "start_time": "2022-08-02T13:35:52.105Z"
   },
   {
    "duration": 98,
    "start_time": "2022-08-02T13:50:26.884Z"
   },
   {
    "duration": 1217,
    "start_time": "2022-08-02T13:51:00.431Z"
   },
   {
    "duration": 130,
    "start_time": "2022-08-02T13:51:01.652Z"
   },
   {
    "duration": 32,
    "start_time": "2022-08-02T13:51:01.784Z"
   },
   {
    "duration": 94,
    "start_time": "2022-08-02T13:51:01.818Z"
   },
   {
    "duration": 50,
    "start_time": "2022-08-02T13:51:01.914Z"
   },
   {
    "duration": 99,
    "start_time": "2022-08-02T13:51:01.966Z"
   },
   {
    "duration": 28,
    "start_time": "2022-08-02T13:51:02.067Z"
   },
   {
    "duration": 55,
    "start_time": "2022-08-02T13:51:02.098Z"
   },
   {
    "duration": 27,
    "start_time": "2022-08-02T13:51:02.155Z"
   },
   {
    "duration": 26,
    "start_time": "2022-08-02T13:51:02.186Z"
   },
   {
    "duration": 60,
    "start_time": "2022-08-02T13:51:02.214Z"
   },
   {
    "duration": 20,
    "start_time": "2022-08-02T13:51:02.276Z"
   },
   {
    "duration": 53,
    "start_time": "2022-08-02T13:51:02.310Z"
   },
   {
    "duration": 22,
    "start_time": "2022-08-02T13:51:02.365Z"
   },
   {
    "duration": 22,
    "start_time": "2022-08-02T13:51:02.389Z"
   },
   {
    "duration": 338,
    "start_time": "2022-08-02T13:51:02.413Z"
   },
   {
    "duration": 7,
    "start_time": "2022-08-02T13:51:02.756Z"
   },
   {
    "duration": 367,
    "start_time": "2022-08-02T13:51:02.765Z"
   },
   {
    "duration": 241,
    "start_time": "2022-08-02T13:51:03.134Z"
   },
   {
    "duration": 31,
    "start_time": "2022-08-02T13:51:03.377Z"
   },
   {
    "duration": 307,
    "start_time": "2022-08-02T13:51:03.421Z"
   },
   {
    "duration": 224,
    "start_time": "2022-08-02T13:51:03.730Z"
   },
   {
    "duration": 18,
    "start_time": "2022-08-02T13:51:03.956Z"
   },
   {
    "duration": 371,
    "start_time": "2022-08-02T13:51:03.976Z"
   },
   {
    "duration": 18,
    "start_time": "2022-08-02T13:51:04.349Z"
   },
   {
    "duration": 182,
    "start_time": "2022-08-02T13:51:04.369Z"
   },
   {
    "duration": 9,
    "start_time": "2022-08-02T13:51:04.557Z"
   },
   {
    "duration": 253,
    "start_time": "2022-08-02T13:51:04.571Z"
   },
   {
    "duration": 15,
    "start_time": "2022-08-02T13:51:04.833Z"
   },
   {
    "duration": 17,
    "start_time": "2022-08-02T13:51:04.849Z"
   },
   {
    "duration": 22,
    "start_time": "2022-08-02T13:51:04.868Z"
   },
   {
    "duration": 61,
    "start_time": "2022-08-02T13:51:04.897Z"
   },
   {
    "duration": 215,
    "start_time": "2022-08-02T13:51:04.960Z"
   },
   {
    "duration": 10,
    "start_time": "2022-08-02T13:51:05.176Z"
   },
   {
    "duration": 73,
    "start_time": "2022-08-02T13:51:05.198Z"
   },
   {
    "duration": 35,
    "start_time": "2022-08-02T13:51:05.273Z"
   },
   {
    "duration": 31,
    "start_time": "2022-08-02T13:51:05.310Z"
   },
   {
    "duration": 16,
    "start_time": "2022-08-02T13:51:05.343Z"
   },
   {
    "duration": 28,
    "start_time": "2022-08-02T13:51:05.361Z"
   },
   {
    "duration": 38,
    "start_time": "2022-08-02T13:51:05.390Z"
   },
   {
    "duration": 303,
    "start_time": "2022-08-02T13:51:05.429Z"
   },
   {
    "duration": 1114,
    "start_time": "2022-08-02T13:54:59.429Z"
   },
   {
    "duration": 116,
    "start_time": "2022-08-02T13:55:00.545Z"
   },
   {
    "duration": 21,
    "start_time": "2022-08-02T13:55:00.662Z"
   },
   {
    "duration": 58,
    "start_time": "2022-08-02T13:55:00.685Z"
   },
   {
    "duration": 16,
    "start_time": "2022-08-02T13:55:00.746Z"
   },
   {
    "duration": 18,
    "start_time": "2022-08-02T13:55:00.765Z"
   },
   {
    "duration": 26,
    "start_time": "2022-08-02T13:55:00.785Z"
   },
   {
    "duration": 35,
    "start_time": "2022-08-02T13:55:00.814Z"
   },
   {
    "duration": 36,
    "start_time": "2022-08-02T13:55:00.850Z"
   },
   {
    "duration": 19,
    "start_time": "2022-08-02T13:55:00.888Z"
   },
   {
    "duration": 46,
    "start_time": "2022-08-02T13:55:00.917Z"
   },
   {
    "duration": 17,
    "start_time": "2022-08-02T13:55:00.964Z"
   },
   {
    "duration": 27,
    "start_time": "2022-08-02T13:55:00.983Z"
   },
   {
    "duration": 49,
    "start_time": "2022-08-02T13:55:01.013Z"
   },
   {
    "duration": 60,
    "start_time": "2022-08-02T13:55:01.064Z"
   },
   {
    "duration": 308,
    "start_time": "2022-08-02T13:55:01.126Z"
   },
   {
    "duration": 7,
    "start_time": "2022-08-02T13:55:01.435Z"
   },
   {
    "duration": 352,
    "start_time": "2022-08-02T13:55:01.444Z"
   },
   {
    "duration": 289,
    "start_time": "2022-08-02T13:55:01.807Z"
   },
   {
    "duration": 20,
    "start_time": "2022-08-02T13:55:02.108Z"
   },
   {
    "duration": 254,
    "start_time": "2022-08-02T13:55:02.130Z"
   },
   {
    "duration": 218,
    "start_time": "2022-08-02T13:55:02.386Z"
   },
   {
    "duration": 22,
    "start_time": "2022-08-02T13:55:02.613Z"
   },
   {
    "duration": 288,
    "start_time": "2022-08-02T13:55:02.636Z"
   },
   {
    "duration": 16,
    "start_time": "2022-08-02T13:55:02.925Z"
   },
   {
    "duration": 148,
    "start_time": "2022-08-02T13:55:02.943Z"
   },
   {
    "duration": 32,
    "start_time": "2022-08-02T13:55:03.093Z"
   },
   {
    "duration": 143,
    "start_time": "2022-08-02T13:55:03.129Z"
   },
   {
    "duration": 8,
    "start_time": "2022-08-02T13:55:03.274Z"
   },
   {
    "duration": 32,
    "start_time": "2022-08-02T13:55:03.284Z"
   },
   {
    "duration": 49,
    "start_time": "2022-08-02T13:55:03.317Z"
   },
   {
    "duration": 17,
    "start_time": "2022-08-02T13:55:03.368Z"
   },
   {
    "duration": 185,
    "start_time": "2022-08-02T13:55:03.387Z"
   },
   {
    "duration": 13,
    "start_time": "2022-08-02T13:55:03.574Z"
   },
   {
    "duration": 53,
    "start_time": "2022-08-02T13:55:03.590Z"
   },
   {
    "duration": 16,
    "start_time": "2022-08-02T13:55:03.645Z"
   },
   {
    "duration": 12,
    "start_time": "2022-08-02T13:55:03.663Z"
   },
   {
    "duration": 14,
    "start_time": "2022-08-02T13:55:03.702Z"
   },
   {
    "duration": 56,
    "start_time": "2022-08-02T13:55:03.717Z"
   },
   {
    "duration": 17,
    "start_time": "2022-08-02T13:55:03.775Z"
   },
   {
    "duration": 343,
    "start_time": "2022-08-02T13:55:03.797Z"
   },
   {
    "duration": 1633,
    "start_time": "2022-08-02T15:55:12.227Z"
   },
   {
    "duration": 220,
    "start_time": "2022-08-02T15:55:13.862Z"
   },
   {
    "duration": 20,
    "start_time": "2022-08-02T15:55:14.083Z"
   },
   {
    "duration": 15,
    "start_time": "2022-08-02T15:55:14.104Z"
   },
   {
    "duration": 18,
    "start_time": "2022-08-02T15:55:14.121Z"
   },
   {
    "duration": 12,
    "start_time": "2022-08-02T15:55:14.140Z"
   },
   {
    "duration": 13,
    "start_time": "2022-08-02T15:55:14.153Z"
   },
   {
    "duration": 11,
    "start_time": "2022-08-02T15:55:14.168Z"
   },
   {
    "duration": 34,
    "start_time": "2022-08-02T15:55:14.181Z"
   },
   {
    "duration": 10,
    "start_time": "2022-08-02T15:55:14.217Z"
   },
   {
    "duration": 24,
    "start_time": "2022-08-02T15:55:14.229Z"
   },
   {
    "duration": 24,
    "start_time": "2022-08-02T15:55:14.254Z"
   },
   {
    "duration": 30,
    "start_time": "2022-08-02T15:55:14.280Z"
   },
   {
    "duration": 17,
    "start_time": "2022-08-02T15:55:14.313Z"
   },
   {
    "duration": 13,
    "start_time": "2022-08-02T15:55:14.332Z"
   },
   {
    "duration": 275,
    "start_time": "2022-08-02T15:55:14.347Z"
   },
   {
    "duration": 6,
    "start_time": "2022-08-02T15:55:14.623Z"
   },
   {
    "duration": 271,
    "start_time": "2022-08-02T15:55:14.631Z"
   },
   {
    "duration": 209,
    "start_time": "2022-08-02T15:55:14.904Z"
   },
   {
    "duration": 12,
    "start_time": "2022-08-02T15:55:15.115Z"
   },
   {
    "duration": 300,
    "start_time": "2022-08-02T15:55:15.129Z"
   },
   {
    "duration": 252,
    "start_time": "2022-08-02T15:55:15.431Z"
   },
   {
    "duration": 35,
    "start_time": "2022-08-02T15:55:15.684Z"
   },
   {
    "duration": 493,
    "start_time": "2022-08-02T15:55:15.721Z"
   },
   {
    "duration": 16,
    "start_time": "2022-08-02T15:55:16.215Z"
   },
   {
    "duration": 243,
    "start_time": "2022-08-02T15:55:16.233Z"
   },
   {
    "duration": 7,
    "start_time": "2022-08-02T15:55:16.509Z"
   },
   {
    "duration": 151,
    "start_time": "2022-08-02T15:55:16.518Z"
   },
   {
    "duration": 9,
    "start_time": "2022-08-02T15:55:16.671Z"
   },
   {
    "duration": 31,
    "start_time": "2022-08-02T15:55:16.682Z"
   },
   {
    "duration": 15,
    "start_time": "2022-08-02T15:55:16.715Z"
   },
   {
    "duration": 13,
    "start_time": "2022-08-02T15:55:16.732Z"
   },
   {
    "duration": 263,
    "start_time": "2022-08-02T15:55:16.746Z"
   },
   {
    "duration": 9,
    "start_time": "2022-08-02T15:55:17.010Z"
   },
   {
    "duration": 22,
    "start_time": "2022-08-02T15:55:17.021Z"
   },
   {
    "duration": 11,
    "start_time": "2022-08-02T15:55:17.045Z"
   },
   {
    "duration": 8,
    "start_time": "2022-08-02T15:55:17.057Z"
   },
   {
    "duration": 43,
    "start_time": "2022-08-02T15:55:17.066Z"
   },
   {
    "duration": 22,
    "start_time": "2022-08-02T15:55:17.111Z"
   },
   {
    "duration": 12,
    "start_time": "2022-08-02T15:55:17.135Z"
   },
   {
    "duration": 300,
    "start_time": "2022-08-02T15:55:17.151Z"
   },
   {
    "duration": 205,
    "start_time": "2022-08-02T16:25:09.961Z"
   },
   {
    "duration": 190,
    "start_time": "2022-08-02T16:25:14.368Z"
   },
   {
    "duration": 1158,
    "start_time": "2022-08-02T16:29:55.689Z"
   },
   {
    "duration": 108,
    "start_time": "2022-08-02T16:29:56.850Z"
   },
   {
    "duration": 17,
    "start_time": "2022-08-02T16:29:56.960Z"
   },
   {
    "duration": 18,
    "start_time": "2022-08-02T16:29:56.979Z"
   },
   {
    "duration": 15,
    "start_time": "2022-08-02T16:29:56.998Z"
   },
   {
    "duration": 10,
    "start_time": "2022-08-02T16:29:57.015Z"
   },
   {
    "duration": 12,
    "start_time": "2022-08-02T16:29:57.027Z"
   },
   {
    "duration": 7,
    "start_time": "2022-08-02T16:29:57.040Z"
   },
   {
    "duration": 19,
    "start_time": "2022-08-02T16:29:57.049Z"
   },
   {
    "duration": 8,
    "start_time": "2022-08-02T16:29:57.070Z"
   },
   {
    "duration": 47,
    "start_time": "2022-08-02T16:29:57.079Z"
   },
   {
    "duration": 15,
    "start_time": "2022-08-02T16:29:57.128Z"
   },
   {
    "duration": 8,
    "start_time": "2022-08-02T16:29:57.144Z"
   },
   {
    "duration": 12,
    "start_time": "2022-08-02T16:29:57.153Z"
   },
   {
    "duration": 47,
    "start_time": "2022-08-02T16:29:57.166Z"
   },
   {
    "duration": 337,
    "start_time": "2022-08-02T16:29:57.215Z"
   },
   {
    "duration": 6,
    "start_time": "2022-08-02T16:29:57.554Z"
   },
   {
    "duration": 286,
    "start_time": "2022-08-02T16:29:57.561Z"
   },
   {
    "duration": 222,
    "start_time": "2022-08-02T16:29:57.848Z"
   },
   {
    "duration": 11,
    "start_time": "2022-08-02T16:29:58.072Z"
   },
   {
    "duration": 300,
    "start_time": "2022-08-02T16:29:58.084Z"
   },
   {
    "duration": 197,
    "start_time": "2022-08-02T16:29:58.386Z"
   },
   {
    "duration": 13,
    "start_time": "2022-08-02T16:29:58.585Z"
   },
   {
    "duration": 294,
    "start_time": "2022-08-02T16:29:58.609Z"
   },
   {
    "duration": 10,
    "start_time": "2022-08-02T16:29:58.909Z"
   },
   {
    "duration": 135,
    "start_time": "2022-08-02T16:29:58.921Z"
   },
   {
    "duration": 7,
    "start_time": "2022-08-02T16:29:59.057Z"
   },
   {
    "duration": 135,
    "start_time": "2022-08-02T16:29:59.067Z"
   },
   {
    "duration": 7,
    "start_time": "2022-08-02T16:29:59.208Z"
   },
   {
    "duration": 9,
    "start_time": "2022-08-02T16:29:59.217Z"
   },
   {
    "duration": 10,
    "start_time": "2022-08-02T16:29:59.228Z"
   },
   {
    "duration": 14,
    "start_time": "2022-08-02T16:29:59.239Z"
   },
   {
    "duration": 131,
    "start_time": "2022-08-02T16:29:59.255Z"
   },
   {
    "duration": 23,
    "start_time": "2022-08-02T16:29:59.388Z"
   },
   {
    "duration": 22,
    "start_time": "2022-08-02T16:29:59.413Z"
   },
   {
    "duration": 11,
    "start_time": "2022-08-02T16:29:59.436Z"
   },
   {
    "duration": 9,
    "start_time": "2022-08-02T16:29:59.448Z"
   },
   {
    "duration": 9,
    "start_time": "2022-08-02T16:29:59.459Z"
   },
   {
    "duration": 57,
    "start_time": "2022-08-02T16:29:59.469Z"
   },
   {
    "duration": 14,
    "start_time": "2022-08-02T16:29:59.528Z"
   },
   {
    "duration": 276,
    "start_time": "2022-08-02T16:29:59.543Z"
   },
   {
    "duration": 74,
    "start_time": "2022-08-03T07:08:49.078Z"
   },
   {
    "duration": 11,
    "start_time": "2022-08-03T07:13:52.355Z"
   },
   {
    "duration": 11,
    "start_time": "2022-08-03T07:14:01.639Z"
   },
   {
    "duration": 13,
    "start_time": "2022-08-03T07:14:23.418Z"
   },
   {
    "duration": 10,
    "start_time": "2022-08-03T07:14:53.727Z"
   },
   {
    "duration": 15,
    "start_time": "2022-08-03T07:15:03.387Z"
   },
   {
    "duration": 10,
    "start_time": "2022-08-03T07:15:11.468Z"
   },
   {
    "duration": 1087,
    "start_time": "2022-08-03T07:15:21.617Z"
   },
   {
    "duration": 686,
    "start_time": "2022-08-03T07:15:22.706Z"
   },
   {
    "duration": 40,
    "start_time": "2022-08-03T07:15:23.393Z"
   },
   {
    "duration": 15,
    "start_time": "2022-08-03T07:15:23.436Z"
   },
   {
    "duration": 17,
    "start_time": "2022-08-03T07:15:23.452Z"
   },
   {
    "duration": 12,
    "start_time": "2022-08-03T07:15:23.471Z"
   },
   {
    "duration": 34,
    "start_time": "2022-08-03T07:15:23.485Z"
   },
   {
    "duration": 9,
    "start_time": "2022-08-03T07:15:23.522Z"
   },
   {
    "duration": 19,
    "start_time": "2022-08-03T07:15:23.533Z"
   },
   {
    "duration": 11,
    "start_time": "2022-08-03T07:15:23.555Z"
   },
   {
    "duration": 21,
    "start_time": "2022-08-03T07:15:23.568Z"
   },
   {
    "duration": 42,
    "start_time": "2022-08-03T07:15:23.590Z"
   },
   {
    "duration": 13,
    "start_time": "2022-08-03T07:15:23.634Z"
   },
   {
    "duration": 19,
    "start_time": "2022-08-03T07:15:23.649Z"
   },
   {
    "duration": 10,
    "start_time": "2022-08-03T07:15:23.670Z"
   },
   {
    "duration": 324,
    "start_time": "2022-08-03T07:15:23.682Z"
   },
   {
    "duration": 5,
    "start_time": "2022-08-03T07:15:24.008Z"
   },
   {
    "duration": 321,
    "start_time": "2022-08-03T07:15:24.016Z"
   },
   {
    "duration": 257,
    "start_time": "2022-08-03T07:15:24.338Z"
   },
   {
    "duration": 26,
    "start_time": "2022-08-03T07:15:24.604Z"
   },
   {
    "duration": 316,
    "start_time": "2022-08-03T07:15:24.632Z"
   },
   {
    "duration": 297,
    "start_time": "2022-08-03T07:15:24.949Z"
   },
   {
    "duration": 15,
    "start_time": "2022-08-03T07:15:25.248Z"
   },
   {
    "duration": 347,
    "start_time": "2022-08-03T07:15:25.265Z"
   },
   {
    "duration": 15,
    "start_time": "2022-08-03T07:15:25.616Z"
   },
   {
    "duration": 149,
    "start_time": "2022-08-03T07:15:25.633Z"
   },
   {
    "duration": 15,
    "start_time": "2022-08-03T07:15:25.785Z"
   },
   {
    "duration": 147,
    "start_time": "2022-08-03T07:15:25.803Z"
   },
   {
    "duration": 9,
    "start_time": "2022-08-03T07:15:25.952Z"
   },
   {
    "duration": 14,
    "start_time": "2022-08-03T07:15:25.963Z"
   },
   {
    "duration": 37,
    "start_time": "2022-08-03T07:15:25.979Z"
   },
   {
    "duration": 13,
    "start_time": "2022-08-03T07:15:26.021Z"
   },
   {
    "duration": 150,
    "start_time": "2022-08-03T07:15:26.036Z"
   },
   {
    "duration": 37,
    "start_time": "2022-08-03T07:15:26.188Z"
   },
   {
    "duration": 25,
    "start_time": "2022-08-03T07:15:26.229Z"
   },
   {
    "duration": 11,
    "start_time": "2022-08-03T07:15:26.255Z"
   },
   {
    "duration": 10,
    "start_time": "2022-08-03T07:15:26.267Z"
   },
   {
    "duration": 9,
    "start_time": "2022-08-03T07:15:26.278Z"
   },
   {
    "duration": 47,
    "start_time": "2022-08-03T07:15:26.288Z"
   },
   {
    "duration": 15,
    "start_time": "2022-08-03T07:15:26.337Z"
   },
   {
    "duration": 282,
    "start_time": "2022-08-03T07:15:26.354Z"
   },
   {
    "duration": 286,
    "start_time": "2022-08-03T07:29:17.178Z"
   },
   {
    "duration": 224,
    "start_time": "2022-08-03T07:29:47.331Z"
   },
   {
    "duration": 230,
    "start_time": "2022-08-03T07:30:48.886Z"
   },
   {
    "duration": 309,
    "start_time": "2022-08-03T07:32:50.526Z"
   },
   {
    "duration": 337,
    "start_time": "2022-08-03T07:33:26.675Z"
   },
   {
    "duration": 268,
    "start_time": "2022-08-03T07:34:44.571Z"
   },
   {
    "duration": 395,
    "start_time": "2022-08-03T07:35:31.674Z"
   },
   {
    "duration": 166,
    "start_time": "2022-08-03T08:18:25.252Z"
   },
   {
    "duration": 144,
    "start_time": "2022-08-03T08:18:35.814Z"
   },
   {
    "duration": 243,
    "start_time": "2022-08-03T08:20:17.229Z"
   },
   {
    "duration": 152,
    "start_time": "2022-08-03T08:20:41.670Z"
   },
   {
    "duration": 153,
    "start_time": "2022-08-03T08:21:25.085Z"
   },
   {
    "duration": 233,
    "start_time": "2022-08-03T08:21:36.779Z"
   },
   {
    "duration": 1109,
    "start_time": "2022-08-03T08:22:10.575Z"
   },
   {
    "duration": 105,
    "start_time": "2022-08-03T08:22:11.686Z"
   },
   {
    "duration": 32,
    "start_time": "2022-08-03T08:22:11.792Z"
   },
   {
    "duration": 21,
    "start_time": "2022-08-03T08:22:11.827Z"
   },
   {
    "duration": 18,
    "start_time": "2022-08-03T08:22:11.850Z"
   },
   {
    "duration": 10,
    "start_time": "2022-08-03T08:22:11.870Z"
   },
   {
    "duration": 13,
    "start_time": "2022-08-03T08:22:11.901Z"
   },
   {
    "duration": 7,
    "start_time": "2022-08-03T08:22:11.916Z"
   },
   {
    "duration": 24,
    "start_time": "2022-08-03T08:22:11.924Z"
   },
   {
    "duration": 9,
    "start_time": "2022-08-03T08:22:11.951Z"
   },
   {
    "duration": 65,
    "start_time": "2022-08-03T08:22:11.962Z"
   },
   {
    "duration": 16,
    "start_time": "2022-08-03T08:22:12.028Z"
   },
   {
    "duration": 12,
    "start_time": "2022-08-03T08:22:12.046Z"
   },
   {
    "duration": 13,
    "start_time": "2022-08-03T08:22:12.059Z"
   },
   {
    "duration": 44,
    "start_time": "2022-08-03T08:22:12.074Z"
   },
   {
    "duration": 302,
    "start_time": "2022-08-03T08:22:12.120Z"
   },
   {
    "duration": 6,
    "start_time": "2022-08-03T08:22:12.423Z"
   },
   {
    "duration": 320,
    "start_time": "2022-08-03T08:22:12.431Z"
   },
   {
    "duration": 235,
    "start_time": "2022-08-03T08:22:12.752Z"
   },
   {
    "duration": 24,
    "start_time": "2022-08-03T08:22:12.988Z"
   },
   {
    "duration": 290,
    "start_time": "2022-08-03T08:22:13.014Z"
   },
   {
    "duration": 241,
    "start_time": "2022-08-03T08:22:13.305Z"
   },
   {
    "duration": 12,
    "start_time": "2022-08-03T08:22:13.547Z"
   },
   {
    "duration": 364,
    "start_time": "2022-08-03T08:22:13.561Z"
   },
   {
    "duration": 14,
    "start_time": "2022-08-03T08:22:13.927Z"
   },
   {
    "duration": 212,
    "start_time": "2022-08-03T08:22:13.942Z"
   },
   {
    "duration": 9,
    "start_time": "2022-08-03T08:22:14.155Z"
   },
   {
    "duration": 188,
    "start_time": "2022-08-03T08:22:14.168Z"
   },
   {
    "duration": 8,
    "start_time": "2022-08-03T08:22:14.358Z"
   },
   {
    "duration": 39,
    "start_time": "2022-08-03T08:22:14.368Z"
   },
   {
    "duration": 43,
    "start_time": "2022-08-03T08:22:14.409Z"
   },
   {
    "duration": 27,
    "start_time": "2022-08-03T08:22:14.454Z"
   },
   {
    "duration": 236,
    "start_time": "2022-08-03T08:22:14.483Z"
   },
   {
    "duration": 12,
    "start_time": "2022-08-03T08:22:14.721Z"
   },
   {
    "duration": 32,
    "start_time": "2022-08-03T08:22:14.735Z"
   },
   {
    "duration": 24,
    "start_time": "2022-08-03T08:22:14.769Z"
   },
   {
    "duration": 35,
    "start_time": "2022-08-03T08:22:14.795Z"
   },
   {
    "duration": 36,
    "start_time": "2022-08-03T08:22:14.832Z"
   },
   {
    "duration": 48,
    "start_time": "2022-08-03T08:22:14.870Z"
   },
   {
    "duration": 33,
    "start_time": "2022-08-03T08:22:14.920Z"
   },
   {
    "duration": 364,
    "start_time": "2022-08-03T08:22:14.955Z"
   },
   {
    "duration": 226,
    "start_time": "2022-08-03T08:26:52.725Z"
   },
   {
    "duration": 155,
    "start_time": "2022-08-03T08:27:02.511Z"
   },
   {
    "duration": 276,
    "start_time": "2022-08-03T08:30:15.189Z"
   },
   {
    "duration": 1076,
    "start_time": "2022-08-03T13:03:15.463Z"
   },
   {
    "duration": 192,
    "start_time": "2022-08-03T13:03:16.542Z"
   },
   {
    "duration": 19,
    "start_time": "2022-08-03T13:03:16.735Z"
   },
   {
    "duration": 29,
    "start_time": "2022-08-03T13:03:16.756Z"
   },
   {
    "duration": 47,
    "start_time": "2022-08-03T13:03:16.788Z"
   },
   {
    "duration": 13,
    "start_time": "2022-08-03T13:03:16.837Z"
   },
   {
    "duration": 20,
    "start_time": "2022-08-03T13:03:16.852Z"
   },
   {
    "duration": 46,
    "start_time": "2022-08-03T13:03:16.874Z"
   },
   {
    "duration": 34,
    "start_time": "2022-08-03T13:03:16.922Z"
   },
   {
    "duration": 38,
    "start_time": "2022-08-03T13:03:16.958Z"
   },
   {
    "duration": 55,
    "start_time": "2022-08-03T13:03:17.004Z"
   },
   {
    "duration": 27,
    "start_time": "2022-08-03T13:03:17.061Z"
   },
   {
    "duration": 61,
    "start_time": "2022-08-03T13:03:17.089Z"
   },
   {
    "duration": 26,
    "start_time": "2022-08-03T13:03:17.153Z"
   },
   {
    "duration": 41,
    "start_time": "2022-08-03T13:03:17.181Z"
   },
   {
    "duration": 319,
    "start_time": "2022-08-03T13:03:17.224Z"
   },
   {
    "duration": 6,
    "start_time": "2022-08-03T13:03:17.544Z"
   },
   {
    "duration": 351,
    "start_time": "2022-08-03T13:03:17.552Z"
   },
   {
    "duration": 247,
    "start_time": "2022-08-03T13:03:17.905Z"
   },
   {
    "duration": 11,
    "start_time": "2022-08-03T13:03:18.153Z"
   },
   {
    "duration": 359,
    "start_time": "2022-08-03T13:03:18.166Z"
   },
   {
    "duration": 243,
    "start_time": "2022-08-03T13:03:18.527Z"
   },
   {
    "duration": 12,
    "start_time": "2022-08-03T13:03:18.772Z"
   },
   {
    "duration": 352,
    "start_time": "2022-08-03T13:03:18.785Z"
   },
   {
    "duration": 11,
    "start_time": "2022-08-03T13:03:19.138Z"
   },
   {
    "duration": 172,
    "start_time": "2022-08-03T13:03:19.151Z"
   },
   {
    "duration": 7,
    "start_time": "2022-08-03T13:03:19.326Z"
   },
   {
    "duration": 189,
    "start_time": "2022-08-03T13:03:19.335Z"
   },
   {
    "duration": 8,
    "start_time": "2022-08-03T13:03:19.529Z"
   },
   {
    "duration": 28,
    "start_time": "2022-08-03T13:03:19.538Z"
   },
   {
    "duration": 39,
    "start_time": "2022-08-03T13:03:19.568Z"
   },
   {
    "duration": 44,
    "start_time": "2022-08-03T13:03:19.608Z"
   },
   {
    "duration": 187,
    "start_time": "2022-08-03T13:03:19.654Z"
   },
   {
    "duration": 8,
    "start_time": "2022-08-03T13:03:19.843Z"
   },
   {
    "duration": 32,
    "start_time": "2022-08-03T13:03:19.852Z"
   },
   {
    "duration": 49,
    "start_time": "2022-08-03T13:03:19.886Z"
   },
   {
    "duration": 39,
    "start_time": "2022-08-03T13:03:19.937Z"
   },
   {
    "duration": 16,
    "start_time": "2022-08-03T13:03:19.979Z"
   },
   {
    "duration": 54,
    "start_time": "2022-08-03T13:03:19.997Z"
   },
   {
    "duration": 14,
    "start_time": "2022-08-03T13:03:20.052Z"
   },
   {
    "duration": 282,
    "start_time": "2022-08-03T13:03:20.070Z"
   },
   {
    "duration": 229,
    "start_time": "2022-08-03T13:06:12.327Z"
   },
   {
    "duration": 167,
    "start_time": "2022-08-03T13:06:24.879Z"
   },
   {
    "duration": 161,
    "start_time": "2022-08-03T13:06:32.887Z"
   },
   {
    "duration": 146,
    "start_time": "2022-08-03T13:10:28.652Z"
   },
   {
    "duration": 158,
    "start_time": "2022-08-03T13:10:33.821Z"
   },
   {
    "duration": 269,
    "start_time": "2022-08-03T13:33:07.860Z"
   },
   {
    "duration": 292,
    "start_time": "2022-08-03T13:33:35.758Z"
   },
   {
    "duration": 91,
    "start_time": "2022-08-03T14:15:10.737Z"
   },
   {
    "duration": 1082,
    "start_time": "2022-08-03T14:17:25.972Z"
   },
   {
    "duration": 134,
    "start_time": "2022-08-03T14:17:27.056Z"
   },
   {
    "duration": 38,
    "start_time": "2022-08-03T14:17:27.192Z"
   },
   {
    "duration": 17,
    "start_time": "2022-08-03T14:17:27.232Z"
   },
   {
    "duration": 17,
    "start_time": "2022-08-03T14:17:27.252Z"
   },
   {
    "duration": 13,
    "start_time": "2022-08-03T14:17:27.271Z"
   },
   {
    "duration": 31,
    "start_time": "2022-08-03T14:17:27.285Z"
   },
   {
    "duration": 8,
    "start_time": "2022-08-03T14:17:27.321Z"
   },
   {
    "duration": 17,
    "start_time": "2022-08-03T14:17:27.330Z"
   },
   {
    "duration": 20,
    "start_time": "2022-08-03T14:17:27.348Z"
   },
   {
    "duration": 46,
    "start_time": "2022-08-03T14:17:27.370Z"
   },
   {
    "duration": 18,
    "start_time": "2022-08-03T14:17:27.421Z"
   },
   {
    "duration": 17,
    "start_time": "2022-08-03T14:17:27.441Z"
   },
   {
    "duration": 13,
    "start_time": "2022-08-03T14:17:27.462Z"
   },
   {
    "duration": 15,
    "start_time": "2022-08-03T14:17:27.476Z"
   },
   {
    "duration": 298,
    "start_time": "2022-08-03T14:17:27.493Z"
   },
   {
    "duration": 9,
    "start_time": "2022-08-03T14:17:27.792Z"
   },
   {
    "duration": 325,
    "start_time": "2022-08-03T14:17:27.802Z"
   },
   {
    "duration": 235,
    "start_time": "2022-08-03T14:17:28.129Z"
   },
   {
    "duration": 11,
    "start_time": "2022-08-03T14:17:28.366Z"
   },
   {
    "duration": 346,
    "start_time": "2022-08-03T14:17:28.378Z"
   },
   {
    "duration": 226,
    "start_time": "2022-08-03T14:17:28.726Z"
   },
   {
    "duration": 12,
    "start_time": "2022-08-03T14:17:28.954Z"
   },
   {
    "duration": 357,
    "start_time": "2022-08-03T14:17:28.968Z"
   },
   {
    "duration": 11,
    "start_time": "2022-08-03T14:17:29.327Z"
   },
   {
    "duration": 183,
    "start_time": "2022-08-03T14:17:29.340Z"
   },
   {
    "duration": 8,
    "start_time": "2022-08-03T14:17:29.526Z"
   },
   {
    "duration": 173,
    "start_time": "2022-08-03T14:17:29.536Z"
   },
   {
    "duration": 13,
    "start_time": "2022-08-03T14:17:29.717Z"
   },
   {
    "duration": 12,
    "start_time": "2022-08-03T14:17:29.732Z"
   },
   {
    "duration": 9,
    "start_time": "2022-08-03T14:17:29.746Z"
   },
   {
    "duration": 18,
    "start_time": "2022-08-03T14:17:29.757Z"
   },
   {
    "duration": 154,
    "start_time": "2022-08-03T14:17:29.776Z"
   },
   {
    "duration": 9,
    "start_time": "2022-08-03T14:17:29.932Z"
   },
   {
    "duration": 26,
    "start_time": "2022-08-03T14:17:29.943Z"
   },
   {
    "duration": 13,
    "start_time": "2022-08-03T14:17:29.971Z"
   },
   {
    "duration": 10,
    "start_time": "2022-08-03T14:17:30.001Z"
   },
   {
    "duration": 42,
    "start_time": "2022-08-03T14:17:30.015Z"
   },
   {
    "duration": 31,
    "start_time": "2022-08-03T14:17:30.059Z"
   },
   {
    "duration": 30,
    "start_time": "2022-08-03T14:17:30.091Z"
   },
   {
    "duration": 327,
    "start_time": "2022-08-03T14:17:30.127Z"
   },
   {
    "duration": 1175,
    "start_time": "2022-08-03T14:42:39.326Z"
   },
   {
    "duration": 242,
    "start_time": "2022-08-03T14:42:40.503Z"
   },
   {
    "duration": 19,
    "start_time": "2022-08-03T14:42:40.747Z"
   },
   {
    "duration": 14,
    "start_time": "2022-08-03T14:42:40.767Z"
   },
   {
    "duration": 17,
    "start_time": "2022-08-03T14:42:40.783Z"
   },
   {
    "duration": 9,
    "start_time": "2022-08-03T14:42:40.802Z"
   },
   {
    "duration": 30,
    "start_time": "2022-08-03T14:42:40.812Z"
   },
   {
    "duration": 16,
    "start_time": "2022-08-03T14:42:40.843Z"
   },
   {
    "duration": 25,
    "start_time": "2022-08-03T14:42:40.860Z"
   },
   {
    "duration": 7,
    "start_time": "2022-08-03T14:42:40.887Z"
   },
   {
    "duration": 17,
    "start_time": "2022-08-03T14:42:40.896Z"
   },
   {
    "duration": 26,
    "start_time": "2022-08-03T14:42:40.914Z"
   },
   {
    "duration": 13,
    "start_time": "2022-08-03T14:42:40.942Z"
   },
   {
    "duration": 12,
    "start_time": "2022-08-03T14:42:40.959Z"
   },
   {
    "duration": 14,
    "start_time": "2022-08-03T14:42:40.973Z"
   },
   {
    "duration": 320,
    "start_time": "2022-08-03T14:42:40.988Z"
   },
   {
    "duration": 6,
    "start_time": "2022-08-03T14:42:41.310Z"
   },
   {
    "duration": 340,
    "start_time": "2022-08-03T14:42:41.318Z"
   },
   {
    "duration": 256,
    "start_time": "2022-08-03T14:42:41.660Z"
   },
   {
    "duration": 22,
    "start_time": "2022-08-03T14:42:41.918Z"
   },
   {
    "duration": 324,
    "start_time": "2022-08-03T14:42:41.941Z"
   },
   {
    "duration": 234,
    "start_time": "2022-08-03T14:42:42.267Z"
   },
   {
    "duration": 11,
    "start_time": "2022-08-03T14:42:42.502Z"
   },
   {
    "duration": 357,
    "start_time": "2022-08-03T14:42:42.515Z"
   },
   {
    "duration": 11,
    "start_time": "2022-08-03T14:42:42.873Z"
   },
   {
    "duration": 155,
    "start_time": "2022-08-03T14:42:42.885Z"
   },
   {
    "duration": 8,
    "start_time": "2022-08-03T14:42:43.042Z"
   },
   {
    "duration": 153,
    "start_time": "2022-08-03T14:42:43.051Z"
   },
   {
    "duration": 9,
    "start_time": "2022-08-03T14:42:43.206Z"
   },
   {
    "duration": 25,
    "start_time": "2022-08-03T14:42:43.217Z"
   },
   {
    "duration": 22,
    "start_time": "2022-08-03T14:42:43.244Z"
   },
   {
    "duration": 18,
    "start_time": "2022-08-03T14:42:43.267Z"
   },
   {
    "duration": 133,
    "start_time": "2022-08-03T14:42:43.287Z"
   },
   {
    "duration": 8,
    "start_time": "2022-08-03T14:42:43.421Z"
   },
   {
    "duration": 47,
    "start_time": "2022-08-03T14:42:43.431Z"
   },
   {
    "duration": 11,
    "start_time": "2022-08-03T14:42:43.479Z"
   },
   {
    "duration": 8,
    "start_time": "2022-08-03T14:42:43.491Z"
   },
   {
    "duration": 9,
    "start_time": "2022-08-03T14:42:43.501Z"
   },
   {
    "duration": 29,
    "start_time": "2022-08-03T14:42:43.512Z"
   },
   {
    "duration": 13,
    "start_time": "2022-08-03T14:42:43.543Z"
   },
   {
    "duration": 329,
    "start_time": "2022-08-03T14:42:43.560Z"
   }
  ],
  "kernelspec": {
   "display_name": "Python 3 (ipykernel)",
   "language": "python",
   "name": "python3"
  },
  "language_info": {
   "codemirror_mode": {
    "name": "ipython",
    "version": 3
   },
   "file_extension": ".py",
   "mimetype": "text/x-python",
   "name": "python",
   "nbconvert_exporter": "python",
   "pygments_lexer": "ipython3",
   "version": "3.9.12"
  },
  "toc": {
   "base_numbering": 1,
   "nav_menu": {
    "height": "86px",
    "width": "228px"
   },
   "number_sections": true,
   "sideBar": true,
   "skip_h1_title": true,
   "title_cell": "Table of Contents",
   "title_sidebar": "Contents",
   "toc_cell": false,
   "toc_position": {
    "height": "calc(100% - 180px)",
    "left": "10px",
    "top": "150px",
    "width": "529.391px"
   },
   "toc_section_display": true,
   "toc_window_display": true
  }
 },
 "nbformat": 4,
 "nbformat_minor": 2
}
